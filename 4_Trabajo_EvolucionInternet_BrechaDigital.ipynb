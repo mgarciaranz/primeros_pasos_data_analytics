{
 "cells": [
  {
   "cell_type": "markdown",
   "metadata": {},
   "source": [
    "# Importar Libreria"
   ]
  },
  {
   "cell_type": "code",
   "execution_count": 1,
   "metadata": {},
   "outputs": [],
   "source": [
    "import os\n",
    "import re\n",
    "import requests\n",
    "import pandas as pd\n",
    "import numpy as np\n",
    "import matplotlib.pyplot as plt\n",
    "import seaborn as sns\n",
    "import plotly.express as px"
   ]
  },
  {
   "cell_type": "markdown",
   "metadata": {},
   "source": [
    "# Cargar dataset"
   ]
  },
  {
   "cell_type": "code",
   "execution_count": 2,
   "metadata": {},
   "outputs": [],
   "source": [
    "df_region=pd.read_csv('internet_region_TS.csv')\n",
    "df_countries=pd.read_csv('final_countries_TS.csv')\n"
   ]
  },
  {
   "cell_type": "markdown",
   "metadata": {},
   "source": [
    "# Análisis Areas"
   ]
  },
  {
   "cell_type": "markdown",
   "metadata": {},
   "source": [
    "## Gráfica Internet user rate evolution por areas"
   ]
  },
  {
   "cell_type": "markdown",
   "metadata": {},
   "source": [
    "\n",
    "AREAS INTERNET USER RATE EVOLUTION GRAPH:<br>\n",
    "    -World<br>\n",
    "    -OECD members<br>\n",
    "    -Least developed countries: UN classification<br>\n",
    "    -North America<br>\n",
    "    -Euro area<br>\n",
    "Igualando la variable region a cada una de las zonas arriba mencionadas, se muestra su evolución desde 1990 hasta la actualidad\n"
   ]
  },
  {
   "cell_type": "code",
   "execution_count": 3,
   "metadata": {},
   "outputs": [
    {
     "data": {
      "application/vnd.plotly.v1+json": {
       "config": {
        "plotlyServerURL": "https://plot.ly"
       },
       "data": [
        {
         "hovertemplate": "Year=%{x}<br>Internet users (%)=%{y}<extra></extra>",
         "legendgroup": "",
         "line": {
          "color": "rgb(103,0,31)",
          "dash": "solid"
         },
         "marker": {
          "symbol": "circle"
         },
         "mode": "lines",
         "name": "",
         "orientation": "v",
         "showlegend": false,
         "type": "scatter",
         "x": [
          1990,
          1991,
          1992,
          1993,
          1994,
          1995,
          1996,
          1997,
          1998,
          1999,
          2000,
          2001,
          2002,
          2003,
          2004,
          2005,
          2006,
          2007,
          2008,
          2009,
          2010,
          2011,
          2012,
          2013,
          2014,
          2015,
          2016,
          2017
         ],
         "xaxis": "x",
         "y": [
          0.0492353503886526,
          0.0791811448606764,
          0.125363507571836,
          0.178899926843963,
          0.359900198627025,
          0.681457000731263,
          1.32346981670892,
          2.03950847211358,
          3.13640582616729,
          4.62993504135382,
          6.73388038172672,
          8.05907355321202,
          10.5283686906732,
          12.2097659831683,
          14.0982293188612,
          15.7028936153559,
          17.4831937915925,
          20.4117381555735,
          22.9587730234956,
          25.3708372478522,
          28.7535063686057,
          31.1482105767916,
          34.2253920368198,
          36.6391439419875,
          39.8585274477917,
          41.6920714467025,
          44.844248197958,
          48.9969115845464
         ],
         "yaxis": "y"
        }
       ],
       "layout": {
        "legend": {
         "tracegroupgap": 0
        },
        "template": {
         "data": {
          "bar": [
           {
            "error_x": {
             "color": "#2a3f5f"
            },
            "error_y": {
             "color": "#2a3f5f"
            },
            "marker": {
             "line": {
              "color": "#E5ECF6",
              "width": 0.5
             },
             "pattern": {
              "fillmode": "overlay",
              "size": 10,
              "solidity": 0.2
             }
            },
            "type": "bar"
           }
          ],
          "barpolar": [
           {
            "marker": {
             "line": {
              "color": "#E5ECF6",
              "width": 0.5
             },
             "pattern": {
              "fillmode": "overlay",
              "size": 10,
              "solidity": 0.2
             }
            },
            "type": "barpolar"
           }
          ],
          "carpet": [
           {
            "aaxis": {
             "endlinecolor": "#2a3f5f",
             "gridcolor": "white",
             "linecolor": "white",
             "minorgridcolor": "white",
             "startlinecolor": "#2a3f5f"
            },
            "baxis": {
             "endlinecolor": "#2a3f5f",
             "gridcolor": "white",
             "linecolor": "white",
             "minorgridcolor": "white",
             "startlinecolor": "#2a3f5f"
            },
            "type": "carpet"
           }
          ],
          "choropleth": [
           {
            "colorbar": {
             "outlinewidth": 0,
             "ticks": ""
            },
            "type": "choropleth"
           }
          ],
          "contour": [
           {
            "colorbar": {
             "outlinewidth": 0,
             "ticks": ""
            },
            "colorscale": [
             [
              0,
              "#0d0887"
             ],
             [
              0.1111111111111111,
              "#46039f"
             ],
             [
              0.2222222222222222,
              "#7201a8"
             ],
             [
              0.3333333333333333,
              "#9c179e"
             ],
             [
              0.4444444444444444,
              "#bd3786"
             ],
             [
              0.5555555555555556,
              "#d8576b"
             ],
             [
              0.6666666666666666,
              "#ed7953"
             ],
             [
              0.7777777777777778,
              "#fb9f3a"
             ],
             [
              0.8888888888888888,
              "#fdca26"
             ],
             [
              1,
              "#f0f921"
             ]
            ],
            "type": "contour"
           }
          ],
          "contourcarpet": [
           {
            "colorbar": {
             "outlinewidth": 0,
             "ticks": ""
            },
            "type": "contourcarpet"
           }
          ],
          "heatmap": [
           {
            "colorbar": {
             "outlinewidth": 0,
             "ticks": ""
            },
            "colorscale": [
             [
              0,
              "#0d0887"
             ],
             [
              0.1111111111111111,
              "#46039f"
             ],
             [
              0.2222222222222222,
              "#7201a8"
             ],
             [
              0.3333333333333333,
              "#9c179e"
             ],
             [
              0.4444444444444444,
              "#bd3786"
             ],
             [
              0.5555555555555556,
              "#d8576b"
             ],
             [
              0.6666666666666666,
              "#ed7953"
             ],
             [
              0.7777777777777778,
              "#fb9f3a"
             ],
             [
              0.8888888888888888,
              "#fdca26"
             ],
             [
              1,
              "#f0f921"
             ]
            ],
            "type": "heatmap"
           }
          ],
          "heatmapgl": [
           {
            "colorbar": {
             "outlinewidth": 0,
             "ticks": ""
            },
            "colorscale": [
             [
              0,
              "#0d0887"
             ],
             [
              0.1111111111111111,
              "#46039f"
             ],
             [
              0.2222222222222222,
              "#7201a8"
             ],
             [
              0.3333333333333333,
              "#9c179e"
             ],
             [
              0.4444444444444444,
              "#bd3786"
             ],
             [
              0.5555555555555556,
              "#d8576b"
             ],
             [
              0.6666666666666666,
              "#ed7953"
             ],
             [
              0.7777777777777778,
              "#fb9f3a"
             ],
             [
              0.8888888888888888,
              "#fdca26"
             ],
             [
              1,
              "#f0f921"
             ]
            ],
            "type": "heatmapgl"
           }
          ],
          "histogram": [
           {
            "marker": {
             "pattern": {
              "fillmode": "overlay",
              "size": 10,
              "solidity": 0.2
             }
            },
            "type": "histogram"
           }
          ],
          "histogram2d": [
           {
            "colorbar": {
             "outlinewidth": 0,
             "ticks": ""
            },
            "colorscale": [
             [
              0,
              "#0d0887"
             ],
             [
              0.1111111111111111,
              "#46039f"
             ],
             [
              0.2222222222222222,
              "#7201a8"
             ],
             [
              0.3333333333333333,
              "#9c179e"
             ],
             [
              0.4444444444444444,
              "#bd3786"
             ],
             [
              0.5555555555555556,
              "#d8576b"
             ],
             [
              0.6666666666666666,
              "#ed7953"
             ],
             [
              0.7777777777777778,
              "#fb9f3a"
             ],
             [
              0.8888888888888888,
              "#fdca26"
             ],
             [
              1,
              "#f0f921"
             ]
            ],
            "type": "histogram2d"
           }
          ],
          "histogram2dcontour": [
           {
            "colorbar": {
             "outlinewidth": 0,
             "ticks": ""
            },
            "colorscale": [
             [
              0,
              "#0d0887"
             ],
             [
              0.1111111111111111,
              "#46039f"
             ],
             [
              0.2222222222222222,
              "#7201a8"
             ],
             [
              0.3333333333333333,
              "#9c179e"
             ],
             [
              0.4444444444444444,
              "#bd3786"
             ],
             [
              0.5555555555555556,
              "#d8576b"
             ],
             [
              0.6666666666666666,
              "#ed7953"
             ],
             [
              0.7777777777777778,
              "#fb9f3a"
             ],
             [
              0.8888888888888888,
              "#fdca26"
             ],
             [
              1,
              "#f0f921"
             ]
            ],
            "type": "histogram2dcontour"
           }
          ],
          "mesh3d": [
           {
            "colorbar": {
             "outlinewidth": 0,
             "ticks": ""
            },
            "type": "mesh3d"
           }
          ],
          "parcoords": [
           {
            "line": {
             "colorbar": {
              "outlinewidth": 0,
              "ticks": ""
             }
            },
            "type": "parcoords"
           }
          ],
          "pie": [
           {
            "automargin": true,
            "type": "pie"
           }
          ],
          "scatter": [
           {
            "fillpattern": {
             "fillmode": "overlay",
             "size": 10,
             "solidity": 0.2
            },
            "type": "scatter"
           }
          ],
          "scatter3d": [
           {
            "line": {
             "colorbar": {
              "outlinewidth": 0,
              "ticks": ""
             }
            },
            "marker": {
             "colorbar": {
              "outlinewidth": 0,
              "ticks": ""
             }
            },
            "type": "scatter3d"
           }
          ],
          "scattercarpet": [
           {
            "marker": {
             "colorbar": {
              "outlinewidth": 0,
              "ticks": ""
             }
            },
            "type": "scattercarpet"
           }
          ],
          "scattergeo": [
           {
            "marker": {
             "colorbar": {
              "outlinewidth": 0,
              "ticks": ""
             }
            },
            "type": "scattergeo"
           }
          ],
          "scattergl": [
           {
            "marker": {
             "colorbar": {
              "outlinewidth": 0,
              "ticks": ""
             }
            },
            "type": "scattergl"
           }
          ],
          "scattermapbox": [
           {
            "marker": {
             "colorbar": {
              "outlinewidth": 0,
              "ticks": ""
             }
            },
            "type": "scattermapbox"
           }
          ],
          "scatterpolar": [
           {
            "marker": {
             "colorbar": {
              "outlinewidth": 0,
              "ticks": ""
             }
            },
            "type": "scatterpolar"
           }
          ],
          "scatterpolargl": [
           {
            "marker": {
             "colorbar": {
              "outlinewidth": 0,
              "ticks": ""
             }
            },
            "type": "scatterpolargl"
           }
          ],
          "scatterternary": [
           {
            "marker": {
             "colorbar": {
              "outlinewidth": 0,
              "ticks": ""
             }
            },
            "type": "scatterternary"
           }
          ],
          "surface": [
           {
            "colorbar": {
             "outlinewidth": 0,
             "ticks": ""
            },
            "colorscale": [
             [
              0,
              "#0d0887"
             ],
             [
              0.1111111111111111,
              "#46039f"
             ],
             [
              0.2222222222222222,
              "#7201a8"
             ],
             [
              0.3333333333333333,
              "#9c179e"
             ],
             [
              0.4444444444444444,
              "#bd3786"
             ],
             [
              0.5555555555555556,
              "#d8576b"
             ],
             [
              0.6666666666666666,
              "#ed7953"
             ],
             [
              0.7777777777777778,
              "#fb9f3a"
             ],
             [
              0.8888888888888888,
              "#fdca26"
             ],
             [
              1,
              "#f0f921"
             ]
            ],
            "type": "surface"
           }
          ],
          "table": [
           {
            "cells": {
             "fill": {
              "color": "#EBF0F8"
             },
             "line": {
              "color": "white"
             }
            },
            "header": {
             "fill": {
              "color": "#C8D4E3"
             },
             "line": {
              "color": "white"
             }
            },
            "type": "table"
           }
          ]
         },
         "layout": {
          "annotationdefaults": {
           "arrowcolor": "#2a3f5f",
           "arrowhead": 0,
           "arrowwidth": 1
          },
          "autotypenumbers": "strict",
          "coloraxis": {
           "colorbar": {
            "outlinewidth": 0,
            "ticks": ""
           }
          },
          "colorscale": {
           "diverging": [
            [
             0,
             "#8e0152"
            ],
            [
             0.1,
             "#c51b7d"
            ],
            [
             0.2,
             "#de77ae"
            ],
            [
             0.3,
             "#f1b6da"
            ],
            [
             0.4,
             "#fde0ef"
            ],
            [
             0.5,
             "#f7f7f7"
            ],
            [
             0.6,
             "#e6f5d0"
            ],
            [
             0.7,
             "#b8e186"
            ],
            [
             0.8,
             "#7fbc41"
            ],
            [
             0.9,
             "#4d9221"
            ],
            [
             1,
             "#276419"
            ]
           ],
           "sequential": [
            [
             0,
             "#0d0887"
            ],
            [
             0.1111111111111111,
             "#46039f"
            ],
            [
             0.2222222222222222,
             "#7201a8"
            ],
            [
             0.3333333333333333,
             "#9c179e"
            ],
            [
             0.4444444444444444,
             "#bd3786"
            ],
            [
             0.5555555555555556,
             "#d8576b"
            ],
            [
             0.6666666666666666,
             "#ed7953"
            ],
            [
             0.7777777777777778,
             "#fb9f3a"
            ],
            [
             0.8888888888888888,
             "#fdca26"
            ],
            [
             1,
             "#f0f921"
            ]
           ],
           "sequentialminus": [
            [
             0,
             "#0d0887"
            ],
            [
             0.1111111111111111,
             "#46039f"
            ],
            [
             0.2222222222222222,
             "#7201a8"
            ],
            [
             0.3333333333333333,
             "#9c179e"
            ],
            [
             0.4444444444444444,
             "#bd3786"
            ],
            [
             0.5555555555555556,
             "#d8576b"
            ],
            [
             0.6666666666666666,
             "#ed7953"
            ],
            [
             0.7777777777777778,
             "#fb9f3a"
            ],
            [
             0.8888888888888888,
             "#fdca26"
            ],
            [
             1,
             "#f0f921"
            ]
           ]
          },
          "colorway": [
           "#636efa",
           "#EF553B",
           "#00cc96",
           "#ab63fa",
           "#FFA15A",
           "#19d3f3",
           "#FF6692",
           "#B6E880",
           "#FF97FF",
           "#FECB52"
          ],
          "font": {
           "color": "#2a3f5f"
          },
          "geo": {
           "bgcolor": "white",
           "lakecolor": "white",
           "landcolor": "#E5ECF6",
           "showlakes": true,
           "showland": true,
           "subunitcolor": "white"
          },
          "hoverlabel": {
           "align": "left"
          },
          "hovermode": "closest",
          "mapbox": {
           "style": "light"
          },
          "paper_bgcolor": "white",
          "plot_bgcolor": "#E5ECF6",
          "polar": {
           "angularaxis": {
            "gridcolor": "white",
            "linecolor": "white",
            "ticks": ""
           },
           "bgcolor": "#E5ECF6",
           "radialaxis": {
            "gridcolor": "white",
            "linecolor": "white",
            "ticks": ""
           }
          },
          "scene": {
           "xaxis": {
            "backgroundcolor": "#E5ECF6",
            "gridcolor": "white",
            "gridwidth": 2,
            "linecolor": "white",
            "showbackground": true,
            "ticks": "",
            "zerolinecolor": "white"
           },
           "yaxis": {
            "backgroundcolor": "#E5ECF6",
            "gridcolor": "white",
            "gridwidth": 2,
            "linecolor": "white",
            "showbackground": true,
            "ticks": "",
            "zerolinecolor": "white"
           },
           "zaxis": {
            "backgroundcolor": "#E5ECF6",
            "gridcolor": "white",
            "gridwidth": 2,
            "linecolor": "white",
            "showbackground": true,
            "ticks": "",
            "zerolinecolor": "white"
           }
          },
          "shapedefaults": {
           "line": {
            "color": "#2a3f5f"
           }
          },
          "ternary": {
           "aaxis": {
            "gridcolor": "white",
            "linecolor": "white",
            "ticks": ""
           },
           "baxis": {
            "gridcolor": "white",
            "linecolor": "white",
            "ticks": ""
           },
           "bgcolor": "#E5ECF6",
           "caxis": {
            "gridcolor": "white",
            "linecolor": "white",
            "ticks": ""
           }
          },
          "title": {
           "x": 0.05
          },
          "xaxis": {
           "automargin": true,
           "gridcolor": "white",
           "linecolor": "white",
           "ticks": "",
           "title": {
            "standoff": 15
           },
           "zerolinecolor": "white",
           "zerolinewidth": 2
          },
          "yaxis": {
           "automargin": true,
           "gridcolor": "white",
           "linecolor": "white",
           "ticks": "",
           "title": {
            "standoff": 15
           },
           "zerolinecolor": "white",
           "zerolinewidth": 2
          }
         }
        },
        "title": {
         "text": "World Internet user rate Evolution"
        },
        "xaxis": {
         "anchor": "y",
         "domain": [
          0,
          1
         ],
         "title": {
          "text": "Year"
         }
        },
        "yaxis": {
         "anchor": "x",
         "domain": [
          0,
          1
         ],
         "title": {
          "text": "Internet users (%)"
         }
        }
       }
      }
     },
     "metadata": {},
     "output_type": "display_data"
    }
   ],
   "source": [
    "Region='World'\n",
    "ZONA=df_region[df_region['Entity']==Region]\n",
    "px.line(ZONA, x='Year', y='Internet users (%)', title=f'{Region} Internet user rate Evolution',color_discrete_sequence=px.colors.sequential.RdBu)"
   ]
  },
  {
   "cell_type": "markdown",
   "metadata": {},
   "source": [
    "# Análisis Países"
   ]
  },
  {
   "cell_type": "markdown",
   "metadata": {},
   "source": [
    "## Visualizar dataset: head, null, info, describe, etc"
   ]
  },
  {
   "cell_type": "code",
   "execution_count": 4,
   "metadata": {},
   "outputs": [
    {
     "data": {
      "text/html": [
       "<div>\n",
       "<style scoped>\n",
       "    .dataframe tbody tr th:only-of-type {\n",
       "        vertical-align: middle;\n",
       "    }\n",
       "\n",
       "    .dataframe tbody tr th {\n",
       "        vertical-align: top;\n",
       "    }\n",
       "\n",
       "    .dataframe thead th {\n",
       "        text-align: right;\n",
       "    }\n",
       "</style>\n",
       "<table border=\"1\" class=\"dataframe\">\n",
       "  <thead>\n",
       "    <tr style=\"text-align: right;\">\n",
       "      <th></th>\n",
       "      <th>Country Name</th>\n",
       "      <th>ISO3 Code</th>\n",
       "      <th>Region Name</th>\n",
       "      <th>Sub-region Name</th>\n",
       "      <th>Year</th>\n",
       "      <th>Internet users (%)</th>\n",
       "      <th>Grupo de Ingresos</th>\n",
       "      <th>Fixed broadband subscriptions (per 100 people)</th>\n",
       "      <th>Number of internet users</th>\n",
       "      <th>Nivel Ingresos</th>\n",
       "    </tr>\n",
       "  </thead>\n",
       "  <tbody>\n",
       "    <tr>\n",
       "      <th>0</th>\n",
       "      <td>Afghanistan</td>\n",
       "      <td>AFG</td>\n",
       "      <td>Asia</td>\n",
       "      <td>Southern Asia</td>\n",
       "      <td>1990</td>\n",
       "      <td>0.0</td>\n",
       "      <td>Ingreso bajo</td>\n",
       "      <td>NaN</td>\n",
       "      <td>0.0</td>\n",
       "      <td>0.0</td>\n",
       "    </tr>\n",
       "    <tr>\n",
       "      <th>1</th>\n",
       "      <td>Afghanistan</td>\n",
       "      <td>AFG</td>\n",
       "      <td>Asia</td>\n",
       "      <td>Southern Asia</td>\n",
       "      <td>1991</td>\n",
       "      <td>0.0</td>\n",
       "      <td>Ingreso bajo</td>\n",
       "      <td>NaN</td>\n",
       "      <td>NaN</td>\n",
       "      <td>0.0</td>\n",
       "    </tr>\n",
       "    <tr>\n",
       "      <th>2</th>\n",
       "      <td>Afghanistan</td>\n",
       "      <td>AFG</td>\n",
       "      <td>Asia</td>\n",
       "      <td>Southern Asia</td>\n",
       "      <td>1992</td>\n",
       "      <td>0.0</td>\n",
       "      <td>Ingreso bajo</td>\n",
       "      <td>NaN</td>\n",
       "      <td>NaN</td>\n",
       "      <td>0.0</td>\n",
       "    </tr>\n",
       "    <tr>\n",
       "      <th>3</th>\n",
       "      <td>Afghanistan</td>\n",
       "      <td>AFG</td>\n",
       "      <td>Asia</td>\n",
       "      <td>Southern Asia</td>\n",
       "      <td>1993</td>\n",
       "      <td>0.0</td>\n",
       "      <td>Ingreso bajo</td>\n",
       "      <td>NaN</td>\n",
       "      <td>NaN</td>\n",
       "      <td>0.0</td>\n",
       "    </tr>\n",
       "    <tr>\n",
       "      <th>4</th>\n",
       "      <td>Afghanistan</td>\n",
       "      <td>AFG</td>\n",
       "      <td>Asia</td>\n",
       "      <td>Southern Asia</td>\n",
       "      <td>1994</td>\n",
       "      <td>0.0</td>\n",
       "      <td>Ingreso bajo</td>\n",
       "      <td>NaN</td>\n",
       "      <td>NaN</td>\n",
       "      <td>0.0</td>\n",
       "    </tr>\n",
       "  </tbody>\n",
       "</table>\n",
       "</div>"
      ],
      "text/plain": [
       "  Country Name ISO3 Code Region Name Sub-region Name  Year  \\\n",
       "0  Afghanistan       AFG        Asia   Southern Asia  1990   \n",
       "1  Afghanistan       AFG        Asia   Southern Asia  1991   \n",
       "2  Afghanistan       AFG        Asia   Southern Asia  1992   \n",
       "3  Afghanistan       AFG        Asia   Southern Asia  1993   \n",
       "4  Afghanistan       AFG        Asia   Southern Asia  1994   \n",
       "\n",
       "   Internet users (%) Grupo de Ingresos  \\\n",
       "0                 0.0      Ingreso bajo   \n",
       "1                 0.0      Ingreso bajo   \n",
       "2                 0.0      Ingreso bajo   \n",
       "3                 0.0      Ingreso bajo   \n",
       "4                 0.0      Ingreso bajo   \n",
       "\n",
       "   Fixed broadband subscriptions (per 100 people)  Number of internet users  \\\n",
       "0                                             NaN                       0.0   \n",
       "1                                             NaN                       NaN   \n",
       "2                                             NaN                       NaN   \n",
       "3                                             NaN                       NaN   \n",
       "4                                             NaN                       NaN   \n",
       "\n",
       "   Nivel Ingresos  \n",
       "0             0.0  \n",
       "1             0.0  \n",
       "2             0.0  \n",
       "3             0.0  \n",
       "4             0.0  "
      ]
     },
     "execution_count": 4,
     "metadata": {},
     "output_type": "execute_result"
    }
   ],
   "source": [
    "df_countries.head()"
   ]
  },
  {
   "cell_type": "code",
   "execution_count": 5,
   "metadata": {},
   "outputs": [
    {
     "data": {
      "text/plain": [
       "<AxesSubplot: >"
      ]
     },
     "execution_count": 5,
     "metadata": {},
     "output_type": "execute_result"
    },
    {
     "data": {
      "image/png": "[encoded data removed]",
      "text/plain": [
       "<Figure size 640x480 with 1 Axes>"
      ]
     },
     "metadata": {},
     "output_type": "display_data"
    }
   ],
   "source": [
    "sns.heatmap(df_countries.isnull(),cbar=False,cmap='rocket', yticklabels=False)"
   ]
  },
  {
   "cell_type": "code",
   "execution_count": 6,
   "metadata": {},
   "outputs": [
    {
     "data": {
      "text/plain": [
       "28"
      ]
     },
     "execution_count": 6,
     "metadata": {},
     "output_type": "execute_result"
    }
   ],
   "source": [
    "len(df_countries[df_countries['Number of internet users'].fillna(0)==0]['Year'].unique().tolist())"
   ]
  },
  {
   "cell_type": "code",
   "execution_count": 7,
   "metadata": {},
   "outputs": [
    {
     "data": {
      "text/html": [
       "<div>\n",
       "<style scoped>\n",
       "    .dataframe tbody tr th:only-of-type {\n",
       "        vertical-align: middle;\n",
       "    }\n",
       "\n",
       "    .dataframe tbody tr th {\n",
       "        vertical-align: top;\n",
       "    }\n",
       "\n",
       "    .dataframe thead th {\n",
       "        text-align: right;\n",
       "    }\n",
       "</style>\n",
       "<table border=\"1\" class=\"dataframe\">\n",
       "  <thead>\n",
       "    <tr style=\"text-align: right;\">\n",
       "      <th></th>\n",
       "      <th>Year</th>\n",
       "      <th>Internet users (%)</th>\n",
       "      <th>Fixed broadband subscriptions (per 100 people)</th>\n",
       "      <th>Number of internet users</th>\n",
       "      <th>Nivel Ingresos</th>\n",
       "    </tr>\n",
       "  </thead>\n",
       "  <tbody>\n",
       "    <tr>\n",
       "      <th>count</th>\n",
       "      <td>5398.000000</td>\n",
       "      <td>5398.000000</td>\n",
       "      <td>2290.000000</td>\n",
       "      <td>4.559000e+03</td>\n",
       "      <td>5398.000000</td>\n",
       "    </tr>\n",
       "    <tr>\n",
       "      <th>mean</th>\n",
       "      <td>2004.685810</td>\n",
       "      <td>23.448131</td>\n",
       "      <td>8.245030</td>\n",
       "      <td>8.754389e+06</td>\n",
       "      <td>1.851056</td>\n",
       "    </tr>\n",
       "    <tr>\n",
       "      <th>std</th>\n",
       "      <td>8.837184</td>\n",
       "      <td>29.183001</td>\n",
       "      <td>11.167399</td>\n",
       "      <td>4.415329e+07</td>\n",
       "      <td>1.041144</td>\n",
       "    </tr>\n",
       "    <tr>\n",
       "      <th>min</th>\n",
       "      <td>1990.000000</td>\n",
       "      <td>0.000000</td>\n",
       "      <td>0.000000</td>\n",
       "      <td>0.000000e+00</td>\n",
       "      <td>0.000000</td>\n",
       "    </tr>\n",
       "    <tr>\n",
       "      <th>25%</th>\n",
       "      <td>1997.000000</td>\n",
       "      <td>0.221412</td>\n",
       "      <td>0.166125</td>\n",
       "      <td>3.512050e+04</td>\n",
       "      <td>1.000000</td>\n",
       "    </tr>\n",
       "    <tr>\n",
       "      <th>50%</th>\n",
       "      <td>2005.000000</td>\n",
       "      <td>7.473852</td>\n",
       "      <td>2.338566</td>\n",
       "      <td>3.994340e+05</td>\n",
       "      <td>2.000000</td>\n",
       "    </tr>\n",
       "    <tr>\n",
       "      <th>75%</th>\n",
       "      <td>2012.000000</td>\n",
       "      <td>41.597500</td>\n",
       "      <td>13.332206</td>\n",
       "      <td>3.637529e+06</td>\n",
       "      <td>3.000000</td>\n",
       "    </tr>\n",
       "    <tr>\n",
       "      <th>max</th>\n",
       "      <td>2020.000000</td>\n",
       "      <td>100.000000</td>\n",
       "      <td>62.280620</td>\n",
       "      <td>9.934818e+08</td>\n",
       "      <td>3.000000</td>\n",
       "    </tr>\n",
       "  </tbody>\n",
       "</table>\n",
       "</div>"
      ],
      "text/plain": [
       "              Year  Internet users (%)  \\\n",
       "count  5398.000000         5398.000000   \n",
       "mean   2004.685810           23.448131   \n",
       "std       8.837184           29.183001   \n",
       "min    1990.000000            0.000000   \n",
       "25%    1997.000000            0.221412   \n",
       "50%    2005.000000            7.473852   \n",
       "75%    2012.000000           41.597500   \n",
       "max    2020.000000          100.000000   \n",
       "\n",
       "       Fixed broadband subscriptions (per 100 people)  \\\n",
       "count                                     2290.000000   \n",
       "mean                                         8.245030   \n",
       "std                                         11.167399   \n",
       "min                                          0.000000   \n",
       "25%                                          0.166125   \n",
       "50%                                          2.338566   \n",
       "75%                                         13.332206   \n",
       "max                                         62.280620   \n",
       "\n",
       "       Number of internet users  Nivel Ingresos  \n",
       "count              4.559000e+03     5398.000000  \n",
       "mean               8.754389e+06        1.851056  \n",
       "std                4.415329e+07        1.041144  \n",
       "min                0.000000e+00        0.000000  \n",
       "25%                3.512050e+04        1.000000  \n",
       "50%                3.994340e+05        2.000000  \n",
       "75%                3.637529e+06        3.000000  \n",
       "max                9.934818e+08        3.000000  "
      ]
     },
     "execution_count": 7,
     "metadata": {},
     "output_type": "execute_result"
    }
   ],
   "source": [
    "df_countries.describe()"
   ]
  },
  {
   "cell_type": "code",
   "execution_count": 8,
   "metadata": {},
   "outputs": [
    {
     "name": "stdout",
     "output_type": "stream",
     "text": [
      "<class 'pandas.core.frame.DataFrame'>\n",
      "RangeIndex: 5398 entries, 0 to 5397\n",
      "Data columns (total 10 columns):\n",
      " #   Column                                          Non-Null Count  Dtype  \n",
      "---  ------                                          --------------  -----  \n",
      " 0   Country Name                                    5398 non-null   object \n",
      " 1   ISO3 Code                                       5398 non-null   object \n",
      " 2   Region Name                                     5398 non-null   object \n",
      " 3   Sub-region Name                                 5398 non-null   object \n",
      " 4   Year                                            5398 non-null   int64  \n",
      " 5   Internet users (%)                              5398 non-null   float64\n",
      " 6   Grupo de Ingresos                               5398 non-null   object \n",
      " 7   Fixed broadband subscriptions (per 100 people)  2290 non-null   float64\n",
      " 8   Number of internet users                        4559 non-null   float64\n",
      " 9   Nivel Ingresos                                  5398 non-null   float64\n",
      "dtypes: float64(4), int64(1), object(5)\n",
      "memory usage: 421.8+ KB\n"
     ]
    }
   ],
   "source": [
    "df_countries.info()"
   ]
  },
  {
   "cell_type": "code",
   "execution_count": 9,
   "metadata": {},
   "outputs": [],
   "source": [
    "df_countries['ISO3 Code']=df_countries['ISO3 Code'].astype(str)"
   ]
  },
  {
   "cell_type": "code",
   "execution_count": 10,
   "metadata": {},
   "outputs": [
    {
     "data": {
      "text/plain": [
       "(5398, 10)"
      ]
     },
     "execution_count": 10,
     "metadata": {},
     "output_type": "execute_result"
    }
   ],
   "source": [
    "df_countries.shape"
   ]
  },
  {
   "cell_type": "markdown",
   "metadata": {},
   "source": [
    "## Analizamos la variable year"
   ]
  },
  {
   "cell_type": "code",
   "execution_count": 11,
   "metadata": {},
   "outputs": [
    {
     "data": {
      "application/vnd.plotly.v1+json": {
       "config": {
        "plotlyServerURL": "https://plot.ly"
       },
       "data": [
        {
         "alignmentgroup": "True",
         "hovertemplate": "x=%{x}<br>y=%{y}<extra></extra>",
         "legendgroup": "",
         "marker": {
          "color": "rgb(37, 125, 152)",
          "pattern": {
           "shape": ""
          }
         },
         "name": "",
         "offsetgroup": "",
         "orientation": "v",
         "showlegend": false,
         "textposition": "auto",
         "type": "bar",
         "x": [
          1990,
          1992,
          1993,
          1994,
          1995,
          1991,
          2011,
          2007,
          2008,
          2015,
          2013,
          2012,
          2009,
          2010,
          2014,
          2002,
          2001,
          2017,
          2005,
          2006,
          2016,
          2004,
          2000,
          1999,
          2003,
          1998,
          1997,
          1996,
          2018,
          2019,
          2020
         ],
         "xaxis": "x",
         "y": [
          186,
          186,
          186,
          186,
          186,
          186,
          184,
          182,
          181,
          181,
          181,
          181,
          181,
          181,
          180,
          178,
          177,
          176,
          176,
          175,
          175,
          175,
          175,
          174,
          172,
          167,
          162,
          154,
          142,
          138,
          134
         ],
         "yaxis": "y"
        }
       ],
       "layout": {
        "barmode": "relative",
        "legend": {
         "tracegroupgap": 0
        },
        "template": {
         "data": {
          "bar": [
           {
            "error_x": {
             "color": "#2a3f5f"
            },
            "error_y": {
             "color": "#2a3f5f"
            },
            "marker": {
             "line": {
              "color": "#E5ECF6",
              "width": 0.5
             },
             "pattern": {
              "fillmode": "overlay",
              "size": 10,
              "solidity": 0.2
             }
            },
            "type": "bar"
           }
          ],
          "barpolar": [
           {
            "marker": {
             "line": {
              "color": "#E5ECF6",
              "width": 0.5
             },
             "pattern": {
              "fillmode": "overlay",
              "size": 10,
              "solidity": 0.2
             }
            },
            "type": "barpolar"
           }
          ],
          "carpet": [
           {
            "aaxis": {
             "endlinecolor": "#2a3f5f",
             "gridcolor": "white",
             "linecolor": "white",
             "minorgridcolor": "white",
             "startlinecolor": "#2a3f5f"
            },
            "baxis": {
             "endlinecolor": "#2a3f5f",
             "gridcolor": "white",
             "linecolor": "white",
             "minorgridcolor": "white",
             "startlinecolor": "#2a3f5f"
            },
            "type": "carpet"
           }
          ],
          "choropleth": [
           {
            "colorbar": {
             "outlinewidth": 0,
             "ticks": ""
            },
            "type": "choropleth"
           }
          ],
          "contour": [
           {
            "colorbar": {
             "outlinewidth": 0,
             "ticks": ""
            },
            "colorscale": [
             [
              0,
              "#0d0887"
             ],
             [
              0.1111111111111111,
              "#46039f"
             ],
             [
              0.2222222222222222,
              "#7201a8"
             ],
             [
              0.3333333333333333,
              "#9c179e"
             ],
             [
              0.4444444444444444,
              "#bd3786"
             ],
             [
              0.5555555555555556,
              "#d8576b"
             ],
             [
              0.6666666666666666,
              "#ed7953"
             ],
             [
              0.7777777777777778,
              "#fb9f3a"
             ],
             [
              0.8888888888888888,
              "#fdca26"
             ],
             [
              1,
              "#f0f921"
             ]
            ],
            "type": "contour"
           }
          ],
          "contourcarpet": [
           {
            "colorbar": {
             "outlinewidth": 0,
             "ticks": ""
            },
            "type": "contourcarpet"
           }
          ],
          "heatmap": [
           {
            "colorbar": {
             "outlinewidth": 0,
             "ticks": ""
            },
            "colorscale": [
             [
              0,
              "#0d0887"
             ],
             [
              0.1111111111111111,
              "#46039f"
             ],
             [
              0.2222222222222222,
              "#7201a8"
             ],
             [
              0.3333333333333333,
              "#9c179e"
             ],
             [
              0.4444444444444444,
              "#bd3786"
             ],
             [
              0.5555555555555556,
              "#d8576b"
             ],
             [
              0.6666666666666666,
              "#ed7953"
             ],
             [
              0.7777777777777778,
              "#fb9f3a"
             ],
             [
              0.8888888888888888,
              "#fdca26"
             ],
             [
              1,
              "#f0f921"
             ]
            ],
            "type": "heatmap"
           }
          ],
          "heatmapgl": [
           {
            "colorbar": {
             "outlinewidth": 0,
             "ticks": ""
            },
            "colorscale": [
             [
              0,
              "#0d0887"
             ],
             [
              0.1111111111111111,
              "#46039f"
             ],
             [
              0.2222222222222222,
              "#7201a8"
             ],
             [
              0.3333333333333333,
              "#9c179e"
             ],
             [
              0.4444444444444444,
              "#bd3786"
             ],
             [
              0.5555555555555556,
              "#d8576b"
             ],
             [
              0.6666666666666666,
              "#ed7953"
             ],
             [
              0.7777777777777778,
              "#fb9f3a"
             ],
             [
              0.8888888888888888,
              "#fdca26"
             ],
             [
              1,
              "#f0f921"
             ]
            ],
            "type": "heatmapgl"
           }
          ],
          "histogram": [
           {
            "marker": {
             "pattern": {
              "fillmode": "overlay",
              "size": 10,
              "solidity": 0.2
             }
            },
            "type": "histogram"
           }
          ],
          "histogram2d": [
           {
            "colorbar": {
             "outlinewidth": 0,
             "ticks": ""
            },
            "colorscale": [
             [
              0,
              "#0d0887"
             ],
             [
              0.1111111111111111,
              "#46039f"
             ],
             [
              0.2222222222222222,
              "#7201a8"
             ],
             [
              0.3333333333333333,
              "#9c179e"
             ],
             [
              0.4444444444444444,
              "#bd3786"
             ],
             [
              0.5555555555555556,
              "#d8576b"
             ],
             [
              0.6666666666666666,
              "#ed7953"
             ],
             [
              0.7777777777777778,
              "#fb9f3a"
             ],
             [
              0.8888888888888888,
              "#fdca26"
             ],
             [
              1,
              "#f0f921"
             ]
            ],
            "type": "histogram2d"
           }
          ],
          "histogram2dcontour": [
           {
            "colorbar": {
             "outlinewidth": 0,
             "ticks": ""
            },
            "colorscale": [
             [
              0,
              "#0d0887"
             ],
             [
              0.1111111111111111,
              "#46039f"
             ],
             [
              0.2222222222222222,
              "#7201a8"
             ],
             [
              0.3333333333333333,
              "#9c179e"
             ],
             [
              0.4444444444444444,
              "#bd3786"
             ],
             [
              0.5555555555555556,
              "#d8576b"
             ],
             [
              0.6666666666666666,
              "#ed7953"
             ],
             [
              0.7777777777777778,
              "#fb9f3a"
             ],
             [
              0.8888888888888888,
              "#fdca26"
             ],
             [
              1,
              "#f0f921"
             ]
            ],
            "type": "histogram2dcontour"
           }
          ],
          "mesh3d": [
           {
            "colorbar": {
             "outlinewidth": 0,
             "ticks": ""
            },
            "type": "mesh3d"
           }
          ],
          "parcoords": [
           {
            "line": {
             "colorbar": {
              "outlinewidth": 0,
              "ticks": ""
             }
            },
            "type": "parcoords"
           }
          ],
          "pie": [
           {
            "automargin": true,
            "type": "pie"
           }
          ],
          "scatter": [
           {
            "fillpattern": {
             "fillmode": "overlay",
             "size": 10,
             "solidity": 0.2
            },
            "type": "scatter"
           }
          ],
          "scatter3d": [
           {
            "line": {
             "colorbar": {
              "outlinewidth": 0,
              "ticks": ""
             }
            },
            "marker": {
             "colorbar": {
              "outlinewidth": 0,
              "ticks": ""
             }
            },
            "type": "scatter3d"
           }
          ],
          "scattercarpet": [
           {
            "marker": {
             "colorbar": {
              "outlinewidth": 0,
              "ticks": ""
             }
            },
            "type": "scattercarpet"
           }
          ],
          "scattergeo": [
           {
            "marker": {
             "colorbar": {
              "outlinewidth": 0,
              "ticks": ""
             }
            },
            "type": "scattergeo"
           }
          ],
          "scattergl": [
           {
            "marker": {
             "colorbar": {
              "outlinewidth": 0,
              "ticks": ""
             }
            },
            "type": "scattergl"
           }
          ],
          "scattermapbox": [
           {
            "marker": {
             "colorbar": {
              "outlinewidth": 0,
              "ticks": ""
             }
            },
            "type": "scattermapbox"
           }
          ],
          "scatterpolar": [
           {
            "marker": {
             "colorbar": {
              "outlinewidth": 0,
              "ticks": ""
             }
            },
            "type": "scatterpolar"
           }
          ],
          "scatterpolargl": [
           {
            "marker": {
             "colorbar": {
              "outlinewidth": 0,
              "ticks": ""
             }
            },
            "type": "scatterpolargl"
           }
          ],
          "scatterternary": [
           {
            "marker": {
             "colorbar": {
              "outlinewidth": 0,
              "ticks": ""
             }
            },
            "type": "scatterternary"
           }
          ],
          "surface": [
           {
            "colorbar": {
             "outlinewidth": 0,
             "ticks": ""
            },
            "colorscale": [
             [
              0,
              "#0d0887"
             ],
             [
              0.1111111111111111,
              "#46039f"
             ],
             [
              0.2222222222222222,
              "#7201a8"
             ],
             [
              0.3333333333333333,
              "#9c179e"
             ],
             [
              0.4444444444444444,
              "#bd3786"
             ],
             [
              0.5555555555555556,
              "#d8576b"
             ],
             [
              0.6666666666666666,
              "#ed7953"
             ],
             [
              0.7777777777777778,
              "#fb9f3a"
             ],
             [
              0.8888888888888888,
              "#fdca26"
             ],
             [
              1,
              "#f0f921"
             ]
            ],
            "type": "surface"
           }
          ],
          "table": [
           {
            "cells": {
             "fill": {
              "color": "#EBF0F8"
             },
             "line": {
              "color": "white"
             }
            },
            "header": {
             "fill": {
              "color": "#C8D4E3"
             },
             "line": {
              "color": "white"
             }
            },
            "type": "table"
           }
          ]
         },
         "layout": {
          "annotationdefaults": {
           "arrowcolor": "#2a3f5f",
           "arrowhead": 0,
           "arrowwidth": 1
          },
          "autotypenumbers": "strict",
          "coloraxis": {
           "colorbar": {
            "outlinewidth": 0,
            "ticks": ""
           }
          },
          "colorscale": {
           "diverging": [
            [
             0,
             "#8e0152"
            ],
            [
             0.1,
             "#c51b7d"
            ],
            [
             0.2,
             "#de77ae"
            ],
            [
             0.3,
             "#f1b6da"
            ],
            [
             0.4,
             "#fde0ef"
            ],
            [
             0.5,
             "#f7f7f7"
            ],
            [
             0.6,
             "#e6f5d0"
            ],
            [
             0.7,
             "#b8e186"
            ],
            [
             0.8,
             "#7fbc41"
            ],
            [
             0.9,
             "#4d9221"
            ],
            [
             1,
             "#276419"
            ]
           ],
           "sequential": [
            [
             0,
             "#0d0887"
            ],
            [
             0.1111111111111111,
             "#46039f"
            ],
            [
             0.2222222222222222,
             "#7201a8"
            ],
            [
             0.3333333333333333,
             "#9c179e"
            ],
            [
             0.4444444444444444,
             "#bd3786"
            ],
            [
             0.5555555555555556,
             "#d8576b"
            ],
            [
             0.6666666666666666,
             "#ed7953"
            ],
            [
             0.7777777777777778,
             "#fb9f3a"
            ],
            [
             0.8888888888888888,
             "#fdca26"
            ],
            [
             1,
             "#f0f921"
            ]
           ],
           "sequentialminus": [
            [
             0,
             "#0d0887"
            ],
            [
             0.1111111111111111,
             "#46039f"
            ],
            [
             0.2222222222222222,
             "#7201a8"
            ],
            [
             0.3333333333333333,
             "#9c179e"
            ],
            [
             0.4444444444444444,
             "#bd3786"
            ],
            [
             0.5555555555555556,
             "#d8576b"
            ],
            [
             0.6666666666666666,
             "#ed7953"
            ],
            [
             0.7777777777777778,
             "#fb9f3a"
            ],
            [
             0.8888888888888888,
             "#fdca26"
            ],
            [
             1,
             "#f0f921"
            ]
           ]
          },
          "colorway": [
           "#636efa",
           "#EF553B",
           "#00cc96",
           "#ab63fa",
           "#FFA15A",
           "#19d3f3",
           "#FF6692",
           "#B6E880",
           "#FF97FF",
           "#FECB52"
          ],
          "font": {
           "color": "#2a3f5f"
          },
          "geo": {
           "bgcolor": "white",
           "lakecolor": "white",
           "landcolor": "#E5ECF6",
           "showlakes": true,
           "showland": true,
           "subunitcolor": "white"
          },
          "hoverlabel": {
           "align": "left"
          },
          "hovermode": "closest",
          "mapbox": {
           "style": "light"
          },
          "paper_bgcolor": "white",
          "plot_bgcolor": "#E5ECF6",
          "polar": {
           "angularaxis": {
            "gridcolor": "white",
            "linecolor": "white",
            "ticks": ""
           },
           "bgcolor": "#E5ECF6",
           "radialaxis": {
            "gridcolor": "white",
            "linecolor": "white",
            "ticks": ""
           }
          },
          "scene": {
           "xaxis": {
            "backgroundcolor": "#E5ECF6",
            "gridcolor": "white",
            "gridwidth": 2,
            "linecolor": "white",
            "showbackground": true,
            "ticks": "",
            "zerolinecolor": "white"
           },
           "yaxis": {
            "backgroundcolor": "#E5ECF6",
            "gridcolor": "white",
            "gridwidth": 2,
            "linecolor": "white",
            "showbackground": true,
            "ticks": "",
            "zerolinecolor": "white"
           },
           "zaxis": {
            "backgroundcolor": "#E5ECF6",
            "gridcolor": "white",
            "gridwidth": 2,
            "linecolor": "white",
            "showbackground": true,
            "ticks": "",
            "zerolinecolor": "white"
           }
          },
          "shapedefaults": {
           "line": {
            "color": "#2a3f5f"
           }
          },
          "ternary": {
           "aaxis": {
            "gridcolor": "white",
            "linecolor": "white",
            "ticks": ""
           },
           "baxis": {
            "gridcolor": "white",
            "linecolor": "white",
            "ticks": ""
           },
           "bgcolor": "#E5ECF6",
           "caxis": {
            "gridcolor": "white",
            "linecolor": "white",
            "ticks": ""
           }
          },
          "title": {
           "x": 0.05
          },
          "xaxis": {
           "automargin": true,
           "gridcolor": "white",
           "linecolor": "white",
           "ticks": "",
           "title": {
            "standoff": 15
           },
           "zerolinecolor": "white",
           "zerolinewidth": 2
          },
          "yaxis": {
           "automargin": true,
           "gridcolor": "white",
           "linecolor": "white",
           "ticks": "",
           "title": {
            "standoff": 15
           },
           "zerolinecolor": "white",
           "zerolinewidth": 2
          }
         }
        },
        "title": {
         "text": "Columna Year"
        },
        "xaxis": {
         "anchor": "y",
         "domain": [
          0,
          1
         ],
         "title": {
          "text": "x"
         }
        },
        "yaxis": {
         "anchor": "x",
         "domain": [
          0,
          1
         ],
         "title": {
          "text": "y"
         }
        }
       }
      }
     },
     "metadata": {},
     "output_type": "display_data"
    }
   ],
   "source": [
    "year=df_countries['Year'].value_counts()\n",
    "px.bar(x=year.index, y=year,title='Columna Year',color_continuous_scale=\"tealgrn\",color_discrete_sequence=px.colors.sequential.Tealgrn_r)"
   ]
  },
  {
   "cell_type": "code",
   "execution_count": 13,
   "metadata": {},
   "outputs": [
    {
     "data": {
      "application/vnd.plotly.v1+json": {
       "config": {
        "plotlyServerURL": "https://plot.ly"
       },
       "data": [
        {
         "hovertemplate": "Grupo de Ingresos=Ingreso bajo<br>Internet users (%)=%{x}<br>Year=%{y}<extra></extra>",
         "legendgroup": "Ingreso bajo",
         "marker": {
          "color": "rgb(103,0,31)",
          "symbol": "circle"
         },
         "mode": "markers",
         "name": "Ingreso bajo",
         "showlegend": true,
         "type": "scattergl",
         "x": [
          0,
          0,
          0,
          0,
          0,
          0,
          0.004722568,
          0.004561395,
          0.087891253,
          0.10580903,
          1.224148084,
          2.107123645,
          1.9,
          1.84,
          3.55,
          4,
          5,
          5.454545455,
          5.9,
          7,
          8.26,
          0,
          0,
          0,
          0,
          0,
          0,
          0.000960519,
          0.018686353,
          0.045423484,
          0.061780293,
          0.077080169,
          0.157732465,
          0.200992598,
          0.373440303,
          0.400295285,
          0.469914489,
          0.632707564,
          0.75,
          0.92,
          1.13,
          2.4,
          3,
          3.725034916,
          9.1,
          9.4,
          14,
          0,
          0,
          0,
          0,
          0,
          0,
          0.000803592,
          0.007979439,
          0.015842776,
          0.039204469,
          0.077248447,
          0.106001245,
          0.118228412,
          0.201273197,
          0.349060462,
          0.542142866,
          0.65759259,
          0.7,
          0.81,
          0.9,
          1,
          1.11,
          1.219999945,
          1.264218111,
          1.38,
          4.866224464,
          0,
          0,
          0,
          0,
          0,
          0,
          0.005849503,
          0.014270881,
          0.027878201,
          0.040894287,
          0.053394174,
          0.078543428,
          0.128537117,
          0.151563338,
          0.223401395,
          0.268195609,
          0.311159173,
          0.375815961,
          1,
          1.8,
          2,
          2.2,
          3,
          3.4,
          3.6,
          3.8,
          0,
          0,
          0,
          0,
          0,
          0,
          0.000658168,
          0.004268504,
          0.012321728,
          0.035707076,
          0.045934134,
          0.166069665,
          0.320308555,
          0.360920107,
          0.3992577,
          0.581045764,
          0.847224521,
          1.19,
          1.5,
          1.7,
          1.9,
          2.1,
          2.5,
          2.9,
          3.5,
          0,
          0,
          0,
          0,
          0,
          0,
          0,
          0.009017718,
          0.008774236,
          0.025495028,
          0.136711941,
          0.157815289,
          0.227090138,
          0.41,
          0.47,
          0.54,
          0.61,
          0.7,
          0.8,
          0.9,
          0.99,
          1.083733116,
          0,
          0,
          0,
          0,
          0,
          0.0000175,
          0.001703448,
          0.00496672,
          0.009663517,
          0.012541599,
          0.015263767,
          0.037162381,
          0.072402262,
          0.105811659,
          0.155334521,
          0.219659819,
          0.310592657,
          0.37,
          0.45,
          0.54,
          0.75,
          1.1,
          2.9,
          4.6,
          7.7,
          13.85517556,
          0,
          0,
          0,
          0,
          0,
          0.009217541,
          0.03550736,
          0.051311347,
          0.206094461,
          0.715827015,
          0.921794919,
          1.336791166,
          1.796779883,
          2.436781193,
          3.308003478,
          3.799001139,
          5.237691158,
          6.205037419,
          6.88,
          7.63,
          9.2,
          10.8703,
          12.44922872,
          14,
          15.56,
          16.5,
          0,
          0,
          0,
          0,
          0.000138318,
          0.000668589,
          0.001948942,
          0.003803109,
          0.006203369,
          0.060808919,
          0.095424924,
          0.175541868,
          0.402022749,
          0.450960371,
          0.508819332,
          0.542254181,
          0.637492123,
          0.780025279,
          0.92,
          0.94,
          1,
          2,
          3.1,
          4.5,
          6.4,
          8.2,
          0,
          0,
          0,
          0,
          0,
          0,
          0.016389063,
          0.024060421,
          0.117702448,
          0.230103171,
          0.299569145,
          1.022993234,
          1.354197478,
          1.808142203,
          1.901365316,
          2.057196705,
          2.206302237,
          2.354888711,
          2.303280592,
          2.45,
          2.672,
          2.893990621,
          3.1,
          3.32,
          3.540706917,
          0,
          0,
          0,
          0,
          0,
          0,
          0.004489443,
          0.004099387,
          0.011328732,
          0.017702706,
          0.033812227,
          0.032713307,
          0.031868935,
          0.031011185,
          0.551376581,
          0.53,
          2,
          2.3,
          2.5,
          2.6,
          3.2,
          5.41,
          33,
          0,
          0,
          0,
          0,
          0,
          0,
          0.003695196,
          0.014333647,
          0.062561023,
          0.168608781,
          0.196394691,
          0.222511586,
          0.339720155,
          0.423252419,
          0.525353655,
          0.567721802,
          0.607552239,
          0.65,
          1.65,
          1.63,
          1.7,
          1.9,
          2.3,
          3,
          3.7,
          4.17397219,
          0,
          0,
          0,
          0,
          0,
          0,
          0.004668518,
          0.018057365,
          0.087278755,
          0.126780945,
          0.164020725,
          0.215094727,
          0.278815116,
          0.347505335,
          0.384489334,
          0.42513749,
          0.965864737,
          0.7,
          1.07,
          2.26,
          3.33,
          4.3506,
          5.05,
          5.83,
          5.3,
          0,
          0,
          0,
          0,
          0,
          0,
          0.002055228,
          0.010085919,
          0.019793888,
          0.060909873,
          0.142545755,
          0.185897413,
          0.227045578,
          0.310364443,
          0.43281964,
          0.507063136,
          0.729627281,
          0.81,
          1.57,
          1.8,
          2,
          2.2,
          2.8,
          3.5,
          7,
          10.33,
          0,
          0,
          0,
          0,
          0,
          0,
          0.003042979,
          0.011842611,
          0.020197055,
          0.056250629,
          0.10959253,
          0.160031947,
          0.259612611,
          0.419538844,
          0.679447835,
          0.854357118,
          0.842954488,
          0.91,
          1.56,
          2.68,
          4.17,
          4.3,
          6,
          7.29393733,
          9.236314896,
          16.93353299,
          0,
          0,
          0,
          0,
          0,
          0,
          0.001039305,
          0.002008766,
          0.002911503,
          0.028136022,
          0.036261294,
          0.105185431,
          0.127152469,
          0.155698704,
          0.189933734,
          0.221341351,
          0.294033977,
          0.39039062,
          0.7,
          0.76,
          0.83,
          0.9,
          1.05,
          1.15,
          1.248675689,
          2.476219975,
          0,
          0,
          0,
          0,
          0,
          0,
          0.000883372,
          0.001625791,
          0.011763573,
          0.067176482,
          0.06283146,
          0.24067241,
          0.292784719,
          0.356918467,
          0.430854243,
          0.556041165,
          2.115387178,
          4.5,
          7.7,
          8,
          7,
          8.023854277,
          9,
          10.6,
          18,
          0,
          0,
          0,
          0,
          0,
          0,
          0.002506116,
          0.004987835,
          0.014805065,
          0.048490656,
          0.118254246,
          0.160264445,
          0.176198957,
          0.190173282,
          0.203007681,
          0.21539161,
          0.227669467,
          0.239834699,
          0.25,
          0.26,
          0.58,
          0.9,
          2.5,
          4,
          6.057298984,
          6.344421603,
          0,
          0,
          0,
          0,
          0,
          0,
          0.00150955,
          0.002948713,
          0.00716442,
          0.013910394,
          0.02,
          0.079039179,
          0.115614213,
          0.376198003,
          1.053454744,
          1.077327839,
          1.100216368,
          1.122235622,
          1.142687372,
          1.160610542,
          1.25,
          1.3767,
          1.5,
          1.63,
          1.76,
          3.829969245,
          4.51615373,
          5.5,
          0,
          0,
          0,
          0,
          0,
          0,
          0,
          0.001231819,
          0.004805071,
          0.008794581,
          0.025785032,
          0.140185224,
          0.439477639,
          0.538471703,
          0.791561615,
          1.292040678,
          8.66,
          16.7,
          17.46,
          21,
          22.7,
          24.64,
          26.61,
          0,
          0,
          0,
          0,
          0,
          0,
          0.010929139,
          0.211139465,
          0.305583935,
          0.590363264,
          0.8,
          0.9,
          1,
          1.2,
          1.5,
          1.8,
          2,
          2.2,
          2.4,
          2.6,
          3,
          3.5,
          4,
          4.5,
          5.7,
          7.12,
          0,
          0,
          0,
          0,
          0,
          0.002863471,
          0.004625948,
          0.010319341,
          0.065289465,
          0.10554394,
          0.163714063,
          0.237945087,
          0.384093505,
          0.46484984,
          0.71997068,
          1.742205503,
          2.529363038,
          3.671965351,
          7.9,
          9.78,
          12.5,
          13.01354333,
          14.1,
          15.5,
          16.9,
          17.83485947,
          0,
          0,
          0,
          0,
          0,
          0,
          0.000621081,
          0.015025295,
          0.023323243,
          0.056628675,
          0.082500387,
          0.090802459,
          0.518796032,
          0.6047341,
          0.881222989,
          1.048597934,
          1.247824049,
          5.01,
          6.89,
          9.96,
          12.35,
          14.905,
          17.4465,
          20,
          22.55,
          24.08540947,
          11,
          13.5,
          16.8,
          17.6,
          18.4,
          2.2,
          2.660748535,
          4.1,
          6.2,
          9.4,
          12,
          16.8,
          17.4,
          18,
          22,
          3.1,
          4,
          5.1,
          8.3,
          10.4,
          1.17711872,
          1.30890698,
          15.36692386,
          18.61805145,
          20,
          22,
          24,
          13.1,
          18.7,
          21.83002304,
          23,
          26,
          13.8,
          14.8,
          15.7,
          19.4,
          22.9,
          15.7,
          16.3,
          18.9,
          22,
          25.6,
          4.713662899,
          9.8,
          15,
          14,
          18.9,
          21.4,
          24.2,
          27.4,
          7,
          7.8,
          10.9,
          15.1,
          16.5,
          6.3,
          7,
          8,
          9.9,
          4.32275803,
          10.22431156,
          20,
          21.76763262,
          25,
          26,
          26.5,
          14.09999994,
          18.6,
          24.6,
          25.9,
          28.4,
          11.77318438,
          13.23693043,
          15.8,
          16.8,
          18,
          1.88,
          2.004048698,
          3.5,
          4.1,
          4.8,
          5.6,
          6.5,
          31.86962727,
          32.7,
          33.77,
          34.65,
          35.78,
          5.8,
          7.4,
          8,
          9.8,
          10.4,
          11.31,
          12.36022497,
          15.5,
          19.3,
          24,
          6,
          8.1,
          10.9,
          14.7,
          19.9
         ],
         "xaxis": "x",
         "y": [
          1990,
          1991,
          1992,
          1993,
          1994,
          1995,
          2001,
          2002,
          2003,
          2004,
          2005,
          2006,
          2007,
          2008,
          2009,
          2010,
          2011,
          2012,
          2013,
          2014,
          2015,
          1990,
          1991,
          1992,
          1993,
          1994,
          1995,
          1996,
          1997,
          1998,
          1999,
          2000,
          2001,
          2002,
          2003,
          2004,
          2005,
          2006,
          2007,
          2008,
          2009,
          2010,
          2011,
          2012,
          2013,
          2014,
          2015,
          1990,
          1991,
          1992,
          1993,
          1994,
          1995,
          1996,
          1997,
          1998,
          1999,
          2000,
          2001,
          2002,
          2003,
          2004,
          2005,
          2006,
          2007,
          2008,
          2009,
          2010,
          2011,
          2012,
          2013,
          2014,
          2015,
          1990,
          1991,
          1992,
          1993,
          1994,
          1995,
          1996,
          1997,
          1998,
          1999,
          2000,
          2001,
          2002,
          2003,
          2004,
          2005,
          2006,
          2007,
          2008,
          2009,
          2010,
          2011,
          2012,
          2013,
          2014,
          2015,
          1990,
          1991,
          1992,
          1993,
          1994,
          1995,
          1997,
          1998,
          1999,
          2000,
          2001,
          2002,
          2003,
          2004,
          2005,
          2006,
          2007,
          2008,
          2009,
          2010,
          2011,
          2012,
          2013,
          2014,
          2015,
          1990,
          1991,
          1992,
          1993,
          1994,
          1995,
          1996,
          1997,
          1998,
          1999,
          2000,
          2001,
          2002,
          2007,
          2008,
          2009,
          2010,
          2011,
          2012,
          2013,
          2014,
          2015,
          1990,
          1991,
          1992,
          1993,
          1994,
          1995,
          1996,
          1997,
          1998,
          1999,
          2000,
          2001,
          2002,
          2003,
          2004,
          2005,
          2006,
          2007,
          2008,
          2009,
          2010,
          2011,
          2012,
          2013,
          2014,
          2015,
          1990,
          1991,
          1992,
          1993,
          1994,
          1995,
          1996,
          1997,
          1998,
          1999,
          2000,
          2001,
          2002,
          2003,
          2004,
          2005,
          2006,
          2007,
          2008,
          2009,
          2010,
          2011,
          2012,
          2013,
          2014,
          2015,
          1990,
          1991,
          1992,
          1993,
          1994,
          1995,
          1996,
          1997,
          1998,
          1999,
          2000,
          2001,
          2002,
          2003,
          2004,
          2005,
          2006,
          2007,
          2008,
          2009,
          2010,
          2011,
          2012,
          2013,
          2014,
          2015,
          1990,
          1991,
          1992,
          1993,
          1994,
          1995,
          1997,
          1998,
          1999,
          2000,
          2001,
          2002,
          2003,
          2004,
          2005,
          2006,
          2007,
          2008,
          2009,
          2010,
          2011,
          2012,
          2013,
          2014,
          2015,
          1990,
          1991,
          1992,
          1993,
          1994,
          1995,
          1997,
          1998,
          1999,
          2000,
          2001,
          2002,
          2003,
          2004,
          2007,
          2008,
          2009,
          2010,
          2011,
          2012,
          2013,
          2014,
          2015,
          1990,
          1991,
          1992,
          1993,
          1994,
          1995,
          1996,
          1997,
          1998,
          1999,
          2000,
          2001,
          2002,
          2003,
          2004,
          2005,
          2006,
          2007,
          2008,
          2009,
          2010,
          2011,
          2012,
          2013,
          2014,
          2015,
          1990,
          1991,
          1992,
          1993,
          1994,
          1995,
          1997,
          1998,
          1999,
          2000,
          2001,
          2002,
          2003,
          2004,
          2005,
          2006,
          2007,
          2008,
          2009,
          2010,
          2011,
          2012,
          2013,
          2014,
          2015,
          1990,
          1991,
          1992,
          1993,
          1994,
          1995,
          1996,
          1997,
          1998,
          1999,
          2000,
          2001,
          2002,
          2003,
          2004,
          2005,
          2006,
          2007,
          2008,
          2009,
          2010,
          2011,
          2012,
          2013,
          2014,
          2015,
          1990,
          1991,
          1992,
          1993,
          1994,
          1995,
          1996,
          1997,
          1998,
          1999,
          2000,
          2001,
          2002,
          2003,
          2004,
          2005,
          2006,
          2007,
          2008,
          2009,
          2010,
          2011,
          2012,
          2013,
          2014,
          2015,
          1990,
          1991,
          1992,
          1993,
          1994,
          1995,
          1996,
          1997,
          1998,
          1999,
          2000,
          2001,
          2002,
          2003,
          2004,
          2005,
          2006,
          2007,
          2008,
          2009,
          2010,
          2011,
          2012,
          2013,
          2014,
          2015,
          1990,
          1991,
          1992,
          1993,
          1994,
          1995,
          1996,
          1997,
          1998,
          1999,
          2000,
          2001,
          2002,
          2003,
          2004,
          2005,
          2007,
          2008,
          2009,
          2010,
          2011,
          2012,
          2013,
          2014,
          2015,
          1990,
          1991,
          1992,
          1993,
          1994,
          1995,
          1996,
          1997,
          1998,
          1999,
          2000,
          2001,
          2002,
          2003,
          2004,
          2005,
          2006,
          2007,
          2008,
          2009,
          2010,
          2011,
          2012,
          2013,
          2014,
          2015,
          1990,
          1991,
          1992,
          1993,
          1994,
          1995,
          1996,
          1997,
          1998,
          1999,
          2000,
          2001,
          2002,
          2003,
          2004,
          2005,
          2006,
          2007,
          2008,
          2009,
          2011,
          2012,
          2013,
          2014,
          2015,
          2013,
          2014,
          2015,
          1990,
          1991,
          1992,
          1993,
          1994,
          1995,
          1996,
          1997,
          1998,
          1999,
          2000,
          2001,
          2002,
          2003,
          2004,
          2005,
          2007,
          2010,
          2011,
          2012,
          2013,
          2014,
          2015,
          1990,
          1991,
          1992,
          1993,
          1994,
          1995,
          1996,
          1997,
          1998,
          1999,
          2000,
          2001,
          2002,
          2003,
          2004,
          2005,
          2006,
          2007,
          2008,
          2009,
          2010,
          2011,
          2012,
          2013,
          2014,
          2015,
          1990,
          1991,
          1992,
          1993,
          1994,
          1995,
          1996,
          1997,
          1998,
          1999,
          2000,
          2001,
          2002,
          2003,
          2004,
          2005,
          2006,
          2007,
          2008,
          2009,
          2010,
          2011,
          2012,
          2013,
          2014,
          2015,
          1990,
          1991,
          1992,
          1993,
          1994,
          1995,
          1996,
          1997,
          1998,
          1999,
          2000,
          2001,
          2002,
          2003,
          2004,
          2005,
          2006,
          2007,
          2008,
          2009,
          2010,
          2011,
          2012,
          2013,
          2014,
          2015,
          2016,
          2017,
          2018,
          2019,
          2020,
          2016,
          2017,
          2018,
          2019,
          2020,
          2016,
          2017,
          2018,
          2019,
          2020,
          2016,
          2017,
          2018,
          2019,
          2020,
          2016,
          2017,
          2016,
          2017,
          2018,
          2019,
          2020,
          2016,
          2017,
          2018,
          2019,
          2020,
          2016,
          2017,
          2018,
          2019,
          2020,
          2016,
          2017,
          2018,
          2019,
          2020,
          2016,
          2017,
          2018,
          2016,
          2017,
          2018,
          2019,
          2020,
          2016,
          2017,
          2018,
          2019,
          2020,
          2016,
          2017,
          2018,
          2019,
          2016,
          2017,
          2016,
          2017,
          2018,
          2019,
          2020,
          2016,
          2017,
          2018,
          2019,
          2020,
          2016,
          2017,
          2018,
          2019,
          2020,
          2016,
          2017,
          2016,
          2017,
          2018,
          2019,
          2020,
          2016,
          2017,
          2018,
          2019,
          2020,
          2016,
          2017,
          2018,
          2019,
          2020,
          2016,
          2017,
          2018,
          2019,
          2020,
          2016,
          2017,
          2018,
          2019,
          2020
         ],
         "yaxis": "y"
        },
        {
         "hovertemplate": "Grupo de Ingresos=Ingreso mediano alto<br>Internet users (%)=%{x}<br>Year=%{y}<extra></extra>",
         "legendgroup": "Ingreso mediano alto",
         "marker": {
          "color": "rgb(178,24,43)",
          "symbol": "circle"
         },
         "mode": "markers",
         "name": "Ingreso mediano alto",
         "showlegend": true,
         "type": "scattergl",
         "x": [
          0,
          0,
          0,
          0,
          0,
          0.011168695,
          0.032196828,
          0.048593919,
          0.06502737,
          0.081437045,
          0.114097347,
          0.325798377,
          0.390081273,
          0.971900415,
          2.420387798,
          6.043890864,
          9.609991316,
          15.03611541,
          23.86,
          41.2,
          45,
          49,
          54.65595904,
          57.2,
          60.1,
          63.2529327,
          0,
          0,
          0,
          0,
          0,
          0,
          0,
          0,
          0.002992874,
          0.029527065,
          0.043705951,
          0.086277081,
          0.141954704,
          0.280339882,
          0.83076668,
          3.284481956,
          7.038683086,
          9.780807285,
          10.88212438,
          11.91369655,
          16.03668411,
          17.72058337,
          20.9272021,
          25.94663294,
          28.11262348,
          34,
          45,
          51,
          55.8,
          59.9,
          64.7,
          68.04306411,
          0,
          0,
          0,
          0,
          0.009117014,
          0.052743123,
          0.094572902,
          0.111650935,
          0.128659478,
          0.970737757,
          1.300470022,
          1.631094667,
          1.960405046,
          4.575217225,
          4.899008571,
          5.252983352,
          5.631787777,
          6.021253397,
          6.21,
          15.3,
          25,
          32,
          37.5,
          41.9,
          54.62280586,
          59.10083377,
          0,
          0,
          0,
          0,
          0.001431415,
          0.002055556,
          0.006354585,
          0.025187933,
          0.037485109,
          0.099228942,
          0.147757576,
          0.305564638,
          4.999713678,
          8.030375356,
          11.99217733,
          14.54,
          17.08,
          27.4,
          46,
          50,
          54.2,
          73.00000137,
          75.00001564,
          77,
          0,
          0,
          0,
          0,
          0.000485951,
          0.002921254,
          0.029298294,
          0.049020891,
          0.073868897,
          0.494881245,
          1.860398126,
          4.300616022,
          8.950971315,
          16.2,
          19.7,
          23,
          27.43,
          31.8,
          39.64889566,
          46.91,
          54.17,
          59.02,
          62.23036091,
          0,
          0,
          0,
          0,
          0,
          0,
          0.015125563,
          0.059425563,
          0.14367106,
          0.1943742,
          1.08296075,
          1.200526951,
          2.648267914,
          3.965036834,
          15.46897162,
          21.326701,
          25.12238569,
          27.92,
          34.66,
          37.74,
          42.75,
          43.88768653,
          45.06450043,
          48.52131417,
          49.91773243,
          52.6,
          0,
          0,
          0,
          0,
          0,
          0.064521041,
          0.15745423,
          0.30774685,
          0.602400929,
          1.122391474,
          2.902666622,
          3.430886787,
          3.385922351,
          3.345190174,
          3.304889253,
          3.262554036,
          4.289932975,
          5.28,
          6.25,
          6.15,
          6,
          9,
          16,
          30,
          36.74474744,
          37.31205037,
          0,
          0.003288171,
          0.012946262,
          0.025498253,
          0.037672709,
          0.105138168,
          0.450789179,
          0.786079155,
          1.477874959,
          2.038732184,
          2.870685159,
          4.528494869,
          9.149425086,
          13.2075861,
          19.07367227,
          21.02274725,
          28.17838018,
          30.88,
          33.83,
          39.22,
          40.65,
          45.69,
          48.56,
          51.04,
          54.55100188,
          58.32795173,
          0,
          0,
          0,
          0.002339042,
          0.019526669,
          0.119665549,
          0.725251167,
          1.219813132,
          1.844965121,
          2.908154025,
          5.370923469,
          7.612297749,
          9.08,
          12.04,
          18.13,
          19.97,
          27.09,
          33.64,
          39.67,
          45,
          46.23,
          47.97999305,
          51.89998767,
          53.0615,
          55.49,
          56.65625161,
          0,
          0,
          0,
          0.00016868,
          0.001168115,
          0.00495471,
          0.013081692,
          0.032394861,
          0.168540297,
          0.708187957,
          1.775913207,
          2.639650215,
          4.595704331,
          6.2,
          7.3,
          8.523257003,
          10.52315262,
          16,
          22.6,
          28.9,
          34.3,
          38.3,
          42.30011749,
          45.8,
          47.9,
          50.3,
          0,
          0,
          0,
          0,
          0.107173945,
          0.18804679,
          0.330017773,
          0.550521023,
          1.126225245,
          1.697730794,
          2.207532993,
          2.854199971,
          4.6,
          7.388923711,
          9.118690303,
          11.00726389,
          15.34167454,
          21.8,
          25.6,
          30,
          36.5,
          40.35091575,
          48.98,
          51.7,
          52.57,
          55.90497251,
          0,
          0,
          0.001113325,
          0.081509754,
          0.279912479,
          0.416829206,
          0.84105704,
          1.640221288,
          2.666378698,
          3.904323257,
          5.800253023,
          9.559482135,
          19.89485113,
          20.33361481,
          20.79230671,
          22.07,
          25.1,
          28.4,
          32.29,
          34.33,
          36.5,
          39.212196,
          47.5,
          45.96,
          53,
          59.76295014,
          0,
          0,
          0,
          0,
          0,
          0.0000917,
          0.031949001,
          0.068220214,
          0.226699199,
          0.314690541,
          0.541182549,
          1.079751722,
          3.770585038,
          5.241269054,
          8.407984759,
          9.738062208,
          11.15960131,
          11.69,
          12.94,
          14.33,
          15.9,
          16.0172908,
          21.2,
          27.93,
          29.07018437,
          37.30509742,
          0,
          0,
          0,
          0,
          0,
          0.548762737,
          1.165518146,
          2.925345191,
          2.932164377,
          8.814844198,
          13.24522804,
          18.42489277,
          23.62041985,
          30.31961309,
          38.54364326,
          39.3981743,
          40.27446301,
          41.16,
          42.02,
          47.45,
          48.6,
          49.8,
          51,
          57.5,
          65,
          0,
          0,
          0,
          0,
          0,
          0.017233601,
          0.074987053,
          0.142687565,
          0.233914189,
          1.104743874,
          3.704692356,
          4.429390697,
          6.823725733,
          7.898392937,
          8.865553461,
          11.48319778,
          14.84492837,
          17.66,
          20.82,
          27.72,
          31.4,
          38,
          42.32,
          45.9,
          49.58,
          54.21576634,
          0,
          0,
          0.005118035,
          0.016400751,
          0.034833586,
          0.043833641,
          0.086161276,
          0.110217959,
          0.125272771,
          0.823371634,
          1.462188536,
          2.670443674,
          4.260796915,
          4.460228345,
          4.834442638,
          5.994255161,
          7.2,
          10.8,
          18.8,
          24.6,
          29.03,
          31.36680836,
          35.13514645,
          40.27912194,
          45.59039067,
          48.94043379,
          0,
          0,
          0,
          0,
          0,
          0,
          0.041462292,
          0.094423774,
          0.097415945,
          0.132354665,
          0.165260423,
          0.321197997,
          0.520524272,
          0.843930285,
          1.149789671,
          1.279193596,
          1.557123059,
          1.82,
          2.13,
          6,
          11.5,
          13.94318219,
          16.4,
          18.86,
          21.31999999,
          0,
          0,
          0,
          0.006678447,
          0.007907399,
          0.009115343,
          0.064437142,
          0.223454842,
          0.633167865,
          0.942462063,
          1.496854734,
          1.857978594,
          6.1526497,
          6.725434738,
          7.412943485,
          8.453636634,
          9.6000384,
          10.89783105,
          13,
          17,
          20,
          28,
          33.74235675,
          35.2,
          37.4,
          42.5,
          0,
          0,
          0,
          0,
          0,
          0,
          0,
          0.047999009,
          0.17012488,
          0.249009564,
          1.216140618,
          1.347620222,
          1.939530106,
          2.659586594,
          2.9790698,
          4.89326475,
          5.489200803,
          5.767004576,
          7.5,
          9.5,
          13,
          18,
          24,
          30.53803344,
          38.07120929,
          45.78453653,
          0,
          0,
          0,
          0,
          0,
          0.011836885,
          0.040065419,
          0.060930333,
          0.102830957,
          0.416343567,
          0.484746299,
          0.992344436,
          1.58787563,
          2.558816481,
          3.886221354,
          6.079457629,
          7.526876845,
          8.26,
          10.01,
          20.07,
          26.9,
          31.52,
          36.94,
          43.3,
          44,
          47.56975964,
          0,
          0,
          0,
          0,
          0,
          0,
          0.298032982,
          0.990883868,
          1.484854484,
          2.473166147,
          4.063907991,
          5.128103982,
          14.75884055,
          18.64518218,
          19.57062058,
          20.48780488,
          21.39599117,
          22.29,
          23.18,
          24.05,
          27,
          30,
          32,
          35,
          51.6,
          53.81,
          0,
          0,
          0,
          0,
          0,
          0.002998005,
          0.019534871,
          0.095476021,
          0.466590444,
          0.592652945,
          0.712332905,
          1.738201782,
          3.39174627,
          4.548854908,
          5.1,
          5.7,
          6.5,
          7.3,
          8.3,
          9.3,
          10.5,
          12.3,
          16,
          19.7,
          23.4,
          28.80594156,
          0,
          0,
          0,
          0,
          0,
          0,
          0.065854115,
          0.131828033,
          0.26408811,
          3.966354735,
          6.611491566,
          13.2069865,
          13.8,
          18.2,
          23.9,
          29.9,
          30,
          30.5,
          31,
          32,
          34,
          0,
          0,
          0,
          0,
          0,
          0,
          0.1,
          0.5,
          0.6,
          0.9,
          0.9,
          0.952344244,
          0.93,
          1,
          1.06,
          2.5,
          5,
          7.1,
          9.2,
          13.21,
          58,
          0,
          0,
          0,
          0,
          0.036817104,
          0.109487986,
          0.591145842,
          0.797797441,
          1.978726318,
          2.355688556,
          3.115778027,
          3.863020387,
          6.1,
          7.8,
          10,
          12.8,
          16.4,
          21.1,
          23.6,
          24.3,
          27.67,
          37.43861341,
          33.79,
          37.1,
          40.4027351,
          42.22122119,
          0,
          0,
          0,
          0,
          0,
          0.02323392,
          0.044938549,
          0.599341106,
          1.305888264,
          2.526965353,
          2.623275422,
          4.705719581,
          6.025532412,
          8.466005016,
          11.65874137,
          12.93285205,
          13.86710879,
          20,
          23,
          26,
          27.2,
          34.9,
          37,
          41.4,
          46.2,
          60.11438269,
          0,
          0,
          0,
          0,
          0.000521079,
          0.011302355,
          0.031824512,
          0.064596754,
          0.131069604,
          0.464277218,
          0.668594403,
          1.006124211,
          1.674770995,
          2.000414753,
          2.650394657,
          2.961707492,
          3.268369051,
          4.02,
          11,
          18.2,
          31.6,
          50.6,
          61.90662747,
          63.30422443,
          66,
          70.8299336,
          0,
          0,
          0,
          0,
          0,
          0.071617991,
          0.140166939,
          1.241079739,
          2.722352199,
          5.376809498,
          7.952743736,
          6.783219775,
          7,
          8,
          9,
          10.14,
          15,
          18.74,
          22.53,
          30.14,
          43.68,
          52,
          61.24978572,
          70.5,
          73,
          74,
          0,
          0,
          0,
          0,
          0,
          0,
          0.133617289,
          0.187042622,
          0.366533175,
          2.244418222,
          2.814517987,
          3.532838162,
          3.917787977,
          4.301051789,
          4.721999379,
          9,
          10.8,
          14,
          14,
          16.5,
          17.76,
          19.01607978,
          0,
          0,
          0.001047822,
          0.025538478,
          0.099607417,
          0.145673837,
          0.852044466,
          2.307393234,
          6.751770483,
          12.3055022,
          21.38473116,
          26.6959725,
          32.33820434,
          34.97115234,
          42.25226563,
          48.62917025,
          51.63798899,
          55.7,
          55.8,
          55.9,
          56.3,
          61,
          65.8,
          57.05751226,
          63.66542588,
          71.06406781,
          0,
          0,
          0,
          0,
          0,
          0,
          0.22693009,
          0.309444238,
          0.569627464,
          1.119908615,
          2.203872939,
          3.617290649,
          5.347765169,
          5.97659285,
          6.588254875,
          6.869605067,
          11.03635278,
          16.3,
          23.2,
          24.8,
          26.53,
          34,
          38.9301,
          44.1,
          49.28,
          54.46195515,
          0,
          0,
          0,
          0,
          0,
          0,
          0.037059432,
          0.966071567,
          1.534271796,
          1.706614078,
          2.335444575,
          2.569750367,
          3.599776814,
          3.878702398,
          3.795590214,
          3.95,
          4.6,
          5.6,
          7,
          10,
          12.5,
          14,
          16.8,
          19.2824418,
          0,
          0,
          0,
          0,
          0,
          0,
          0.183769158,
          0.475629193,
          2.565279962,
          4.652213227,
          7.281535115,
          8.780904019,
          10.25262467,
          12.1871062,
          13.68908859,
          15.17222875,
          16.7,
          20.22,
          21.81,
          22.51,
          28.33,
          34.95,
          35.42,
          40.11682514,
          44.80327537,
          50.13931848,
          0,
          0.005880695,
          0.01730781,
          0.028305042,
          0.043339167,
          0.10256419,
          0.20040628,
          0.62731154,
          1.265783278,
          1.857436221,
          5.081384153,
          7.038023117,
          11.9,
          12.9,
          14.1,
          17.21,
          19.52,
          20.81,
          21.71,
          26.34,
          31.05,
          37.17629541,
          39.75,
          43.46,
          44.39,
          57.43104299,
          25.3500686,
          27.1,
          28.9,
          30.8,
          32.9,
          35.1,
          37.5,
          35.61154125,
          56.83878255,
          60.31,
          61,
          68.11978601,
          0,
          0,
          0,
          0,
          0,
          0.006172051,
          0.009032145,
          0.058750679,
          0.286745093,
          0.336217708,
          1.644739547,
          2.416979442,
          2.633699769,
          3.359839886,
          3.804715615,
          4.010046644,
          4.398870647,
          4.835610778,
          5.329003772,
          6.5,
          11.6,
          12,
          12.9414,
          13.9,
          14.84,
          25.68785182,
          0,
          0,
          0,
          0,
          0,
          0.04074384,
          0.075995734,
          0.503985009,
          1.002861666,
          1.49733026,
          2.485566316,
          3.468184608,
          17.33,
          19.07,
          24.44,
          26.45,
          28.62,
          36.3,
          46.04,
          51.77,
          51.9,
          56.7,
          57.44994731,
          65.24,
          68.06,
          70.38020308,
          0,
          0,
          0,
          0,
          0.007636899,
          0.056123043,
          0.219998526,
          0.539065541,
          2.750648071,
          3.836864509,
          6.554796477,
          7.268399878,
          8.518077815,
          9.987424077,
          11.14086254,
          11.48400928,
          17.34956617,
          22.29,
          33.82,
          39.08,
          40.1,
          42.7,
          40.30189522,
          44.03,
          44.92,
          51.20542499,
          0,
          0,
          0,
          0,
          0,
          0,
          0.020359612,
          0.099576719,
          0.194904951,
          0.38165732,
          0.747630712,
          1.098793836,
          1.794969598,
          2.111942082,
          3.452438431,
          7.907007861,
          7.962073884,
          11.21,
          14.27,
          18.9,
          19.8,
          24.76351588,
          29.34,
          36.9,
          43,
          49.71630466,
          0,
          0,
          0,
          0,
          0.008504578,
          0.033412305,
          0.24623258,
          0.403429701,
          1.19038044,
          1.952497608,
          3.076430611,
          7.578762957,
          8.96694917,
          11.6,
          14.1,
          17.1,
          20.7,
          25.2,
          30.57,
          31.4,
          34.77,
          36.01,
          38.2,
          39.2,
          40.2,
          40.85260091,
          0,
          0,
          0,
          0.003703214,
          0.026300162,
          0.074952756,
          0.221622649,
          0.445444676,
          2.237649473,
          2.697580217,
          3.613717291,
          4.538669029,
          6.58,
          8.9,
          15,
          21.5,
          24.66,
          28.3,
          32.42,
          36.6,
          39.93,
          40.00999678,
          45.87999425,
          49.7645,
          54.08,
          55.76315563,
          0,
          0,
          0.000672532,
          0.013447238,
          0.053817493,
          0.148151042,
          0.26975293,
          0.472963763,
          0.812744451,
          1.018984614,
          1.977230109,
          2.944367787,
          4.128271818,
          8.298860616,
          12.8593889,
          15.2266732,
          18.02327746,
          24.66,
          26.83,
          29,
          43,
          49,
          63.8,
          67.97,
          70.52,
          70.09924123,
          0,
          0,
          0,
          0,
          0,
          0.305656686,
          0.670465974,
          0.992168483,
          1.304988973,
          1.932105802,
          5.090483341,
          8.181863954,
          14.64183577,
          20.98247346,
          21.39521236,
          21.56758295,
          24.5,
          27.9,
          30,
          31,
          32.5,
          34,
          34.82,
          36,
          39.7,
          42.53093047,
          0,
          0,
          0,
          0,
          0,
          0.128634622,
          0.483248317,
          0.926371957,
          1.853997683,
          2.7820023,
          3.245037411,
          5.094809778,
          5.54959488,
          6.462274167,
          7.371165842,
          9.198278082,
          12,
          16,
          21,
          31,
          33.7,
          36.7,
          40,
          43.5,
          47.4,
          17.13206652,
          23.5,
          26.3,
          27.2,
          33.15,
          35.6,
          38.1,
          40.9,
          42.2,
          48.1,
          53.45036418,
          62.07508046,
          65.3170254,
          0,
          0.013283591,
          0.038869106,
          0.113747184,
          0.246905533,
          0.676740104,
          0.841882931,
          1.632093791,
          2.906220867,
          4.116249583,
          5.348559732,
          6.346619318,
          6.710322437,
          7.007691726,
          8.425118683,
          7.48854253,
          7.607139675,
          8.065375174,
          8.43,
          10,
          24,
          33.97,
          41,
          46.5,
          49,
          51.91911572,
          0,
          0,
          0,
          0,
          0,
          0.114720735,
          0.226306297,
          1.003086936,
          1.670148436,
          1.891871357,
          2.506411052,
          3.064448389,
          4.161568745,
          4.719875395,
          6.076047814,
          6.403086288,
          9.499626942,
          14.11,
          21.06,
          31.36,
          31.59,
          32,
          34.6812,
          37.4,
          40.08,
          42.76382778,
          0,
          0.0000522,
          0.000343725,
          0.013580966,
          0.038614321,
          0.074825338,
          0.115472136,
          0.360522185,
          1.091218985,
          2.426242432,
          3.689041279,
          5.556326121,
          7.531250335,
          9.299027238,
          10.67730332,
          15.02600436,
          17.16071472,
          20.03,
          18.2,
          20.1,
          22.4,
          23.66992562,
          26.46,
          28.94,
          34.89,
          39.31612674,
          0,
          0,
          0,
          0,
          0,
          0.12323112,
          0.163793456,
          0.510866122,
          0.765134358,
          1.01796712,
          2.434398044,
          2.825371839,
          2.907297316,
          2.985817368,
          3.952373895,
          4.907782762,
          5.853944095,
          7.179865329,
          8.110769944,
          10,
          16,
          25,
          30,
          32.75396061,
          35.95444145,
          38.65127243,
          0,
          0,
          0,
          0,
          0,
          0,
          0.04502077,
          0.133282183,
          0.175209518,
          0.302132016,
          0.425182632,
          0.754053983,
          0.997256559,
          1.319573118,
          1.406360688,
          1.75,
          1.95,
          3,
          5,
          7.1958,
          9.6,
          12.2,
          14.99677482,
          0,
          0,
          0,
          0,
          0,
          0,
          5.241639585,
          10,
          15,
          20,
          25,
          30,
          35,
          37,
          39.2,
          42.7,
          59.6,
          62.4,
          65.4,
          68.55039112,
          72.24,
          70.96898082,
          74.29490687,
          77.7,
          79.9,
          85.5,
          64.34602977,
          64.74488433,
          68.24505226,
          66.54394969,
          76.51,
          78.2,
          79,
          79.79999549,
          81.09999907,
          84.59999573,
          59.82554766,
          63.41010138,
          64.78201069,
          67.94698094,
          70.16,
          60.25653543,
          64.89202051,
          70.12013504,
          69.94634763,
          73.21,
          71.11304576,
          74.43644541,
          79.12988669,
          82.78915209,
          85.09,
          60.87254007,
          67.47128452,
          70.43428254,
          73.91244005,
          81.34269353,
          39.36299738,
          41.41379464,
          58,
          61,
          64,
          53.2,
          54.3,
          59.2,
          64.10983774,
          70.40477542,
          58.13649357,
          62.25988032,
          64.12637682,
          65.00690072,
          69.79,
          65.88044919,
          71.58166462,
          73.47972844,
          81.20259644,
          80.53018608000001,
          42.97867519,
          57.14840432,
          62.67892362,
          67.97080866,
          74,
          67.03,
          69.61966879,
          63.87086474,
          67.57124533,
          74.82204836,
          75.8,
          76.9,
          54.06292473,
          55.8,
          57.5,
          61.6,
          64.6,
          49.42,
          65.78,
          68.9,
          48.05227375,
          50.32012015,
          59.6,
          61,
          62,
          58.45928961,
          59.7055046,
          62.7179082,
          68.84670565,
          72.53158402,
          23.7799999,
          26.239999,
          53.3,
          54.2,
          55.1,
          56,
          56.9,
          34.50932609,
          37.9,
          41.5,
          44.40104984,
          49.97,
          35.66,
          37.32583679,
          37.67,
          41.94,
          43.3,
          60,
          44.36685637,
          55.07206705,
          68.21451709,
          56.15,
          64.5,
          66.1,
          74.58772647,
          76.42674823,
          78.90391906,
          81.87762047,
          85.94259898,
          76.11,
          78.18077489,
          80.9,
          80.9,
          84.1,
          59.09258997,
          61.25,
          62.07,
          62.5,
          62.93,
          59.540446,
          63.85224909,
          65.77263448,
          70.06991047,
          71.96819405,
          29.78777936,
          38.70116262,
          72.15681447,
          74.51682418,
          79.16775519,
          81.41288276,
          81.40553811,
          69.88164684,
          71.27233254,
          71.51710049,
          73.47666575,
          77.60879306,
          52.19132594,
          55.4032403,
          58.5961697,
          61.72995515,
          64.88490358,
          78.78830993,
          80.14047901,
          81.20104862,
          84.18714501,
          89.55501192,
          31.03334594,
          36.83740647,
          40,
          40.5,
          41,
          54,
          59.9506309,
          61.80553132,
          63.62841477,
          64.25,
          45.46174069,
          50.45041218,
          55.05433424,
          59.95050106,
          65.25,
          53.40412748,
          61.07575622,
          64.99354302,
          68.51762842,
          73.95751114,
          59.50395129,
          63.74728218,
          70.68127793,
          73.65747575,
          78.45526741,
          73.09143462,
          76.00813853,
          80.86472187,
          82.64216156,
          84.99467026,
          67.05684137,
          70.33083553,
          73.36070915,
          77.41677362,
          78.36804077,
          45.4,
          48.94517397,
          53.8,
          68.75,
          70.06,
          47.50496562,
          52.89192934,
          56.81748093,
          66.65241946,
          77.84374066,
          17.99032446,
          21.25099741,
          39.95,
          41.24872764,
          31,
          35.2,
          54,
          56.16739447,
          62.4,
          68.2,
          70
         ],
         "xaxis": "x",
         "y": [
          1990,
          1991,
          1992,
          1993,
          1994,
          1995,
          1996,
          1997,
          1998,
          1999,
          2000,
          2001,
          2002,
          2003,
          2004,
          2005,
          2006,
          2007,
          2008,
          2009,
          2010,
          2011,
          2012,
          2013,
          2014,
          2015,
          1990,
          1991,
          1992,
          1993,
          1994,
          1995,
          1990,
          1991,
          1992,
          1993,
          1994,
          1995,
          1996,
          1997,
          1998,
          1999,
          2000,
          2001,
          2002,
          2003,
          2004,
          2005,
          2006,
          2007,
          2008,
          2009,
          2010,
          2011,
          2012,
          2013,
          2014,
          2015,
          1990,
          1991,
          1992,
          1993,
          1994,
          1995,
          1996,
          1997,
          1998,
          1999,
          2000,
          2001,
          2002,
          2003,
          2004,
          2005,
          2006,
          2007,
          2008,
          2009,
          2010,
          2011,
          2012,
          2013,
          2014,
          2015,
          1990,
          1991,
          1992,
          1993,
          1994,
          1995,
          1996,
          1997,
          1998,
          1999,
          2000,
          2001,
          2002,
          2005,
          2006,
          2007,
          2008,
          2009,
          2010,
          2011,
          2012,
          2013,
          2014,
          2015,
          1990,
          1991,
          1992,
          1993,
          1994,
          1995,
          1996,
          1997,
          1998,
          1999,
          2000,
          2001,
          2002,
          2006,
          2007,
          2008,
          2009,
          2010,
          2011,
          2012,
          2013,
          2014,
          2015,
          1990,
          1991,
          1992,
          1993,
          1994,
          1995,
          1996,
          1997,
          1998,
          1999,
          2000,
          2001,
          2002,
          2003,
          2004,
          2005,
          2006,
          2007,
          2008,
          2009,
          2010,
          2011,
          2012,
          2013,
          2014,
          2015,
          1990,
          1991,
          1992,
          1993,
          1994,
          1995,
          1996,
          1997,
          1998,
          1999,
          2000,
          2001,
          2002,
          2003,
          2004,
          2005,
          2006,
          2007,
          2008,
          2009,
          2010,
          2011,
          2012,
          2013,
          2014,
          2015,
          1990,
          1991,
          1992,
          1993,
          1994,
          1995,
          1996,
          1997,
          1998,
          1999,
          2000,
          2001,
          2002,
          2003,
          2004,
          2005,
          2006,
          2007,
          2008,
          2009,
          2010,
          2011,
          2012,
          2013,
          2014,
          2015,
          1990,
          1991,
          1992,
          1993,
          1994,
          1995,
          1996,
          1997,
          1998,
          1999,
          2000,
          2001,
          2002,
          2003,
          2004,
          2005,
          2006,
          2007,
          2008,
          2009,
          2010,
          2011,
          2012,
          2013,
          2014,
          2015,
          1990,
          1991,
          1992,
          1993,
          1994,
          1995,
          1996,
          1997,
          1998,
          1999,
          2000,
          2001,
          2002,
          2003,
          2004,
          2005,
          2006,
          2007,
          2008,
          2009,
          2010,
          2011,
          2012,
          2013,
          2014,
          2015,
          1990,
          1991,
          1992,
          1993,
          1994,
          1995,
          1996,
          1997,
          1998,
          1999,
          2000,
          2001,
          2002,
          2003,
          2004,
          2005,
          2006,
          2007,
          2008,
          2009,
          2010,
          2011,
          2012,
          2013,
          2014,
          2015,
          1990,
          1991,
          1992,
          1993,
          1994,
          1995,
          1996,
          1997,
          1998,
          1999,
          2000,
          2001,
          2002,
          2003,
          2004,
          2005,
          2006,
          2007,
          2008,
          2009,
          2010,
          2011,
          2012,
          2013,
          2014,
          2015,
          1990,
          1991,
          1992,
          1993,
          1994,
          1995,
          1996,
          1997,
          1998,
          1999,
          2000,
          2001,
          2002,
          2003,
          2004,
          2005,
          2006,
          2007,
          2008,
          2009,
          2010,
          2011,
          2012,
          2013,
          2014,
          2015,
          1990,
          1991,
          1992,
          1993,
          1994,
          1995,
          1996,
          1998,
          1999,
          2000,
          2001,
          2002,
          2003,
          2004,
          2005,
          2006,
          2007,
          2008,
          2009,
          2010,
          2011,
          2012,
          2013,
          2014,
          2015,
          1990,
          1991,
          1992,
          1993,
          1994,
          1995,
          1996,
          1997,
          1998,
          1999,
          2000,
          2001,
          2002,
          2003,
          2004,
          2005,
          2006,
          2007,
          2008,
          2009,
          2010,
          2011,
          2012,
          2013,
          2014,
          2015,
          1990,
          1991,
          1992,
          1993,
          1994,
          1995,
          1996,
          1997,
          1998,
          1999,
          2000,
          2001,
          2002,
          2003,
          2004,
          2005,
          2006,
          2007,
          2008,
          2009,
          2010,
          2011,
          2012,
          2013,
          2014,
          2015,
          1990,
          1991,
          1992,
          1993,
          1994,
          1995,
          1997,
          1998,
          1999,
          2000,
          2001,
          2002,
          2003,
          2004,
          2005,
          2006,
          2007,
          2008,
          2009,
          2010,
          2011,
          2012,
          2013,
          2014,
          2015,
          1990,
          1991,
          1992,
          1993,
          1994,
          1995,
          1996,
          1997,
          1998,
          1999,
          2000,
          2001,
          2002,
          2003,
          2004,
          2005,
          2006,
          2007,
          2008,
          2009,
          2010,
          2011,
          2012,
          2013,
          2014,
          2015,
          1990,
          1991,
          1992,
          1993,
          1994,
          1995,
          1996,
          1997,
          1998,
          1999,
          2000,
          2001,
          2002,
          2003,
          2004,
          2005,
          2006,
          2007,
          2008,
          2009,
          2010,
          2011,
          2012,
          2013,
          2014,
          2015,
          1990,
          1991,
          1992,
          1993,
          1994,
          1995,
          1996,
          1997,
          1998,
          1999,
          2000,
          2001,
          2002,
          2003,
          2004,
          2005,
          2006,
          2007,
          2008,
          2009,
          2010,
          2011,
          2012,
          2013,
          2014,
          2015,
          1990,
          1991,
          1992,
          1993,
          1994,
          1995,
          1996,
          1997,
          1998,
          1999,
          2000,
          2001,
          2002,
          2003,
          2004,
          2005,
          2006,
          2007,
          2008,
          2009,
          2010,
          2011,
          2012,
          2013,
          2014,
          2015,
          1990,
          1991,
          1992,
          1993,
          1994,
          1995,
          1996,
          1997,
          1998,
          1999,
          2000,
          2001,
          2002,
          2003,
          2004,
          2005,
          2006,
          2007,
          2008,
          2009,
          2010,
          2011,
          2012,
          2013,
          2014,
          2015,
          1990,
          1991,
          1992,
          1993,
          1994,
          1995,
          1996,
          1997,
          1998,
          1999,
          2000,
          2001,
          2007,
          2008,
          2009,
          2010,
          2011,
          2012,
          2013,
          2014,
          2015,
          1990,
          1991,
          1992,
          1993,
          1994,
          1995,
          2001,
          2002,
          2003,
          2004,
          2005,
          2006,
          2007,
          2008,
          2009,
          2010,
          2011,
          2012,
          2013,
          2014,
          2015,
          1990,
          1991,
          1992,
          1993,
          1994,
          1995,
          1996,
          1997,
          1998,
          1999,
          2000,
          2001,
          2002,
          2003,
          2004,
          2005,
          2006,
          2007,
          2008,
          2009,
          2010,
          2011,
          2012,
          2013,
          2014,
          2015,
          1990,
          1991,
          1992,
          1993,
          1994,
          1995,
          1996,
          1997,
          1998,
          1999,
          2000,
          2001,
          2002,
          2003,
          2004,
          2005,
          2006,
          2007,
          2008,
          2009,
          2010,
          2011,
          2012,
          2013,
          2014,
          2015,
          1990,
          1991,
          1992,
          1993,
          1994,
          1995,
          1996,
          1997,
          1998,
          1999,
          2000,
          2001,
          2002,
          2003,
          2004,
          2005,
          2006,
          2007,
          2008,
          2009,
          2010,
          2011,
          2012,
          2013,
          2014,
          2015,
          1990,
          1991,
          1992,
          1993,
          1994,
          1995,
          1996,
          1997,
          1998,
          1999,
          2000,
          2001,
          2002,
          2003,
          2004,
          2005,
          2006,
          2007,
          2008,
          2009,
          2010,
          2011,
          2012,
          2013,
          2014,
          2015,
          1990,
          1991,
          1992,
          1993,
          1994,
          1995,
          1999,
          2000,
          2001,
          2002,
          2003,
          2004,
          2005,
          2006,
          2007,
          2008,
          2009,
          2010,
          2011,
          2013,
          2014,
          2015,
          1990,
          1991,
          1992,
          1993,
          1994,
          1995,
          1996,
          1997,
          1998,
          1999,
          2000,
          2001,
          2002,
          2003,
          2004,
          2005,
          2006,
          2007,
          2008,
          2009,
          2010,
          2011,
          2012,
          2013,
          2014,
          2015,
          1990,
          1991,
          1992,
          1993,
          1994,
          1995,
          1996,
          1997,
          1998,
          1999,
          2000,
          2001,
          2002,
          2003,
          2004,
          2005,
          2006,
          2007,
          2008,
          2009,
          2010,
          2011,
          2012,
          2013,
          2014,
          2015,
          1990,
          1991,
          1992,
          1993,
          1994,
          1995,
          1996,
          1999,
          2000,
          2001,
          2002,
          2003,
          2004,
          2005,
          2006,
          2007,
          2008,
          2009,
          2010,
          2011,
          2012,
          2013,
          2014,
          2015,
          1990,
          1991,
          1992,
          1993,
          1994,
          1995,
          1996,
          1997,
          1998,
          1999,
          2000,
          2001,
          2002,
          2003,
          2004,
          2005,
          2006,
          2007,
          2008,
          2009,
          2010,
          2011,
          2012,
          2013,
          2014,
          2015,
          1990,
          1991,
          1992,
          1993,
          1994,
          1995,
          1996,
          1997,
          1998,
          1999,
          2000,
          2001,
          2002,
          2003,
          2004,
          2005,
          2006,
          2007,
          2008,
          2009,
          2010,
          2011,
          2012,
          2013,
          2014,
          2015,
          2004,
          2005,
          2006,
          2007,
          2008,
          2009,
          2010,
          2011,
          2012,
          2013,
          2014,
          2015,
          1990,
          1991,
          1992,
          1993,
          1994,
          1995,
          1996,
          1997,
          1998,
          1999,
          2000,
          2001,
          2002,
          2003,
          2004,
          2005,
          2006,
          2007,
          2008,
          2009,
          2010,
          2011,
          2012,
          2013,
          2014,
          2015,
          1990,
          1991,
          1992,
          1993,
          1994,
          1995,
          1996,
          1997,
          1998,
          1999,
          2000,
          2001,
          2002,
          2003,
          2004,
          2005,
          2006,
          2007,
          2008,
          2009,
          2010,
          2011,
          2012,
          2013,
          2014,
          2015,
          1990,
          1991,
          1992,
          1993,
          1994,
          1995,
          1996,
          1997,
          1998,
          1999,
          2000,
          2001,
          2002,
          2003,
          2004,
          2005,
          2006,
          2007,
          2008,
          2009,
          2010,
          2011,
          2012,
          2013,
          2014,
          2015,
          1990,
          1991,
          1992,
          1993,
          1994,
          1995,
          1996,
          1997,
          1998,
          1999,
          2000,
          2001,
          2002,
          2003,
          2004,
          2005,
          2006,
          2007,
          2008,
          2009,
          2010,
          2011,
          2012,
          2013,
          2014,
          2015,
          1990,
          1991,
          1992,
          1993,
          1994,
          1995,
          1996,
          1997,
          1998,
          1999,
          2000,
          2001,
          2002,
          2003,
          2004,
          2005,
          2006,
          2007,
          2008,
          2009,
          2010,
          2011,
          2012,
          2013,
          2014,
          2015,
          1990,
          1991,
          1992,
          1993,
          1994,
          1995,
          1996,
          1997,
          1998,
          1999,
          2000,
          2001,
          2002,
          2003,
          2004,
          2005,
          2006,
          2007,
          2008,
          2009,
          2010,
          2011,
          2012,
          2013,
          2014,
          2015,
          1990,
          1991,
          1992,
          1993,
          1994,
          1995,
          1996,
          1997,
          1998,
          1999,
          2000,
          2001,
          2002,
          2003,
          2004,
          2005,
          2006,
          2007,
          2008,
          2009,
          2010,
          2011,
          2012,
          2013,
          2014,
          2015,
          1990,
          1991,
          1992,
          1993,
          1994,
          1995,
          1996,
          1997,
          1998,
          1999,
          2000,
          2001,
          2002,
          2003,
          2004,
          2005,
          2006,
          2007,
          2008,
          2009,
          2010,
          2011,
          2012,
          2013,
          2014,
          2015,
          1990,
          1991,
          1992,
          1993,
          1994,
          1995,
          1996,
          1997,
          1998,
          1999,
          2000,
          2001,
          2002,
          2003,
          2004,
          2005,
          2006,
          2007,
          2008,
          2009,
          2010,
          2011,
          2012,
          2013,
          2014,
          2015,
          2004,
          2005,
          2006,
          2007,
          2008,
          2009,
          2010,
          2011,
          2012,
          2013,
          2014,
          2015,
          1990,
          1991,
          1992,
          1993,
          1994,
          1995,
          1996,
          1997,
          1998,
          1999,
          2000,
          2001,
          2002,
          2003,
          2004,
          2005,
          2006,
          2007,
          2008,
          2009,
          2010,
          2011,
          2012,
          2013,
          2014,
          2015,
          1990,
          1991,
          1992,
          1993,
          1994,
          1995,
          1996,
          1997,
          1998,
          1999,
          2000,
          2001,
          2002,
          2003,
          2004,
          2005,
          2006,
          2007,
          2008,
          2009,
          2010,
          2011,
          2012,
          2013,
          2014,
          2015,
          1990,
          1991,
          1992,
          1993,
          1994,
          1995,
          1996,
          1997,
          1998,
          1999,
          2000,
          2001,
          2002,
          2003,
          2004,
          2005,
          2006,
          2007,
          2008,
          2009,
          2010,
          2011,
          2012,
          2013,
          2014,
          2015,
          1990,
          1991,
          1992,
          1993,
          1994,
          1995,
          1996,
          1997,
          1998,
          1999,
          2000,
          2001,
          2002,
          2003,
          2004,
          2005,
          2006,
          2007,
          2008,
          2009,
          2010,
          2011,
          2012,
          2013,
          2014,
          2015,
          1990,
          1991,
          1992,
          1993,
          1994,
          1995,
          1999,
          2000,
          2001,
          2002,
          2003,
          2004,
          2005,
          2006,
          2007,
          2008,
          2009,
          2010,
          2011,
          2012,
          2013,
          2014,
          2015,
          1990,
          1991,
          1992,
          1993,
          1994,
          1995,
          2000,
          2007,
          2008,
          2009,
          2010,
          2011,
          2012,
          2013,
          2014,
          2015,
          2016,
          2017,
          2018,
          2019,
          2020,
          2016,
          2017,
          2018,
          2019,
          2020,
          2016,
          2017,
          2018,
          2019,
          2020,
          2016,
          2017,
          2018,
          2019,
          2020,
          2016,
          2017,
          2018,
          2019,
          2020,
          2016,
          2017,
          2018,
          2019,
          2020,
          2016,
          2017,
          2018,
          2019,
          2020,
          2016,
          2017,
          2018,
          2019,
          2020,
          2016,
          2017,
          2018,
          2019,
          2020,
          2016,
          2017,
          2018,
          2019,
          2020,
          2016,
          2017,
          2018,
          2019,
          2020,
          2016,
          2017,
          2018,
          2019,
          2020,
          2016,
          2017,
          2018,
          2019,
          2020,
          2016,
          2017,
          2016,
          2017,
          2018,
          2019,
          2020,
          2016,
          2017,
          2018,
          2019,
          2020,
          2016,
          2017,
          2018,
          2016,
          2017,
          2018,
          2019,
          2020,
          2016,
          2017,
          2018,
          2019,
          2020,
          2016,
          2017,
          2016,
          2017,
          2018,
          2019,
          2020,
          2016,
          2017,
          2018,
          2019,
          2020,
          2016,
          2017,
          2016,
          2017,
          2018,
          2019,
          2016,
          2017,
          2018,
          2016,
          2017,
          2018,
          2016,
          2017,
          2018,
          2019,
          2020,
          2016,
          2017,
          2018,
          2019,
          2020,
          2016,
          2017,
          2018,
          2019,
          2020,
          2016,
          2017,
          2018,
          2019,
          2020,
          2016,
          2017,
          2016,
          2017,
          2018,
          2019,
          2020,
          2016,
          2017,
          2018,
          2019,
          2020,
          2016,
          2017,
          2018,
          2019,
          2020,
          2016,
          2017,
          2018,
          2019,
          2020,
          2016,
          2017,
          2018,
          2019,
          2020,
          2016,
          2017,
          2018,
          2019,
          2020,
          2016,
          2017,
          2018,
          2019,
          2020,
          2016,
          2017,
          2018,
          2019,
          2020,
          2016,
          2017,
          2018,
          2019,
          2020,
          2016,
          2017,
          2018,
          2019,
          2020,
          2016,
          2017,
          2018,
          2019,
          2020,
          2016,
          2017,
          2018,
          2019,
          2020,
          2016,
          2017,
          2018,
          2019,
          2020,
          2016,
          2017,
          2016,
          2017,
          2016,
          2017,
          2016,
          2017,
          2018,
          2019,
          2020
         ],
         "yaxis": "y"
        },
        {
         "hovertemplate": "Grupo de Ingresos=Ingreso mediano bajo<br>Internet users (%)=%{x}<br>Year=%{y}<extra></extra>",
         "legendgroup": "Ingreso mediano bajo",
         "marker": {
          "color": "rgb(214,96,77)",
          "symbol": "circle"
         },
         "mode": "markers",
         "name": "Ingreso mediano bajo",
         "showlegend": true,
         "type": "scattergl",
         "x": [
          0,
          0,
          0,
          0,
          0.000360674,
          0.001768954,
          0.001738533,
          0.010268463,
          0.020238555,
          0.199523843,
          0.491705679,
          0.646114017,
          1.59164126,
          2.195359731,
          4.634475088,
          5.843942092,
          7.375984956,
          9.451190626,
          10.18,
          11.23,
          12.5,
          14.9,
          18.2,
          22.5,
          29.5,
          38.2,
          0,
          0,
          0,
          0,
          0,
          0,
          0.000775929,
          0.005673746,
          0.018453724,
          0.071964087,
          0.105045562,
          0.136013867,
          0.270376746,
          0.370682065,
          0.464814618,
          1.143366827,
          1.5,
          1.7,
          1.9,
          2.3,
          2.8,
          3.1,
          6.5,
          8.9,
          21.4,
          12.4,
          0,
          0,
          0,
          0,
          0,
          0,
          0.000751046,
          0.003684813,
          0.036170407,
          0.071039423,
          0.129807974,
          0.139920289,
          0.163877665,
          0.199036334,
          0.241637326,
          1,
          1.8,
          2.5,
          3.1,
          3.7,
          4.5,
          5,
          6.63,
          13.9,
          14.4,
          0,
          0,
          0,
          0,
          0,
          0.04539718,
          0.882807327,
          1.288582302,
          2.091516391,
          4.076740564,
          5.963835303,
          5.684251214,
          9.8,
          17,
          24,
          24.6,
          26.3,
          27.2,
          28.2,
          30.7,
          31,
          33.6,
          38.7,
          41.59,
          0,
          0,
          0,
          0,
          0,
          0,
          0.0016931,
          0.024648796,
          0.047877304,
          0.154906741,
          0.225247851,
          0.36341789,
          0.702945595,
          0.951327115,
          1.182540965,
          1.271031439,
          1.537854346,
          1.79,
          1.85,
          2.24,
          3.13,
          4.148323066,
          4.5,
          4.9,
          6,
          11.25498791,
          0,
          0,
          0,
          0,
          0,
          0,
          0.137571514,
          0.400944447,
          0.864628564,
          1.675802584,
          2.436912399,
          3.156984196,
          3.847106745,
          4.518317258,
          5.92,
          6.55,
          7.17,
          13.6,
          14.4,
          15.6,
          22.4,
          30.3,
          39.8,
          0,
          0,
          0,
          0,
          0,
          0,
          0.005844911,
          0.016324986,
          0.031969578,
          0.04702264,
          0.076956056,
          0.226983238,
          0.260570198,
          0.300436644,
          0.317321781,
          0.46835672,
          0.49,
          0.51,
          0.53,
          1.26,
          3.1,
          4.94,
          6.8,
          14,
          6.43319107,
          0,
          0,
          0,
          0,
          0,
          0,
          0.006768744,
          0.013216341,
          0.129067581,
          0.252120078,
          0.277051322,
          0.360871584,
          0.587622611,
          0.976075415,
          1.402654226,
          2.028744791,
          2.93,
          3.4,
          3.84,
          4.3,
          5,
          7.5,
          10,
          16.21487223,
          20.68014766,
          0,
          0,
          0,
          0,
          0,
          0,
          0,
          0.03787097,
          0.148162964,
          0.271740607,
          0.443068373,
          0.554869675,
          0.84818937,
          1.327327178,
          2,
          2.2,
          2.5,
          3,
          3.5,
          5.1,
          5.5,
          5.975296308,
          6.5,
          6.98,
          7.459161386,
          0,
          0,
          0,
          0,
          0,
          0,
          0.00352686,
          0.003469104,
          0.003415143,
          0.016791049,
          0.026354732,
          0.032223616,
          0.157249517,
          0.460014187,
          1.07750493,
          1.46342006,
          2.007990079,
          2.759704374,
          4.287509903,
          4.5,
          5,
          5.6,
          6.106695024,
          6.6,
          7.11,
          7.615974662,
          0,
          0,
          0,
          0,
          0,
          0.01603083,
          0.031166241,
          0.082941498,
          0.094696004,
          0.105761909,
          0.194500528,
          0.343526263,
          0.486971705,
          0.625940229,
          0.781317175,
          0.953611449,
          1.270041159,
          1.62,
          2.26,
          4,
          6.5,
          7,
          8.267232892,
          9.5,
          10.71,
          11.92243143,
          0,
          0,
          0,
          0.000975791,
          0.00638327,
          0.031319638,
          0.061466899,
          0.090480245,
          0.147987377,
          0.290445278,
          0.641265038,
          0.838945611,
          2.719999715,
          4.037885107,
          11.92,
          12.75,
          13.66,
          16.03,
          18.01,
          20,
          21.6,
          25.6,
          26.4,
          29.4,
          33.89460391,
          37.81938343,
          0,
          0,
          0,
          0,
          0,
          0,
          0.086389581,
          0.256960679,
          0.425253672,
          0.845428741,
          1.177397269,
          1.5,
          1.9,
          2.5,
          3.2,
          4.2,
          5.5,
          6.11,
          10.08,
          12.11,
          15.9,
          18.9,
          20.32138772,
          23.1093,
          24.76171215,
          26.80260496,
          0,
          0,
          0,
          0,
          0,
          0.00103175,
          0.050399009,
          0.088545986,
          0.096099605,
          0.4707176,
          0.926191777,
          1.28159005,
          1.816203807,
          2.437073851,
          3.228685073,
          3.696961073,
          3.696538789,
          4.1,
          6.85,
          8.94,
          11.04,
          18.13,
          20.78178258,
          24.7,
          26.17500573,
          25.64304231,
          0,
          0,
          0,
          0,
          0,
          0.000347918,
          0.005648763,
          0.027537542,
          0.032240443,
          0.104895466,
          0.153615298,
          0.20000806,
          0.830284034,
          1.193057911,
          1.716797704,
          1.831197461,
          2.723175973,
          3.85,
          4.27,
          5.44,
          7.8,
          9,
          10.6,
          15,
          25.51773743,
          25,
          0,
          0,
          0,
          0,
          0,
          0,
          0.007484253,
          0.023999477,
          0.070658478,
          0.231270715,
          0.340832326,
          0.893432988,
          1.647358346,
          5.401261908,
          6.376201635,
          6.796000481,
          7.2,
          7.6,
          8.1,
          8.37,
          9,
          9.8,
          10.6,
          11.4,
          12.1977,
          0,
          0,
          0,
          0,
          0,
          0.036775252,
          0.043711246,
          0.170996468,
          0.301247214,
          0.573575476,
          1.203855999,
          1.415281931,
          2.597402597,
          4.8,
          5.6,
          6.5,
          7.8,
          9.4,
          9.6,
          9.8,
          11.09,
          15.9,
          18.12,
          17.8,
          19.08,
          27.1,
          0,
          0,
          0.000111308,
          0.000218176,
          0.001069562,
          0.026228879,
          0.046333977,
          0.070767849,
          0.139027329,
          0.273224277,
          0.52753245,
          0.660146377,
          1.537875582,
          1.686489971,
          1.976136492,
          2.388075,
          2.805499865,
          3.95,
          4.38,
          5.12,
          7.5,
          10.07,
          12.58006091,
          15.1,
          21,
          17,
          0,
          0,
          0,
          0,
          0.001059744,
          0.026109477,
          0.056623989,
          0.194910264,
          0.255306646,
          0.444415936,
          0.925563864,
          2.018613859,
          2.134135733,
          2.38701978,
          2.600285876,
          3.602024763,
          4.764813134,
          5.786274729,
          7.917479385,
          6.92,
          10.92,
          12.28,
          14.52,
          14.94,
          17.14,
          22.0627426,
          0,
          0,
          0,
          0,
          0,
          0.000727482,
          0.008839115,
          0.034406051,
          0.050261388,
          0.114256028,
          0.318059714,
          0.619782266,
          1.207773885,
          2.941902861,
          3.023528042,
          3.101897702,
          3.6,
          4.4,
          5.2,
          6.1,
          7.2,
          8.8,
          10.5,
          13,
          16.5,
          16.58785485,
          0,
          0,
          0,
          0,
          0,
          0,
          0.616545618,
          1.211577838,
          1.785225474,
          2.337458948,
          2.5,
          3,
          3.5,
          4,
          4.5,
          6,
          7,
          8.97,
          9.07,
          10,
          10.74679768,
          11.5,
          12.25,
          12.99748389,
          0,
          0,
          0,
          0,
          0,
          0,
          0.072808334,
          0.20471135,
          1.041401145,
          3.002941327,
          2.99926518,
          3.908766268,
          5.090385307,
          10.53380134,
          12.306907,
          14.03,
          15.7,
          16,
          16.3,
          17.5,
          19.8,
          23,
          28.3,
          30.24704278,
          0,
          0,
          0,
          0,
          0,
          0,
          0.00284594,
          0.005584433,
          0.010956533,
          0.05380446,
          0.21180607,
          0.261150063,
          1.083943137,
          1.53249659,
          2.175524339,
          2.580245484,
          2.979708187,
          3.44543126,
          3.58,
          3.72,
          3.86,
          7,
          10,
          15,
          22,
          25,
          0,
          0,
          0,
          0,
          0,
          0,
          0.004172527,
          0.040594795,
          0.118464464,
          0.192031462,
          0.261448552,
          0.363229415,
          0.424004896,
          0.481470438,
          0.669966475,
          0.979661253,
          1.433613196,
          1.87,
          2.28,
          4,
          4.5,
          5,
          6.2,
          10.7,
          15.19912669,
          0,
          0,
          0,
          0,
          0,
          0.008811225,
          0.018160749,
          0.112742554,
          0.145810542,
          0.50847156,
          1.255652004,
          1.653238239,
          2.039572603,
          9,
          9.8,
          10,
          10.2,
          12.49999111,
          16.4,
          17.69998424,
          19.94244743,
          22.50000413,
          0,
          0,
          0,
          0,
          0,
          0.003710492,
          0.005675444,
          0.021635203,
          0.142300767,
          0.175595345,
          0.693791245,
          1.371438101,
          2.373253192,
          3.353366681,
          11.60793477,
          15.08444452,
          19.77119157,
          21.5,
          33.1,
          41.3,
          52,
          46.1074826,
          55.41605319,
          56,
          56.8,
          57.07999935,
          0,
          0,
          0,
          0,
          0,
          0,
          0.000151709,
          0.000289277,
          0.000426494,
          0.024064149,
          0.024337392,
          0.065238856,
          0.182048331,
          0.217128445,
          0.22,
          0.22,
          0.25,
          0.98,
          4,
          8,
          11.52,
          21.72583401,
          0,
          0,
          0,
          0,
          0,
          0.000924878,
          0.004510473,
          0.021998858,
          0.064393596,
          0.146668869,
          0.204651684,
          0.240015303,
          0.31295606,
          0.382810917,
          0.449843651,
          0.826551266,
          1.141389164,
          1.41,
          1.73,
          1.97,
          7.93,
          9,
          11.1493,
          13.3,
          15.44,
          17.58161801,
          0,
          0,
          0,
          0,
          0.013166228,
          0.030046478,
          0.084093291,
          0.206216818,
          0.303808975,
          0.497901643,
          0.980216487,
          1.448799428,
          1.714729584,
          1.880412532,
          2.320664609,
          2.566351177,
          2.805573063,
          3.9,
          5.3,
          7.3,
          10,
          10.6,
          13.5,
          15.5,
          17.6,
          19.7042915,
          0,
          0,
          0,
          0,
          0,
          0,
          0.00883298,
          0.017237401,
          0.025231461,
          0.041038723,
          0.064080808,
          0.08990137,
          0.320461976,
          0.558576245,
          1.286137641,
          3.549155718,
          5.545036083,
          6.77,
          8,
          9.3,
          11.5,
          13.8,
          16.1,
          19.1,
          21,
          36,
          0,
          0,
          0,
          0,
          0,
          0.000122702,
          0.00299173,
          0.027549238,
          0.043947719,
          0.055357238,
          1.318550779,
          2.577426737,
          5.041158126,
          6.164320985,
          6.332329098,
          6.5,
          6.8,
          7,
          7.5,
          8,
          9,
          9.96,
          10.9,
          12,
          14,
          0,
          0,
          0,
          0,
          0,
          0,
          0.002067023,
          0.100588321,
          0.234958542,
          0.667113315,
          0.835249302,
          0.904103545,
          1.321656935,
          1.374404668,
          1.507912772,
          1.716190476,
          1.754487261,
          1.790559361,
          1.15,
          1.61,
          1.28,
          2,
          3.5,
          5.1,
          6.5,
          7.9,
          0,
          0,
          0,
          0,
          0.005844253,
          0.028585702,
          0.055946029,
          0.136912963,
          1.103405994,
          1.431608803,
          1.982253196,
          2.52400566,
          4.332275746,
          4.857672267,
          5.243628452,
          5.397636329,
          5.740586325,
          5.97,
          6.22,
          9,
          25,
          29,
          36.2351,
          48.09902359,
          49.6,
          36,
          0,
          0,
          0,
          0,
          0,
          0,
          0.174571863,
          0.230359015,
          0.285308333,
          0.566392533,
          1.689902831,
          2.244832676,
          2.799630449,
          3.07552941,
          3.352592112,
          4.469173873,
          4.749983235,
          5.031615316,
          6,
          7,
          11,
          12.92249,
          15.3,
          21.2,
          25.40700977,
          0,
          0,
          0,
          0,
          0,
          0,
          0.295847047,
          0.363203161,
          4.638516816,
          6.310917888,
          7.580665169,
          10.16184431,
          13.32285269,
          13.75948422,
          14.18201978,
          14.5904832,
          15.48,
          16.41,
          18.75,
          20.1612,
          21.5724,
          23,
          24.41,
          25.82,
          0,
          0,
          0,
          0,
          0,
          0.000692848,
          0.011238219,
          0.027347441,
          0.079871379,
          0.311090952,
          0.403967486,
          0.983794059,
          1.006454537,
          2.10143643,
          4.38602398,
          4.786684083,
          5.611738652,
          6.89,
          7.12,
          7.5,
          8,
          9.8,
          10.8,
          13.1,
          17.7,
          27,
          0,
          0,
          0,
          0,
          0,
          0.02487191,
          0.268683585,
          0.391923246,
          0.508292797,
          0.494541498,
          0.481296806,
          0.468551964,
          0.501919843,
          0.555609882,
          0.649672673,
          0.844307573,
          1.646347989,
          2,
          3,
          4,
          5,
          6,
          6.9974,
          8,
          9,
          10.00046498,
          0,
          0,
          0,
          0,
          0.002765448,
          0.005484436,
          0.054464499,
          0.162464548,
          0.296351104,
          0.348414425,
          0.647410011,
          0.793821864,
          1.050422706,
          1.458580228,
          1.44615998,
          1.792046794,
          2.537566129,
          3.88,
          5.8,
          8.78,
          12,
          15,
          18.2854,
          21.9,
          25.8,
          12.1,
          0,
          0,
          0,
          0,
          0,
          0,
          0.032791858,
          0.048599595,
          0.051259133,
          0.055462827,
          0.064583777,
          0.077479907,
          0.298690024,
          3.772406207,
          7.197619518,
          8.78,
          10.07,
          11.55,
          13.03,
          14.51,
          16,
          17.49,
          18.98,
          0,
          0,
          0,
          0,
          0.007379544,
          0.011191954,
          0.027615372,
          0.043656974,
          0.107940957,
          1.602494764,
          2.750740293,
          4.297966035,
          5.252887295,
          6.490845795,
          8.528817752,
          9.655086542,
          12.98640865,
          17.1,
          27.53,
          34.07,
          36.8,
          39.1,
          41.4416,
          43.8,
          46.16,
          46.49999434,
          0,
          0,
          0,
          0.00077697,
          0.013641246,
          0.043083985,
          0.098580381,
          0.198821885,
          0.301075792,
          0.405385448,
          0.716183762,
          1.238759547,
          1.873885116,
          3.148127588,
          3.489477881,
          3.749764415,
          4.506124564,
          6.55,
          11,
          17.9,
          23.3,
          28.70826284,
          35.27,
          40.954129,
          46.23597546,
          48.88464368,
          0,
          0,
          0,
          0,
          0,
          0.001527093,
          0.004285074,
          0.010536935,
          0.020754437,
          0.030688343,
          0.484347308,
          0.597567994,
          1.081939742,
          1.912595178,
          2.593725421,
          3.343509888,
          6.388321967,
          7.490604681,
          9.080114523,
          11.9,
          15.9,
          18.6,
          23.6,
          26.8,
          35.5,
          42.8,
          0,
          0,
          0,
          0,
          0,
          0,
          0.056845636,
          0.139505815,
          0.274185942,
          0.538300048,
          2.108336891,
          2.830572239,
          3.510038711,
          3.903295845,
          4.746602619,
          5.082333808,
          5.850585059,
          6.8,
          7.269119923,
          7.5,
          8,
          9.2,
          10.598,
          11.3,
          18.8,
          22.35140458,
          0,
          0,
          0,
          0,
          0.006776105,
          0.008783623,
          0.009069176,
          0.009329658,
          0.030226183,
          0.147053172,
          0.191071643,
          0.233129556,
          0.477750907,
          0.980483039,
          2.013549532,
          2.851752261,
          4.159913394,
          4.87,
          5.55,
          6.31,
          10,
          11.5,
          13.4682,
          15.4,
          19,
          21,
          0,
          0,
          0,
          0,
          0.00173928,
          0.00768354,
          0.016790484,
          0.033080327,
          0.081648476,
          0.161675528,
          0.401433535,
          0.799846046,
          1.1,
          1.8,
          2.1,
          2.4,
          2.4,
          3,
          3.5,
          4,
          6.4,
          8.4,
          12,
          15.5,
          16.36473996,
          22.7428181,
          23.2,
          26,
          29,
          32.4,
          36,
          14.5,
          18.7,
          19,
          22.4,
          25.8,
          18.1,
          19.8,
          21.8,
          23.8,
          24.8,
          44.57574032,
          47.0826258,
          49.8,
          50.8,
          41.77264453,
          46.2,
          49.5,
          53.5,
          53.5,
          20.6,
          23.20297197,
          29.7,
          33.5,
          37.8,
          7.938322771,
          8.478170295,
          50.32281787,
          57.16214635,
          59.5,
          61.94339776,
          64.5,
          30.8,
          55.68140925,
          58,
          59,
          59,
          42.94552688,
          47.69105515,
          49.03846808,
          57.9,
          62.9,
          28,
          37.88415262,
          43,
          53,
          58,
          29.5,
          31.7,
          36,
          39.38835219,
          42.05,
          22.8,
          27.2,
          32.47362713,
          33.3,
          34.5,
          25.4473537,
          32.33580625,
          39.90463864,
          47.69064898,
          53.72649449,
          16.5,
          18.2,
          20.08130004,
          29.4,
          43,
          16.6,
          17.82710021,
          19.5,
          22.56511937,
          29.5,
          32.39845171,
          32.90027854,
          18.7,
          23.4,
          29.4,
          36.9,
          38,
          15.1,
          21.3,
          26,
          29,
          35,
          32.45385695,
          39,
          40.8,
          42.30173357,
          43,
          58.27123642,
          61.76221201,
          64.80386519,
          74.37631447,
          84.12036305,
          16,
          23.62108195,
          28.7,
          34.9,
          35.1,
          22.2657705,
          23.71426517,
          47.13000188,
          51.07999408,
          62.50002848,
          24.1,
          24.2,
          35.1,
          36.7,
          40.8,
          25.67,
          28,
          31.9,
          33.6,
          35.5,
          24.57183396,
          30.4,
          37.6,
          37.8,
          45.2,
          20.7,
          24.3,
          28.6,
          32.8,
          37.7,
          12.38544676,
          13.78,
          15.34,
          17.07090203,
          25,
          39.2,
          41.6,
          44.1,
          43.02661187,
          49.8,
          9.601538462,
          11.20919659,
          25.66476804,
          29.64312367,
          35.3,
          39.5,
          42.6,
          11.00090227,
          11.92422906,
          28.99707305,
          33.8207289,
          43.8,
          50.49119319,
          54.60137027,
          28,
          29.9312292,
          31.9,
          32,
          33,
          28.57,
          30.3,
          20.47,
          21.96,
          21.2,
          24.2,
          27.6,
          29,
          29.1,
          49.59999484,
          55.50015506,
          64.19081023,
          66.6999983,
          71.9,
          53.0009696,
          58.88947945,
          62.55315539,
          70.1248443,
          75.03790912,
          46.79128694,
          48.69999885,
          55.20000067,
          70.4000024,
          71.1,
          24,
          25.71978784,
          29.41173011,
          33.61093932,
          10.3,
          12.2,
          14.2999971,
          16.8,
          19.8,
          23.11998904,
          24.4,
          25,
          25.1,
          29.3
         ],
         "xaxis": "x",
         "y": [
          1990,
          1991,
          1992,
          1993,
          1994,
          1995,
          1996,
          1997,
          1998,
          1999,
          2000,
          2001,
          2002,
          2003,
          2004,
          2005,
          2006,
          2007,
          2008,
          2009,
          2010,
          2011,
          2012,
          2013,
          2014,
          2015,
          1990,
          1991,
          1992,
          1993,
          1994,
          1995,
          1996,
          1997,
          1998,
          1999,
          2000,
          2001,
          2002,
          2003,
          2004,
          2005,
          2006,
          2007,
          2008,
          2009,
          2010,
          2011,
          2012,
          2013,
          2014,
          2015,
          1990,
          1991,
          1992,
          1993,
          1994,
          1995,
          1997,
          1998,
          1999,
          2000,
          2001,
          2002,
          2003,
          2004,
          2005,
          2006,
          2007,
          2008,
          2009,
          2010,
          2011,
          2012,
          2013,
          2014,
          2015,
          1990,
          1991,
          1992,
          1993,
          1994,
          1995,
          1996,
          1997,
          1998,
          1999,
          2000,
          2002,
          2004,
          2005,
          2006,
          2007,
          2008,
          2009,
          2010,
          2011,
          2012,
          2013,
          2014,
          2015,
          1990,
          1991,
          1992,
          1993,
          1994,
          1995,
          1996,
          1997,
          1998,
          1999,
          2000,
          2001,
          2002,
          2003,
          2004,
          2005,
          2006,
          2007,
          2008,
          2009,
          2010,
          2011,
          2012,
          2013,
          2014,
          2015,
          1990,
          1991,
          1992,
          1993,
          1994,
          1995,
          1999,
          2000,
          2001,
          2002,
          2003,
          2004,
          2005,
          2006,
          2007,
          2008,
          2009,
          2010,
          2011,
          2012,
          2013,
          2014,
          2015,
          1990,
          1991,
          1992,
          1993,
          1994,
          1995,
          1997,
          1998,
          1999,
          2000,
          2001,
          2002,
          2003,
          2004,
          2005,
          2006,
          2007,
          2008,
          2009,
          2010,
          2011,
          2012,
          2013,
          2014,
          2015,
          1990,
          1991,
          1992,
          1993,
          1994,
          1995,
          1997,
          1998,
          1999,
          2000,
          2001,
          2002,
          2003,
          2004,
          2005,
          2006,
          2007,
          2008,
          2009,
          2010,
          2011,
          2012,
          2013,
          2014,
          2015,
          1990,
          1991,
          1992,
          1993,
          1994,
          1995,
          1997,
          1998,
          1999,
          2000,
          2001,
          2002,
          2003,
          2004,
          2005,
          2006,
          2007,
          2008,
          2009,
          2010,
          2011,
          2012,
          2013,
          2014,
          2015,
          1990,
          1991,
          1992,
          1993,
          1994,
          1995,
          1996,
          1997,
          1998,
          1999,
          2000,
          2001,
          2002,
          2003,
          2004,
          2005,
          2006,
          2007,
          2008,
          2009,
          2010,
          2011,
          2012,
          2013,
          2014,
          2015,
          1990,
          1991,
          1992,
          1993,
          1994,
          1995,
          1996,
          1997,
          1998,
          1999,
          2000,
          2001,
          2002,
          2003,
          2004,
          2005,
          2006,
          2007,
          2008,
          2009,
          2010,
          2011,
          2012,
          2013,
          2014,
          2015,
          1990,
          1991,
          1992,
          1993,
          1994,
          1995,
          1996,
          1997,
          1998,
          1999,
          2000,
          2001,
          2002,
          2003,
          2004,
          2005,
          2006,
          2007,
          2008,
          2009,
          2010,
          2011,
          2012,
          2013,
          2014,
          2015,
          1990,
          1991,
          1992,
          1993,
          1994,
          1995,
          1996,
          1997,
          1998,
          1999,
          2000,
          2001,
          2002,
          2003,
          2004,
          2005,
          2006,
          2007,
          2008,
          2009,
          2010,
          2011,
          2012,
          2013,
          2014,
          2015,
          1990,
          1991,
          1992,
          1993,
          1994,
          1995,
          1996,
          1997,
          1998,
          1999,
          2000,
          2001,
          2002,
          2003,
          2004,
          2005,
          2006,
          2007,
          2008,
          2009,
          2010,
          2011,
          2012,
          2013,
          2014,
          2015,
          1990,
          1991,
          1992,
          1993,
          1994,
          1995,
          1996,
          1997,
          1998,
          1999,
          2000,
          2001,
          2002,
          2003,
          2004,
          2005,
          2006,
          2007,
          2008,
          2009,
          2010,
          2011,
          2012,
          2013,
          2014,
          2015,
          1990,
          1991,
          1992,
          1993,
          1994,
          1995,
          1996,
          1998,
          1999,
          2000,
          2001,
          2002,
          2003,
          2004,
          2005,
          2006,
          2007,
          2008,
          2009,
          2010,
          2011,
          2012,
          2013,
          2014,
          2015,
          1990,
          1991,
          1992,
          1993,
          1994,
          1995,
          1996,
          1997,
          1998,
          1999,
          2000,
          2001,
          2002,
          2003,
          2004,
          2005,
          2006,
          2007,
          2008,
          2009,
          2010,
          2011,
          2012,
          2013,
          2014,
          2015,
          1990,
          1991,
          1992,
          1993,
          1994,
          1995,
          1996,
          1997,
          1998,
          1999,
          2000,
          2001,
          2002,
          2003,
          2004,
          2005,
          2006,
          2007,
          2008,
          2009,
          2010,
          2011,
          2012,
          2013,
          2014,
          2015,
          1990,
          1991,
          1992,
          1993,
          1994,
          1995,
          1996,
          1997,
          1998,
          1999,
          2000,
          2001,
          2002,
          2003,
          2004,
          2005,
          2006,
          2007,
          2008,
          2009,
          2010,
          2011,
          2012,
          2013,
          2014,
          2015,
          1990,
          1991,
          1992,
          1993,
          1994,
          1995,
          1996,
          1997,
          1998,
          1999,
          2000,
          2001,
          2002,
          2003,
          2004,
          2005,
          2006,
          2007,
          2008,
          2009,
          2010,
          2011,
          2012,
          2013,
          2014,
          2015,
          1990,
          1991,
          1992,
          1993,
          1994,
          1995,
          1998,
          1999,
          2000,
          2001,
          2002,
          2003,
          2004,
          2005,
          2006,
          2007,
          2008,
          2009,
          2010,
          2011,
          2012,
          2013,
          2014,
          2015,
          1990,
          1991,
          1992,
          1993,
          1994,
          1995,
          1998,
          1999,
          2000,
          2001,
          2002,
          2003,
          2004,
          2005,
          2006,
          2007,
          2008,
          2009,
          2010,
          2011,
          2012,
          2013,
          2014,
          2015,
          1990,
          1991,
          1992,
          1993,
          1994,
          1995,
          1996,
          1997,
          1998,
          1999,
          2000,
          2001,
          2002,
          2003,
          2004,
          2005,
          2006,
          2007,
          2008,
          2009,
          2010,
          2011,
          2012,
          2013,
          2014,
          2015,
          1990,
          1991,
          1992,
          1993,
          1994,
          1995,
          1997,
          1998,
          1999,
          2000,
          2001,
          2002,
          2003,
          2004,
          2005,
          2006,
          2007,
          2008,
          2009,
          2010,
          2011,
          2012,
          2013,
          2014,
          2015,
          1990,
          1991,
          1992,
          1993,
          1994,
          1995,
          1996,
          1997,
          1998,
          1999,
          2000,
          2001,
          2002,
          2007,
          2008,
          2009,
          2010,
          2011,
          2012,
          2013,
          2014,
          2015,
          1990,
          1991,
          1992,
          1993,
          1994,
          1995,
          1996,
          1997,
          1998,
          1999,
          2000,
          2001,
          2002,
          2003,
          2004,
          2005,
          2006,
          2007,
          2008,
          2009,
          2010,
          2011,
          2012,
          2013,
          2014,
          2015,
          1990,
          1991,
          1992,
          1993,
          1994,
          1995,
          1999,
          2001,
          2002,
          2003,
          2004,
          2005,
          2006,
          2007,
          2008,
          2009,
          2010,
          2011,
          2012,
          2013,
          2014,
          2015,
          1990,
          1991,
          1992,
          1993,
          1994,
          1995,
          1996,
          1997,
          1998,
          1999,
          2000,
          2001,
          2002,
          2003,
          2004,
          2005,
          2006,
          2007,
          2008,
          2009,
          2010,
          2011,
          2012,
          2013,
          2014,
          2015,
          1990,
          1991,
          1992,
          1993,
          1994,
          1995,
          1996,
          1997,
          1998,
          1999,
          2000,
          2001,
          2002,
          2003,
          2004,
          2005,
          2006,
          2007,
          2008,
          2009,
          2010,
          2011,
          2012,
          2013,
          2014,
          2015,
          1990,
          1991,
          1992,
          1993,
          1994,
          1995,
          1996,
          1997,
          1998,
          1999,
          2000,
          2001,
          2002,
          2003,
          2004,
          2005,
          2006,
          2007,
          2008,
          2009,
          2010,
          2011,
          2012,
          2013,
          2014,
          2015,
          1990,
          1991,
          1992,
          1993,
          1994,
          1995,
          1996,
          1997,
          1998,
          1999,
          2001,
          2002,
          2003,
          2004,
          2005,
          2006,
          2007,
          2008,
          2009,
          2010,
          2011,
          2012,
          2013,
          2014,
          2015,
          1990,
          1991,
          1992,
          1993,
          1994,
          1995,
          1996,
          1997,
          1998,
          1999,
          2000,
          2001,
          2002,
          2003,
          2004,
          2005,
          2006,
          2007,
          2008,
          2009,
          2010,
          2011,
          2012,
          2013,
          2014,
          2015,
          1990,
          1991,
          1992,
          1993,
          1994,
          1995,
          1996,
          1997,
          1998,
          1999,
          2000,
          2001,
          2002,
          2003,
          2004,
          2005,
          2006,
          2007,
          2008,
          2009,
          2010,
          2011,
          2012,
          2013,
          2014,
          2015,
          1990,
          1991,
          1992,
          1993,
          1994,
          1995,
          1997,
          1998,
          1999,
          2000,
          2001,
          2002,
          2003,
          2004,
          2005,
          2006,
          2007,
          2008,
          2009,
          2010,
          2011,
          2012,
          2013,
          2014,
          2015,
          1990,
          1991,
          1992,
          1993,
          1994,
          1995,
          1998,
          1999,
          2000,
          2001,
          2002,
          2003,
          2004,
          2005,
          2006,
          2007,
          2008,
          2009,
          2010,
          2011,
          2012,
          2013,
          2014,
          2015,
          1990,
          1991,
          1992,
          1993,
          1994,
          1995,
          1996,
          1997,
          1998,
          1999,
          2000,
          2001,
          2002,
          2003,
          2004,
          2005,
          2006,
          2007,
          2008,
          2009,
          2010,
          2011,
          2012,
          2013,
          2014,
          2015,
          1990,
          1991,
          1992,
          1993,
          1994,
          1995,
          1996,
          1997,
          1998,
          1999,
          2000,
          2001,
          2002,
          2003,
          2004,
          2005,
          2006,
          2007,
          2008,
          2009,
          2010,
          2011,
          2012,
          2013,
          2014,
          2015,
          1990,
          1991,
          1992,
          1993,
          1994,
          1995,
          1996,
          1997,
          1998,
          1999,
          2000,
          2001,
          2002,
          2003,
          2004,
          2005,
          2006,
          2007,
          2008,
          2009,
          2010,
          2011,
          2012,
          2013,
          2014,
          2015,
          1990,
          1991,
          1992,
          1993,
          1994,
          1995,
          1999,
          2000,
          2001,
          2002,
          2003,
          2004,
          2005,
          2006,
          2007,
          2008,
          2009,
          2010,
          2011,
          2012,
          2013,
          2014,
          2015,
          1990,
          1991,
          1992,
          1993,
          1994,
          1995,
          1996,
          1997,
          1998,
          1999,
          2000,
          2001,
          2002,
          2003,
          2004,
          2005,
          2006,
          2007,
          2008,
          2009,
          2010,
          2011,
          2012,
          2013,
          2014,
          2015,
          1990,
          1991,
          1992,
          1993,
          1994,
          1995,
          1996,
          1997,
          1998,
          1999,
          2000,
          2001,
          2002,
          2003,
          2004,
          2005,
          2006,
          2007,
          2008,
          2009,
          2010,
          2011,
          2012,
          2013,
          2014,
          2015,
          1990,
          1991,
          1992,
          1993,
          1994,
          1995,
          1996,
          1997,
          1998,
          1999,
          2000,
          2001,
          2002,
          2003,
          2004,
          2005,
          2006,
          2007,
          2008,
          2009,
          2010,
          2011,
          2012,
          2013,
          2014,
          2015,
          1990,
          1991,
          1992,
          1993,
          1994,
          1995,
          1996,
          1997,
          1998,
          1999,
          2000,
          2001,
          2002,
          2003,
          2004,
          2005,
          2006,
          2007,
          2008,
          2009,
          2010,
          2011,
          2012,
          2013,
          2014,
          2015,
          1990,
          1991,
          1992,
          1993,
          1994,
          1995,
          1996,
          1997,
          1998,
          1999,
          2000,
          2001,
          2002,
          2003,
          2004,
          2005,
          2006,
          2007,
          2008,
          2009,
          2010,
          2011,
          2012,
          2013,
          2014,
          2015,
          1990,
          1991,
          1992,
          1993,
          1994,
          1995,
          1996,
          1997,
          1998,
          1999,
          2000,
          2001,
          2002,
          2003,
          2004,
          2005,
          2006,
          2007,
          2008,
          2009,
          2010,
          2011,
          2012,
          2013,
          2014,
          2015,
          2016,
          2017,
          2018,
          2019,
          2020,
          2016,
          2017,
          2018,
          2019,
          2020,
          2016,
          2017,
          2018,
          2019,
          2020,
          2016,
          2017,
          2018,
          2019,
          2016,
          2017,
          2018,
          2019,
          2020,
          2016,
          2017,
          2018,
          2019,
          2020,
          2016,
          2017,
          2016,
          2017,
          2018,
          2019,
          2020,
          2016,
          2017,
          2018,
          2019,
          2020,
          2016,
          2017,
          2018,
          2019,
          2020,
          2016,
          2017,
          2018,
          2019,
          2020,
          2016,
          2017,
          2018,
          2019,
          2020,
          2016,
          2017,
          2018,
          2019,
          2020,
          2016,
          2017,
          2018,
          2019,
          2020,
          2016,
          2017,
          2018,
          2019,
          2020,
          2016,
          2017,
          2018,
          2019,
          2020,
          2016,
          2017,
          2016,
          2017,
          2018,
          2019,
          2020,
          2016,
          2017,
          2018,
          2019,
          2020,
          2016,
          2017,
          2018,
          2019,
          2020,
          2016,
          2017,
          2018,
          2019,
          2020,
          2016,
          2017,
          2018,
          2019,
          2020,
          2016,
          2017,
          2018,
          2019,
          2020,
          2016,
          2017,
          2018,
          2019,
          2020,
          2016,
          2017,
          2018,
          2019,
          2020,
          2016,
          2017,
          2018,
          2019,
          2020,
          2016,
          2017,
          2018,
          2019,
          2020,
          2016,
          2017,
          2018,
          2019,
          2020,
          2016,
          2017,
          2018,
          2019,
          2020,
          2016,
          2017,
          2016,
          2017,
          2018,
          2019,
          2020,
          2016,
          2017,
          2016,
          2017,
          2018,
          2019,
          2020,
          2016,
          2017,
          2018,
          2019,
          2020,
          2016,
          2017,
          2016,
          2017,
          2016,
          2017,
          2018,
          2019,
          2020,
          2016,
          2017,
          2018,
          2019,
          2020,
          2016,
          2017,
          2018,
          2019,
          2020,
          2016,
          2017,
          2018,
          2019,
          2020,
          2016,
          2017,
          2016,
          2017,
          2016,
          2017,
          2018,
          2019,
          2020,
          2016,
          2017,
          2018,
          2019,
          2020
         ],
         "yaxis": "y"
        },
        {
         "hovertemplate": "Grupo de Ingresos=Ingreso alto<br>Internet users (%)=%{x}<br>Year=%{y}<extra></extra>",
         "legendgroup": "Ingreso alto",
         "marker": {
          "color": "rgb(244,165,130)",
          "symbol": "circle"
         },
         "mode": "markers",
         "name": "Ingreso alto",
         "showlegend": true,
         "type": "scattergl",
         "x": [
          0,
          0,
          0,
          0,
          0,
          0,
          1.526601023,
          3.050175385,
          6.886209218,
          7.635686143,
          10.53883561,
          11.26046872,
          13.54641288,
          26.83795439,
          37.60576622,
          48.936847,
          70.87,
          70.04,
          78.53,
          81,
          81,
          86.43442462,
          94,
          95.9,
          96.91,
          0,
          0,
          0,
          0,
          0,
          2.200768802,
          2.858449577,
          3.480536838,
          4.0717165,
          5.300681138,
          6.482225737,
          8.899285515,
          12.5,
          17.22864878,
          24.26654372,
          27,
          30,
          34,
          38,
          42,
          47,
          52,
          58,
          63.4,
          67.78,
          70,
          0,
          0,
          0,
          0,
          0,
          0,
          2.768382663,
          4.506179098,
          15.44282295,
          17.1,
          18.8,
          20.8,
          23,
          25.4,
          28,
          30.9,
          52,
          58,
          62,
          69,
          74,
          78.9,
          83.78,
          88.66122693,
          0.585094712,
          1.097203891,
          1.768764913,
          1.974611016,
          2.232101254,
          2.759654513,
          3.27524987,
          16.36935838,
          30.81323944,
          40.7837839,
          46.75611561,
          52.68926643,
          63,
          66,
          69.45,
          71.67,
          74.25,
          76,
          79.48769771,
          79,
          83.45349717,
          84,
          84.56051491,
          0.130369377,
          0.259081553,
          0.642817619,
          0.76534273,
          1.393422968,
          1.890210524,
          6.909162353,
          9.533974317,
          15.42121932,
          23.0443171,
          33.73013295,
          39.18545018,
          36.56,
          42.7,
          54.28,
          58,
          63.6,
          69.37,
          72.87,
          73.45,
          75.17,
          78.7399931,
          80.02999392,
          80.6188,
          80.99582496,
          83.94014193,
          0,
          0,
          0,
          0,
          0,
          0.960030721,
          1.746950698,
          1.362953903,
          2.33559071,
          3.764557822,
          8,
          11.8,
          18,
          20,
          22,
          25,
          26,
          27,
          31.54,
          33.88,
          43,
          65,
          71.74820281,
          72,
          76.92,
          78,
          0,
          0,
          0,
          0,
          0,
          0.346205844,
          0.843254219,
          1.646299202,
          3.218202151,
          4.720358118,
          6.153732546,
          15.03863425,
          18.05072089,
          21.55494499,
          21.45868051,
          21.30373351,
          28.24395243,
          32.91,
          51.95,
          53,
          55,
          76.9999665,
          88,
          90.0000397,
          90.50313348,
          93.4783008,
          0,
          0,
          0,
          0,
          0,
          0.007752238,
          0.389464214,
          0.783428912,
          1.970249237,
          2.376247035,
          3.973678355,
          11.93645034,
          27.83632242,
          39.68962712,
          49.8,
          52.5,
          55.3,
          58.2,
          61.4,
          64.7,
          65.1,
          66.5,
          71.2,
          71.8,
          75.16,
          76.11,
          0.00100674,
          0.020072645,
          0.100041027,
          0.199446059,
          0.69599469,
          0.99166299,
          2.968411647,
          4.93808091,
          7.886622701,
          13.77221446,
          29.43169169,
          31.28839551,
          46.33,
          49.97,
          53.86,
          55.82,
          59.72,
          64.44,
          66,
          70,
          75,
          81.609996,
          80.71999055,
          82.1702,
          85,
          85.05294175,
          0,
          0,
          0,
          0,
          0,
          6.838163465,
          16.20246602,
          24.18925674,
          32.10375935,
          39.94758876,
          42.94986002,
          47.5096999,
          52.03159737,
          56.52201218,
          60.99086701,
          65.44706579,
          69.89965516,
          74.35059403,
          82.3,
          83.25,
          84.21,
          88.336,
          91.29930452,
          95.3,
          96.8,
          98.32360965,
          0,
          0,
          0,
          0,
          0,
          0,
          18.88574127,
          36,
          37,
          37.4,
          37.6,
          0.360999701,
          0.570385926,
          0.91598104,
          1.184557509,
          2.378693853,
          4.163525253,
          6.76023965,
          15.07235736,
          24.8974003,
          36.18644004,
          51.3,
          60.2,
          61.59329927,
          64.2,
          65.95596346,
          71.66,
          72.4,
          73.2,
          76.7,
          80.3,
          80.3,
          83,
          83,
          85.8,
          87.12,
          90,
          0,
          0,
          0,
          0,
          0,
          3.948967193,
          38.03438308,
          44.5,
          52,
          61,
          64.5,
          66,
          69.46594499,
          69.7,
          71.4,
          74.1,
          77,
          0,
          0,
          0.036548938,
          0.071783144,
          0.141084507,
          0.346980781,
          0.68347561,
          1.057092496,
          1.662322022,
          4.103419297,
          16.6,
          19.1,
          22.1,
          25.47377889,
          28.17791012,
          31.17534703,
          34.49775117,
          35.9,
          37.3,
          41.56,
          45,
          52.24960729,
          55.05,
          58,
          61.11,
          76.62959195,
          0,
          0,
          0,
          0.097213389,
          0.268318997,
          0.51402859,
          0.858982368,
          1.729609312,
          3.273220279,
          4.405359119,
          6.644882544,
          11.55857318,
          17.76,
          22.75,
          30.91,
          33.14,
          37.98,
          41.44,
          44.24,
          50.58,
          56.55,
          57.78997899,
          61.93997315,
          66.7476,
          68.57,
          69.84503592,
          0,
          0,
          0.05006043,
          0.056367482,
          0.111034621,
          0.410120685,
          0.673343541,
          4.378272095,
          8.890539159,
          11.34239866,
          15.25539437,
          18.81875904,
          28.32,
          30.09,
          33.83,
          32.81,
          35.83,
          40.77,
          42.31,
          49.81,
          52.99,
          56.85989235,
          60.6898684,
          65.4548,
          69.33,
          71.71574092,
          0,
          0,
          0,
          0.581319529,
          1.259217838,
          1.45357584,
          1.940378193,
          2.915698695,
          3.895906065,
          6.832802018,
          9.780527888,
          14.69717212,
          23.93,
          34.3,
          35.5,
          35.27,
          47.93,
          51.93,
          62.97,
          64.43,
          68.82,
          70.49,
          73.43000782,
          74.1104,
          74.23171164,
          75.6688387,
          0.097277268,
          0.194056515,
          0.386913951,
          0.578329976,
          1.34430775,
          3.82565642,
          5.714987841,
          11.38200494,
          22.66874615,
          30.59204065,
          39.17243086,
          42.95752472,
          64.25,
          76.26,
          80.93,
          82.74,
          86.65,
          85.03,
          85.02,
          86.84,
          88.72,
          89.81001339,
          92.26001172,
          94.6297,
          95.99,
          96.33050162,
          0,
          0,
          0.065484797,
          0.300711282,
          1.159750913,
          2.778968489,
          3.525111129,
          5.706276548,
          10.79603483,
          14.50089724,
          28.57695381,
          31.52748977,
          41.52,
          45.32,
          53.2,
          61.45,
          63.51,
          66.19,
          70.58,
          72.5,
          74.1,
          76.5,
          78.38992593,
          80.0043,
          84.24152803,
          88.4097035,
          0.40108767,
          1.397439332,
          1.88687977,
          2.568461349,
          4.915098554,
          13.90030389,
          16.78007526,
          19.4586828,
          25.45252493,
          32.29509229,
          37.24846174,
          43.10536335,
          62.43,
          69.22,
          72.39,
          74.48,
          79.66,
          80.78,
          83.67,
          82.49,
          86.89,
          88.70999491,
          89.87999797,
          91.5144,
          86.53039275,
          86.42213333,
          0.052777862,
          0.140113895,
          0.279049463,
          0.590619383,
          0.899867425,
          1.637947245,
          2.584033979,
          4.255003872,
          6.319778722,
          9.125317889,
          14.30792394,
          26.32590355,
          30.18,
          36.14,
          39.15,
          42.87,
          46.87,
          66.09,
          70.68,
          71.58,
          77.28,
          77.81999899,
          81.44,
          81.9198,
          83.75,
          78.00603771,
          0,
          0,
          0,
          0,
          0,
          0,
          0.090971944,
          0.21438525,
          1.316164696,
          3.448900232,
          6.357063545,
          6.251588946,
          8.200216486,
          14.12429379,
          17.88453743,
          21.54218547,
          25.10796425,
          28.59,
          33.87,
          44.6,
          49,
          49,
          52.87663059,
          56.8,
          60.68,
          64.56020975,
          0.125892223,
          0.250274153,
          0.43528529,
          0.463635096,
          0.922541043,
          1.837737754,
          3.054805234,
          6.711087477,
          9.877852428,
          20.84598264,
          30.2163466,
          31.65093942,
          48.82,
          55.9,
          64.73,
          68.71,
          72.16,
          75.16,
          78,
          79,
          82,
          81.26999954,
          82.34999847,
          84.17,
          86.19,
          87.58979935,
          0,
          0,
          0,
          0,
          0,
          0,
          2.662907268,
          4.183794329,
          5.936978297,
          19.13163812,
          21.17110944,
          23.67023975,
          28.32577979,
          32.88608261,
          39.07013088,
          45.29864751,
          51.61,
          58,
          65.07,
          65,
          65,
          65.017,
          0,
          0.048788803,
          0.048291602,
          0.191062242,
          0.378174312,
          0.749616477,
          1.395360779,
          1.849634688,
          3.221821786,
          6.877292144,
          9.138837308,
          10.93502581,
          14.67,
          17.8,
          21.42,
          24,
          32.25,
          35.88,
          38.2,
          42.4,
          44.4,
          51.64999517,
          55.06999344,
          59.8663,
          63.21,
          66.83495949,
          0,
          0,
          0,
          0,
          0.064712121,
          0.053940342,
          1.796719191,
          7.954504682,
          14.65444717,
          21.60261331,
          31.74781123,
          35.46413689,
          44.15478903,
          54.53425983,
          56.09901476,
          57.7034045,
          59.36168727,
          61.07,
          62.82,
          62.83,
          63,
          64,
          64.8960101,
          65.8,
          66.7,
          67.60044348,
          0,
          0,
          0,
          0,
          0.34845391,
          0.659530909,
          1.356106888,
          2.344571647,
          4.50128419,
          8.497176323,
          16.11312704,
          25.38022753,
          31.19229426,
          33.71668179,
          36.16178784,
          38.55987756,
          43.851443,
          46.15047362,
          48.41870215,
          50.64202838,
          54.04,
          57.7,
          61.53415931,
          65.4,
          69.27,
          73.13999995,
          0,
          0.00338263,
          0.048353421,
          0.193414395,
          0.483580975,
          0.677486054,
          0.969239536,
          1.942449872,
          3.894643278,
          5.857840749,
          6.999676351,
          14.5285543,
          16.67,
          21.63,
          27.74,
          38.97,
          47.06,
          53.3,
          61,
          62,
          65,
          68.01998789,
          70.57999815,
          72.6439,
          75.65319745,
          72.83473703,
          0,
          0.505129002,
          1.53916008,
          2.667825265,
          6.794811784,
          11.2158757,
          14.80647932,
          27.47886875,
          36.2642065,
          41.29456671,
          44.47053382,
          49.39299537,
          79.12,
          83.14,
          83.88,
          87,
          89.51,
          90.6,
          91,
          93,
          93.39,
          94.8196868,
          96.20979955,
          96.5468,
          98.16,
          98.2,
          0,
          0.056796044,
          0.169686377,
          0.281141005,
          0.558377222,
          1.108386328,
          2.199301832,
          4.08825507,
          8.096010043,
          10.93380859,
          17.85046724,
          23.13881219,
          25.85,
          34.31,
          36.99,
          41.61,
          54.82,
          61.15832455,
          65.34,
          67.38,
          69.85,
          74.88997297,
          76.91999254,
          78.2477,
          83.49172234,
          83.49479167,
          0.110773866,
          0.2146241,
          0.310579197,
          0.398833333,
          0.57696646,
          0.93042297,
          2.1683676,
          4.399405482,
          10.30706995,
          13.43612191,
          20.87379,
          17.37862386,
          17.76459906,
          19.59339366,
          22.77048553,
          25.19404242,
          27.88107446,
          48.12806219,
          59.39,
          63.12,
          67.5,
          68.87387799,
          70.8,
          70.25031195,
          75.01775316,
          77.35208966,
          0.017544562,
          0.035063256,
          0.070053433,
          0.122462053,
          0.192304619,
          0.524412787,
          1.023289903,
          2.276737834,
          4.558519565,
          14.37841019,
          23.11087424,
          27.22211698,
          28.04,
          29.04,
          33.24,
          35,
          37.99,
          40.79,
          44.53,
          48.83,
          53.68,
          54.3899983,
          55.82999799,
          58.4593,
          55.63846022,
          58.14173496,
          0.020293683,
          0.040438041,
          0.096678025,
          0.401277526,
          0.799684291,
          1.594363148,
          4.372981968,
          9.16307714,
          13.41404088,
          21.39129031,
          29.99074036,
          38.53206086,
          46.59420112,
          48.43526589,
          62.39392963,
          66.9210661,
          68.68527032,
          74.3,
          75.4,
          78,
          78.21,
          79.05411352,
          79.4964,
          88.21942891,
          89.10683302,
          91.05802839,
          0,
          0,
          0,
          0.091082245,
          0.147162703,
          0.202898433,
          0.855662317,
          2.174535859,
          3.052397455,
          4.756222209,
          6.731395768,
          8.551792434,
          10.24896793,
          22.40293838,
          22.92711204,
          25.92610837,
          28.79119795,
          34.8,
          42,
          50.8,
          61.4,
          65.76907069,
          70.45,
          75.46,
          78.7,
          72,
          0,
          0,
          0,
          0,
          0,
          0,
          0.812717072,
          2.053454712,
          3.315267886,
          4.387409055,
          6.319062083,
          7.219345808,
          21.94,
          26.98,
          38.58,
          46,
          53.63,
          59.17,
          63.41,
          66.84,
          68.42,
          69.74995456,
          73.11994377,
          75.2344,
          75.83,
          79.20058292,
          0,
          0,
          0,
          0,
          0,
          0,
          36.51522989,
          45.11685265,
          59.47071067,
          58.80969184,
          64.00744814,
          63.37135615,
          64.21416136,
          65.08021844,
          70,
          75,
          80,
          85,
          89.4077,
          93.8,
          95.21,
          96.6411951,
          0,
          0,
          0,
          0,
          0,
          0,
          0.277421291,
          0.978422157,
          1.972063745,
          2.9230547,
          6.427067495,
          7.179356994,
          17.69,
          25.91,
          31.23,
          36.22,
          43.9,
          49.9,
          55.22,
          59.76,
          62.12,
          63.6399774,
          67.22998933,
          68.4529,
          72.13,
          71.37805901,
          0,
          0,
          0.153198791,
          0.302155121,
          0.496486119,
          1.590941911,
          5.551653306,
          7.142704085,
          11.74555372,
          17.3879578,
          22.88732797,
          36.16342251,
          39.84,
          54.55,
          65.88,
          70,
          72.51,
          78.92,
          82.23,
          87.31,
          90.62,
          90.02985856,
          91.94992374,
          93.7765,
          94.67,
          96.37671417,
          0,
          0,
          0,
          0,
          0,
          0.224995699,
          1.051527475,
          3.920605132,
          6.500783995,
          7.759798038,
          13.11370871,
          17.87784832,
          28.92,
          31.64,
          34.62,
          41.24,
          40.41,
          46.9,
          50.08,
          58.86,
          63,
          68.01982379,
          68.19987429,
          68.9138,
          73.17,
          75.96001898,
          0,
          0,
          0,
          0,
          0,
          0,
          42.18486345,
          46.64614236,
          48.04711717,
          49.49116892,
          52.49019668,
          55.46482606,
          61.47603971,
          64.3776824,
          67.25,
          70.1,
          75,
          80.3,
          87,
          90.7,
          92.4,
          93.36330202,
          0,
          0,
          0,
          0,
          0,
          0,
          2.987155233,
          54,
          0.334386942,
          0.531496128,
          1.320008028,
          1.967087737,
          3.257308831,
          6.47315766,
          9.649069145,
          14.0655114,
          22.24382769,
          39.17600725,
          43.98435137,
          49.37306211,
          61.29,
          64.35,
          68.52,
          81,
          83.7,
          85.82,
          87.42,
          89.63,
          90.72,
          91.41999576,
          92.85999236,
          93.9564,
          91.666666,
          91.72413793,
          0,
          0,
          0,
          0,
          0,
          0.005179013,
          0.252983946,
          0.989334969,
          1.936042825,
          5.688147323,
          13.93954882,
          18.23710978,
          22.38979742,
          26.40833447,
          30.29804621,
          32.35901475,
          33.51571468,
          35.05,
          34.51,
          33.99,
          42,
          50,
          58,
          66,
          70,
          74.00175279,
          0,
          0,
          0.285941241,
          0.631215367,
          3.168718848,
          4.88424078,
          8.041899368,
          14.6015244,
          31.63626081,
          41.49448266,
          47.37955654,
          53.24101529,
          59.08075328,
          60.96253987,
          61.84762781,
          62.72021237,
          69,
          69.76,
          72.03,
          79.7,
          80.46,
          81.23,
          81.64447018,
          82.78,
          85.5,
          88.22288882,
          0,
          0,
          0,
          0,
          0,
          0,
          0.707299448,
          1.407395158,
          2.216365832,
          2.783990846,
          4.152450292,
          6.423220493,
          18.25031077,
          20.41788144,
          22.56011255,
          40,
          52,
          64,
          72.84,
          78.13,
          77.69,
          81.99,
          82.55,
          86.93,
          90.57,
          92.08,
          93.39,
          93.48998265,
          94.64997805,
          95.0534,
          96.3,
          96.81032569,
          0,
          0,
          0,
          0,
          0,
          0,
          0,
          0.439792805,
          0.862725306,
          2.515665987,
          3.520421417,
          5.893841521,
          6.873396039,
          7.255742945,
          6.75885217,
          6.68358142,
          8.299716673,
          16.68,
          20,
          26.8,
          35.8278,
          48,
          60,
          66.45,
          70.22,
          73.53,
          0,
          0,
          0,
          0,
          0,
          0,
          20.24393947,
          21.60152718,
          26.97033263,
          0,
          0.005229468,
          0.052127181,
          0.129961704,
          0.389098144,
          0.647752333,
          1.295200255,
          2.073465474,
          4.102272002,
          5.45644373,
          7.285428708,
          9.900669707,
          21.15,
          24.87,
          32.53,
          38.81,
          44.58,
          48.6,
          53.13,
          58.97,
          62.32,
          61.94999897,
          62.30999727,
          62.8492,
          66.6,
          67.99698716,
          0,
          0.10023057,
          0.250426501,
          0.450161608,
          0.718905754,
          1.494334529,
          2.98087767,
          4.953001955,
          9.870446442,
          14.74233784,
          16.43046769,
          18.08713656,
          19.37,
          29.67,
          31.78,
          34.99,
          38.01,
          42.09,
          44.13,
          48.27,
          53.3,
          55.24999688,
          60.33999749,
          62.0956,
          64.59,
          68.63286148,
          0,
          0,
          0,
          0,
          0.027254662,
          0.135102783,
          0.268160428,
          1.331822159,
          2.647646679,
          5.265682651,
          10.47464821,
          15.63003092,
          17.54764757,
          19.70702566,
          22.13073823,
          23.40005045,
          25.44241821,
          27.86,
          38,
          41.5,
          45.3,
          48,
          68.9999826,
          68.99999,
          63.46633538,
          0,
          0,
          0,
          0,
          0,
          0.190209535,
          0.930185833,
          3.083749186,
          3.52002985,
          4.070728915,
          4.863679179,
          6.170268561,
          10.22612893,
          19.24233642,
          20.70164785,
          24.73349378,
          28.97411271,
          37,
          44.3,
          53.1,
          69,
          69,
          69.3,
          85.3,
          91.49,
          92.88482645,
          0,
          0,
          0,
          0,
          0,
          0,
          1.945569823,
          2.258559942,
          3.343810607,
          4.400440044,
          5.86281024,
          7.714726556,
          21.15238176,
          22.96978429,
          24.73767754,
          34,
          38.5,
          43.5,
          49.2,
          55.7,
          63,
          63.2,
          64,
          64.6,
          68,
          75.7,
          0,
          0,
          0,
          0,
          0,
          1.362132711,
          1.428075186,
          1.41854848,
          1.408557941,
          42.80331575,
          48.79949531,
          50.34166909,
          50.83483994,
          50.00345304,
          50.56634304,
          50.2595642,
          50.20865936,
          50.36482211,
          54.52,
          54.21,
          49.6,
          0,
          0,
          0,
          0,
          0,
          0.010956134,
          0.026732651,
          0.052099031,
          0.101429893,
          0.49358534,
          2.210691809,
          4.681053166,
          6.38470502,
          8.001582891,
          10.234533,
          12.70503599,
          19.45955435,
          30,
          36,
          38,
          41,
          47.5,
          54,
          60.5,
          64.71365737,
          69.6162358,
          0,
          0,
          0,
          0,
          0,
          0,
          0.651474286,
          1.28295593,
          2.526177514,
          6.229054803,
          7.395629183,
          11.01510293,
          14.30417083,
          14.59250432,
          24.27213922,
          25.41326815,
          34.95197117,
          38.38,
          40.44,
          41,
          43.16400446,
          47.076,
          50.4,
          51.25470199,
          54.25961786,
          0,
          0.161504498,
          0.471368155,
          0.763278139,
          1.185203797,
          2.873418722,
          8.34995903,
          13.47162042,
          19.59076716,
          24.15543693,
          36,
          41.67042518,
          47,
          53.83794329,
          62,
          61,
          59,
          69.9,
          69,
          69,
          71,
          71,
          72,
          80.90205685,
          79.02923586,
          79.012957,
          0,
          0,
          0,
          0.127829232,
          0.318509704,
          0.523210163,
          0.783290109,
          1.173381014,
          2.689809786,
          5.437758139,
          9.426803201,
          12.52832185,
          40.14,
          43.04,
          52.89,
          55.19,
          56.08,
          61.8,
          66.05,
          70,
          75.71,
          74.43999717,
          76.70999012,
          77.8826,
          79.98,
          77.63468203,
          0,
          0,
          0,
          0.409792399,
          1.071570172,
          2.898985609,
          5.072272271,
          7.591923004,
          10.10460285,
          12.61093843,
          15.11025956,
          30.17591047,
          27.83888542,
          31.85479301,
          40.81,
          46.81,
          54.01,
          56.74,
          58,
          64,
          70,
          67.33999481,
          68.34997453,
          72.6756,
          71.59,
          73.09865997,
          0.012873564,
          0.025686194,
          0.076845453,
          0.127689668,
          0.280069738,
          0.380800728,
          1.331847404,
          2.803319625,
          4.361892394,
          7.085039678,
          13.62496081,
          18.14872269,
          20.39,
          39.93,
          44.01,
          47.88,
          50.37,
          55.11,
          59.6,
          62.4,
          65.8,
          67.08999939,
          69.80999994,
          71.635,
          76.19,
          78.68963187,
          0.584192066,
          1.160519453,
          1.497871352,
          1.716364182,
          3.412810096,
          5.098024244,
          9.04359976,
          23.72794756,
          33.46751233,
          41.43278316,
          45.68765221,
          51.76566494,
          70.57,
          79.13,
          83.89,
          84.83,
          87.76,
          82.01,
          90,
          91,
          90,
          92.76998606,
          93.17998801,
          94.7836,
          92.52,
          90.61019664,
          0.595714223,
          1.17995597,
          1.751713322,
          2.167270203,
          2.720004329,
          3.552007211,
          4.549656748,
          15.1,
          24.8,
          34,
          47.1,
          55.1,
          61.4,
          65.1,
          67.8,
          70.1,
          75.7,
          77.2,
          79.2,
          81.3,
          83.9,
          85.19302818,
          85.2,
          86.34,
          87.4,
          87.4790556,
          0,
          0,
          0,
          0,
          0,
          0.158149899,
          0.393080525,
          1.173174658,
          2.724825339,
          5.814250962,
          7.721411474,
          15.38462722,
          21.99867548,
          25.97176411,
          27.02427008,
          28.97671243,
          30.00374858,
          32.3,
          34.8,
          44.3,
          48.5,
          55.2,
          59.5162,
          63.8,
          65.1,
          69.19847061,
          0,
          0,
          0,
          0,
          0,
          0,
          0,
          0,
          0,
          0,
          0,
          0.102939175,
          0.375393534,
          3.295592694,
          6.908302986,
          14.94269899,
          23.62530088,
          26.2717542,
          28.31648531,
          29.47795341,
          30.13129617,
          40,
          52,
          61,
          63,
          64,
          68,
          78,
          84.9999915,
          88,
          90.4,
          90.5,
          0.784728502,
          1.163193726,
          1.724202539,
          2.271673294,
          4.862780635,
          9.237088297,
          16.41935296,
          21.61640097,
          30.09319659,
          35.84872446,
          43.07916264,
          49.08083159,
          58.78540388,
          61.69711712,
          64.75825648,
          67.96805292,
          68.93119327,
          75,
          74,
          71,
          71.69,
          69.72946076,
          74.7,
          71.4,
          73,
          74.55420245,
          0,
          0,
          0,
          0,
          0.940645283,
          2.801957634,
          4.647185664,
          6.948368986,
          9.245220221,
          11.07460593,
          13.81508054,
          18.37576604,
          27.49443238,
          27.42907299,
          27.37700879,
          27.34431967,
          27.33261054,
          27.33933584,
          27.36177742,
          27.39650968,
          31.22,
          35.6,
          40.5479,
          45.3,
          50.07,
          54.8391373,
          0,
          0,
          0,
          0,
          0.062474386,
          0.310128582,
          1.847472089,
          3.363239668,
          6.987069365,
          9.972765285,
          10.53905775,
          11.12143768,
          11.4194702,
          15.93713672,
          17.06309834,
          20.08818956,
          29.4,
          34,
          39.3,
          41.8,
          46.4,
          51.40466106,
          54.45376868,
          57.69,
          61.46,
          64.5707871,
          93.54245387,
          97.17,
          89.7,
          91.56746703,
          90.60000732,
          94.81992254,
          98.45000178,
          99.14999998,
          100,
          73,
          86.54,
          86.54504885,
          87.6,
          88.6,
          89.6,
          84.32374257,
          87.93558659,
          87.47913723,
          87.75220479,
          87.52942813,
          86.51647666,
          87.67968082,
          88.647343,
          90.27542981,
          91.52641629,
          97.9999807,
          95.87813575,
          98.64467258,
          99.70149256,
          99.67,
          98,
          98.37,
          79.54939789,
          81.76077839,
          90,
          94.86669164,
          95,
          95,
          95,
          91.16,
          92.70137191,
          94.64,
          96.5,
          96.97,
          89.13468774,
          89.68614767,
          91.8,
          93.14608695,
          94.2,
          83.55858602,
          82.32748693,
          84.9,
          86.1,
          88.3,
          79,
          81.06769325,
          75.9002054,
          80.74318897,
          84.43358252,
          86.06362996,
          90.80194723,
          76.4811987,
          78.71917285,
          80.68816754,
          80.86694441,
          81.33889705,
          84.16520664,
          84.3941537,
          87.03711209,
          88.13451691,
          89.81294133,
          96.96778525,
          97.09936216,
          97.31920437,
          98.04643475,
          96.54914573,
          80.56133294,
          84.6022457,
          86.10723553,
          90.71866533,
          93.20564892,
          87.24023275,
          88.10245687,
          89.35700777,
          90.2289282,
          89.05828666,
          87.70364996,
          87.46892907,
          88.88996,
          89.60738511,
          92.17,
          79.26981132,
          80.50245972,
          82.04318678,
          83.33974409,
          84.8,
          95.10868167,
          97.58195894,
          94.44447158,
          69.08791547,
          69.89297065,
          72.23837339,
          75.67120669,
          78.11584474,
          68.50087368,
          69.48246178,
          77.00999989,
          80.50546556,
          72.69726967,
          67.09619204,
          75.29462599,
          79.07978368,
          78.32093274,
          79.25941213,
          76.75054712,
          76.07436064,
          80.37169361,
          84.77115202,
          83.5,
          84.11400706,
          87.00014011,
          87.00005524,
          91.99989097,
          98.2400163,
          98.25520119,
          99.01095399,
          99,
          99,
          79.65312418,
          81.58118359,
          83.73315696,
          86.78787762,
          90.12734091,
          61.32425277,
          63.077347,
          74.38718292,
          76.1,
          70.48342785,
          93.18272128,
          91.72654724,
          91.28,
          92.73039781,
          90.21945812,
          85.6,
          97.99998933,
          99.59884959,
          99.54267645,
          99.10587967,
          98.09390389,
          99.54661245,
          74.37664556,
          77.61525651,
          79.72258277,
          81.58186838,
          83.05555096,
          98.13669867,
          97.36296032,
          97.06129871,
          97.12063569,
          98.82242384,
          79.84209778,
          80.114077,
          83.57717486,
          86.13545644,
          88.9,
          95.20817797,
          97.05297684,
          78.0751488,
          81.01191108,
          81.65804429,
          85.77856081,
          86.85876416,
          82.0058408,
          90.4109589,
          93.19727891,
          91.89189189,
          93.2885906,
          91.33333333,
          97.29820367,
          96.3576013,
          96.49165799,
          98.00000439,
          97,
          62.38512451,
          86.5,
          87.7,
          89,
          90.2,
          91.5,
          76.84539047,
          80.18563573,
          85.5,
          90.3,
          95.23,
          73.3007041,
          75.98536595,
          77.54173454,
          80.43590724,
          83.18488715,
          68.6438072,
          68.74077314,
          70.85639974,
          77.73643937,
          70.42356709,
          73.79121395,
          74.66096815,
          75.34637794,
          78.26166044,
          68.44041949,
          72.70389531,
          95.12466217,
          97.38884917,
          99.65284913,
          99.65280421,
          99.65284913,
          74.87927469,
          94.17559961,
          93.31000185,
          95.7247356,
          97.86,
          84.45226789,
          84.45226789,
          88.16563603,
          88.94925269,
          92.00434653,
          60.18230126,
          75.49850426,
          78.88542636,
          79.7499766,
          83.1083578,
          86.60130109,
          89.65094761,
          93.00626697,
          89.24696316,
          94.49344341,
          94.53943122,
          56.51470815,
          58.76981124,
          70.1,
          75,
          79,
          67.8,
          70.6,
          66.4,
          70.3223544,
          80.72684288,
          83.35153377,
          86.1,
          85.54442129,
          87.27488917,
          88.49890317,
          89.43028486,
          90.9,
          77.70142968,
          77.70426829
         ],
         "xaxis": "x",
         "y": [
          1990,
          1991,
          1992,
          1993,
          1994,
          1995,
          1996,
          1997,
          1998,
          1999,
          2000,
          2002,
          2003,
          2004,
          2005,
          2006,
          2007,
          2008,
          2009,
          2010,
          2011,
          2012,
          2013,
          2014,
          2015,
          1990,
          1991,
          1992,
          1993,
          1994,
          1995,
          1996,
          1997,
          1998,
          1999,
          2000,
          2001,
          2002,
          2003,
          2004,
          2005,
          2006,
          2007,
          2008,
          2009,
          2010,
          2011,
          2012,
          2013,
          2014,
          2015,
          1990,
          1991,
          1992,
          1993,
          1994,
          1995,
          1996,
          1999,
          2000,
          2001,
          2002,
          2003,
          2004,
          2005,
          2006,
          2007,
          2008,
          2009,
          2010,
          2011,
          2012,
          2013,
          2014,
          2015,
          1990,
          1991,
          1992,
          1993,
          1994,
          1995,
          1996,
          1997,
          1998,
          1999,
          2000,
          2001,
          2005,
          2006,
          2007,
          2008,
          2009,
          2010,
          2011,
          2012,
          2013,
          2014,
          2015,
          1990,
          1991,
          1992,
          1993,
          1994,
          1995,
          1996,
          1997,
          1998,
          1999,
          2000,
          2001,
          2002,
          2003,
          2004,
          2005,
          2006,
          2007,
          2008,
          2009,
          2010,
          2011,
          2012,
          2013,
          2014,
          2015,
          1990,
          1991,
          1992,
          1993,
          1994,
          1995,
          1996,
          1997,
          1998,
          1999,
          2000,
          2001,
          2002,
          2003,
          2004,
          2005,
          2006,
          2007,
          2008,
          2009,
          2010,
          2011,
          2012,
          2013,
          2014,
          2015,
          1990,
          1991,
          1992,
          1993,
          1994,
          1995,
          1996,
          1997,
          1998,
          1999,
          2000,
          2001,
          2002,
          2003,
          2004,
          2005,
          2006,
          2007,
          2008,
          2009,
          2010,
          2011,
          2012,
          2013,
          2014,
          2015,
          1990,
          1991,
          1992,
          1993,
          1994,
          1995,
          1996,
          1997,
          1998,
          1999,
          2000,
          2001,
          2002,
          2003,
          2004,
          2005,
          2006,
          2007,
          2008,
          2009,
          2010,
          2011,
          2012,
          2013,
          2014,
          2015,
          1990,
          1991,
          1992,
          1993,
          1994,
          1995,
          1996,
          1997,
          1998,
          1999,
          2000,
          2001,
          2002,
          2003,
          2004,
          2005,
          2006,
          2007,
          2008,
          2009,
          2010,
          2011,
          2012,
          2013,
          2014,
          2015,
          1990,
          1991,
          1992,
          1993,
          1994,
          1995,
          1996,
          1997,
          1998,
          1999,
          2000,
          2001,
          2002,
          2003,
          2004,
          2005,
          2006,
          2007,
          2008,
          2009,
          2010,
          2011,
          2012,
          2013,
          2014,
          2015,
          1990,
          1991,
          1992,
          1993,
          1994,
          1995,
          2002,
          2009,
          2010,
          2011,
          2012,
          1990,
          1991,
          1992,
          1993,
          1994,
          1995,
          1996,
          1997,
          1998,
          1999,
          2000,
          2001,
          2002,
          2003,
          2004,
          2005,
          2006,
          2007,
          2008,
          2009,
          2010,
          2011,
          2012,
          2013,
          2014,
          2015,
          1990,
          1991,
          1992,
          1993,
          1994,
          1995,
          2005,
          2006,
          2007,
          2008,
          2009,
          2010,
          2011,
          2012,
          2013,
          2014,
          2015,
          1990,
          1991,
          1992,
          1993,
          1994,
          1995,
          1996,
          1997,
          1998,
          1999,
          2000,
          2001,
          2002,
          2003,
          2004,
          2005,
          2006,
          2007,
          2008,
          2009,
          2010,
          2011,
          2012,
          2013,
          2014,
          2015,
          1990,
          1991,
          1992,
          1993,
          1994,
          1995,
          1996,
          1997,
          1998,
          1999,
          2000,
          2001,
          2002,
          2003,
          2004,
          2005,
          2006,
          2007,
          2008,
          2009,
          2010,
          2011,
          2012,
          2013,
          2014,
          2015,
          1990,
          1991,
          1992,
          1993,
          1994,
          1995,
          1996,
          1997,
          1998,
          1999,
          2000,
          2001,
          2002,
          2003,
          2004,
          2005,
          2006,
          2007,
          2008,
          2009,
          2010,
          2011,
          2012,
          2013,
          2014,
          2015,
          1990,
          1991,
          1992,
          1993,
          1994,
          1995,
          1996,
          1997,
          1998,
          1999,
          2000,
          2001,
          2002,
          2003,
          2004,
          2005,
          2006,
          2007,
          2008,
          2009,
          2010,
          2011,
          2012,
          2013,
          2014,
          2015,
          1990,
          1991,
          1992,
          1993,
          1994,
          1995,
          1996,
          1997,
          1998,
          1999,
          2000,
          2001,
          2002,
          2003,
          2004,
          2005,
          2006,
          2007,
          2008,
          2009,
          2010,
          2011,
          2012,
          2013,
          2014,
          2015,
          1990,
          1991,
          1992,
          1993,
          1994,
          1995,
          1996,
          1997,
          1998,
          1999,
          2000,
          2001,
          2002,
          2003,
          2004,
          2005,
          2006,
          2007,
          2008,
          2009,
          2010,
          2011,
          2012,
          2013,
          2014,
          2015,
          1990,
          1991,
          1992,
          1993,
          1994,
          1995,
          1996,
          1997,
          1998,
          1999,
          2000,
          2001,
          2002,
          2003,
          2004,
          2005,
          2006,
          2007,
          2008,
          2009,
          2010,
          2011,
          2012,
          2013,
          2014,
          2015,
          1990,
          1991,
          1992,
          1993,
          1994,
          1995,
          1996,
          1997,
          1998,
          1999,
          2000,
          2001,
          2002,
          2003,
          2004,
          2005,
          2006,
          2007,
          2008,
          2009,
          2010,
          2011,
          2012,
          2013,
          2014,
          2015,
          1990,
          1991,
          1992,
          1993,
          1994,
          1995,
          1996,
          1997,
          1998,
          1999,
          2000,
          2001,
          2002,
          2003,
          2004,
          2005,
          2006,
          2007,
          2008,
          2009,
          2010,
          2011,
          2012,
          2013,
          2014,
          2015,
          1990,
          1991,
          1992,
          1993,
          1994,
          1995,
          1996,
          1997,
          1998,
          1999,
          2000,
          2001,
          2002,
          2003,
          2004,
          2005,
          2006,
          2007,
          2008,
          2009,
          2010,
          2011,
          2012,
          2013,
          2014,
          2015,
          1990,
          1991,
          1992,
          1993,
          1994,
          1995,
          1997,
          1998,
          1999,
          2000,
          2001,
          2002,
          2003,
          2004,
          2005,
          2006,
          2007,
          2008,
          2009,
          2010,
          2011,
          2012,
          1990,
          1991,
          1992,
          1993,
          1994,
          1995,
          1996,
          1997,
          1998,
          1999,
          2000,
          2001,
          2002,
          2003,
          2004,
          2005,
          2006,
          2007,
          2008,
          2009,
          2010,
          2011,
          2012,
          2013,
          2014,
          2015,
          1990,
          1991,
          1992,
          1993,
          1994,
          1995,
          1996,
          1997,
          1998,
          1999,
          2000,
          2001,
          2002,
          2003,
          2004,
          2005,
          2006,
          2007,
          2008,
          2009,
          2010,
          2011,
          2012,
          2013,
          2014,
          2015,
          1990,
          1991,
          1992,
          1993,
          1994,
          1995,
          1996,
          1997,
          1998,
          1999,
          2000,
          2001,
          2002,
          2003,
          2004,
          2005,
          2006,
          2007,
          2008,
          2009,
          2010,
          2011,
          2012,
          2013,
          2014,
          2015,
          1990,
          1991,
          1992,
          1993,
          1994,
          1995,
          1996,
          1997,
          1998,
          1999,
          2000,
          2001,
          2002,
          2003,
          2004,
          2005,
          2006,
          2007,
          2008,
          2009,
          2010,
          2011,
          2012,
          2013,
          2014,
          2015,
          1990,
          1991,
          1992,
          1993,
          1994,
          1995,
          1996,
          1997,
          1998,
          1999,
          2000,
          2001,
          2002,
          2003,
          2004,
          2005,
          2006,
          2007,
          2008,
          2009,
          2010,
          2011,
          2012,
          2013,
          2014,
          2015,
          1990,
          1991,
          1992,
          1993,
          1994,
          1995,
          1996,
          1997,
          1998,
          1999,
          2000,
          2001,
          2002,
          2003,
          2004,
          2005,
          2006,
          2007,
          2008,
          2009,
          2010,
          2011,
          2012,
          2013,
          2014,
          2015,
          1990,
          1991,
          1992,
          1993,
          1994,
          1995,
          1996,
          1997,
          1998,
          1999,
          2000,
          2001,
          2002,
          2003,
          2004,
          2005,
          2006,
          2007,
          2008,
          2009,
          2010,
          2011,
          2012,
          2013,
          2014,
          2015,
          1990,
          1991,
          1992,
          1993,
          1994,
          1995,
          1996,
          1997,
          1998,
          1999,
          2000,
          2001,
          2002,
          2003,
          2004,
          2005,
          2006,
          2007,
          2008,
          2009,
          2010,
          2011,
          2012,
          2013,
          2014,
          2015,
          1990,
          1991,
          1992,
          1993,
          1994,
          1995,
          1996,
          1997,
          1998,
          1999,
          2000,
          2001,
          2002,
          2003,
          2004,
          2005,
          2006,
          2007,
          2008,
          2009,
          2010,
          2011,
          2012,
          2013,
          2014,
          2015,
          1990,
          1991,
          1992,
          1993,
          1994,
          1995,
          1996,
          1997,
          1998,
          1999,
          2000,
          2001,
          2002,
          2003,
          2004,
          2005,
          2006,
          2007,
          2008,
          2009,
          2010,
          2011,
          2012,
          2013,
          2014,
          2015,
          1990,
          1991,
          1992,
          1993,
          1994,
          1995,
          1996,
          1997,
          1998,
          1999,
          2000,
          2001,
          2002,
          2003,
          2004,
          2005,
          2006,
          2007,
          2008,
          2009,
          2010,
          2011,
          2012,
          2013,
          2014,
          2015,
          1990,
          1991,
          1992,
          1993,
          1994,
          1995,
          2000,
          2001,
          2002,
          2003,
          2004,
          2005,
          2006,
          2007,
          2008,
          2009,
          2010,
          2011,
          2012,
          2013,
          2014,
          2015,
          1990,
          1991,
          1992,
          1993,
          1994,
          1995,
          1996,
          1997,
          1998,
          1999,
          2000,
          2001,
          2002,
          2003,
          2004,
          2005,
          2006,
          2007,
          2008,
          2009,
          2010,
          2011,
          2012,
          2013,
          2014,
          2015,
          1990,
          1991,
          1992,
          1993,
          1994,
          1995,
          1996,
          1997,
          1998,
          1999,
          2000,
          2001,
          2002,
          2003,
          2004,
          2005,
          2006,
          2007,
          2008,
          2009,
          2010,
          2011,
          2012,
          2013,
          2014,
          2015,
          1990,
          1991,
          1992,
          1993,
          1994,
          1995,
          1996,
          1997,
          1998,
          1999,
          2000,
          2001,
          2002,
          2003,
          2004,
          2005,
          2006,
          2007,
          2008,
          2009,
          2010,
          2011,
          2012,
          2013,
          2014,
          2015,
          1990,
          1991,
          1992,
          1993,
          1994,
          1995,
          2000,
          2001,
          2002,
          2003,
          2004,
          2005,
          2006,
          2007,
          2008,
          2009,
          2010,
          2011,
          2012,
          2013,
          2014,
          2015,
          1990,
          1991,
          1992,
          1993,
          1994,
          1995,
          2001,
          2011,
          1990,
          1991,
          1992,
          1993,
          1994,
          1995,
          1996,
          1997,
          1998,
          1999,
          2000,
          2001,
          2002,
          2003,
          2004,
          2005,
          2006,
          2007,
          2008,
          2009,
          2010,
          2011,
          2012,
          2013,
          2014,
          2015,
          1990,
          1991,
          1992,
          1993,
          1994,
          1995,
          1996,
          1997,
          1998,
          1999,
          2000,
          2001,
          2002,
          2003,
          2004,
          2005,
          2006,
          2007,
          2008,
          2009,
          2010,
          2011,
          2012,
          2013,
          2014,
          2015,
          1990,
          1991,
          1992,
          1993,
          1994,
          1995,
          1996,
          1997,
          1998,
          1999,
          2000,
          2001,
          2002,
          2003,
          2004,
          2005,
          2006,
          2007,
          2008,
          2009,
          2010,
          2011,
          2012,
          2013,
          2014,
          2015,
          1990,
          1991,
          1992,
          1993,
          1994,
          1995,
          1990,
          1991,
          1992,
          1993,
          1994,
          1995,
          1996,
          1997,
          1998,
          1999,
          2000,
          2001,
          2002,
          2003,
          2004,
          2005,
          2006,
          2007,
          2008,
          2009,
          2010,
          2011,
          2012,
          2013,
          2014,
          2015,
          1990,
          1991,
          1992,
          1993,
          1994,
          1995,
          1996,
          1997,
          1998,
          1999,
          2000,
          2001,
          2002,
          2003,
          2004,
          2005,
          2006,
          2007,
          2008,
          2009,
          2010,
          2011,
          2012,
          2013,
          2014,
          2015,
          1990,
          1991,
          1992,
          1993,
          1994,
          1995,
          2002,
          2003,
          2004,
          1990,
          1991,
          1992,
          1993,
          1994,
          1995,
          1996,
          1997,
          1998,
          1999,
          2000,
          2001,
          2002,
          2003,
          2004,
          2005,
          2006,
          2007,
          2008,
          2009,
          2010,
          2011,
          2012,
          2013,
          2014,
          2015,
          1990,
          1991,
          1992,
          1993,
          1994,
          1995,
          1996,
          1997,
          1998,
          1999,
          2000,
          2001,
          2002,
          2003,
          2004,
          2005,
          2006,
          2007,
          2008,
          2009,
          2010,
          2011,
          2012,
          2013,
          2014,
          2015,
          1990,
          1991,
          1992,
          1993,
          1994,
          1995,
          1996,
          1997,
          1998,
          1999,
          2000,
          2001,
          2002,
          2003,
          2004,
          2005,
          2006,
          2007,
          2008,
          2009,
          2010,
          2011,
          2012,
          2013,
          2015,
          1990,
          1991,
          1992,
          1993,
          1994,
          1995,
          1996,
          1997,
          1998,
          1999,
          2000,
          2001,
          2002,
          2003,
          2004,
          2005,
          2006,
          2007,
          2008,
          2009,
          2010,
          2011,
          2012,
          2013,
          2014,
          2015,
          1990,
          1991,
          1992,
          1993,
          1994,
          1995,
          1996,
          1997,
          1998,
          1999,
          2000,
          2001,
          2002,
          2003,
          2004,
          2005,
          2006,
          2007,
          2008,
          2009,
          2010,
          2011,
          2012,
          2013,
          2014,
          2015,
          1990,
          1991,
          1992,
          1993,
          1994,
          1995,
          1996,
          1997,
          1998,
          1999,
          2000,
          2001,
          2002,
          2003,
          2004,
          2005,
          2006,
          2007,
          2008,
          2009,
          2011,
          1990,
          1991,
          1992,
          1993,
          1994,
          1995,
          1996,
          1997,
          1998,
          1999,
          2000,
          2001,
          2002,
          2003,
          2004,
          2005,
          2006,
          2007,
          2008,
          2009,
          2010,
          2011,
          2012,
          2013,
          2014,
          2015,
          1990,
          1991,
          1992,
          1993,
          1994,
          1995,
          1996,
          1997,
          1998,
          1999,
          2000,
          2001,
          2002,
          2003,
          2004,
          2005,
          2006,
          2007,
          2008,
          2010,
          2011,
          2012,
          2013,
          2014,
          2015,
          1990,
          1991,
          1992,
          1993,
          1994,
          1995,
          1996,
          1997,
          1998,
          1999,
          2000,
          2001,
          2002,
          2003,
          2004,
          2005,
          2006,
          2007,
          2008,
          2009,
          2010,
          2011,
          2012,
          2013,
          2014,
          2015,
          1990,
          1991,
          1992,
          1993,
          1994,
          1995,
          1996,
          1997,
          1998,
          1999,
          2000,
          2001,
          2002,
          2003,
          2004,
          2005,
          2006,
          2007,
          2008,
          2009,
          2010,
          2011,
          2012,
          2013,
          2014,
          2015,
          1990,
          1991,
          1992,
          1993,
          1994,
          1995,
          1996,
          1997,
          1998,
          1999,
          2000,
          2001,
          2002,
          2003,
          2004,
          2005,
          2006,
          2007,
          2008,
          2009,
          2010,
          2011,
          2012,
          2013,
          2014,
          2015,
          1990,
          1991,
          1992,
          1993,
          1994,
          1995,
          1996,
          1997,
          1998,
          1999,
          2000,
          2001,
          2002,
          2003,
          2004,
          2005,
          2006,
          2007,
          2008,
          2009,
          2010,
          2011,
          2012,
          2013,
          2014,
          2015,
          1990,
          1991,
          1992,
          1993,
          1994,
          1995,
          1996,
          1997,
          1998,
          1999,
          2000,
          2001,
          2002,
          2003,
          2004,
          2005,
          2006,
          2007,
          2008,
          2009,
          2010,
          2011,
          2012,
          2013,
          2014,
          2015,
          1990,
          1991,
          1992,
          1993,
          1994,
          1995,
          1996,
          1997,
          1998,
          1999,
          2000,
          2001,
          2002,
          2003,
          2004,
          2005,
          2006,
          2007,
          2008,
          2009,
          2010,
          2011,
          2012,
          2013,
          2014,
          2015,
          1990,
          1991,
          1992,
          1993,
          1994,
          1995,
          1996,
          1997,
          1998,
          1999,
          2000,
          2001,
          2002,
          2003,
          2004,
          2005,
          2006,
          2007,
          2008,
          2009,
          2010,
          2011,
          2012,
          2013,
          2014,
          2015,
          1990,
          1991,
          1992,
          1993,
          1994,
          1995,
          1990,
          1991,
          1992,
          1993,
          1994,
          1995,
          1996,
          1997,
          1998,
          1999,
          2000,
          2001,
          2002,
          2003,
          2004,
          2005,
          2006,
          2007,
          2008,
          2009,
          2010,
          2011,
          2012,
          2013,
          2014,
          2015,
          1990,
          1991,
          1992,
          1993,
          1994,
          1995,
          1996,
          1997,
          1998,
          1999,
          2000,
          2001,
          2002,
          2003,
          2004,
          2005,
          2006,
          2007,
          2008,
          2009,
          2010,
          2011,
          2012,
          2013,
          2014,
          2015,
          1990,
          1991,
          1992,
          1993,
          1994,
          1995,
          1996,
          1997,
          1998,
          1999,
          2000,
          2001,
          2002,
          2003,
          2004,
          2005,
          2006,
          2007,
          2008,
          2009,
          2010,
          2011,
          2012,
          2013,
          2014,
          2015,
          1990,
          1991,
          1992,
          1993,
          1994,
          1995,
          1996,
          1997,
          1998,
          1999,
          2000,
          2001,
          2002,
          2003,
          2004,
          2005,
          2006,
          2007,
          2008,
          2009,
          2010,
          2011,
          2012,
          2013,
          2014,
          2015,
          2016,
          2017,
          2016,
          2017,
          2016,
          2017,
          2018,
          2019,
          2020,
          2016,
          2016,
          2017,
          2018,
          2019,
          2020,
          2016,
          2017,
          2018,
          2019,
          2020,
          2016,
          2017,
          2018,
          2019,
          2020,
          2016,
          2017,
          2018,
          2019,
          2020,
          2016,
          2017,
          2016,
          2017,
          2016,
          2017,
          2018,
          2019,
          2020,
          2016,
          2017,
          2018,
          2019,
          2020,
          2016,
          2017,
          2018,
          2019,
          2020,
          2016,
          2017,
          2018,
          2019,
          2020,
          2016,
          2017,
          2016,
          2017,
          2018,
          2019,
          2020,
          2016,
          2017,
          2018,
          2019,
          2020,
          2016,
          2017,
          2018,
          2019,
          2020,
          2016,
          2017,
          2018,
          2019,
          2020,
          2016,
          2017,
          2018,
          2019,
          2020,
          2016,
          2017,
          2018,
          2019,
          2020,
          2016,
          2017,
          2018,
          2019,
          2020,
          2016,
          2017,
          2018,
          2019,
          2020,
          2016,
          2017,
          2016,
          2016,
          2017,
          2018,
          2019,
          2020,
          2016,
          2017,
          2016,
          2017,
          2016,
          2017,
          2018,
          2019,
          2020,
          2016,
          2017,
          2018,
          2019,
          2020,
          2016,
          2017,
          2018,
          2019,
          2020,
          2016,
          2017,
          2018,
          2019,
          2020,
          2016,
          2017,
          2018,
          2019,
          2020,
          2016,
          2017,
          2018,
          2019,
          2020,
          2016,
          2017,
          2018,
          2019,
          2020,
          2016,
          2017,
          2018,
          2019,
          2020,
          2016,
          2017,
          2016,
          2017,
          2018,
          2019,
          2020,
          2016,
          2017,
          2018,
          2019,
          2020,
          2016,
          2017,
          2018,
          2019,
          2020,
          2016,
          2017,
          2016,
          2017,
          2018,
          2019,
          2020,
          2017,
          2016,
          2017,
          2018,
          2019,
          2020,
          2016,
          2017,
          2018,
          2019,
          2020,
          2017,
          2016,
          2017,
          2018,
          2019,
          2020,
          2016,
          2017,
          2018,
          2019,
          2020,
          2016,
          2017,
          2018,
          2019,
          2020,
          2016,
          2017,
          2018,
          2019,
          2016,
          2017,
          2018,
          2019,
          2020,
          2016,
          2017,
          2016,
          2017,
          2018,
          2019,
          2020,
          2016,
          2017,
          2018,
          2019,
          2020,
          2016,
          2017,
          2018,
          2019,
          2020,
          2017,
          2016,
          2017,
          2018,
          2019,
          2020,
          2016,
          2017,
          2018,
          2019,
          2020,
          2016,
          2017,
          2018,
          2019,
          2020,
          2016,
          2017,
          2016,
          2017,
          2018,
          2019,
          2020,
          2016,
          2017,
          2018,
          2019,
          2020,
          2016,
          2017
         ],
         "yaxis": "y"
        }
       ],
       "layout": {
        "height": 600,
        "legend": {
         "title": {
          "text": "Grupo de Ingresos"
         },
         "tracegroupgap": 0
        },
        "template": {
         "data": {
          "bar": [
           {
            "error_x": {
             "color": "#2a3f5f"
            },
            "error_y": {
             "color": "#2a3f5f"
            },
            "marker": {
             "line": {
              "color": "#E5ECF6",
              "width": 0.5
             },
             "pattern": {
              "fillmode": "overlay",
              "size": 10,
              "solidity": 0.2
             }
            },
            "type": "bar"
           }
          ],
          "barpolar": [
           {
            "marker": {
             "line": {
              "color": "#E5ECF6",
              "width": 0.5
             },
             "pattern": {
              "fillmode": "overlay",
              "size": 10,
              "solidity": 0.2
             }
            },
            "type": "barpolar"
           }
          ],
          "carpet": [
           {
            "aaxis": {
             "endlinecolor": "#2a3f5f",
             "gridcolor": "white",
             "linecolor": "white",
             "minorgridcolor": "white",
             "startlinecolor": "#2a3f5f"
            },
            "baxis": {
             "endlinecolor": "#2a3f5f",
             "gridcolor": "white",
             "linecolor": "white",
             "minorgridcolor": "white",
             "startlinecolor": "#2a3f5f"
            },
            "type": "carpet"
           }
          ],
          "choropleth": [
           {
            "colorbar": {
             "outlinewidth": 0,
             "ticks": ""
            },
            "type": "choropleth"
           }
          ],
          "contour": [
           {
            "colorbar": {
             "outlinewidth": 0,
             "ticks": ""
            },
            "colorscale": [
             [
              0,
              "#0d0887"
             ],
             [
              0.1111111111111111,
              "#46039f"
             ],
             [
              0.2222222222222222,
              "#7201a8"
             ],
             [
              0.3333333333333333,
              "#9c179e"
             ],
             [
              0.4444444444444444,
              "#bd3786"
             ],
             [
              0.5555555555555556,
              "#d8576b"
             ],
             [
              0.6666666666666666,
              "#ed7953"
             ],
             [
              0.7777777777777778,
              "#fb9f3a"
             ],
             [
              0.8888888888888888,
              "#fdca26"
             ],
             [
              1,
              "#f0f921"
             ]
            ],
            "type": "contour"
           }
          ],
          "contourcarpet": [
           {
            "colorbar": {
             "outlinewidth": 0,
             "ticks": ""
            },
            "type": "contourcarpet"
           }
          ],
          "heatmap": [
           {
            "colorbar": {
             "outlinewidth": 0,
             "ticks": ""
            },
            "colorscale": [
             [
              0,
              "#0d0887"
             ],
             [
              0.1111111111111111,
              "#46039f"
             ],
             [
              0.2222222222222222,
              "#7201a8"
             ],
             [
              0.3333333333333333,
              "#9c179e"
             ],
             [
              0.4444444444444444,
              "#bd3786"
             ],
             [
              0.5555555555555556,
              "#d8576b"
             ],
             [
              0.6666666666666666,
              "#ed7953"
             ],
             [
              0.7777777777777778,
              "#fb9f3a"
             ],
             [
              0.8888888888888888,
              "#fdca26"
             ],
             [
              1,
              "#f0f921"
             ]
            ],
            "type": "heatmap"
           }
          ],
          "heatmapgl": [
           {
            "colorbar": {
             "outlinewidth": 0,
             "ticks": ""
            },
            "colorscale": [
             [
              0,
              "#0d0887"
             ],
             [
              0.1111111111111111,
              "#46039f"
             ],
             [
              0.2222222222222222,
              "#7201a8"
             ],
             [
              0.3333333333333333,
              "#9c179e"
             ],
             [
              0.4444444444444444,
              "#bd3786"
             ],
             [
              0.5555555555555556,
              "#d8576b"
             ],
             [
              0.6666666666666666,
              "#ed7953"
             ],
             [
              0.7777777777777778,
              "#fb9f3a"
             ],
             [
              0.8888888888888888,
              "#fdca26"
             ],
             [
              1,
              "#f0f921"
             ]
            ],
            "type": "heatmapgl"
           }
          ],
          "histogram": [
           {
            "marker": {
             "pattern": {
              "fillmode": "overlay",
              "size": 10,
              "solidity": 0.2
             }
            },
            "type": "histogram"
           }
          ],
          "histogram2d": [
           {
            "colorbar": {
             "outlinewidth": 0,
             "ticks": ""
            },
            "colorscale": [
             [
              0,
              "#0d0887"
             ],
             [
              0.1111111111111111,
              "#46039f"
             ],
             [
              0.2222222222222222,
              "#7201a8"
             ],
             [
              0.3333333333333333,
              "#9c179e"
             ],
             [
              0.4444444444444444,
              "#bd3786"
             ],
             [
              0.5555555555555556,
              "#d8576b"
             ],
             [
              0.6666666666666666,
              "#ed7953"
             ],
             [
              0.7777777777777778,
              "#fb9f3a"
             ],
             [
              0.8888888888888888,
              "#fdca26"
             ],
             [
              1,
              "#f0f921"
             ]
            ],
            "type": "histogram2d"
           }
          ],
          "histogram2dcontour": [
           {
            "colorbar": {
             "outlinewidth": 0,
             "ticks": ""
            },
            "colorscale": [
             [
              0,
              "#0d0887"
             ],
             [
              0.1111111111111111,
              "#46039f"
             ],
             [
              0.2222222222222222,
              "#7201a8"
             ],
             [
              0.3333333333333333,
              "#9c179e"
             ],
             [
              0.4444444444444444,
              "#bd3786"
             ],
             [
              0.5555555555555556,
              "#d8576b"
             ],
             [
              0.6666666666666666,
              "#ed7953"
             ],
             [
              0.7777777777777778,
              "#fb9f3a"
             ],
             [
              0.8888888888888888,
              "#fdca26"
             ],
             [
              1,
              "#f0f921"
             ]
            ],
            "type": "histogram2dcontour"
           }
          ],
          "mesh3d": [
           {
            "colorbar": {
             "outlinewidth": 0,
             "ticks": ""
            },
            "type": "mesh3d"
           }
          ],
          "parcoords": [
           {
            "line": {
             "colorbar": {
              "outlinewidth": 0,
              "ticks": ""
             }
            },
            "type": "parcoords"
           }
          ],
          "pie": [
           {
            "automargin": true,
            "type": "pie"
           }
          ],
          "scatter": [
           {
            "fillpattern": {
             "fillmode": "overlay",
             "size": 10,
             "solidity": 0.2
            },
            "type": "scatter"
           }
          ],
          "scatter3d": [
           {
            "line": {
             "colorbar": {
              "outlinewidth": 0,
              "ticks": ""
             }
            },
            "marker": {
             "colorbar": {
              "outlinewidth": 0,
              "ticks": ""
             }
            },
            "type": "scatter3d"
           }
          ],
          "scattercarpet": [
           {
            "marker": {
             "colorbar": {
              "outlinewidth": 0,
              "ticks": ""
             }
            },
            "type": "scattercarpet"
           }
          ],
          "scattergeo": [
           {
            "marker": {
             "colorbar": {
              "outlinewidth": 0,
              "ticks": ""
             }
            },
            "type": "scattergeo"
           }
          ],
          "scattergl": [
           {
            "marker": {
             "colorbar": {
              "outlinewidth": 0,
              "ticks": ""
             }
            },
            "type": "scattergl"
           }
          ],
          "scattermapbox": [
           {
            "marker": {
             "colorbar": {
              "outlinewidth": 0,
              "ticks": ""
             }
            },
            "type": "scattermapbox"
           }
          ],
          "scatterpolar": [
           {
            "marker": {
             "colorbar": {
              "outlinewidth": 0,
              "ticks": ""
             }
            },
            "type": "scatterpolar"
           }
          ],
          "scatterpolargl": [
           {
            "marker": {
             "colorbar": {
              "outlinewidth": 0,
              "ticks": ""
             }
            },
            "type": "scatterpolargl"
           }
          ],
          "scatterternary": [
           {
            "marker": {
             "colorbar": {
              "outlinewidth": 0,
              "ticks": ""
             }
            },
            "type": "scatterternary"
           }
          ],
          "surface": [
           {
            "colorbar": {
             "outlinewidth": 0,
             "ticks": ""
            },
            "colorscale": [
             [
              0,
              "#0d0887"
             ],
             [
              0.1111111111111111,
              "#46039f"
             ],
             [
              0.2222222222222222,
              "#7201a8"
             ],
             [
              0.3333333333333333,
              "#9c179e"
             ],
             [
              0.4444444444444444,
              "#bd3786"
             ],
             [
              0.5555555555555556,
              "#d8576b"
             ],
             [
              0.6666666666666666,
              "#ed7953"
             ],
             [
              0.7777777777777778,
              "#fb9f3a"
             ],
             [
              0.8888888888888888,
              "#fdca26"
             ],
             [
              1,
              "#f0f921"
             ]
            ],
            "type": "surface"
           }
          ],
          "table": [
           {
            "cells": {
             "fill": {
              "color": "#EBF0F8"
             },
             "line": {
              "color": "white"
             }
            },
            "header": {
             "fill": {
              "color": "#C8D4E3"
             },
             "line": {
              "color": "white"
             }
            },
            "type": "table"
           }
          ]
         },
         "layout": {
          "annotationdefaults": {
           "arrowcolor": "#2a3f5f",
           "arrowhead": 0,
           "arrowwidth": 1
          },
          "autotypenumbers": "strict",
          "coloraxis": {
           "colorbar": {
            "outlinewidth": 0,
            "ticks": ""
           }
          },
          "colorscale": {
           "diverging": [
            [
             0,
             "#8e0152"
            ],
            [
             0.1,
             "#c51b7d"
            ],
            [
             0.2,
             "#de77ae"
            ],
            [
             0.3,
             "#f1b6da"
            ],
            [
             0.4,
             "#fde0ef"
            ],
            [
             0.5,
             "#f7f7f7"
            ],
            [
             0.6,
             "#e6f5d0"
            ],
            [
             0.7,
             "#b8e186"
            ],
            [
             0.8,
             "#7fbc41"
            ],
            [
             0.9,
             "#4d9221"
            ],
            [
             1,
             "#276419"
            ]
           ],
           "sequential": [
            [
             0,
             "#0d0887"
            ],
            [
             0.1111111111111111,
             "#46039f"
            ],
            [
             0.2222222222222222,
             "#7201a8"
            ],
            [
             0.3333333333333333,
             "#9c179e"
            ],
            [
             0.4444444444444444,
             "#bd3786"
            ],
            [
             0.5555555555555556,
             "#d8576b"
            ],
            [
             0.6666666666666666,
             "#ed7953"
            ],
            [
             0.7777777777777778,
             "#fb9f3a"
            ],
            [
             0.8888888888888888,
             "#fdca26"
            ],
            [
             1,
             "#f0f921"
            ]
           ],
           "sequentialminus": [
            [
             0,
             "#0d0887"
            ],
            [
             0.1111111111111111,
             "#46039f"
            ],
            [
             0.2222222222222222,
             "#7201a8"
            ],
            [
             0.3333333333333333,
             "#9c179e"
            ],
            [
             0.4444444444444444,
             "#bd3786"
            ],
            [
             0.5555555555555556,
             "#d8576b"
            ],
            [
             0.6666666666666666,
             "#ed7953"
            ],
            [
             0.7777777777777778,
             "#fb9f3a"
            ],
            [
             0.8888888888888888,
             "#fdca26"
            ],
            [
             1,
             "#f0f921"
            ]
           ]
          },
          "colorway": [
           "#636efa",
           "#EF553B",
           "#00cc96",
           "#ab63fa",
           "#FFA15A",
           "#19d3f3",
           "#FF6692",
           "#B6E880",
           "#FF97FF",
           "#FECB52"
          ],
          "font": {
           "color": "#2a3f5f"
          },
          "geo": {
           "bgcolor": "white",
           "lakecolor": "white",
           "landcolor": "#E5ECF6",
           "showlakes": true,
           "showland": true,
           "subunitcolor": "white"
          },
          "hoverlabel": {
           "align": "left"
          },
          "hovermode": "closest",
          "mapbox": {
           "style": "light"
          },
          "paper_bgcolor": "white",
          "plot_bgcolor": "#E5ECF6",
          "polar": {
           "angularaxis": {
            "gridcolor": "white",
            "linecolor": "white",
            "ticks": ""
           },
           "bgcolor": "#E5ECF6",
           "radialaxis": {
            "gridcolor": "white",
            "linecolor": "white",
            "ticks": ""
           }
          },
          "scene": {
           "xaxis": {
            "backgroundcolor": "#E5ECF6",
            "gridcolor": "white",
            "gridwidth": 2,
            "linecolor": "white",
            "showbackground": true,
            "ticks": "",
            "zerolinecolor": "white"
           },
           "yaxis": {
            "backgroundcolor": "#E5ECF6",
            "gridcolor": "white",
            "gridwidth": 2,
            "linecolor": "white",
            "showbackground": true,
            "ticks": "",
            "zerolinecolor": "white"
           },
           "zaxis": {
            "backgroundcolor": "#E5ECF6",
            "gridcolor": "white",
            "gridwidth": 2,
            "linecolor": "white",
            "showbackground": true,
            "ticks": "",
            "zerolinecolor": "white"
           }
          },
          "shapedefaults": {
           "line": {
            "color": "#2a3f5f"
           }
          },
          "ternary": {
           "aaxis": {
            "gridcolor": "white",
            "linecolor": "white",
            "ticks": ""
           },
           "baxis": {
            "gridcolor": "white",
            "linecolor": "white",
            "ticks": ""
           },
           "bgcolor": "#E5ECF6",
           "caxis": {
            "gridcolor": "white",
            "linecolor": "white",
            "ticks": ""
           }
          },
          "title": {
           "x": 0.05
          },
          "xaxis": {
           "automargin": true,
           "gridcolor": "white",
           "linecolor": "white",
           "ticks": "",
           "title": {
            "standoff": 15
           },
           "zerolinecolor": "white",
           "zerolinewidth": 2
          },
          "yaxis": {
           "automargin": true,
           "gridcolor": "white",
           "linecolor": "white",
           "ticks": "",
           "title": {
            "standoff": 15
           },
           "zerolinecolor": "white",
           "zerolinewidth": 2
          }
         }
        },
        "title": {
         "text": "Tasa Internet User(%) distinta a cero"
        },
        "width": 1000,
        "xaxis": {
         "anchor": "y",
         "domain": [
          0,
          1
         ],
         "title": {
          "text": "Internet users (%)"
         }
        },
        "yaxis": {
         "anchor": "x",
         "domain": [
          0,
          1
         ],
         "title": {
          "text": "Year"
         }
        }
       }
      }
     },
     "metadata": {},
     "output_type": "display_data"
    }
   ],
   "source": [
    "px.scatter(df_countries,x='Internet users (%)', y='Year',title='Tasa Internet User(%) distinta a cero',color='Grupo de Ingresos',width=1000, height=600,color_discrete_sequence=px.colors.sequential.RdBu_r[::-1])"
   ]
  },
  {
   "cell_type": "markdown",
   "metadata": {},
   "source": [
    "## Analizamos la variable Internet User(%)"
   ]
  },
  {
   "cell_type": "markdown",
   "metadata": {},
   "source": [
    "### Grafica de la evolución por países"
   ]
  },
  {
   "cell_type": "code",
   "execution_count": 13,
   "metadata": {},
   "outputs": [
    {
     "data": {
      "application/vnd.plotly.v1+json": {
       "config": {
        "plotlyServerURL": "https://plot.ly"
       },
       "data": [
        {
         "hovertemplate": "Year=%{x}<br>Internet users (%)=%{y}<extra></extra>",
         "legendgroup": "",
         "line": {
          "color": "rgb(103,0,31)",
          "dash": "solid"
         },
         "marker": {
          "symbol": "circle"
         },
         "mode": "lines",
         "name": "",
         "orientation": "v",
         "showlegend": false,
         "type": "scatter",
         "x": [
          1990,
          1991,
          1992,
          1993,
          1994,
          1995,
          1996,
          1997,
          1998,
          1999,
          2000,
          2001,
          2002,
          2003,
          2004,
          2005,
          2006,
          2007,
          2008,
          2009,
          2010,
          2011,
          2012,
          2013,
          2014,
          2015,
          2016,
          2017,
          2018,
          2019,
          2020
         ],
         "xaxis": "x",
         "y": [
          0.784728502,
          1.163193726,
          1.724202539,
          2.271673294,
          4.862780635,
          9.237088297,
          16.41935296,
          21.61640097,
          30.09319659,
          35.84872446,
          43.07916264,
          49.08083159,
          58.78540388,
          61.69711712,
          64.75825648,
          67.96805292,
          68.93119327,
          75,
          74,
          71,
          71.69,
          69.72946076,
          74.7,
          71.4,
          73,
          74.55420245,
          85.54442129,
          87.27488917,
          88.49890317,
          89.43028486,
          90.9
         ],
         "yaxis": "y"
        }
       ],
       "layout": {
        "legend": {
         "tracegroupgap": 0
        },
        "template": {
         "data": {
          "bar": [
           {
            "error_x": {
             "color": "#2a3f5f"
            },
            "error_y": {
             "color": "#2a3f5f"
            },
            "marker": {
             "line": {
              "color": "#E5ECF6",
              "width": 0.5
             },
             "pattern": {
              "fillmode": "overlay",
              "size": 10,
              "solidity": 0.2
             }
            },
            "type": "bar"
           }
          ],
          "barpolar": [
           {
            "marker": {
             "line": {
              "color": "#E5ECF6",
              "width": 0.5
             },
             "pattern": {
              "fillmode": "overlay",
              "size": 10,
              "solidity": 0.2
             }
            },
            "type": "barpolar"
           }
          ],
          "carpet": [
           {
            "aaxis": {
             "endlinecolor": "#2a3f5f",
             "gridcolor": "white",
             "linecolor": "white",
             "minorgridcolor": "white",
             "startlinecolor": "#2a3f5f"
            },
            "baxis": {
             "endlinecolor": "#2a3f5f",
             "gridcolor": "white",
             "linecolor": "white",
             "minorgridcolor": "white",
             "startlinecolor": "#2a3f5f"
            },
            "type": "carpet"
           }
          ],
          "choropleth": [
           {
            "colorbar": {
             "outlinewidth": 0,
             "ticks": ""
            },
            "type": "choropleth"
           }
          ],
          "contour": [
           {
            "colorbar": {
             "outlinewidth": 0,
             "ticks": ""
            },
            "colorscale": [
             [
              0,
              "#0d0887"
             ],
             [
              0.1111111111111111,
              "#46039f"
             ],
             [
              0.2222222222222222,
              "#7201a8"
             ],
             [
              0.3333333333333333,
              "#9c179e"
             ],
             [
              0.4444444444444444,
              "#bd3786"
             ],
             [
              0.5555555555555556,
              "#d8576b"
             ],
             [
              0.6666666666666666,
              "#ed7953"
             ],
             [
              0.7777777777777778,
              "#fb9f3a"
             ],
             [
              0.8888888888888888,
              "#fdca26"
             ],
             [
              1,
              "#f0f921"
             ]
            ],
            "type": "contour"
           }
          ],
          "contourcarpet": [
           {
            "colorbar": {
             "outlinewidth": 0,
             "ticks": ""
            },
            "type": "contourcarpet"
           }
          ],
          "heatmap": [
           {
            "colorbar": {
             "outlinewidth": 0,
             "ticks": ""
            },
            "colorscale": [
             [
              0,
              "#0d0887"
             ],
             [
              0.1111111111111111,
              "#46039f"
             ],
             [
              0.2222222222222222,
              "#7201a8"
             ],
             [
              0.3333333333333333,
              "#9c179e"
             ],
             [
              0.4444444444444444,
              "#bd3786"
             ],
             [
              0.5555555555555556,
              "#d8576b"
             ],
             [
              0.6666666666666666,
              "#ed7953"
             ],
             [
              0.7777777777777778,
              "#fb9f3a"
             ],
             [
              0.8888888888888888,
              "#fdca26"
             ],
             [
              1,
              "#f0f921"
             ]
            ],
            "type": "heatmap"
           }
          ],
          "heatmapgl": [
           {
            "colorbar": {
             "outlinewidth": 0,
             "ticks": ""
            },
            "colorscale": [
             [
              0,
              "#0d0887"
             ],
             [
              0.1111111111111111,
              "#46039f"
             ],
             [
              0.2222222222222222,
              "#7201a8"
             ],
             [
              0.3333333333333333,
              "#9c179e"
             ],
             [
              0.4444444444444444,
              "#bd3786"
             ],
             [
              0.5555555555555556,
              "#d8576b"
             ],
             [
              0.6666666666666666,
              "#ed7953"
             ],
             [
              0.7777777777777778,
              "#fb9f3a"
             ],
             [
              0.8888888888888888,
              "#fdca26"
             ],
             [
              1,
              "#f0f921"
             ]
            ],
            "type": "heatmapgl"
           }
          ],
          "histogram": [
           {
            "marker": {
             "pattern": {
              "fillmode": "overlay",
              "size": 10,
              "solidity": 0.2
             }
            },
            "type": "histogram"
           }
          ],
          "histogram2d": [
           {
            "colorbar": {
             "outlinewidth": 0,
             "ticks": ""
            },
            "colorscale": [
             [
              0,
              "#0d0887"
             ],
             [
              0.1111111111111111,
              "#46039f"
             ],
             [
              0.2222222222222222,
              "#7201a8"
             ],
             [
              0.3333333333333333,
              "#9c179e"
             ],
             [
              0.4444444444444444,
              "#bd3786"
             ],
             [
              0.5555555555555556,
              "#d8576b"
             ],
             [
              0.6666666666666666,
              "#ed7953"
             ],
             [
              0.7777777777777778,
              "#fb9f3a"
             ],
             [
              0.8888888888888888,
              "#fdca26"
             ],
             [
              1,
              "#f0f921"
             ]
            ],
            "type": "histogram2d"
           }
          ],
          "histogram2dcontour": [
           {
            "colorbar": {
             "outlinewidth": 0,
             "ticks": ""
            },
            "colorscale": [
             [
              0,
              "#0d0887"
             ],
             [
              0.1111111111111111,
              "#46039f"
             ],
             [
              0.2222222222222222,
              "#7201a8"
             ],
             [
              0.3333333333333333,
              "#9c179e"
             ],
             [
              0.4444444444444444,
              "#bd3786"
             ],
             [
              0.5555555555555556,
              "#d8576b"
             ],
             [
              0.6666666666666666,
              "#ed7953"
             ],
             [
              0.7777777777777778,
              "#fb9f3a"
             ],
             [
              0.8888888888888888,
              "#fdca26"
             ],
             [
              1,
              "#f0f921"
             ]
            ],
            "type": "histogram2dcontour"
           }
          ],
          "mesh3d": [
           {
            "colorbar": {
             "outlinewidth": 0,
             "ticks": ""
            },
            "type": "mesh3d"
           }
          ],
          "parcoords": [
           {
            "line": {
             "colorbar": {
              "outlinewidth": 0,
              "ticks": ""
             }
            },
            "type": "parcoords"
           }
          ],
          "pie": [
           {
            "automargin": true,
            "type": "pie"
           }
          ],
          "scatter": [
           {
            "fillpattern": {
             "fillmode": "overlay",
             "size": 10,
             "solidity": 0.2
            },
            "type": "scatter"
           }
          ],
          "scatter3d": [
           {
            "line": {
             "colorbar": {
              "outlinewidth": 0,
              "ticks": ""
             }
            },
            "marker": {
             "colorbar": {
              "outlinewidth": 0,
              "ticks": ""
             }
            },
            "type": "scatter3d"
           }
          ],
          "scattercarpet": [
           {
            "marker": {
             "colorbar": {
              "outlinewidth": 0,
              "ticks": ""
             }
            },
            "type": "scattercarpet"
           }
          ],
          "scattergeo": [
           {
            "marker": {
             "colorbar": {
              "outlinewidth": 0,
              "ticks": ""
             }
            },
            "type": "scattergeo"
           }
          ],
          "scattergl": [
           {
            "marker": {
             "colorbar": {
              "outlinewidth": 0,
              "ticks": ""
             }
            },
            "type": "scattergl"
           }
          ],
          "scattermapbox": [
           {
            "marker": {
             "colorbar": {
              "outlinewidth": 0,
              "ticks": ""
             }
            },
            "type": "scattermapbox"
           }
          ],
          "scatterpolar": [
           {
            "marker": {
             "colorbar": {
              "outlinewidth": 0,
              "ticks": ""
             }
            },
            "type": "scatterpolar"
           }
          ],
          "scatterpolargl": [
           {
            "marker": {
             "colorbar": {
              "outlinewidth": 0,
              "ticks": ""
             }
            },
            "type": "scatterpolargl"
           }
          ],
          "scatterternary": [
           {
            "marker": {
             "colorbar": {
              "outlinewidth": 0,
              "ticks": ""
             }
            },
            "type": "scatterternary"
           }
          ],
          "surface": [
           {
            "colorbar": {
             "outlinewidth": 0,
             "ticks": ""
            },
            "colorscale": [
             [
              0,
              "#0d0887"
             ],
             [
              0.1111111111111111,
              "#46039f"
             ],
             [
              0.2222222222222222,
              "#7201a8"
             ],
             [
              0.3333333333333333,
              "#9c179e"
             ],
             [
              0.4444444444444444,
              "#bd3786"
             ],
             [
              0.5555555555555556,
              "#d8576b"
             ],
             [
              0.6666666666666666,
              "#ed7953"
             ],
             [
              0.7777777777777778,
              "#fb9f3a"
             ],
             [
              0.8888888888888888,
              "#fdca26"
             ],
             [
              1,
              "#f0f921"
             ]
            ],
            "type": "surface"
           }
          ],
          "table": [
           {
            "cells": {
             "fill": {
              "color": "#EBF0F8"
             },
             "line": {
              "color": "white"
             }
            },
            "header": {
             "fill": {
              "color": "#C8D4E3"
             },
             "line": {
              "color": "white"
             }
            },
            "type": "table"
           }
          ]
         },
         "layout": {
          "annotationdefaults": {
           "arrowcolor": "#2a3f5f",
           "arrowhead": 0,
           "arrowwidth": 1
          },
          "autotypenumbers": "strict",
          "coloraxis": {
           "colorbar": {
            "outlinewidth": 0,
            "ticks": ""
           }
          },
          "colorscale": {
           "diverging": [
            [
             0,
             "#8e0152"
            ],
            [
             0.1,
             "#c51b7d"
            ],
            [
             0.2,
             "#de77ae"
            ],
            [
             0.3,
             "#f1b6da"
            ],
            [
             0.4,
             "#fde0ef"
            ],
            [
             0.5,
             "#f7f7f7"
            ],
            [
             0.6,
             "#e6f5d0"
            ],
            [
             0.7,
             "#b8e186"
            ],
            [
             0.8,
             "#7fbc41"
            ],
            [
             0.9,
             "#4d9221"
            ],
            [
             1,
             "#276419"
            ]
           ],
           "sequential": [
            [
             0,
             "#0d0887"
            ],
            [
             0.1111111111111111,
             "#46039f"
            ],
            [
             0.2222222222222222,
             "#7201a8"
            ],
            [
             0.3333333333333333,
             "#9c179e"
            ],
            [
             0.4444444444444444,
             "#bd3786"
            ],
            [
             0.5555555555555556,
             "#d8576b"
            ],
            [
             0.6666666666666666,
             "#ed7953"
            ],
            [
             0.7777777777777778,
             "#fb9f3a"
            ],
            [
             0.8888888888888888,
             "#fdca26"
            ],
            [
             1,
             "#f0f921"
            ]
           ],
           "sequentialminus": [
            [
             0,
             "#0d0887"
            ],
            [
             0.1111111111111111,
             "#46039f"
            ],
            [
             0.2222222222222222,
             "#7201a8"
            ],
            [
             0.3333333333333333,
             "#9c179e"
            ],
            [
             0.4444444444444444,
             "#bd3786"
            ],
            [
             0.5555555555555556,
             "#d8576b"
            ],
            [
             0.6666666666666666,
             "#ed7953"
            ],
            [
             0.7777777777777778,
             "#fb9f3a"
            ],
            [
             0.8888888888888888,
             "#fdca26"
            ],
            [
             1,
             "#f0f921"
            ]
           ]
          },
          "colorway": [
           "#636efa",
           "#EF553B",
           "#00cc96",
           "#ab63fa",
           "#FFA15A",
           "#19d3f3",
           "#FF6692",
           "#B6E880",
           "#FF97FF",
           "#FECB52"
          ],
          "font": {
           "color": "#2a3f5f"
          },
          "geo": {
           "bgcolor": "white",
           "lakecolor": "white",
           "landcolor": "#E5ECF6",
           "showlakes": true,
           "showland": true,
           "subunitcolor": "white"
          },
          "hoverlabel": {
           "align": "left"
          },
          "hovermode": "closest",
          "mapbox": {
           "style": "light"
          },
          "paper_bgcolor": "white",
          "plot_bgcolor": "#E5ECF6",
          "polar": {
           "angularaxis": {
            "gridcolor": "white",
            "linecolor": "white",
            "ticks": ""
           },
           "bgcolor": "#E5ECF6",
           "radialaxis": {
            "gridcolor": "white",
            "linecolor": "white",
            "ticks": ""
           }
          },
          "scene": {
           "xaxis": {
            "backgroundcolor": "#E5ECF6",
            "gridcolor": "white",
            "gridwidth": 2,
            "linecolor": "white",
            "showbackground": true,
            "ticks": "",
            "zerolinecolor": "white"
           },
           "yaxis": {
            "backgroundcolor": "#E5ECF6",
            "gridcolor": "white",
            "gridwidth": 2,
            "linecolor": "white",
            "showbackground": true,
            "ticks": "",
            "zerolinecolor": "white"
           },
           "zaxis": {
            "backgroundcolor": "#E5ECF6",
            "gridcolor": "white",
            "gridwidth": 2,
            "linecolor": "white",
            "showbackground": true,
            "ticks": "",
            "zerolinecolor": "white"
           }
          },
          "shapedefaults": {
           "line": {
            "color": "#2a3f5f"
           }
          },
          "ternary": {
           "aaxis": {
            "gridcolor": "white",
            "linecolor": "white",
            "ticks": ""
           },
           "baxis": {
            "gridcolor": "white",
            "linecolor": "white",
            "ticks": ""
           },
           "bgcolor": "#E5ECF6",
           "caxis": {
            "gridcolor": "white",
            "linecolor": "white",
            "ticks": ""
           }
          },
          "title": {
           "x": 0.05
          },
          "xaxis": {
           "automargin": true,
           "gridcolor": "white",
           "linecolor": "white",
           "ticks": "",
           "title": {
            "standoff": 15
           },
           "zerolinecolor": "white",
           "zerolinewidth": 2
          },
          "yaxis": {
           "automargin": true,
           "gridcolor": "white",
           "linecolor": "white",
           "ticks": "",
           "title": {
            "standoff": 15
           },
           "zerolinecolor": "white",
           "zerolinewidth": 2
          }
         }
        },
        "title": {
         "text": "United States Internet user rate Evolution"
        },
        "xaxis": {
         "anchor": "y",
         "domain": [
          0,
          1
         ],
         "title": {
          "text": "Year"
         }
        },
        "yaxis": {
         "anchor": "x",
         "domain": [
          0,
          1
         ],
         "title": {
          "text": "Internet users (%)"
         }
        }
       }
      }
     },
     "metadata": {},
     "output_type": "display_data"
    }
   ],
   "source": [
    "Country='United States'\n",
    "Country_data=df_countries[df_countries['Country Name']==Country]\n",
    "px.line(Country_data, x='Year', y='Internet users (%)', title=f'{Country} Internet user rate Evolution', color_discrete_sequence=px.colors.sequential.RdBu)"
   ]
  },
  {
   "cell_type": "markdown",
   "metadata": {},
   "source": [
    "### Analisis TOP15: Internet users(%)"
   ]
  },
  {
   "cell_type": "markdown",
   "metadata": {},
   "source": [
    "Ranking Top Countries"
   ]
  },
  {
   "cell_type": "code",
   "execution_count": 14,
   "metadata": {},
   "outputs": [
    {
     "data": {
      "application/vnd.plotly.v1+json": {
       "config": {
        "plotlyServerURL": "https://plot.ly"
       },
       "data": [
        {
         "alignmentgroup": "True",
         "hovertemplate": "Region Name=Asia<br>Country Name=%{x}<br>Internet users (%)=%{y}<extra></extra>",
         "legendgroup": "Asia",
         "marker": {
          "color": "rgb(37, 125, 152)",
          "pattern": {
           "shape": ""
          }
         },
         "name": "Asia",
         "offsetgroup": "Asia",
         "orientation": "v",
         "showlegend": true,
         "textposition": "auto",
         "type": "bar",
         "x": [
          "United Arab Emirates",
          "Bahrain",
          "Qatar",
          "Kuwait",
          "Saudi Arabia",
          "Oman",
          "Brunei Darussalam"
         ],
         "xaxis": "x",
         "y": [
          100,
          99.67,
          99.65284913,
          99.10587967,
          97.86,
          95.23,
          95
         ],
         "yaxis": "y"
        },
        {
         "alignmentgroup": "True",
         "hovertemplate": "Region Name=Europe<br>Country Name=%{x}<br>Internet users (%)=%{y}<extra></extra>",
         "legendgroup": "Europe",
         "marker": {
          "color": "rgb(44, 152, 160)",
          "pattern": {
           "shape": ""
          }
         },
         "name": "Europe",
         "offsetgroup": "Europe",
         "orientation": "v",
         "showlegend": true,
         "textposition": "auto",
         "type": "bar",
         "x": [
          "Iceland",
          "Luxembourg",
          "Norway",
          "Denmark",
          "Sweden",
          "Switzerland",
          "Spain"
         ],
         "xaxis": "x",
         "y": [
          99,
          98.82242384,
          97,
          96.54914573,
          94.53943122,
          94.2,
          93.20564892
         ],
         "yaxis": "y"
        },
        {
         "alignmentgroup": "True",
         "hovertemplate": "Region Name=Americas<br>Country Name=%{x}<br>Internet users (%)=%{y}<extra></extra>",
         "legendgroup": "Americas",
         "marker": {
          "color": "rgb(56, 178, 163)",
          "pattern": {
           "shape": ""
          }
         },
         "name": "Americas",
         "offsetgroup": "Americas",
         "orientation": "v",
         "showlegend": true,
         "textposition": "auto",
         "type": "bar",
         "x": [
          "Canada"
         ],
         "xaxis": "x",
         "y": [
          96.97
         ],
         "yaxis": "y"
        }
       ],
       "layout": {
        "barmode": "relative",
        "legend": {
         "title": {
          "text": "Region Name"
         },
         "tracegroupgap": 0
        },
        "template": {
         "data": {
          "bar": [
           {
            "error_x": {
             "color": "#2a3f5f"
            },
            "error_y": {
             "color": "#2a3f5f"
            },
            "marker": {
             "line": {
              "color": "#E5ECF6",
              "width": 0.5
             },
             "pattern": {
              "fillmode": "overlay",
              "size": 10,
              "solidity": 0.2
             }
            },
            "type": "bar"
           }
          ],
          "barpolar": [
           {
            "marker": {
             "line": {
              "color": "#E5ECF6",
              "width": 0.5
             },
             "pattern": {
              "fillmode": "overlay",
              "size": 10,
              "solidity": 0.2
             }
            },
            "type": "barpolar"
           }
          ],
          "carpet": [
           {
            "aaxis": {
             "endlinecolor": "#2a3f5f",
             "gridcolor": "white",
             "linecolor": "white",
             "minorgridcolor": "white",
             "startlinecolor": "#2a3f5f"
            },
            "baxis": {
             "endlinecolor": "#2a3f5f",
             "gridcolor": "white",
             "linecolor": "white",
             "minorgridcolor": "white",
             "startlinecolor": "#2a3f5f"
            },
            "type": "carpet"
           }
          ],
          "choropleth": [
           {
            "colorbar": {
             "outlinewidth": 0,
             "ticks": ""
            },
            "type": "choropleth"
           }
          ],
          "contour": [
           {
            "colorbar": {
             "outlinewidth": 0,
             "ticks": ""
            },
            "colorscale": [
             [
              0,
              "#0d0887"
             ],
             [
              0.1111111111111111,
              "#46039f"
             ],
             [
              0.2222222222222222,
              "#7201a8"
             ],
             [
              0.3333333333333333,
              "#9c179e"
             ],
             [
              0.4444444444444444,
              "#bd3786"
             ],
             [
              0.5555555555555556,
              "#d8576b"
             ],
             [
              0.6666666666666666,
              "#ed7953"
             ],
             [
              0.7777777777777778,
              "#fb9f3a"
             ],
             [
              0.8888888888888888,
              "#fdca26"
             ],
             [
              1,
              "#f0f921"
             ]
            ],
            "type": "contour"
           }
          ],
          "contourcarpet": [
           {
            "colorbar": {
             "outlinewidth": 0,
             "ticks": ""
            },
            "type": "contourcarpet"
           }
          ],
          "heatmap": [
           {
            "colorbar": {
             "outlinewidth": 0,
             "ticks": ""
            },
            "colorscale": [
             [
              0,
              "#0d0887"
             ],
             [
              0.1111111111111111,
              "#46039f"
             ],
             [
              0.2222222222222222,
              "#7201a8"
             ],
             [
              0.3333333333333333,
              "#9c179e"
             ],
             [
              0.4444444444444444,
              "#bd3786"
             ],
             [
              0.5555555555555556,
              "#d8576b"
             ],
             [
              0.6666666666666666,
              "#ed7953"
             ],
             [
              0.7777777777777778,
              "#fb9f3a"
             ],
             [
              0.8888888888888888,
              "#fdca26"
             ],
             [
              1,
              "#f0f921"
             ]
            ],
            "type": "heatmap"
           }
          ],
          "heatmapgl": [
           {
            "colorbar": {
             "outlinewidth": 0,
             "ticks": ""
            },
            "colorscale": [
             [
              0,
              "#0d0887"
             ],
             [
              0.1111111111111111,
              "#46039f"
             ],
             [
              0.2222222222222222,
              "#7201a8"
             ],
             [
              0.3333333333333333,
              "#9c179e"
             ],
             [
              0.4444444444444444,
              "#bd3786"
             ],
             [
              0.5555555555555556,
              "#d8576b"
             ],
             [
              0.6666666666666666,
              "#ed7953"
             ],
             [
              0.7777777777777778,
              "#fb9f3a"
             ],
             [
              0.8888888888888888,
              "#fdca26"
             ],
             [
              1,
              "#f0f921"
             ]
            ],
            "type": "heatmapgl"
           }
          ],
          "histogram": [
           {
            "marker": {
             "pattern": {
              "fillmode": "overlay",
              "size": 10,
              "solidity": 0.2
             }
            },
            "type": "histogram"
           }
          ],
          "histogram2d": [
           {
            "colorbar": {
             "outlinewidth": 0,
             "ticks": ""
            },
            "colorscale": [
             [
              0,
              "#0d0887"
             ],
             [
              0.1111111111111111,
              "#46039f"
             ],
             [
              0.2222222222222222,
              "#7201a8"
             ],
             [
              0.3333333333333333,
              "#9c179e"
             ],
             [
              0.4444444444444444,
              "#bd3786"
             ],
             [
              0.5555555555555556,
              "#d8576b"
             ],
             [
              0.6666666666666666,
              "#ed7953"
             ],
             [
              0.7777777777777778,
              "#fb9f3a"
             ],
             [
              0.8888888888888888,
              "#fdca26"
             ],
             [
              1,
              "#f0f921"
             ]
            ],
            "type": "histogram2d"
           }
          ],
          "histogram2dcontour": [
           {
            "colorbar": {
             "outlinewidth": 0,
             "ticks": ""
            },
            "colorscale": [
             [
              0,
              "#0d0887"
             ],
             [
              0.1111111111111111,
              "#46039f"
             ],
             [
              0.2222222222222222,
              "#7201a8"
             ],
             [
              0.3333333333333333,
              "#9c179e"
             ],
             [
              0.4444444444444444,
              "#bd3786"
             ],
             [
              0.5555555555555556,
              "#d8576b"
             ],
             [
              0.6666666666666666,
              "#ed7953"
             ],
             [
              0.7777777777777778,
              "#fb9f3a"
             ],
             [
              0.8888888888888888,
              "#fdca26"
             ],
             [
              1,
              "#f0f921"
             ]
            ],
            "type": "histogram2dcontour"
           }
          ],
          "mesh3d": [
           {
            "colorbar": {
             "outlinewidth": 0,
             "ticks": ""
            },
            "type": "mesh3d"
           }
          ],
          "parcoords": [
           {
            "line": {
             "colorbar": {
              "outlinewidth": 0,
              "ticks": ""
             }
            },
            "type": "parcoords"
           }
          ],
          "pie": [
           {
            "automargin": true,
            "type": "pie"
           }
          ],
          "scatter": [
           {
            "fillpattern": {
             "fillmode": "overlay",
             "size": 10,
             "solidity": 0.2
            },
            "type": "scatter"
           }
          ],
          "scatter3d": [
           {
            "line": {
             "colorbar": {
              "outlinewidth": 0,
              "ticks": ""
             }
            },
            "marker": {
             "colorbar": {
              "outlinewidth": 0,
              "ticks": ""
             }
            },
            "type": "scatter3d"
           }
          ],
          "scattercarpet": [
           {
            "marker": {
             "colorbar": {
              "outlinewidth": 0,
              "ticks": ""
             }
            },
            "type": "scattercarpet"
           }
          ],
          "scattergeo": [
           {
            "marker": {
             "colorbar": {
              "outlinewidth": 0,
              "ticks": ""
             }
            },
            "type": "scattergeo"
           }
          ],
          "scattergl": [
           {
            "marker": {
             "colorbar": {
              "outlinewidth": 0,
              "ticks": ""
             }
            },
            "type": "scattergl"
           }
          ],
          "scattermapbox": [
           {
            "marker": {
             "colorbar": {
              "outlinewidth": 0,
              "ticks": ""
             }
            },
            "type": "scattermapbox"
           }
          ],
          "scatterpolar": [
           {
            "marker": {
             "colorbar": {
              "outlinewidth": 0,
              "ticks": ""
             }
            },
            "type": "scatterpolar"
           }
          ],
          "scatterpolargl": [
           {
            "marker": {
             "colorbar": {
              "outlinewidth": 0,
              "ticks": ""
             }
            },
            "type": "scatterpolargl"
           }
          ],
          "scatterternary": [
           {
            "marker": {
             "colorbar": {
              "outlinewidth": 0,
              "ticks": ""
             }
            },
            "type": "scatterternary"
           }
          ],
          "surface": [
           {
            "colorbar": {
             "outlinewidth": 0,
             "ticks": ""
            },
            "colorscale": [
             [
              0,
              "#0d0887"
             ],
             [
              0.1111111111111111,
              "#46039f"
             ],
             [
              0.2222222222222222,
              "#7201a8"
             ],
             [
              0.3333333333333333,
              "#9c179e"
             ],
             [
              0.4444444444444444,
              "#bd3786"
             ],
             [
              0.5555555555555556,
              "#d8576b"
             ],
             [
              0.6666666666666666,
              "#ed7953"
             ],
             [
              0.7777777777777778,
              "#fb9f3a"
             ],
             [
              0.8888888888888888,
              "#fdca26"
             ],
             [
              1,
              "#f0f921"
             ]
            ],
            "type": "surface"
           }
          ],
          "table": [
           {
            "cells": {
             "fill": {
              "color": "#EBF0F8"
             },
             "line": {
              "color": "white"
             }
            },
            "header": {
             "fill": {
              "color": "#C8D4E3"
             },
             "line": {
              "color": "white"
             }
            },
            "type": "table"
           }
          ]
         },
         "layout": {
          "annotationdefaults": {
           "arrowcolor": "#2a3f5f",
           "arrowhead": 0,
           "arrowwidth": 1
          },
          "autotypenumbers": "strict",
          "coloraxis": {
           "colorbar": {
            "outlinewidth": 0,
            "ticks": ""
           }
          },
          "colorscale": {
           "diverging": [
            [
             0,
             "#8e0152"
            ],
            [
             0.1,
             "#c51b7d"
            ],
            [
             0.2,
             "#de77ae"
            ],
            [
             0.3,
             "#f1b6da"
            ],
            [
             0.4,
             "#fde0ef"
            ],
            [
             0.5,
             "#f7f7f7"
            ],
            [
             0.6,
             "#e6f5d0"
            ],
            [
             0.7,
             "#b8e186"
            ],
            [
             0.8,
             "#7fbc41"
            ],
            [
             0.9,
             "#4d9221"
            ],
            [
             1,
             "#276419"
            ]
           ],
           "sequential": [
            [
             0,
             "#0d0887"
            ],
            [
             0.1111111111111111,
             "#46039f"
            ],
            [
             0.2222222222222222,
             "#7201a8"
            ],
            [
             0.3333333333333333,
             "#9c179e"
            ],
            [
             0.4444444444444444,
             "#bd3786"
            ],
            [
             0.5555555555555556,
             "#d8576b"
            ],
            [
             0.6666666666666666,
             "#ed7953"
            ],
            [
             0.7777777777777778,
             "#fb9f3a"
            ],
            [
             0.8888888888888888,
             "#fdca26"
            ],
            [
             1,
             "#f0f921"
            ]
           ],
           "sequentialminus": [
            [
             0,
             "#0d0887"
            ],
            [
             0.1111111111111111,
             "#46039f"
            ],
            [
             0.2222222222222222,
             "#7201a8"
            ],
            [
             0.3333333333333333,
             "#9c179e"
            ],
            [
             0.4444444444444444,
             "#bd3786"
            ],
            [
             0.5555555555555556,
             "#d8576b"
            ],
            [
             0.6666666666666666,
             "#ed7953"
            ],
            [
             0.7777777777777778,
             "#fb9f3a"
            ],
            [
             0.8888888888888888,
             "#fdca26"
            ],
            [
             1,
             "#f0f921"
            ]
           ]
          },
          "colorway": [
           "#636efa",
           "#EF553B",
           "#00cc96",
           "#ab63fa",
           "#FFA15A",
           "#19d3f3",
           "#FF6692",
           "#B6E880",
           "#FF97FF",
           "#FECB52"
          ],
          "font": {
           "color": "#2a3f5f"
          },
          "geo": {
           "bgcolor": "white",
           "lakecolor": "white",
           "landcolor": "#E5ECF6",
           "showlakes": true,
           "showland": true,
           "subunitcolor": "white"
          },
          "hoverlabel": {
           "align": "left"
          },
          "hovermode": "closest",
          "mapbox": {
           "style": "light"
          },
          "paper_bgcolor": "white",
          "plot_bgcolor": "#E5ECF6",
          "polar": {
           "angularaxis": {
            "gridcolor": "white",
            "linecolor": "white",
            "ticks": ""
           },
           "bgcolor": "#E5ECF6",
           "radialaxis": {
            "gridcolor": "white",
            "linecolor": "white",
            "ticks": ""
           }
          },
          "scene": {
           "xaxis": {
            "backgroundcolor": "#E5ECF6",
            "gridcolor": "white",
            "gridwidth": 2,
            "linecolor": "white",
            "showbackground": true,
            "ticks": "",
            "zerolinecolor": "white"
           },
           "yaxis": {
            "backgroundcolor": "#E5ECF6",
            "gridcolor": "white",
            "gridwidth": 2,
            "linecolor": "white",
            "showbackground": true,
            "ticks": "",
            "zerolinecolor": "white"
           },
           "zaxis": {
            "backgroundcolor": "#E5ECF6",
            "gridcolor": "white",
            "gridwidth": 2,
            "linecolor": "white",
            "showbackground": true,
            "ticks": "",
            "zerolinecolor": "white"
           }
          },
          "shapedefaults": {
           "line": {
            "color": "#2a3f5f"
           }
          },
          "ternary": {
           "aaxis": {
            "gridcolor": "white",
            "linecolor": "white",
            "ticks": ""
           },
           "baxis": {
            "gridcolor": "white",
            "linecolor": "white",
            "ticks": ""
           },
           "bgcolor": "#E5ECF6",
           "caxis": {
            "gridcolor": "white",
            "linecolor": "white",
            "ticks": ""
           }
          },
          "title": {
           "x": 0.05
          },
          "xaxis": {
           "automargin": true,
           "gridcolor": "white",
           "linecolor": "white",
           "ticks": "",
           "title": {
            "standoff": 15
           },
           "zerolinecolor": "white",
           "zerolinewidth": 2
          },
          "yaxis": {
           "automargin": true,
           "gridcolor": "white",
           "linecolor": "white",
           "ticks": "",
           "title": {
            "standoff": 15
           },
           "zerolinecolor": "white",
           "zerolinewidth": 2
          }
         }
        },
        "title": {
         "text": "Año 2020 Top 15"
        },
        "xaxis": {
         "anchor": "y",
         "domain": [
          0,
          1
         ],
         "title": {
          "text": "Country Name"
         }
        },
        "yaxis": {
         "anchor": "x",
         "domain": [
          0,
          1
         ],
         "title": {
          "text": "Internet users (%)"
         }
        }
       }
      }
     },
     "metadata": {},
     "output_type": "display_data"
    }
   ],
   "source": [
    "yr=2020\n",
    "year_dat=df_countries[df_countries['Year']==yr]\n",
    "top_yr=year_dat.sort_values(by='Internet users (%)',ascending=False).head(15)\n",
    "px.bar(top_yr,x='Country Name', y='Internet users (%)',title=f'Año {yr} Top 15',color='Region Name',color_discrete_sequence=px.colors.sequential.Tealgrn_r)"
   ]
  },
  {
   "cell_type": "markdown",
   "metadata": {},
   "source": [
    "Ranking Tail Countries"
   ]
  },
  {
   "cell_type": "code",
   "execution_count": 15,
   "metadata": {},
   "outputs": [
    {
     "data": {
      "application/vnd.plotly.v1+json": {
       "config": {
        "plotlyServerURL": "https://plot.ly"
       },
       "data": [
        {
         "alignmentgroup": "True",
         "hovertemplate": "Region Name=Asia<br>Country Name=%{x}<br>Internet users (%)=%{y}<extra></extra>",
         "legendgroup": "Asia",
         "marker": {
          "color": "rgb(37, 125, 152)",
          "pattern": {
           "shape": ""
          }
         },
         "name": "Asia",
         "offsetgroup": "Asia",
         "orientation": "v",
         "showlegend": true,
         "textposition": "auto",
         "type": "bar",
         "x": [
          "Pakistan",
          "Bangladesh",
          "Afghanistan"
         ],
         "xaxis": "x",
         "y": [
          25,
          24.8,
          18.4
         ],
         "yaxis": "y"
        },
        {
         "alignmentgroup": "True",
         "hovertemplate": "Region Name=Africa<br>Country Name=%{x}<br>Internet users (%)=%{y}<extra></extra>",
         "legendgroup": "Africa",
         "marker": {
          "color": "rgb(44, 152, 160)",
          "pattern": {
           "shape": ""
          }
         },
         "name": "Africa",
         "offsetgroup": "Africa",
         "orientation": "v",
         "showlegend": true,
         "textposition": "auto",
         "type": "bar",
         "x": [
          "Togo",
          "Ethiopia",
          "Guinea-Bissau",
          "Burkina Faso",
          "Uganda",
          "Zambia",
          "Sierra Leone",
          "Mozambique",
          "Central African Republic",
          "Chad",
          "Burundi",
          "South Sudan"
         ],
         "xaxis": "x",
         "y": [
          24,
          24,
          22.9,
          22,
          19.9,
          19.8,
          18,
          16.5,
          10.4,
          10.4,
          9.4,
          6.5
         ],
         "yaxis": "y"
        }
       ],
       "layout": {
        "barmode": "relative",
        "legend": {
         "title": {
          "text": "Region Name"
         },
         "tracegroupgap": 0
        },
        "template": {
         "data": {
          "bar": [
           {
            "error_x": {
             "color": "#2a3f5f"
            },
            "error_y": {
             "color": "#2a3f5f"
            },
            "marker": {
             "line": {
              "color": "#E5ECF6",
              "width": 0.5
             },
             "pattern": {
              "fillmode": "overlay",
              "size": 10,
              "solidity": 0.2
             }
            },
            "type": "bar"
           }
          ],
          "barpolar": [
           {
            "marker": {
             "line": {
              "color": "#E5ECF6",
              "width": 0.5
             },
             "pattern": {
              "fillmode": "overlay",
              "size": 10,
              "solidity": 0.2
             }
            },
            "type": "barpolar"
           }
          ],
          "carpet": [
           {
            "aaxis": {
             "endlinecolor": "#2a3f5f",
             "gridcolor": "white",
             "linecolor": "white",
             "minorgridcolor": "white",
             "startlinecolor": "#2a3f5f"
            },
            "baxis": {
             "endlinecolor": "#2a3f5f",
             "gridcolor": "white",
             "linecolor": "white",
             "minorgridcolor": "white",
             "startlinecolor": "#2a3f5f"
            },
            "type": "carpet"
           }
          ],
          "choropleth": [
           {
            "colorbar": {
             "outlinewidth": 0,
             "ticks": ""
            },
            "type": "choropleth"
           }
          ],
          "contour": [
           {
            "colorbar": {
             "outlinewidth": 0,
             "ticks": ""
            },
            "colorscale": [
             [
              0,
              "#0d0887"
             ],
             [
              0.1111111111111111,
              "#46039f"
             ],
             [
              0.2222222222222222,
              "#7201a8"
             ],
             [
              0.3333333333333333,
              "#9c179e"
             ],
             [
              0.4444444444444444,
              "#bd3786"
             ],
             [
              0.5555555555555556,
              "#d8576b"
             ],
             [
              0.6666666666666666,
              "#ed7953"
             ],
             [
              0.7777777777777778,
              "#fb9f3a"
             ],
             [
              0.8888888888888888,
              "#fdca26"
             ],
             [
              1,
              "#f0f921"
             ]
            ],
            "type": "contour"
           }
          ],
          "contourcarpet": [
           {
            "colorbar": {
             "outlinewidth": 0,
             "ticks": ""
            },
            "type": "contourcarpet"
           }
          ],
          "heatmap": [
           {
            "colorbar": {
             "outlinewidth": 0,
             "ticks": ""
            },
            "colorscale": [
             [
              0,
              "#0d0887"
             ],
             [
              0.1111111111111111,
              "#46039f"
             ],
             [
              0.2222222222222222,
              "#7201a8"
             ],
             [
              0.3333333333333333,
              "#9c179e"
             ],
             [
              0.4444444444444444,
              "#bd3786"
             ],
             [
              0.5555555555555556,
              "#d8576b"
             ],
             [
              0.6666666666666666,
              "#ed7953"
             ],
             [
              0.7777777777777778,
              "#fb9f3a"
             ],
             [
              0.8888888888888888,
              "#fdca26"
             ],
             [
              1,
              "#f0f921"
             ]
            ],
            "type": "heatmap"
           }
          ],
          "heatmapgl": [
           {
            "colorbar": {
             "outlinewidth": 0,
             "ticks": ""
            },
            "colorscale": [
             [
              0,
              "#0d0887"
             ],
             [
              0.1111111111111111,
              "#46039f"
             ],
             [
              0.2222222222222222,
              "#7201a8"
             ],
             [
              0.3333333333333333,
              "#9c179e"
             ],
             [
              0.4444444444444444,
              "#bd3786"
             ],
             [
              0.5555555555555556,
              "#d8576b"
             ],
             [
              0.6666666666666666,
              "#ed7953"
             ],
             [
              0.7777777777777778,
              "#fb9f3a"
             ],
             [
              0.8888888888888888,
              "#fdca26"
             ],
             [
              1,
              "#f0f921"
             ]
            ],
            "type": "heatmapgl"
           }
          ],
          "histogram": [
           {
            "marker": {
             "pattern": {
              "fillmode": "overlay",
              "size": 10,
              "solidity": 0.2
             }
            },
            "type": "histogram"
           }
          ],
          "histogram2d": [
           {
            "colorbar": {
             "outlinewidth": 0,
             "ticks": ""
            },
            "colorscale": [
             [
              0,
              "#0d0887"
             ],
             [
              0.1111111111111111,
              "#46039f"
             ],
             [
              0.2222222222222222,
              "#7201a8"
             ],
             [
              0.3333333333333333,
              "#9c179e"
             ],
             [
              0.4444444444444444,
              "#bd3786"
             ],
             [
              0.5555555555555556,
              "#d8576b"
             ],
             [
              0.6666666666666666,
              "#ed7953"
             ],
             [
              0.7777777777777778,
              "#fb9f3a"
             ],
             [
              0.8888888888888888,
              "#fdca26"
             ],
             [
              1,
              "#f0f921"
             ]
            ],
            "type": "histogram2d"
           }
          ],
          "histogram2dcontour": [
           {
            "colorbar": {
             "outlinewidth": 0,
             "ticks": ""
            },
            "colorscale": [
             [
              0,
              "#0d0887"
             ],
             [
              0.1111111111111111,
              "#46039f"
             ],
             [
              0.2222222222222222,
              "#7201a8"
             ],
             [
              0.3333333333333333,
              "#9c179e"
             ],
             [
              0.4444444444444444,
              "#bd3786"
             ],
             [
              0.5555555555555556,
              "#d8576b"
             ],
             [
              0.6666666666666666,
              "#ed7953"
             ],
             [
              0.7777777777777778,
              "#fb9f3a"
             ],
             [
              0.8888888888888888,
              "#fdca26"
             ],
             [
              1,
              "#f0f921"
             ]
            ],
            "type": "histogram2dcontour"
           }
          ],
          "mesh3d": [
           {
            "colorbar": {
             "outlinewidth": 0,
             "ticks": ""
            },
            "type": "mesh3d"
           }
          ],
          "parcoords": [
           {
            "line": {
             "colorbar": {
              "outlinewidth": 0,
              "ticks": ""
             }
            },
            "type": "parcoords"
           }
          ],
          "pie": [
           {
            "automargin": true,
            "type": "pie"
           }
          ],
          "scatter": [
           {
            "fillpattern": {
             "fillmode": "overlay",
             "size": 10,
             "solidity": 0.2
            },
            "type": "scatter"
           }
          ],
          "scatter3d": [
           {
            "line": {
             "colorbar": {
              "outlinewidth": 0,
              "ticks": ""
             }
            },
            "marker": {
             "colorbar": {
              "outlinewidth": 0,
              "ticks": ""
             }
            },
            "type": "scatter3d"
           }
          ],
          "scattercarpet": [
           {
            "marker": {
             "colorbar": {
              "outlinewidth": 0,
              "ticks": ""
             }
            },
            "type": "scattercarpet"
           }
          ],
          "scattergeo": [
           {
            "marker": {
             "colorbar": {
              "outlinewidth": 0,
              "ticks": ""
             }
            },
            "type": "scattergeo"
           }
          ],
          "scattergl": [
           {
            "marker": {
             "colorbar": {
              "outlinewidth": 0,
              "ticks": ""
             }
            },
            "type": "scattergl"
           }
          ],
          "scattermapbox": [
           {
            "marker": {
             "colorbar": {
              "outlinewidth": 0,
              "ticks": ""
             }
            },
            "type": "scattermapbox"
           }
          ],
          "scatterpolar": [
           {
            "marker": {
             "colorbar": {
              "outlinewidth": 0,
              "ticks": ""
             }
            },
            "type": "scatterpolar"
           }
          ],
          "scatterpolargl": [
           {
            "marker": {
             "colorbar": {
              "outlinewidth": 0,
              "ticks": ""
             }
            },
            "type": "scatterpolargl"
           }
          ],
          "scatterternary": [
           {
            "marker": {
             "colorbar": {
              "outlinewidth": 0,
              "ticks": ""
             }
            },
            "type": "scatterternary"
           }
          ],
          "surface": [
           {
            "colorbar": {
             "outlinewidth": 0,
             "ticks": ""
            },
            "colorscale": [
             [
              0,
              "#0d0887"
             ],
             [
              0.1111111111111111,
              "#46039f"
             ],
             [
              0.2222222222222222,
              "#7201a8"
             ],
             [
              0.3333333333333333,
              "#9c179e"
             ],
             [
              0.4444444444444444,
              "#bd3786"
             ],
             [
              0.5555555555555556,
              "#d8576b"
             ],
             [
              0.6666666666666666,
              "#ed7953"
             ],
             [
              0.7777777777777778,
              "#fb9f3a"
             ],
             [
              0.8888888888888888,
              "#fdca26"
             ],
             [
              1,
              "#f0f921"
             ]
            ],
            "type": "surface"
           }
          ],
          "table": [
           {
            "cells": {
             "fill": {
              "color": "#EBF0F8"
             },
             "line": {
              "color": "white"
             }
            },
            "header": {
             "fill": {
              "color": "#C8D4E3"
             },
             "line": {
              "color": "white"
             }
            },
            "type": "table"
           }
          ]
         },
         "layout": {
          "annotationdefaults": {
           "arrowcolor": "#2a3f5f",
           "arrowhead": 0,
           "arrowwidth": 1
          },
          "autotypenumbers": "strict",
          "coloraxis": {
           "colorbar": {
            "outlinewidth": 0,
            "ticks": ""
           }
          },
          "colorscale": {
           "diverging": [
            [
             0,
             "#8e0152"
            ],
            [
             0.1,
             "#c51b7d"
            ],
            [
             0.2,
             "#de77ae"
            ],
            [
             0.3,
             "#f1b6da"
            ],
            [
             0.4,
             "#fde0ef"
            ],
            [
             0.5,
             "#f7f7f7"
            ],
            [
             0.6,
             "#e6f5d0"
            ],
            [
             0.7,
             "#b8e186"
            ],
            [
             0.8,
             "#7fbc41"
            ],
            [
             0.9,
             "#4d9221"
            ],
            [
             1,
             "#276419"
            ]
           ],
           "sequential": [
            [
             0,
             "#0d0887"
            ],
            [
             0.1111111111111111,
             "#46039f"
            ],
            [
             0.2222222222222222,
             "#7201a8"
            ],
            [
             0.3333333333333333,
             "#9c179e"
            ],
            [
             0.4444444444444444,
             "#bd3786"
            ],
            [
             0.5555555555555556,
             "#d8576b"
            ],
            [
             0.6666666666666666,
             "#ed7953"
            ],
            [
             0.7777777777777778,
             "#fb9f3a"
            ],
            [
             0.8888888888888888,
             "#fdca26"
            ],
            [
             1,
             "#f0f921"
            ]
           ],
           "sequentialminus": [
            [
             0,
             "#0d0887"
            ],
            [
             0.1111111111111111,
             "#46039f"
            ],
            [
             0.2222222222222222,
             "#7201a8"
            ],
            [
             0.3333333333333333,
             "#9c179e"
            ],
            [
             0.4444444444444444,
             "#bd3786"
            ],
            [
             0.5555555555555556,
             "#d8576b"
            ],
            [
             0.6666666666666666,
             "#ed7953"
            ],
            [
             0.7777777777777778,
             "#fb9f3a"
            ],
            [
             0.8888888888888888,
             "#fdca26"
            ],
            [
             1,
             "#f0f921"
            ]
           ]
          },
          "colorway": [
           "#636efa",
           "#EF553B",
           "#00cc96",
           "#ab63fa",
           "#FFA15A",
           "#19d3f3",
           "#FF6692",
           "#B6E880",
           "#FF97FF",
           "#FECB52"
          ],
          "font": {
           "color": "#2a3f5f"
          },
          "geo": {
           "bgcolor": "white",
           "lakecolor": "white",
           "landcolor": "#E5ECF6",
           "showlakes": true,
           "showland": true,
           "subunitcolor": "white"
          },
          "hoverlabel": {
           "align": "left"
          },
          "hovermode": "closest",
          "mapbox": {
           "style": "light"
          },
          "paper_bgcolor": "white",
          "plot_bgcolor": "#E5ECF6",
          "polar": {
           "angularaxis": {
            "gridcolor": "white",
            "linecolor": "white",
            "ticks": ""
           },
           "bgcolor": "#E5ECF6",
           "radialaxis": {
            "gridcolor": "white",
            "linecolor": "white",
            "ticks": ""
           }
          },
          "scene": {
           "xaxis": {
            "backgroundcolor": "#E5ECF6",
            "gridcolor": "white",
            "gridwidth": 2,
            "linecolor": "white",
            "showbackground": true,
            "ticks": "",
            "zerolinecolor": "white"
           },
           "yaxis": {
            "backgroundcolor": "#E5ECF6",
            "gridcolor": "white",
            "gridwidth": 2,
            "linecolor": "white",
            "showbackground": true,
            "ticks": "",
            "zerolinecolor": "white"
           },
           "zaxis": {
            "backgroundcolor": "#E5ECF6",
            "gridcolor": "white",
            "gridwidth": 2,
            "linecolor": "white",
            "showbackground": true,
            "ticks": "",
            "zerolinecolor": "white"
           }
          },
          "shapedefaults": {
           "line": {
            "color": "#2a3f5f"
           }
          },
          "ternary": {
           "aaxis": {
            "gridcolor": "white",
            "linecolor": "white",
            "ticks": ""
           },
           "baxis": {
            "gridcolor": "white",
            "linecolor": "white",
            "ticks": ""
           },
           "bgcolor": "#E5ECF6",
           "caxis": {
            "gridcolor": "white",
            "linecolor": "white",
            "ticks": ""
           }
          },
          "title": {
           "x": 0.05
          },
          "xaxis": {
           "automargin": true,
           "gridcolor": "white",
           "linecolor": "white",
           "ticks": "",
           "title": {
            "standoff": 15
           },
           "zerolinecolor": "white",
           "zerolinewidth": 2
          },
          "yaxis": {
           "automargin": true,
           "gridcolor": "white",
           "linecolor": "white",
           "ticks": "",
           "title": {
            "standoff": 15
           },
           "zerolinecolor": "white",
           "zerolinewidth": 2
          }
         }
        },
        "title": {
         "text": "Año 2020 Tail 15"
        },
        "xaxis": {
         "anchor": "y",
         "domain": [
          0,
          1
         ],
         "title": {
          "text": "Country Name"
         }
        },
        "yaxis": {
         "anchor": "x",
         "domain": [
          0,
          1
         ],
         "title": {
          "text": "Internet users (%)"
         }
        }
       }
      }
     },
     "metadata": {},
     "output_type": "display_data"
    }
   ],
   "source": [
    "yr=2020\n",
    "year_dat=df_countries[df_countries['Year']==yr]\n",
    "tail_yr=year_dat.sort_values(by='Internet users (%)',ascending=False).tail(15)\n",
    "px.bar(tail_yr,x='Country Name', y='Internet users (%)',title=f'Año {yr} Tail 15',color='Region Name',color_discrete_sequence=px.colors.sequential.Tealgrn_r)"
   ]
  },
  {
   "cell_type": "markdown",
   "metadata": {},
   "source": [
    "### Análisis por regiones"
   ]
  },
  {
   "cell_type": "markdown",
   "metadata": {},
   "source": [
    "### Visualización general para cualquier año"
   ]
  },
  {
   "cell_type": "code",
   "execution_count": 16,
   "metadata": {},
   "outputs": [
    {
     "data": {
      "application/vnd.plotly.v1+json": {
       "config": {
        "plotlyServerURL": "https://plot.ly"
       },
       "data": [
        {
         "hovertemplate": "Grupo de Ingresos=Ingreso bajo<br>Region Name=Asia<br>Sub-region Name=%{x}<br>Internet users (%)=%{y}<br>Nivel Ingresos=%{marker.size}<extra></extra>",
         "legendgroup": "Ingreso bajo",
         "marker": {
          "color": "rgb(103,0,31)",
          "size": [
           0,
           0
          ],
          "sizemode": "area",
          "sizeref": 0.0075,
          "symbol": "circle"
         },
         "mode": "markers",
         "name": "Ingreso bajo",
         "orientation": "v",
         "showlegend": true,
         "type": "scatter",
         "x": [
          "Southern Asia",
          "Western Asia"
         ],
         "xaxis": "x",
         "y": [
          18.4,
          35.78
         ],
         "yaxis": "y"
        },
        {
         "hovertemplate": "Grupo de Ingresos=Ingreso bajo<br>Region Name=Africa<br>Sub-region Name=%{x}<br>Internet users (%)=%{y}<br>Nivel Ingresos=%{marker.size}<extra></extra>",
         "legendgroup": "Ingreso bajo",
         "marker": {
          "color": "rgb(103,0,31)",
          "size": [
           0,
           0,
           0,
           0,
           0,
           0,
           0,
           0,
           0,
           0,
           0,
           0,
           0,
           0,
           0,
           0
          ],
          "sizemode": "area",
          "sizeref": 0.0075,
          "symbol": "circle"
         },
         "mode": "markers",
         "name": "Ingreso bajo",
         "orientation": "v",
         "showlegend": false,
         "type": "scatter",
         "x": [
          "Sub-Saharan Africa",
          "Sub-Saharan Africa",
          "Sub-Saharan Africa",
          "Sub-Saharan Africa",
          "Sub-Saharan Africa",
          "Sub-Saharan Africa",
          "Sub-Saharan Africa",
          "Sub-Saharan Africa",
          "Sub-Saharan Africa",
          "Sub-Saharan Africa",
          "Northern Africa",
          "Sub-Saharan Africa",
          "Sub-Saharan Africa",
          "Sub-Saharan Africa",
          "Sub-Saharan Africa",
          "Sub-Saharan Africa"
         ],
         "xaxis": "x2",
         "y": [
          9.4,
          22,
          10.4,
          24,
          26,
          22.9,
          25.6,
          27.4,
          16.5,
          26.5,
          28.4,
          18,
          6.5,
          10.4,
          24,
          19.9
         ],
         "yaxis": "y2"
        },
        {
         "hovertemplate": "Grupo de Ingresos=Ingreso mediano bajo<br>Region Name=Asia<br>Sub-region Name=%{x}<br>Internet users (%)=%{y}<br>Nivel Ingresos=%{marker.size}<extra></extra>",
         "legendgroup": "Ingreso mediano bajo",
         "marker": {
          "color": "rgb(178,24,43)",
          "size": [
           1,
           1,
           1,
           1,
           1,
           1,
           1,
           1,
           1,
           1,
           1,
           1
          ],
          "sizemode": "area",
          "sizeref": 0.0075,
          "symbol": "circle"
         },
         "mode": "markers",
         "name": "Ingreso mediano bajo",
         "orientation": "v",
         "showlegend": true,
         "type": "scatter",
         "x": [
          "Southern Asia",
          "Southern Asia",
          "South-eastern Asia",
          "Southern Asia",
          "Southern Asia",
          "South-eastern Asia",
          "Eastern Asia",
          "Southern Asia",
          "Southern Asia",
          "South-eastern Asia",
          "South-eastern Asia",
          "Central Asia"
         ],
         "xaxis": "x",
         "y": [
          24.8,
          53.5,
          53.72649449,
          43,
          35,
          35.1,
          62.50002848,
          37.7,
          25,
          49.8,
          29.1,
          71.1
         ],
         "yaxis": "y"
        },
        {
         "hovertemplate": "Grupo de Ingresos=Ingreso mediano bajo<br>Region Name=Africa<br>Sub-region Name=%{x}<br>Internet users (%)=%{y}<br>Nivel Ingresos=%{marker.size}<extra></extra>",
         "legendgroup": "Ingreso mediano bajo",
         "marker": {
          "color": "rgb(178,24,43)",
          "size": [
           1,
           1,
           1,
           1,
           1,
           1,
           1,
           1,
           1,
           1,
           1,
           1,
           1,
           1,
           1,
           1,
           1
          ],
          "sizemode": "area",
          "sizeref": 0.0075,
          "symbol": "circle"
         },
         "mode": "markers",
         "name": "Ingreso mediano bajo",
         "orientation": "v",
         "showlegend": false,
         "type": "scatter",
         "x": [
          "Sub-Saharan Africa",
          "Sub-Saharan Africa",
          "Sub-Saharan Africa",
          "Sub-Saharan Africa",
          "Sub-Saharan Africa",
          "Northern Africa",
          "Sub-Saharan Africa",
          "Sub-Saharan Africa",
          "Sub-Saharan Africa",
          "Northern Africa",
          "Sub-Saharan Africa",
          "Sub-Saharan Africa",
          "Sub-Saharan Africa",
          "Sub-Saharan Africa",
          "Northern Africa",
          "Sub-Saharan Africa",
          "Sub-Saharan Africa"
         ],
         "xaxis": "x2",
         "y": [
          36,
          25.8,
          37.8,
          64.5,
          59,
          62.9,
          58,
          29.5,
          43,
          84.12036305,
          40.8,
          35.5,
          42.6,
          33,
          71.9,
          19.8,
          29.3
         ],
         "yaxis": "y2"
        },
        {
         "hovertemplate": "Grupo de Ingresos=Ingreso mediano bajo<br>Region Name=Europe<br>Sub-region Name=%{x}<br>Internet users (%)=%{y}<br>Nivel Ingresos=%{marker.size}<extra></extra>",
         "legendgroup": "Ingreso mediano bajo",
         "marker": {
          "color": "rgb(178,24,43)",
          "size": [
           1
          ],
          "sizemode": "area",
          "sizeref": 0.0075,
          "symbol": "circle"
         },
         "mode": "markers",
         "name": "Ingreso mediano bajo",
         "orientation": "v",
         "showlegend": false,
         "type": "scatter",
         "x": [
          "Eastern Europe"
         ],
         "xaxis": "x3",
         "y": [
          75.03790912
         ],
         "yaxis": "y3"
        },
        {
         "hovertemplate": "Grupo de Ingresos=Ingreso mediano bajo<br>Region Name=Americas<br>Sub-region Name=%{x}<br>Internet users (%)=%{y}<br>Nivel Ingresos=%{marker.size}<extra></extra>",
         "legendgroup": "Ingreso mediano bajo",
         "marker": {
          "color": "rgb(178,24,43)",
          "size": [
           1,
           1,
           1,
           1
          ],
          "sizemode": "area",
          "sizeref": 0.0075,
          "symbol": "circle"
         },
         "mode": "markers",
         "name": "Ingreso mediano bajo",
         "orientation": "v",
         "showlegend": false,
         "type": "scatter",
         "x": [
          "Latin America and the Caribbean",
          "Latin America and the Caribbean",
          "Latin America and the Caribbean",
          "Latin America and the Caribbean"
         ],
         "xaxis": "x4",
         "y": [
          42.05,
          34.5,
          45.2,
          54.60137027
         ],
         "yaxis": "y4"
        },
        {
         "hovertemplate": "Grupo de Ingresos=Ingreso mediano bajo<br>Region Name=Oceania<br>Sub-region Name=%{x}<br>Internet users (%)=%{y}<br>Nivel Ingresos=%{marker.size}<extra></extra>",
         "legendgroup": "Ingreso mediano bajo",
         "marker": {
          "color": "rgb(178,24,43)",
          "size": [
           1
          ],
          "sizemode": "area",
          "sizeref": 0.0075,
          "symbol": "circle"
         },
         "mode": "markers",
         "name": "Ingreso mediano bajo",
         "orientation": "v",
         "showlegend": false,
         "type": "scatter",
         "x": [
          "Micronesia"
         ],
         "xaxis": "x5",
         "y": [
          38
         ],
         "yaxis": "y5"
        },
        {
         "hovertemplate": "Grupo de Ingresos=Ingreso mediano alto<br>Region Name=Asia<br>Sub-region Name=%{x}<br>Internet users (%)=%{y}<br>Nivel Ingresos=%{marker.size}<extra></extra>",
         "legendgroup": "Ingreso mediano alto",
         "marker": {
          "color": "rgb(214,96,77)",
          "size": [
           2,
           2,
           2,
           2,
           2,
           2,
           2,
           2,
           2
          ],
          "sizemode": "area",
          "sizeref": 0.0075,
          "symbol": "circle"
         },
         "mode": "markers",
         "name": "Ingreso mediano alto",
         "orientation": "v",
         "showlegend": true,
         "type": "scatter",
         "x": [
          "Western Asia",
          "Western Asia",
          "Eastern Asia",
          "Western Asia",
          "Central Asia",
          "Western Asia",
          "Southern Asia",
          "South-eastern Asia",
          "South-eastern Asia"
         ],
         "xaxis": "x",
         "y": [
          76.51,
          84.59999573,
          70.40477542,
          72.53158402,
          85.94259898,
          84.1,
          62.93,
          89.55501192,
          77.84374066
         ],
         "yaxis": "y"
        },
        {
         "hovertemplate": "Grupo de Ingresos=Ingreso mediano alto<br>Region Name=Africa<br>Sub-region Name=%{x}<br>Internet users (%)=%{y}<br>Nivel Ingresos=%{marker.size}<extra></extra>",
         "legendgroup": "Ingreso mediano alto",
         "marker": {
          "color": "rgb(214,96,77)",
          "size": [
           2,
           2,
           2,
           2,
           2
          ],
          "sizemode": "area",
          "sizeref": 0.0075,
          "symbol": "circle"
         },
         "mode": "markers",
         "name": "Ingreso mediano alto",
         "orientation": "v",
         "showlegend": false,
         "type": "scatter",
         "x": [
          "Sub-Saharan Africa",
          "Sub-Saharan Africa",
          "Sub-Saharan Africa",
          "Sub-Saharan Africa",
          "Sub-Saharan Africa"
         ],
         "xaxis": "x2",
         "y": [
          64,
          62,
          64.88490358,
          41,
          70
         ],
         "yaxis": "y2"
        },
        {
         "hovertemplate": "Grupo de Ingresos=Ingreso mediano alto<br>Region Name=Europe<br>Sub-region Name=%{x}<br>Internet users (%)=%{y}<br>Nivel Ingresos=%{marker.size}<extra></extra>",
         "legendgroup": "Ingreso mediano alto",
         "marker": {
          "color": "rgb(214,96,77)",
          "size": [
           2,
           2,
           2,
           2,
           2,
           2,
           2,
           2,
           2
          ],
          "sizemode": "area",
          "sizeref": 0.0075,
          "symbol": "circle"
         },
         "mode": "markers",
         "name": "Ingreso mediano alto",
         "orientation": "v",
         "showlegend": false,
         "type": "scatter",
         "x": [
          "Southern Europe",
          "Eastern Europe",
          "Southern Europe",
          "Eastern Europe",
          "Southern Europe",
          "Southern Europe",
          "Eastern Europe",
          "Eastern Europe",
          "Southern Europe"
         ],
         "xaxis": "x3",
         "y": [
          72.24,
          70.16,
          73.21,
          85.09,
          81.40553811,
          77.60879306,
          78.45526741,
          84.99467026,
          78.36804077
         ],
         "yaxis": "y3"
        },
        {
         "hovertemplate": "Grupo de Ingresos=Ingreso mediano alto<br>Region Name=Americas<br>Sub-region Name=%{x}<br>Internet users (%)=%{y}<br>Nivel Ingresos=%{marker.size}<extra></extra>",
         "legendgroup": "Ingreso mediano alto",
         "marker": {
          "color": "rgb(214,96,77)",
          "size": [
           2,
           2,
           2,
           2,
           2,
           2,
           2,
           2,
           2,
           2,
           2,
           2,
           2,
           2
          ],
          "sizemode": "area",
          "sizeref": 0.0075,
          "symbol": "circle"
         },
         "mode": "markers",
         "name": "Ingreso mediano alto",
         "orientation": "v",
         "showlegend": false,
         "type": "scatter",
         "x": [
          "Latin America and the Caribbean",
          "Latin America and the Caribbean",
          "Latin America and the Caribbean",
          "Latin America and the Caribbean",
          "Latin America and the Caribbean",
          "Latin America and the Caribbean",
          "Latin America and the Caribbean",
          "Latin America and the Caribbean",
          "Latin America and the Caribbean",
          "Latin America and the Caribbean",
          "Latin America and the Caribbean",
          "Latin America and the Caribbean",
          "Latin America and the Caribbean",
          "Latin America and the Caribbean"
         ],
         "xaxis": "x4",
         "y": [
          85.5,
          81.34269353,
          69.79,
          80.53018608000001,
          74,
          76.9,
          64.6,
          56.9,
          49.97,
          71.96819405,
          64.25,
          65.25,
          73.95751114,
          70.06
         ],
         "yaxis": "y4"
        },
        {
         "hovertemplate": "Grupo de Ingresos=Ingreso alto<br>Region Name=Asia<br>Sub-region Name=%{x}<br>Internet users (%)=%{y}<br>Nivel Ingresos=%{marker.size}<extra></extra>",
         "legendgroup": "Ingreso alto",
         "marker": {
          "color": "rgb(244,165,130)",
          "size": [
           3,
           3,
           3,
           3,
           3,
           3,
           3,
           3,
           3,
           3,
           3
          ],
          "sizemode": "area",
          "sizeref": 0.0075,
          "symbol": "circle"
         },
         "mode": "markers",
         "name": "Ingreso alto",
         "orientation": "v",
         "showlegend": true,
         "type": "scatter",
         "x": [
          "Western Asia",
          "Western Asia",
          "South-eastern Asia",
          "Western Asia",
          "Western Asia",
          "Eastern Asia",
          "Western Asia",
          "Western Asia",
          "Western Asia",
          "Western Asia",
          "South-eastern Asia"
         ],
         "xaxis": "x",
         "y": [
          100,
          99.67,
          95,
          90.80194723,
          90.12734091,
          90.21945812,
          99.10587967,
          95.23,
          99.65284913,
          97.86,
          92.00434653
         ],
         "yaxis": "y"
        },
        {
         "hovertemplate": "Grupo de Ingresos=Ingreso alto<br>Region Name=Africa<br>Sub-region Name=%{x}<br>Internet users (%)=%{y}<br>Nivel Ingresos=%{marker.size}<extra></extra>",
         "legendgroup": "Ingreso alto",
         "marker": {
          "color": "rgb(244,165,130)",
          "size": [
           3
          ],
          "sizemode": "area",
          "sizeref": 0.0075,
          "symbol": "circle"
         },
         "mode": "markers",
         "name": "Ingreso alto",
         "orientation": "v",
         "showlegend": false,
         "type": "scatter",
         "x": [
          "Sub-Saharan Africa"
         ],
         "xaxis": "x2",
         "y": [
          79
         ],
         "yaxis": "y2"
        },
        {
         "hovertemplate": "Grupo de Ingresos=Ingreso alto<br>Region Name=Europe<br>Sub-region Name=%{x}<br>Internet users (%)=%{y}<br>Nivel Ingresos=%{marker.size}<extra></extra>",
         "legendgroup": "Ingreso alto",
         "marker": {
          "color": "rgb(244,165,130)",
          "size": [
           3,
           3,
           3,
           3,
           3,
           3,
           3,
           3,
           3,
           3,
           3,
           3,
           3,
           3,
           3,
           3,
           3,
           3,
           3,
           3,
           3,
           3,
           3,
           3,
           3,
           3
          ],
          "sizemode": "area",
          "sizeref": 0.0075,
          "symbol": "circle"
         },
         "mode": "markers",
         "name": "Ingreso alto",
         "orientation": "v",
         "showlegend": false,
         "type": "scatter",
         "x": [
          "Western Europe",
          "Western Europe",
          "Western Europe",
          "Eastern Europe",
          "Western Europe",
          "Northern Europe",
          "Southern Europe",
          "Northern Europe",
          "Northern Europe",
          "Western Europe",
          "Southern Europe",
          "Southern Europe",
          "Eastern Europe",
          "Northern Europe",
          "Northern Europe",
          "Southern Europe",
          "Northern Europe",
          "Western Europe",
          "Northern Europe",
          "Southern Europe",
          "Western Europe",
          "Northern Europe",
          "Eastern Europe",
          "Southern Europe",
          "Southern Europe",
          "Northern Europe"
         ],
         "xaxis": "x3",
         "y": [
          87.52942813,
          91.52641629,
          94.2,
          81.33889705,
          89.81294133,
          96.54914573,
          93.20564892,
          89.05828666,
          92.17,
          84.8,
          78.11584474,
          78.32093274,
          84.77115202,
          91.99989097,
          99,
          70.48342785,
          83.05555096,
          98.82242384,
          88.9,
          86.85876416,
          91.33333333,
          97,
          83.18488715,
          78.26166044,
          86.60130109,
          94.53943122
         ],
         "yaxis": "y3"
        },
        {
         "hovertemplate": "Grupo de Ingresos=Ingreso alto<br>Region Name=Americas<br>Sub-region Name=%{x}<br>Internet users (%)=%{y}<br>Nivel Ingresos=%{marker.size}<extra></extra>",
         "legendgroup": "Ingreso alto",
         "marker": {
          "color": "rgb(244,165,130)",
          "size": [
           3,
           3,
           3,
           3
          ],
          "sizemode": "area",
          "sizeref": 0.0075,
          "symbol": "circle"
         },
         "mode": "markers",
         "name": "Ingreso alto",
         "orientation": "v",
         "showlegend": false,
         "type": "scatter",
         "x": [
          "Northern America",
          "Latin America and the Caribbean",
          "Latin America and the Caribbean",
          "Northern America"
         ],
         "xaxis": "x4",
         "y": [
          96.97,
          88.3,
          86.1,
          90.9
         ],
         "yaxis": "y4"
        },
        {
         "hovertemplate": "Grupo de Ingresos=Ingreso alto<br>Region Name=Oceania<br>Sub-region Name=%{x}<br>Internet users (%)=%{y}<br>Nivel Ingresos=%{marker.size}<extra></extra>",
         "legendgroup": "Ingreso alto",
         "marker": {
          "color": "rgb(244,165,130)",
          "size": [
           3,
           3
          ],
          "sizemode": "area",
          "sizeref": 0.0075,
          "symbol": "circle"
         },
         "mode": "markers",
         "name": "Ingreso alto",
         "orientation": "v",
         "showlegend": false,
         "type": "scatter",
         "x": [
          "Australia and New Zealand",
          "Australia and New Zealand"
         ],
         "xaxis": "x5",
         "y": [
          89.6,
          91.5
         ],
         "yaxis": "y5"
        }
       ],
       "layout": {
        "annotations": [
         {
          "font": {},
          "showarrow": false,
          "text": "Region Name=Asia",
          "x": 0.09200000000000001,
          "xanchor": "center",
          "xref": "paper",
          "y": 1,
          "yanchor": "bottom",
          "yref": "paper"
         },
         {
          "font": {},
          "showarrow": false,
          "text": "Region Name=Africa",
          "x": 0.29600000000000004,
          "xanchor": "center",
          "xref": "paper",
          "y": 1,
          "yanchor": "bottom",
          "yref": "paper"
         },
         {
          "font": {},
          "showarrow": false,
          "text": "Region Name=Europe",
          "x": 0.5,
          "xanchor": "center",
          "xref": "paper",
          "y": 1,
          "yanchor": "bottom",
          "yref": "paper"
         },
         {
          "font": {},
          "showarrow": false,
          "text": "Region Name=Americas",
          "x": 0.7040000000000002,
          "xanchor": "center",
          "xref": "paper",
          "y": 1,
          "yanchor": "bottom",
          "yref": "paper"
         },
         {
          "font": {},
          "showarrow": false,
          "text": "Region Name=Oceania",
          "x": 0.908,
          "xanchor": "center",
          "xref": "paper",
          "y": 1,
          "yanchor": "bottom",
          "yref": "paper"
         }
        ],
        "height": 600,
        "legend": {
         "itemsizing": "constant",
         "title": {
          "text": "Grupo de Ingresos"
         },
         "tracegroupgap": 0
        },
        "template": {
         "data": {
          "bar": [
           {
            "error_x": {
             "color": "#2a3f5f"
            },
            "error_y": {
             "color": "#2a3f5f"
            },
            "marker": {
             "line": {
              "color": "#E5ECF6",
              "width": 0.5
             },
             "pattern": {
              "fillmode": "overlay",
              "size": 10,
              "solidity": 0.2
             }
            },
            "type": "bar"
           }
          ],
          "barpolar": [
           {
            "marker": {
             "line": {
              "color": "#E5ECF6",
              "width": 0.5
             },
             "pattern": {
              "fillmode": "overlay",
              "size": 10,
              "solidity": 0.2
             }
            },
            "type": "barpolar"
           }
          ],
          "carpet": [
           {
            "aaxis": {
             "endlinecolor": "#2a3f5f",
             "gridcolor": "white",
             "linecolor": "white",
             "minorgridcolor": "white",
             "startlinecolor": "#2a3f5f"
            },
            "baxis": {
             "endlinecolor": "#2a3f5f",
             "gridcolor": "white",
             "linecolor": "white",
             "minorgridcolor": "white",
             "startlinecolor": "#2a3f5f"
            },
            "type": "carpet"
           }
          ],
          "choropleth": [
           {
            "colorbar": {
             "outlinewidth": 0,
             "ticks": ""
            },
            "type": "choropleth"
           }
          ],
          "contour": [
           {
            "colorbar": {
             "outlinewidth": 0,
             "ticks": ""
            },
            "colorscale": [
             [
              0,
              "#0d0887"
             ],
             [
              0.1111111111111111,
              "#46039f"
             ],
             [
              0.2222222222222222,
              "#7201a8"
             ],
             [
              0.3333333333333333,
              "#9c179e"
             ],
             [
              0.4444444444444444,
              "#bd3786"
             ],
             [
              0.5555555555555556,
              "#d8576b"
             ],
             [
              0.6666666666666666,
              "#ed7953"
             ],
             [
              0.7777777777777778,
              "#fb9f3a"
             ],
             [
              0.8888888888888888,
              "#fdca26"
             ],
             [
              1,
              "#f0f921"
             ]
            ],
            "type": "contour"
           }
          ],
          "contourcarpet": [
           {
            "colorbar": {
             "outlinewidth": 0,
             "ticks": ""
            },
            "type": "contourcarpet"
           }
          ],
          "heatmap": [
           {
            "colorbar": {
             "outlinewidth": 0,
             "ticks": ""
            },
            "colorscale": [
             [
              0,
              "#0d0887"
             ],
             [
              0.1111111111111111,
              "#46039f"
             ],
             [
              0.2222222222222222,
              "#7201a8"
             ],
             [
              0.3333333333333333,
              "#9c179e"
             ],
             [
              0.4444444444444444,
              "#bd3786"
             ],
             [
              0.5555555555555556,
              "#d8576b"
             ],
             [
              0.6666666666666666,
              "#ed7953"
             ],
             [
              0.7777777777777778,
              "#fb9f3a"
             ],
             [
              0.8888888888888888,
              "#fdca26"
             ],
             [
              1,
              "#f0f921"
             ]
            ],
            "type": "heatmap"
           }
          ],
          "heatmapgl": [
           {
            "colorbar": {
             "outlinewidth": 0,
             "ticks": ""
            },
            "colorscale": [
             [
              0,
              "#0d0887"
             ],
             [
              0.1111111111111111,
              "#46039f"
             ],
             [
              0.2222222222222222,
              "#7201a8"
             ],
             [
              0.3333333333333333,
              "#9c179e"
             ],
             [
              0.4444444444444444,
              "#bd3786"
             ],
             [
              0.5555555555555556,
              "#d8576b"
             ],
             [
              0.6666666666666666,
              "#ed7953"
             ],
             [
              0.7777777777777778,
              "#fb9f3a"
             ],
             [
              0.8888888888888888,
              "#fdca26"
             ],
             [
              1,
              "#f0f921"
             ]
            ],
            "type": "heatmapgl"
           }
          ],
          "histogram": [
           {
            "marker": {
             "pattern": {
              "fillmode": "overlay",
              "size": 10,
              "solidity": 0.2
             }
            },
            "type": "histogram"
           }
          ],
          "histogram2d": [
           {
            "colorbar": {
             "outlinewidth": 0,
             "ticks": ""
            },
            "colorscale": [
             [
              0,
              "#0d0887"
             ],
             [
              0.1111111111111111,
              "#46039f"
             ],
             [
              0.2222222222222222,
              "#7201a8"
             ],
             [
              0.3333333333333333,
              "#9c179e"
             ],
             [
              0.4444444444444444,
              "#bd3786"
             ],
             [
              0.5555555555555556,
              "#d8576b"
             ],
             [
              0.6666666666666666,
              "#ed7953"
             ],
             [
              0.7777777777777778,
              "#fb9f3a"
             ],
             [
              0.8888888888888888,
              "#fdca26"
             ],
             [
              1,
              "#f0f921"
             ]
            ],
            "type": "histogram2d"
           }
          ],
          "histogram2dcontour": [
           {
            "colorbar": {
             "outlinewidth": 0,
             "ticks": ""
            },
            "colorscale": [
             [
              0,
              "#0d0887"
             ],
             [
              0.1111111111111111,
              "#46039f"
             ],
             [
              0.2222222222222222,
              "#7201a8"
             ],
             [
              0.3333333333333333,
              "#9c179e"
             ],
             [
              0.4444444444444444,
              "#bd3786"
             ],
             [
              0.5555555555555556,
              "#d8576b"
             ],
             [
              0.6666666666666666,
              "#ed7953"
             ],
             [
              0.7777777777777778,
              "#fb9f3a"
             ],
             [
              0.8888888888888888,
              "#fdca26"
             ],
             [
              1,
              "#f0f921"
             ]
            ],
            "type": "histogram2dcontour"
           }
          ],
          "mesh3d": [
           {
            "colorbar": {
             "outlinewidth": 0,
             "ticks": ""
            },
            "type": "mesh3d"
           }
          ],
          "parcoords": [
           {
            "line": {
             "colorbar": {
              "outlinewidth": 0,
              "ticks": ""
             }
            },
            "type": "parcoords"
           }
          ],
          "pie": [
           {
            "automargin": true,
            "type": "pie"
           }
          ],
          "scatter": [
           {
            "fillpattern": {
             "fillmode": "overlay",
             "size": 10,
             "solidity": 0.2
            },
            "type": "scatter"
           }
          ],
          "scatter3d": [
           {
            "line": {
             "colorbar": {
              "outlinewidth": 0,
              "ticks": ""
             }
            },
            "marker": {
             "colorbar": {
              "outlinewidth": 0,
              "ticks": ""
             }
            },
            "type": "scatter3d"
           }
          ],
          "scattercarpet": [
           {
            "marker": {
             "colorbar": {
              "outlinewidth": 0,
              "ticks": ""
             }
            },
            "type": "scattercarpet"
           }
          ],
          "scattergeo": [
           {
            "marker": {
             "colorbar": {
              "outlinewidth": 0,
              "ticks": ""
             }
            },
            "type": "scattergeo"
           }
          ],
          "scattergl": [
           {
            "marker": {
             "colorbar": {
              "outlinewidth": 0,
              "ticks": ""
             }
            },
            "type": "scattergl"
           }
          ],
          "scattermapbox": [
           {
            "marker": {
             "colorbar": {
              "outlinewidth": 0,
              "ticks": ""
             }
            },
            "type": "scattermapbox"
           }
          ],
          "scatterpolar": [
           {
            "marker": {
             "colorbar": {
              "outlinewidth": 0,
              "ticks": ""
             }
            },
            "type": "scatterpolar"
           }
          ],
          "scatterpolargl": [
           {
            "marker": {
             "colorbar": {
              "outlinewidth": 0,
              "ticks": ""
             }
            },
            "type": "scatterpolargl"
           }
          ],
          "scatterternary": [
           {
            "marker": {
             "colorbar": {
              "outlinewidth": 0,
              "ticks": ""
             }
            },
            "type": "scatterternary"
           }
          ],
          "surface": [
           {
            "colorbar": {
             "outlinewidth": 0,
             "ticks": ""
            },
            "colorscale": [
             [
              0,
              "#0d0887"
             ],
             [
              0.1111111111111111,
              "#46039f"
             ],
             [
              0.2222222222222222,
              "#7201a8"
             ],
             [
              0.3333333333333333,
              "#9c179e"
             ],
             [
              0.4444444444444444,
              "#bd3786"
             ],
             [
              0.5555555555555556,
              "#d8576b"
             ],
             [
              0.6666666666666666,
              "#ed7953"
             ],
             [
              0.7777777777777778,
              "#fb9f3a"
             ],
             [
              0.8888888888888888,
              "#fdca26"
             ],
             [
              1,
              "#f0f921"
             ]
            ],
            "type": "surface"
           }
          ],
          "table": [
           {
            "cells": {
             "fill": {
              "color": "#EBF0F8"
             },
             "line": {
              "color": "white"
             }
            },
            "header": {
             "fill": {
              "color": "#C8D4E3"
             },
             "line": {
              "color": "white"
             }
            },
            "type": "table"
           }
          ]
         },
         "layout": {
          "annotationdefaults": {
           "arrowcolor": "#2a3f5f",
           "arrowhead": 0,
           "arrowwidth": 1
          },
          "autotypenumbers": "strict",
          "coloraxis": {
           "colorbar": {
            "outlinewidth": 0,
            "ticks": ""
           }
          },
          "colorscale": {
           "diverging": [
            [
             0,
             "#8e0152"
            ],
            [
             0.1,
             "#c51b7d"
            ],
            [
             0.2,
             "#de77ae"
            ],
            [
             0.3,
             "#f1b6da"
            ],
            [
             0.4,
             "#fde0ef"
            ],
            [
             0.5,
             "#f7f7f7"
            ],
            [
             0.6,
             "#e6f5d0"
            ],
            [
             0.7,
             "#b8e186"
            ],
            [
             0.8,
             "#7fbc41"
            ],
            [
             0.9,
             "#4d9221"
            ],
            [
             1,
             "#276419"
            ]
           ],
           "sequential": [
            [
             0,
             "#0d0887"
            ],
            [
             0.1111111111111111,
             "#46039f"
            ],
            [
             0.2222222222222222,
             "#7201a8"
            ],
            [
             0.3333333333333333,
             "#9c179e"
            ],
            [
             0.4444444444444444,
             "#bd3786"
            ],
            [
             0.5555555555555556,
             "#d8576b"
            ],
            [
             0.6666666666666666,
             "#ed7953"
            ],
            [
             0.7777777777777778,
             "#fb9f3a"
            ],
            [
             0.8888888888888888,
             "#fdca26"
            ],
            [
             1,
             "#f0f921"
            ]
           ],
           "sequentialminus": [
            [
             0,
             "#0d0887"
            ],
            [
             0.1111111111111111,
             "#46039f"
            ],
            [
             0.2222222222222222,
             "#7201a8"
            ],
            [
             0.3333333333333333,
             "#9c179e"
            ],
            [
             0.4444444444444444,
             "#bd3786"
            ],
            [
             0.5555555555555556,
             "#d8576b"
            ],
            [
             0.6666666666666666,
             "#ed7953"
            ],
            [
             0.7777777777777778,
             "#fb9f3a"
            ],
            [
             0.8888888888888888,
             "#fdca26"
            ],
            [
             1,
             "#f0f921"
            ]
           ]
          },
          "colorway": [
           "#636efa",
           "#EF553B",
           "#00cc96",
           "#ab63fa",
           "#FFA15A",
           "#19d3f3",
           "#FF6692",
           "#B6E880",
           "#FF97FF",
           "#FECB52"
          ],
          "font": {
           "color": "#2a3f5f"
          },
          "geo": {
           "bgcolor": "white",
           "lakecolor": "white",
           "landcolor": "#E5ECF6",
           "showlakes": true,
           "showland": true,
           "subunitcolor": "white"
          },
          "hoverlabel": {
           "align": "left"
          },
          "hovermode": "closest",
          "mapbox": {
           "style": "light"
          },
          "paper_bgcolor": "white",
          "plot_bgcolor": "#E5ECF6",
          "polar": {
           "angularaxis": {
            "gridcolor": "white",
            "linecolor": "white",
            "ticks": ""
           },
           "bgcolor": "#E5ECF6",
           "radialaxis": {
            "gridcolor": "white",
            "linecolor": "white",
            "ticks": ""
           }
          },
          "scene": {
           "xaxis": {
            "backgroundcolor": "#E5ECF6",
            "gridcolor": "white",
            "gridwidth": 2,
            "linecolor": "white",
            "showbackground": true,
            "ticks": "",
            "zerolinecolor": "white"
           },
           "yaxis": {
            "backgroundcolor": "#E5ECF6",
            "gridcolor": "white",
            "gridwidth": 2,
            "linecolor": "white",
            "showbackground": true,
            "ticks": "",
            "zerolinecolor": "white"
           },
           "zaxis": {
            "backgroundcolor": "#E5ECF6",
            "gridcolor": "white",
            "gridwidth": 2,
            "linecolor": "white",
            "showbackground": true,
            "ticks": "",
            "zerolinecolor": "white"
           }
          },
          "shapedefaults": {
           "line": {
            "color": "#2a3f5f"
           }
          },
          "ternary": {
           "aaxis": {
            "gridcolor": "white",
            "linecolor": "white",
            "ticks": ""
           },
           "baxis": {
            "gridcolor": "white",
            "linecolor": "white",
            "ticks": ""
           },
           "bgcolor": "#E5ECF6",
           "caxis": {
            "gridcolor": "white",
            "linecolor": "white",
            "ticks": ""
           }
          },
          "title": {
           "x": 0.05
          },
          "xaxis": {
           "automargin": true,
           "gridcolor": "white",
           "linecolor": "white",
           "ticks": "",
           "title": {
            "standoff": 15
           },
           "zerolinecolor": "white",
           "zerolinewidth": 2
          },
          "yaxis": {
           "automargin": true,
           "gridcolor": "white",
           "linecolor": "white",
           "ticks": "",
           "title": {
            "standoff": 15
           },
           "zerolinecolor": "white",
           "zerolinewidth": 2
          }
         }
        },
        "title": {
         "text": " Region Año 2020"
        },
        "width": 1000,
        "xaxis": {
         "anchor": "y",
         "domain": [
          0,
          0.18400000000000002
         ],
         "title": {
          "text": "Sub-region Name"
         }
        },
        "xaxis2": {
         "anchor": "y2",
         "domain": [
          0.20400000000000001,
          0.388
         ],
         "matches": "x",
         "title": {
          "text": "Sub-region Name"
         }
        },
        "xaxis3": {
         "anchor": "y3",
         "domain": [
          0.40800000000000003,
          0.5920000000000001
         ],
         "matches": "x",
         "title": {
          "text": "Sub-region Name"
         }
        },
        "xaxis4": {
         "anchor": "y4",
         "domain": [
          0.6120000000000001,
          0.7960000000000002
         ],
         "matches": "x",
         "title": {
          "text": "Sub-region Name"
         }
        },
        "xaxis5": {
         "anchor": "y5",
         "domain": [
          0.8160000000000001,
          1
         ],
         "matches": "x",
         "title": {
          "text": "Sub-region Name"
         }
        },
        "yaxis": {
         "anchor": "x",
         "domain": [
          0,
          1
         ],
         "title": {
          "text": "Internet users (%)"
         }
        },
        "yaxis2": {
         "anchor": "x2",
         "domain": [
          0,
          1
         ],
         "matches": "y",
         "showticklabels": false
        },
        "yaxis3": {
         "anchor": "x3",
         "domain": [
          0,
          1
         ],
         "matches": "y",
         "showticklabels": false
        },
        "yaxis4": {
         "anchor": "x4",
         "domain": [
          0,
          1
         ],
         "matches": "y",
         "showticklabels": false
        },
        "yaxis5": {
         "anchor": "x5",
         "domain": [
          0,
          1
         ],
         "matches": "y",
         "showticklabels": false
        }
       }
      }
     },
     "metadata": {},
     "output_type": "display_data"
    }
   ],
   "source": [
    "yr=2020\n",
    "year_dat=df_countries[df_countries['Year']==yr]\n",
    "px.scatter(year_dat, x='Sub-region Name', y='Internet users (%)',size='Nivel Ingresos',size_max=20,title=f\" Region Año {yr}\",color='Grupo de Ingresos',width=1000, height=600,color_discrete_sequence=px.colors.sequential.RdBu,facet_col=\"Region Name\")"
   ]
  },
  {
   "cell_type": "code",
   "execution_count": 17,
   "metadata": {},
   "outputs": [
    {
     "data": {
      "application/vnd.plotly.v1+json": {
       "config": {
        "plotlyServerURL": "https://plot.ly"
       },
       "data": [
        {
         "hovertemplate": "Grupo de Ingresos=Ingreso bajo<br>Region Name=Asia<br>Sub-region Name=%{x}<br>Internet users (%)=%{y}<br>Nivel Ingresos=%{marker.size}<extra></extra>",
         "legendgroup": "Ingreso bajo",
         "marker": {
          "color": "rgb(37, 125, 152)",
          "size": [
           0,
           0
          ],
          "sizemode": "area",
          "sizeref": 0.0075,
          "symbol": "circle"
         },
         "mode": "markers",
         "name": "Ingreso bajo",
         "orientation": "v",
         "showlegend": true,
         "type": "scatter",
         "x": [
          "Southern Asia",
          "Western Asia"
         ],
         "xaxis": "x",
         "y": [
          18.4,
          35.78
         ],
         "yaxis": "y"
        },
        {
         "hovertemplate": "Grupo de Ingresos=Ingreso bajo<br>Region Name=Africa<br>Sub-region Name=%{x}<br>Internet users (%)=%{y}<br>Nivel Ingresos=%{marker.size}<extra></extra>",
         "legendgroup": "Ingreso bajo",
         "marker": {
          "color": "rgb(37, 125, 152)",
          "size": [
           0,
           0,
           0,
           0,
           0,
           0,
           0,
           0,
           0,
           0,
           0,
           0,
           0,
           0,
           0,
           0
          ],
          "sizemode": "area",
          "sizeref": 0.0075,
          "symbol": "circle"
         },
         "mode": "markers",
         "name": "Ingreso bajo",
         "orientation": "v",
         "showlegend": false,
         "type": "scatter",
         "x": [
          "Sub-Saharan Africa",
          "Sub-Saharan Africa",
          "Sub-Saharan Africa",
          "Sub-Saharan Africa",
          "Sub-Saharan Africa",
          "Sub-Saharan Africa",
          "Sub-Saharan Africa",
          "Sub-Saharan Africa",
          "Sub-Saharan Africa",
          "Sub-Saharan Africa",
          "Northern Africa",
          "Sub-Saharan Africa",
          "Sub-Saharan Africa",
          "Sub-Saharan Africa",
          "Sub-Saharan Africa",
          "Sub-Saharan Africa"
         ],
         "xaxis": "x2",
         "y": [
          9.4,
          22,
          10.4,
          24,
          26,
          22.9,
          25.6,
          27.4,
          16.5,
          26.5,
          28.4,
          18,
          6.5,
          10.4,
          24,
          19.9
         ],
         "yaxis": "y2"
        },
        {
         "hovertemplate": "Grupo de Ingresos=Ingreso mediano bajo<br>Region Name=Asia<br>Sub-region Name=%{x}<br>Internet users (%)=%{y}<br>Nivel Ingresos=%{marker.size}<extra></extra>",
         "legendgroup": "Ingreso mediano bajo",
         "marker": {
          "color": "rgb(44, 152, 160)",
          "size": [
           1,
           1,
           1,
           1,
           1,
           1,
           1,
           1,
           1,
           1,
           1,
           1
          ],
          "sizemode": "area",
          "sizeref": 0.0075,
          "symbol": "circle"
         },
         "mode": "markers",
         "name": "Ingreso mediano bajo",
         "orientation": "v",
         "showlegend": true,
         "type": "scatter",
         "x": [
          "Southern Asia",
          "Southern Asia",
          "South-eastern Asia",
          "Southern Asia",
          "Southern Asia",
          "South-eastern Asia",
          "Eastern Asia",
          "Southern Asia",
          "Southern Asia",
          "South-eastern Asia",
          "South-eastern Asia",
          "Central Asia"
         ],
         "xaxis": "x",
         "y": [
          24.8,
          53.5,
          53.72649449,
          43,
          35,
          35.1,
          62.50002848,
          37.7,
          25,
          49.8,
          29.1,
          71.1
         ],
         "yaxis": "y"
        },
        {
         "hovertemplate": "Grupo de Ingresos=Ingreso mediano bajo<br>Region Name=Africa<br>Sub-region Name=%{x}<br>Internet users (%)=%{y}<br>Nivel Ingresos=%{marker.size}<extra></extra>",
         "legendgroup": "Ingreso mediano bajo",
         "marker": {
          "color": "rgb(44, 152, 160)",
          "size": [
           1,
           1,
           1,
           1,
           1,
           1,
           1,
           1,
           1,
           1,
           1,
           1,
           1,
           1,
           1,
           1,
           1
          ],
          "sizemode": "area",
          "sizeref": 0.0075,
          "symbol": "circle"
         },
         "mode": "markers",
         "name": "Ingreso mediano bajo",
         "orientation": "v",
         "showlegend": false,
         "type": "scatter",
         "x": [
          "Sub-Saharan Africa",
          "Sub-Saharan Africa",
          "Sub-Saharan Africa",
          "Sub-Saharan Africa",
          "Sub-Saharan Africa",
          "Northern Africa",
          "Sub-Saharan Africa",
          "Sub-Saharan Africa",
          "Sub-Saharan Africa",
          "Northern Africa",
          "Sub-Saharan Africa",
          "Sub-Saharan Africa",
          "Sub-Saharan Africa",
          "Sub-Saharan Africa",
          "Northern Africa",
          "Sub-Saharan Africa",
          "Sub-Saharan Africa"
         ],
         "xaxis": "x2",
         "y": [
          36,
          25.8,
          37.8,
          64.5,
          59,
          62.9,
          58,
          29.5,
          43,
          84.12036305,
          40.8,
          35.5,
          42.6,
          33,
          71.9,
          19.8,
          29.3
         ],
         "yaxis": "y2"
        },
        {
         "hovertemplate": "Grupo de Ingresos=Ingreso mediano bajo<br>Region Name=Europe<br>Sub-region Name=%{x}<br>Internet users (%)=%{y}<br>Nivel Ingresos=%{marker.size}<extra></extra>",
         "legendgroup": "Ingreso mediano bajo",
         "marker": {
          "color": "rgb(44, 152, 160)",
          "size": [
           1
          ],
          "sizemode": "area",
          "sizeref": 0.0075,
          "symbol": "circle"
         },
         "mode": "markers",
         "name": "Ingreso mediano bajo",
         "orientation": "v",
         "showlegend": false,
         "type": "scatter",
         "x": [
          "Eastern Europe"
         ],
         "xaxis": "x3",
         "y": [
          75.03790912
         ],
         "yaxis": "y3"
        },
        {
         "hovertemplate": "Grupo de Ingresos=Ingreso mediano bajo<br>Region Name=Americas<br>Sub-region Name=%{x}<br>Internet users (%)=%{y}<br>Nivel Ingresos=%{marker.size}<extra></extra>",
         "legendgroup": "Ingreso mediano bajo",
         "marker": {
          "color": "rgb(44, 152, 160)",
          "size": [
           1,
           1,
           1,
           1
          ],
          "sizemode": "area",
          "sizeref": 0.0075,
          "symbol": "circle"
         },
         "mode": "markers",
         "name": "Ingreso mediano bajo",
         "orientation": "v",
         "showlegend": false,
         "type": "scatter",
         "x": [
          "Latin America and the Caribbean",
          "Latin America and the Caribbean",
          "Latin America and the Caribbean",
          "Latin America and the Caribbean"
         ],
         "xaxis": "x4",
         "y": [
          42.05,
          34.5,
          45.2,
          54.60137027
         ],
         "yaxis": "y4"
        },
        {
         "hovertemplate": "Grupo de Ingresos=Ingreso mediano bajo<br>Region Name=Oceania<br>Sub-region Name=%{x}<br>Internet users (%)=%{y}<br>Nivel Ingresos=%{marker.size}<extra></extra>",
         "legendgroup": "Ingreso mediano bajo",
         "marker": {
          "color": "rgb(44, 152, 160)",
          "size": [
           1
          ],
          "sizemode": "area",
          "sizeref": 0.0075,
          "symbol": "circle"
         },
         "mode": "markers",
         "name": "Ingreso mediano bajo",
         "orientation": "v",
         "showlegend": false,
         "type": "scatter",
         "x": [
          "Micronesia"
         ],
         "xaxis": "x5",
         "y": [
          38
         ],
         "yaxis": "y5"
        },
        {
         "hovertemplate": "Grupo de Ingresos=Ingreso mediano alto<br>Region Name=Asia<br>Sub-region Name=%{x}<br>Internet users (%)=%{y}<br>Nivel Ingresos=%{marker.size}<extra></extra>",
         "legendgroup": "Ingreso mediano alto",
         "marker": {
          "color": "rgb(56, 178, 163)",
          "size": [
           2,
           2,
           2,
           2,
           2,
           2,
           2,
           2,
           2
          ],
          "sizemode": "area",
          "sizeref": 0.0075,
          "symbol": "circle"
         },
         "mode": "markers",
         "name": "Ingreso mediano alto",
         "orientation": "v",
         "showlegend": true,
         "type": "scatter",
         "x": [
          "Western Asia",
          "Western Asia",
          "Eastern Asia",
          "Western Asia",
          "Central Asia",
          "Western Asia",
          "Southern Asia",
          "South-eastern Asia",
          "South-eastern Asia"
         ],
         "xaxis": "x",
         "y": [
          76.51,
          84.59999573,
          70.40477542,
          72.53158402,
          85.94259898,
          84.1,
          62.93,
          89.55501192,
          77.84374066
         ],
         "yaxis": "y"
        },
        {
         "hovertemplate": "Grupo de Ingresos=Ingreso mediano alto<br>Region Name=Africa<br>Sub-region Name=%{x}<br>Internet users (%)=%{y}<br>Nivel Ingresos=%{marker.size}<extra></extra>",
         "legendgroup": "Ingreso mediano alto",
         "marker": {
          "color": "rgb(56, 178, 163)",
          "size": [
           2,
           2,
           2,
           2,
           2
          ],
          "sizemode": "area",
          "sizeref": 0.0075,
          "symbol": "circle"
         },
         "mode": "markers",
         "name": "Ingreso mediano alto",
         "orientation": "v",
         "showlegend": false,
         "type": "scatter",
         "x": [
          "Sub-Saharan Africa",
          "Sub-Saharan Africa",
          "Sub-Saharan Africa",
          "Sub-Saharan Africa",
          "Sub-Saharan Africa"
         ],
         "xaxis": "x2",
         "y": [
          64,
          62,
          64.88490358,
          41,
          70
         ],
         "yaxis": "y2"
        },
        {
         "hovertemplate": "Grupo de Ingresos=Ingreso mediano alto<br>Region Name=Europe<br>Sub-region Name=%{x}<br>Internet users (%)=%{y}<br>Nivel Ingresos=%{marker.size}<extra></extra>",
         "legendgroup": "Ingreso mediano alto",
         "marker": {
          "color": "rgb(56, 178, 163)",
          "size": [
           2,
           2,
           2,
           2,
           2,
           2,
           2,
           2,
           2
          ],
          "sizemode": "area",
          "sizeref": 0.0075,
          "symbol": "circle"
         },
         "mode": "markers",
         "name": "Ingreso mediano alto",
         "orientation": "v",
         "showlegend": false,
         "type": "scatter",
         "x": [
          "Southern Europe",
          "Eastern Europe",
          "Southern Europe",
          "Eastern Europe",
          "Southern Europe",
          "Southern Europe",
          "Eastern Europe",
          "Eastern Europe",
          "Southern Europe"
         ],
         "xaxis": "x3",
         "y": [
          72.24,
          70.16,
          73.21,
          85.09,
          81.40553811,
          77.60879306,
          78.45526741,
          84.99467026,
          78.36804077
         ],
         "yaxis": "y3"
        },
        {
         "hovertemplate": "Grupo de Ingresos=Ingreso mediano alto<br>Region Name=Americas<br>Sub-region Name=%{x}<br>Internet users (%)=%{y}<br>Nivel Ingresos=%{marker.size}<extra></extra>",
         "legendgroup": "Ingreso mediano alto",
         "marker": {
          "color": "rgb(56, 178, 163)",
          "size": [
           2,
           2,
           2,
           2,
           2,
           2,
           2,
           2,
           2,
           2,
           2,
           2,
           2,
           2
          ],
          "sizemode": "area",
          "sizeref": 0.0075,
          "symbol": "circle"
         },
         "mode": "markers",
         "name": "Ingreso mediano alto",
         "orientation": "v",
         "showlegend": false,
         "type": "scatter",
         "x": [
          "Latin America and the Caribbean",
          "Latin America and the Caribbean",
          "Latin America and the Caribbean",
          "Latin America and the Caribbean",
          "Latin America and the Caribbean",
          "Latin America and the Caribbean",
          "Latin America and the Caribbean",
          "Latin America and the Caribbean",
          "Latin America and the Caribbean",
          "Latin America and the Caribbean",
          "Latin America and the Caribbean",
          "Latin America and the Caribbean",
          "Latin America and the Caribbean",
          "Latin America and the Caribbean"
         ],
         "xaxis": "x4",
         "y": [
          85.5,
          81.34269353,
          69.79,
          80.53018608000001,
          74,
          76.9,
          64.6,
          56.9,
          49.97,
          71.96819405,
          64.25,
          65.25,
          73.95751114,
          70.06
         ],
         "yaxis": "y4"
        },
        {
         "hovertemplate": "Grupo de Ingresos=Ingreso alto<br>Region Name=Asia<br>Sub-region Name=%{x}<br>Internet users (%)=%{y}<br>Nivel Ingresos=%{marker.size}<extra></extra>",
         "legendgroup": "Ingreso alto",
         "marker": {
          "color": "rgb(76, 200, 163)",
          "size": [
           3,
           3,
           3,
           3,
           3,
           3,
           3,
           3,
           3,
           3,
           3
          ],
          "sizemode": "area",
          "sizeref": 0.0075,
          "symbol": "circle"
         },
         "mode": "markers",
         "name": "Ingreso alto",
         "orientation": "v",
         "showlegend": true,
         "type": "scatter",
         "x": [
          "Western Asia",
          "Western Asia",
          "South-eastern Asia",
          "Western Asia",
          "Western Asia",
          "Eastern Asia",
          "Western Asia",
          "Western Asia",
          "Western Asia",
          "Western Asia",
          "South-eastern Asia"
         ],
         "xaxis": "x",
         "y": [
          100,
          99.67,
          95,
          90.80194723,
          90.12734091,
          90.21945812,
          99.10587967,
          95.23,
          99.65284913,
          97.86,
          92.00434653
         ],
         "yaxis": "y"
        },
        {
         "hovertemplate": "Grupo de Ingresos=Ingreso alto<br>Region Name=Africa<br>Sub-region Name=%{x}<br>Internet users (%)=%{y}<br>Nivel Ingresos=%{marker.size}<extra></extra>",
         "legendgroup": "Ingreso alto",
         "marker": {
          "color": "rgb(76, 200, 163)",
          "size": [
           3
          ],
          "sizemode": "area",
          "sizeref": 0.0075,
          "symbol": "circle"
         },
         "mode": "markers",
         "name": "Ingreso alto",
         "orientation": "v",
         "showlegend": false,
         "type": "scatter",
         "x": [
          "Sub-Saharan Africa"
         ],
         "xaxis": "x2",
         "y": [
          79
         ],
         "yaxis": "y2"
        },
        {
         "hovertemplate": "Grupo de Ingresos=Ingreso alto<br>Region Name=Europe<br>Sub-region Name=%{x}<br>Internet users (%)=%{y}<br>Nivel Ingresos=%{marker.size}<extra></extra>",
         "legendgroup": "Ingreso alto",
         "marker": {
          "color": "rgb(76, 200, 163)",
          "size": [
           3,
           3,
           3,
           3,
           3,
           3,
           3,
           3,
           3,
           3,
           3,
           3,
           3,
           3,
           3,
           3,
           3,
           3,
           3,
           3,
           3,
           3,
           3,
           3,
           3,
           3
          ],
          "sizemode": "area",
          "sizeref": 0.0075,
          "symbol": "circle"
         },
         "mode": "markers",
         "name": "Ingreso alto",
         "orientation": "v",
         "showlegend": false,
         "type": "scatter",
         "x": [
          "Western Europe",
          "Western Europe",
          "Western Europe",
          "Eastern Europe",
          "Western Europe",
          "Northern Europe",
          "Southern Europe",
          "Northern Europe",
          "Northern Europe",
          "Western Europe",
          "Southern Europe",
          "Southern Europe",
          "Eastern Europe",
          "Northern Europe",
          "Northern Europe",
          "Southern Europe",
          "Northern Europe",
          "Western Europe",
          "Northern Europe",
          "Southern Europe",
          "Western Europe",
          "Northern Europe",
          "Eastern Europe",
          "Southern Europe",
          "Southern Europe",
          "Northern Europe"
         ],
         "xaxis": "x3",
         "y": [
          87.52942813,
          91.52641629,
          94.2,
          81.33889705,
          89.81294133,
          96.54914573,
          93.20564892,
          89.05828666,
          92.17,
          84.8,
          78.11584474,
          78.32093274,
          84.77115202,
          91.99989097,
          99,
          70.48342785,
          83.05555096,
          98.82242384,
          88.9,
          86.85876416,
          91.33333333,
          97,
          83.18488715,
          78.26166044,
          86.60130109,
          94.53943122
         ],
         "yaxis": "y3"
        },
        {
         "hovertemplate": "Grupo de Ingresos=Ingreso alto<br>Region Name=Americas<br>Sub-region Name=%{x}<br>Internet users (%)=%{y}<br>Nivel Ingresos=%{marker.size}<extra></extra>",
         "legendgroup": "Ingreso alto",
         "marker": {
          "color": "rgb(76, 200, 163)",
          "size": [
           3,
           3,
           3,
           3
          ],
          "sizemode": "area",
          "sizeref": 0.0075,
          "symbol": "circle"
         },
         "mode": "markers",
         "name": "Ingreso alto",
         "orientation": "v",
         "showlegend": false,
         "type": "scatter",
         "x": [
          "Northern America",
          "Latin America and the Caribbean",
          "Latin America and the Caribbean",
          "Northern America"
         ],
         "xaxis": "x4",
         "y": [
          96.97,
          88.3,
          86.1,
          90.9
         ],
         "yaxis": "y4"
        },
        {
         "hovertemplate": "Grupo de Ingresos=Ingreso alto<br>Region Name=Oceania<br>Sub-region Name=%{x}<br>Internet users (%)=%{y}<br>Nivel Ingresos=%{marker.size}<extra></extra>",
         "legendgroup": "Ingreso alto",
         "marker": {
          "color": "rgb(76, 200, 163)",
          "size": [
           3,
           3
          ],
          "sizemode": "area",
          "sizeref": 0.0075,
          "symbol": "circle"
         },
         "mode": "markers",
         "name": "Ingreso alto",
         "orientation": "v",
         "showlegend": false,
         "type": "scatter",
         "x": [
          "Australia and New Zealand",
          "Australia and New Zealand"
         ],
         "xaxis": "x5",
         "y": [
          89.6,
          91.5
         ],
         "yaxis": "y5"
        }
       ],
       "layout": {
        "annotations": [
         {
          "font": {},
          "showarrow": false,
          "text": "Region Name=Asia",
          "x": 0.09200000000000001,
          "xanchor": "center",
          "xref": "paper",
          "y": 1,
          "yanchor": "bottom",
          "yref": "paper"
         },
         {
          "font": {},
          "showarrow": false,
          "text": "Region Name=Africa",
          "x": 0.29600000000000004,
          "xanchor": "center",
          "xref": "paper",
          "y": 1,
          "yanchor": "bottom",
          "yref": "paper"
         },
         {
          "font": {},
          "showarrow": false,
          "text": "Region Name=Europe",
          "x": 0.5,
          "xanchor": "center",
          "xref": "paper",
          "y": 1,
          "yanchor": "bottom",
          "yref": "paper"
         },
         {
          "font": {},
          "showarrow": false,
          "text": "Region Name=Americas",
          "x": 0.7040000000000002,
          "xanchor": "center",
          "xref": "paper",
          "y": 1,
          "yanchor": "bottom",
          "yref": "paper"
         },
         {
          "font": {},
          "showarrow": false,
          "text": "Region Name=Oceania",
          "x": 0.908,
          "xanchor": "center",
          "xref": "paper",
          "y": 1,
          "yanchor": "bottom",
          "yref": "paper"
         }
        ],
        "height": 600,
        "legend": {
         "itemsizing": "constant",
         "title": {
          "text": "Grupo de Ingresos"
         },
         "tracegroupgap": 0
        },
        "template": {
         "data": {
          "bar": [
           {
            "error_x": {
             "color": "#2a3f5f"
            },
            "error_y": {
             "color": "#2a3f5f"
            },
            "marker": {
             "line": {
              "color": "#E5ECF6",
              "width": 0.5
             },
             "pattern": {
              "fillmode": "overlay",
              "size": 10,
              "solidity": 0.2
             }
            },
            "type": "bar"
           }
          ],
          "barpolar": [
           {
            "marker": {
             "line": {
              "color": "#E5ECF6",
              "width": 0.5
             },
             "pattern": {
              "fillmode": "overlay",
              "size": 10,
              "solidity": 0.2
             }
            },
            "type": "barpolar"
           }
          ],
          "carpet": [
           {
            "aaxis": {
             "endlinecolor": "#2a3f5f",
             "gridcolor": "white",
             "linecolor": "white",
             "minorgridcolor": "white",
             "startlinecolor": "#2a3f5f"
            },
            "baxis": {
             "endlinecolor": "#2a3f5f",
             "gridcolor": "white",
             "linecolor": "white",
             "minorgridcolor": "white",
             "startlinecolor": "#2a3f5f"
            },
            "type": "carpet"
           }
          ],
          "choropleth": [
           {
            "colorbar": {
             "outlinewidth": 0,
             "ticks": ""
            },
            "type": "choropleth"
           }
          ],
          "contour": [
           {
            "colorbar": {
             "outlinewidth": 0,
             "ticks": ""
            },
            "colorscale": [
             [
              0,
              "#0d0887"
             ],
             [
              0.1111111111111111,
              "#46039f"
             ],
             [
              0.2222222222222222,
              "#7201a8"
             ],
             [
              0.3333333333333333,
              "#9c179e"
             ],
             [
              0.4444444444444444,
              "#bd3786"
             ],
             [
              0.5555555555555556,
              "#d8576b"
             ],
             [
              0.6666666666666666,
              "#ed7953"
             ],
             [
              0.7777777777777778,
              "#fb9f3a"
             ],
             [
              0.8888888888888888,
              "#fdca26"
             ],
             [
              1,
              "#f0f921"
             ]
            ],
            "type": "contour"
           }
          ],
          "contourcarpet": [
           {
            "colorbar": {
             "outlinewidth": 0,
             "ticks": ""
            },
            "type": "contourcarpet"
           }
          ],
          "heatmap": [
           {
            "colorbar": {
             "outlinewidth": 0,
             "ticks": ""
            },
            "colorscale": [
             [
              0,
              "#0d0887"
             ],
             [
              0.1111111111111111,
              "#46039f"
             ],
             [
              0.2222222222222222,
              "#7201a8"
             ],
             [
              0.3333333333333333,
              "#9c179e"
             ],
             [
              0.4444444444444444,
              "#bd3786"
             ],
             [
              0.5555555555555556,
              "#d8576b"
             ],
             [
              0.6666666666666666,
              "#ed7953"
             ],
             [
              0.7777777777777778,
              "#fb9f3a"
             ],
             [
              0.8888888888888888,
              "#fdca26"
             ],
             [
              1,
              "#f0f921"
             ]
            ],
            "type": "heatmap"
           }
          ],
          "heatmapgl": [
           {
            "colorbar": {
             "outlinewidth": 0,
             "ticks": ""
            },
            "colorscale": [
             [
              0,
              "#0d0887"
             ],
             [
              0.1111111111111111,
              "#46039f"
             ],
             [
              0.2222222222222222,
              "#7201a8"
             ],
             [
              0.3333333333333333,
              "#9c179e"
             ],
             [
              0.4444444444444444,
              "#bd3786"
             ],
             [
              0.5555555555555556,
              "#d8576b"
             ],
             [
              0.6666666666666666,
              "#ed7953"
             ],
             [
              0.7777777777777778,
              "#fb9f3a"
             ],
             [
              0.8888888888888888,
              "#fdca26"
             ],
             [
              1,
              "#f0f921"
             ]
            ],
            "type": "heatmapgl"
           }
          ],
          "histogram": [
           {
            "marker": {
             "pattern": {
              "fillmode": "overlay",
              "size": 10,
              "solidity": 0.2
             }
            },
            "type": "histogram"
           }
          ],
          "histogram2d": [
           {
            "colorbar": {
             "outlinewidth": 0,
             "ticks": ""
            },
            "colorscale": [
             [
              0,
              "#0d0887"
             ],
             [
              0.1111111111111111,
              "#46039f"
             ],
             [
              0.2222222222222222,
              "#7201a8"
             ],
             [
              0.3333333333333333,
              "#9c179e"
             ],
             [
              0.4444444444444444,
              "#bd3786"
             ],
             [
              0.5555555555555556,
              "#d8576b"
             ],
             [
              0.6666666666666666,
              "#ed7953"
             ],
             [
              0.7777777777777778,
              "#fb9f3a"
             ],
             [
              0.8888888888888888,
              "#fdca26"
             ],
             [
              1,
              "#f0f921"
             ]
            ],
            "type": "histogram2d"
           }
          ],
          "histogram2dcontour": [
           {
            "colorbar": {
             "outlinewidth": 0,
             "ticks": ""
            },
            "colorscale": [
             [
              0,
              "#0d0887"
             ],
             [
              0.1111111111111111,
              "#46039f"
             ],
             [
              0.2222222222222222,
              "#7201a8"
             ],
             [
              0.3333333333333333,
              "#9c179e"
             ],
             [
              0.4444444444444444,
              "#bd3786"
             ],
             [
              0.5555555555555556,
              "#d8576b"
             ],
             [
              0.6666666666666666,
              "#ed7953"
             ],
             [
              0.7777777777777778,
              "#fb9f3a"
             ],
             [
              0.8888888888888888,
              "#fdca26"
             ],
             [
              1,
              "#f0f921"
             ]
            ],
            "type": "histogram2dcontour"
           }
          ],
          "mesh3d": [
           {
            "colorbar": {
             "outlinewidth": 0,
             "ticks": ""
            },
            "type": "mesh3d"
           }
          ],
          "parcoords": [
           {
            "line": {
             "colorbar": {
              "outlinewidth": 0,
              "ticks": ""
             }
            },
            "type": "parcoords"
           }
          ],
          "pie": [
           {
            "automargin": true,
            "type": "pie"
           }
          ],
          "scatter": [
           {
            "fillpattern": {
             "fillmode": "overlay",
             "size": 10,
             "solidity": 0.2
            },
            "type": "scatter"
           }
          ],
          "scatter3d": [
           {
            "line": {
             "colorbar": {
              "outlinewidth": 0,
              "ticks": ""
             }
            },
            "marker": {
             "colorbar": {
              "outlinewidth": 0,
              "ticks": ""
             }
            },
            "type": "scatter3d"
           }
          ],
          "scattercarpet": [
           {
            "marker": {
             "colorbar": {
              "outlinewidth": 0,
              "ticks": ""
             }
            },
            "type": "scattercarpet"
           }
          ],
          "scattergeo": [
           {
            "marker": {
             "colorbar": {
              "outlinewidth": 0,
              "ticks": ""
             }
            },
            "type": "scattergeo"
           }
          ],
          "scattergl": [
           {
            "marker": {
             "colorbar": {
              "outlinewidth": 0,
              "ticks": ""
             }
            },
            "type": "scattergl"
           }
          ],
          "scattermapbox": [
           {
            "marker": {
             "colorbar": {
              "outlinewidth": 0,
              "ticks": ""
             }
            },
            "type": "scattermapbox"
           }
          ],
          "scatterpolar": [
           {
            "marker": {
             "colorbar": {
              "outlinewidth": 0,
              "ticks": ""
             }
            },
            "type": "scatterpolar"
           }
          ],
          "scatterpolargl": [
           {
            "marker": {
             "colorbar": {
              "outlinewidth": 0,
              "ticks": ""
             }
            },
            "type": "scatterpolargl"
           }
          ],
          "scatterternary": [
           {
            "marker": {
             "colorbar": {
              "outlinewidth": 0,
              "ticks": ""
             }
            },
            "type": "scatterternary"
           }
          ],
          "surface": [
           {
            "colorbar": {
             "outlinewidth": 0,
             "ticks": ""
            },
            "colorscale": [
             [
              0,
              "#0d0887"
             ],
             [
              0.1111111111111111,
              "#46039f"
             ],
             [
              0.2222222222222222,
              "#7201a8"
             ],
             [
              0.3333333333333333,
              "#9c179e"
             ],
             [
              0.4444444444444444,
              "#bd3786"
             ],
             [
              0.5555555555555556,
              "#d8576b"
             ],
             [
              0.6666666666666666,
              "#ed7953"
             ],
             [
              0.7777777777777778,
              "#fb9f3a"
             ],
             [
              0.8888888888888888,
              "#fdca26"
             ],
             [
              1,
              "#f0f921"
             ]
            ],
            "type": "surface"
           }
          ],
          "table": [
           {
            "cells": {
             "fill": {
              "color": "#EBF0F8"
             },
             "line": {
              "color": "white"
             }
            },
            "header": {
             "fill": {
              "color": "#C8D4E3"
             },
             "line": {
              "color": "white"
             }
            },
            "type": "table"
           }
          ]
         },
         "layout": {
          "annotationdefaults": {
           "arrowcolor": "#2a3f5f",
           "arrowhead": 0,
           "arrowwidth": 1
          },
          "autotypenumbers": "strict",
          "coloraxis": {
           "colorbar": {
            "outlinewidth": 0,
            "ticks": ""
           }
          },
          "colorscale": {
           "diverging": [
            [
             0,
             "#8e0152"
            ],
            [
             0.1,
             "#c51b7d"
            ],
            [
             0.2,
             "#de77ae"
            ],
            [
             0.3,
             "#f1b6da"
            ],
            [
             0.4,
             "#fde0ef"
            ],
            [
             0.5,
             "#f7f7f7"
            ],
            [
             0.6,
             "#e6f5d0"
            ],
            [
             0.7,
             "#b8e186"
            ],
            [
             0.8,
             "#7fbc41"
            ],
            [
             0.9,
             "#4d9221"
            ],
            [
             1,
             "#276419"
            ]
           ],
           "sequential": [
            [
             0,
             "#0d0887"
            ],
            [
             0.1111111111111111,
             "#46039f"
            ],
            [
             0.2222222222222222,
             "#7201a8"
            ],
            [
             0.3333333333333333,
             "#9c179e"
            ],
            [
             0.4444444444444444,
             "#bd3786"
            ],
            [
             0.5555555555555556,
             "#d8576b"
            ],
            [
             0.6666666666666666,
             "#ed7953"
            ],
            [
             0.7777777777777778,
             "#fb9f3a"
            ],
            [
             0.8888888888888888,
             "#fdca26"
            ],
            [
             1,
             "#f0f921"
            ]
           ],
           "sequentialminus": [
            [
             0,
             "#0d0887"
            ],
            [
             0.1111111111111111,
             "#46039f"
            ],
            [
             0.2222222222222222,
             "#7201a8"
            ],
            [
             0.3333333333333333,
             "#9c179e"
            ],
            [
             0.4444444444444444,
             "#bd3786"
            ],
            [
             0.5555555555555556,
             "#d8576b"
            ],
            [
             0.6666666666666666,
             "#ed7953"
            ],
            [
             0.7777777777777778,
             "#fb9f3a"
            ],
            [
             0.8888888888888888,
             "#fdca26"
            ],
            [
             1,
             "#f0f921"
            ]
           ]
          },
          "colorway": [
           "#636efa",
           "#EF553B",
           "#00cc96",
           "#ab63fa",
           "#FFA15A",
           "#19d3f3",
           "#FF6692",
           "#B6E880",
           "#FF97FF",
           "#FECB52"
          ],
          "font": {
           "color": "#2a3f5f"
          },
          "geo": {
           "bgcolor": "white",
           "lakecolor": "white",
           "landcolor": "#E5ECF6",
           "showlakes": true,
           "showland": true,
           "subunitcolor": "white"
          },
          "hoverlabel": {
           "align": "left"
          },
          "hovermode": "closest",
          "mapbox": {
           "style": "light"
          },
          "paper_bgcolor": "white",
          "plot_bgcolor": "#E5ECF6",
          "polar": {
           "angularaxis": {
            "gridcolor": "white",
            "linecolor": "white",
            "ticks": ""
           },
           "bgcolor": "#E5ECF6",
           "radialaxis": {
            "gridcolor": "white",
            "linecolor": "white",
            "ticks": ""
           }
          },
          "scene": {
           "xaxis": {
            "backgroundcolor": "#E5ECF6",
            "gridcolor": "white",
            "gridwidth": 2,
            "linecolor": "white",
            "showbackground": true,
            "ticks": "",
            "zerolinecolor": "white"
           },
           "yaxis": {
            "backgroundcolor": "#E5ECF6",
            "gridcolor": "white",
            "gridwidth": 2,
            "linecolor": "white",
            "showbackground": true,
            "ticks": "",
            "zerolinecolor": "white"
           },
           "zaxis": {
            "backgroundcolor": "#E5ECF6",
            "gridcolor": "white",
            "gridwidth": 2,
            "linecolor": "white",
            "showbackground": true,
            "ticks": "",
            "zerolinecolor": "white"
           }
          },
          "shapedefaults": {
           "line": {
            "color": "#2a3f5f"
           }
          },
          "ternary": {
           "aaxis": {
            "gridcolor": "white",
            "linecolor": "white",
            "ticks": ""
           },
           "baxis": {
            "gridcolor": "white",
            "linecolor": "white",
            "ticks": ""
           },
           "bgcolor": "#E5ECF6",
           "caxis": {
            "gridcolor": "white",
            "linecolor": "white",
            "ticks": ""
           }
          },
          "title": {
           "x": 0.05
          },
          "xaxis": {
           "automargin": true,
           "gridcolor": "white",
           "linecolor": "white",
           "ticks": "",
           "title": {
            "standoff": 15
           },
           "zerolinecolor": "white",
           "zerolinewidth": 2
          },
          "yaxis": {
           "automargin": true,
           "gridcolor": "white",
           "linecolor": "white",
           "ticks": "",
           "title": {
            "standoff": 15
           },
           "zerolinecolor": "white",
           "zerolinewidth": 2
          }
         }
        },
        "title": {
         "text": " Sub Región Año 2020"
        },
        "width": 1000,
        "xaxis": {
         "anchor": "y",
         "domain": [
          0,
          0.18400000000000002
         ],
         "title": {
          "text": "Sub-region Name"
         }
        },
        "xaxis2": {
         "anchor": "y2",
         "domain": [
          0.20400000000000001,
          0.388
         ],
         "matches": "x",
         "title": {
          "text": "Sub-region Name"
         }
        },
        "xaxis3": {
         "anchor": "y3",
         "domain": [
          0.40800000000000003,
          0.5920000000000001
         ],
         "matches": "x",
         "title": {
          "text": "Sub-region Name"
         }
        },
        "xaxis4": {
         "anchor": "y4",
         "domain": [
          0.6120000000000001,
          0.7960000000000002
         ],
         "matches": "x",
         "title": {
          "text": "Sub-region Name"
         }
        },
        "xaxis5": {
         "anchor": "y5",
         "domain": [
          0.8160000000000001,
          1
         ],
         "matches": "x",
         "title": {
          "text": "Sub-region Name"
         }
        },
        "yaxis": {
         "anchor": "x",
         "domain": [
          0,
          1
         ],
         "title": {
          "text": "Internet users (%)"
         }
        },
        "yaxis2": {
         "anchor": "x2",
         "domain": [
          0,
          1
         ],
         "matches": "y",
         "showticklabels": false
        },
        "yaxis3": {
         "anchor": "x3",
         "domain": [
          0,
          1
         ],
         "matches": "y",
         "showticklabels": false
        },
        "yaxis4": {
         "anchor": "x4",
         "domain": [
          0,
          1
         ],
         "matches": "y",
         "showticklabels": false
        },
        "yaxis5": {
         "anchor": "x5",
         "domain": [
          0,
          1
         ],
         "matches": "y",
         "showticklabels": false
        }
       }
      }
     },
     "metadata": {},
     "output_type": "display_data"
    }
   ],
   "source": [
    "yr=2020\n",
    "year_dat=df_countries[df_countries['Year']==yr]\n",
    "px.scatter(year_dat, x='Sub-region Name', y='Internet users (%)',size='Nivel Ingresos',size_max=20,title=f\" Sub Región Año {yr}\",color='Grupo de Ingresos',width=1000, height=600,color_discrete_sequence=px.colors.sequential.Tealgrn_r,facet_col=\"Region Name\")"
   ]
  },
  {
   "cell_type": "code",
   "execution_count": 18,
   "metadata": {},
   "outputs": [
    {
     "data": {
      "text/html": [
       "<div>\n",
       "<style scoped>\n",
       "    .dataframe tbody tr th:only-of-type {\n",
       "        vertical-align: middle;\n",
       "    }\n",
       "\n",
       "    .dataframe tbody tr th {\n",
       "        vertical-align: top;\n",
       "    }\n",
       "\n",
       "    .dataframe thead th {\n",
       "        text-align: right;\n",
       "    }\n",
       "</style>\n",
       "<table border=\"1\" class=\"dataframe\">\n",
       "  <thead>\n",
       "    <tr style=\"text-align: right;\">\n",
       "      <th></th>\n",
       "      <th>Country Name</th>\n",
       "      <th>Region Name</th>\n",
       "      <th>Sub-region Name</th>\n",
       "      <th>Internet users (%)</th>\n",
       "    </tr>\n",
       "  </thead>\n",
       "  <tbody>\n",
       "    <tr>\n",
       "      <th>4639</th>\n",
       "      <td>Afghanistan</td>\n",
       "      <td>Asia</td>\n",
       "      <td>Southern Asia</td>\n",
       "      <td>18.4</td>\n",
       "    </tr>\n",
       "    <tr>\n",
       "      <th>4687</th>\n",
       "      <td>Burundi</td>\n",
       "      <td>Africa</td>\n",
       "      <td>Sub-Saharan Africa</td>\n",
       "      <td>9.4</td>\n",
       "    </tr>\n",
       "    <tr>\n",
       "      <th>4760</th>\n",
       "      <td>Central African Republic</td>\n",
       "      <td>Africa</td>\n",
       "      <td>Sub-Saharan Africa</td>\n",
       "      <td>10.4</td>\n",
       "    </tr>\n",
       "    <tr>\n",
       "      <th>5113</th>\n",
       "      <td>Mozambique</td>\n",
       "      <td>Africa</td>\n",
       "      <td>Sub-Saharan Africa</td>\n",
       "      <td>16.5</td>\n",
       "    </tr>\n",
       "    <tr>\n",
       "      <th>5266</th>\n",
       "      <td>Sierra Leone</td>\n",
       "      <td>Africa</td>\n",
       "      <td>Sub-Saharan Africa</td>\n",
       "      <td>18.0</td>\n",
       "    </tr>\n",
       "    <tr>\n",
       "      <th>5284</th>\n",
       "      <td>South Sudan</td>\n",
       "      <td>Africa</td>\n",
       "      <td>Sub-Saharan Africa</td>\n",
       "      <td>6.5</td>\n",
       "    </tr>\n",
       "    <tr>\n",
       "      <th>5321</th>\n",
       "      <td>Chad</td>\n",
       "      <td>Africa</td>\n",
       "      <td>Sub-Saharan Africa</td>\n",
       "      <td>10.4</td>\n",
       "    </tr>\n",
       "    <tr>\n",
       "      <th>5356</th>\n",
       "      <td>Uganda</td>\n",
       "      <td>Africa</td>\n",
       "      <td>Sub-Saharan Africa</td>\n",
       "      <td>19.9</td>\n",
       "    </tr>\n",
       "    <tr>\n",
       "      <th>5392</th>\n",
       "      <td>Zambia</td>\n",
       "      <td>Africa</td>\n",
       "      <td>Sub-Saharan Africa</td>\n",
       "      <td>19.8</td>\n",
       "    </tr>\n",
       "  </tbody>\n",
       "</table>\n",
       "</div>"
      ],
      "text/plain": [
       "                  Country Name Region Name     Sub-region Name  \\\n",
       "4639               Afghanistan        Asia       Southern Asia   \n",
       "4687                   Burundi      Africa  Sub-Saharan Africa   \n",
       "4760  Central African Republic      Africa  Sub-Saharan Africa   \n",
       "5113                Mozambique      Africa  Sub-Saharan Africa   \n",
       "5266              Sierra Leone      Africa  Sub-Saharan Africa   \n",
       "5284               South Sudan      Africa  Sub-Saharan Africa   \n",
       "5321                      Chad      Africa  Sub-Saharan Africa   \n",
       "5356                    Uganda      Africa  Sub-Saharan Africa   \n",
       "5392                    Zambia      Africa  Sub-Saharan Africa   \n",
       "\n",
       "      Internet users (%)  \n",
       "4639                18.4  \n",
       "4687                 9.4  \n",
       "4760                10.4  \n",
       "5113                16.5  \n",
       "5266                18.0  \n",
       "5284                 6.5  \n",
       "5321                10.4  \n",
       "5356                19.9  \n",
       "5392                19.8  "
      ]
     },
     "execution_count": 18,
     "metadata": {},
     "output_type": "execute_result"
    }
   ],
   "source": [
    "#Con los datos disponibles, ¿cuántos países están por debajo del 80%?\n",
    "yr=2020\n",
    "year_dat=df_countries[df_countries['Year']==yr]\n",
    "menos_80=year_dat[year_dat['Internet users (%)']<20]\n",
    "menos_80[['Country Name','Region Name','Sub-region Name','Internet users (%)']]"
   ]
  },
  {
   "cell_type": "code",
   "execution_count": 19,
   "metadata": {},
   "outputs": [
    {
     "data": {
      "application/vnd.plotly.v1+json": {
       "config": {
        "plotlyServerURL": "https://plot.ly"
       },
       "data": [
        {
         "hovertemplate": "Year=%{x}<br>Internet users (%)=%{y}<extra></extra>",
         "legendgroup": "",
         "line": {
          "color": "rgb(103,0,31)",
          "dash": "solid"
         },
         "marker": {
          "symbol": "circle"
         },
         "mode": "lines",
         "name": "",
         "orientation": "v",
         "showlegend": false,
         "type": "scatter",
         "x": [
          1990,
          1991,
          1992,
          1993,
          1994,
          1995,
          1996,
          1998,
          1999,
          2000,
          2001,
          2002,
          2003,
          2004,
          2005,
          2006,
          2007,
          2008,
          2009,
          2010,
          2011,
          2012,
          2013,
          2014,
          2015,
          2016,
          2017,
          2018,
          2019,
          2020
         ],
         "xaxis": "x",
         "y": [
          0,
          0,
          0,
          0,
          0,
          0,
          0.007484253,
          0.023999477,
          0.070658478,
          0.231270715,
          0.340832326,
          0.893432988,
          1.647358346,
          5.401261908,
          6.376201635,
          6.796000481,
          7.2,
          7.6,
          8.1,
          8.37,
          9,
          9.8,
          10.6,
          11.4,
          12.1977,
          22.8,
          27.2,
          32.47362713,
          33.3,
          34.5
         ],
         "yaxis": "y"
        }
       ],
       "layout": {
        "legend": {
         "tracegroupgap": 0
        },
        "template": {
         "data": {
          "bar": [
           {
            "error_x": {
             "color": "#2a3f5f"
            },
            "error_y": {
             "color": "#2a3f5f"
            },
            "marker": {
             "line": {
              "color": "#E5ECF6",
              "width": 0.5
             },
             "pattern": {
              "fillmode": "overlay",
              "size": 10,
              "solidity": 0.2
             }
            },
            "type": "bar"
           }
          ],
          "barpolar": [
           {
            "marker": {
             "line": {
              "color": "#E5ECF6",
              "width": 0.5
             },
             "pattern": {
              "fillmode": "overlay",
              "size": 10,
              "solidity": 0.2
             }
            },
            "type": "barpolar"
           }
          ],
          "carpet": [
           {
            "aaxis": {
             "endlinecolor": "#2a3f5f",
             "gridcolor": "white",
             "linecolor": "white",
             "minorgridcolor": "white",
             "startlinecolor": "#2a3f5f"
            },
            "baxis": {
             "endlinecolor": "#2a3f5f",
             "gridcolor": "white",
             "linecolor": "white",
             "minorgridcolor": "white",
             "startlinecolor": "#2a3f5f"
            },
            "type": "carpet"
           }
          ],
          "choropleth": [
           {
            "colorbar": {
             "outlinewidth": 0,
             "ticks": ""
            },
            "type": "choropleth"
           }
          ],
          "contour": [
           {
            "colorbar": {
             "outlinewidth": 0,
             "ticks": ""
            },
            "colorscale": [
             [
              0,
              "#0d0887"
             ],
             [
              0.1111111111111111,
              "#46039f"
             ],
             [
              0.2222222222222222,
              "#7201a8"
             ],
             [
              0.3333333333333333,
              "#9c179e"
             ],
             [
              0.4444444444444444,
              "#bd3786"
             ],
             [
              0.5555555555555556,
              "#d8576b"
             ],
             [
              0.6666666666666666,
              "#ed7953"
             ],
             [
              0.7777777777777778,
              "#fb9f3a"
             ],
             [
              0.8888888888888888,
              "#fdca26"
             ],
             [
              1,
              "#f0f921"
             ]
            ],
            "type": "contour"
           }
          ],
          "contourcarpet": [
           {
            "colorbar": {
             "outlinewidth": 0,
             "ticks": ""
            },
            "type": "contourcarpet"
           }
          ],
          "heatmap": [
           {
            "colorbar": {
             "outlinewidth": 0,
             "ticks": ""
            },
            "colorscale": [
             [
              0,
              "#0d0887"
             ],
             [
              0.1111111111111111,
              "#46039f"
             ],
             [
              0.2222222222222222,
              "#7201a8"
             ],
             [
              0.3333333333333333,
              "#9c179e"
             ],
             [
              0.4444444444444444,
              "#bd3786"
             ],
             [
              0.5555555555555556,
              "#d8576b"
             ],
             [
              0.6666666666666666,
              "#ed7953"
             ],
             [
              0.7777777777777778,
              "#fb9f3a"
             ],
             [
              0.8888888888888888,
              "#fdca26"
             ],
             [
              1,
              "#f0f921"
             ]
            ],
            "type": "heatmap"
           }
          ],
          "heatmapgl": [
           {
            "colorbar": {
             "outlinewidth": 0,
             "ticks": ""
            },
            "colorscale": [
             [
              0,
              "#0d0887"
             ],
             [
              0.1111111111111111,
              "#46039f"
             ],
             [
              0.2222222222222222,
              "#7201a8"
             ],
             [
              0.3333333333333333,
              "#9c179e"
             ],
             [
              0.4444444444444444,
              "#bd3786"
             ],
             [
              0.5555555555555556,
              "#d8576b"
             ],
             [
              0.6666666666666666,
              "#ed7953"
             ],
             [
              0.7777777777777778,
              "#fb9f3a"
             ],
             [
              0.8888888888888888,
              "#fdca26"
             ],
             [
              1,
              "#f0f921"
             ]
            ],
            "type": "heatmapgl"
           }
          ],
          "histogram": [
           {
            "marker": {
             "pattern": {
              "fillmode": "overlay",
              "size": 10,
              "solidity": 0.2
             }
            },
            "type": "histogram"
           }
          ],
          "histogram2d": [
           {
            "colorbar": {
             "outlinewidth": 0,
             "ticks": ""
            },
            "colorscale": [
             [
              0,
              "#0d0887"
             ],
             [
              0.1111111111111111,
              "#46039f"
             ],
             [
              0.2222222222222222,
              "#7201a8"
             ],
             [
              0.3333333333333333,
              "#9c179e"
             ],
             [
              0.4444444444444444,
              "#bd3786"
             ],
             [
              0.5555555555555556,
              "#d8576b"
             ],
             [
              0.6666666666666666,
              "#ed7953"
             ],
             [
              0.7777777777777778,
              "#fb9f3a"
             ],
             [
              0.8888888888888888,
              "#fdca26"
             ],
             [
              1,
              "#f0f921"
             ]
            ],
            "type": "histogram2d"
           }
          ],
          "histogram2dcontour": [
           {
            "colorbar": {
             "outlinewidth": 0,
             "ticks": ""
            },
            "colorscale": [
             [
              0,
              "#0d0887"
             ],
             [
              0.1111111111111111,
              "#46039f"
             ],
             [
              0.2222222222222222,
              "#7201a8"
             ],
             [
              0.3333333333333333,
              "#9c179e"
             ],
             [
              0.4444444444444444,
              "#bd3786"
             ],
             [
              0.5555555555555556,
              "#d8576b"
             ],
             [
              0.6666666666666666,
              "#ed7953"
             ],
             [
              0.7777777777777778,
              "#fb9f3a"
             ],
             [
              0.8888888888888888,
              "#fdca26"
             ],
             [
              1,
              "#f0f921"
             ]
            ],
            "type": "histogram2dcontour"
           }
          ],
          "mesh3d": [
           {
            "colorbar": {
             "outlinewidth": 0,
             "ticks": ""
            },
            "type": "mesh3d"
           }
          ],
          "parcoords": [
           {
            "line": {
             "colorbar": {
              "outlinewidth": 0,
              "ticks": ""
             }
            },
            "type": "parcoords"
           }
          ],
          "pie": [
           {
            "automargin": true,
            "type": "pie"
           }
          ],
          "scatter": [
           {
            "fillpattern": {
             "fillmode": "overlay",
             "size": 10,
             "solidity": 0.2
            },
            "type": "scatter"
           }
          ],
          "scatter3d": [
           {
            "line": {
             "colorbar": {
              "outlinewidth": 0,
              "ticks": ""
             }
            },
            "marker": {
             "colorbar": {
              "outlinewidth": 0,
              "ticks": ""
             }
            },
            "type": "scatter3d"
           }
          ],
          "scattercarpet": [
           {
            "marker": {
             "colorbar": {
              "outlinewidth": 0,
              "ticks": ""
             }
            },
            "type": "scattercarpet"
           }
          ],
          "scattergeo": [
           {
            "marker": {
             "colorbar": {
              "outlinewidth": 0,
              "ticks": ""
             }
            },
            "type": "scattergeo"
           }
          ],
          "scattergl": [
           {
            "marker": {
             "colorbar": {
              "outlinewidth": 0,
              "ticks": ""
             }
            },
            "type": "scattergl"
           }
          ],
          "scattermapbox": [
           {
            "marker": {
             "colorbar": {
              "outlinewidth": 0,
              "ticks": ""
             }
            },
            "type": "scattermapbox"
           }
          ],
          "scatterpolar": [
           {
            "marker": {
             "colorbar": {
              "outlinewidth": 0,
              "ticks": ""
             }
            },
            "type": "scatterpolar"
           }
          ],
          "scatterpolargl": [
           {
            "marker": {
             "colorbar": {
              "outlinewidth": 0,
              "ticks": ""
             }
            },
            "type": "scatterpolargl"
           }
          ],
          "scatterternary": [
           {
            "marker": {
             "colorbar": {
              "outlinewidth": 0,
              "ticks": ""
             }
            },
            "type": "scatterternary"
           }
          ],
          "surface": [
           {
            "colorbar": {
             "outlinewidth": 0,
             "ticks": ""
            },
            "colorscale": [
             [
              0,
              "#0d0887"
             ],
             [
              0.1111111111111111,
              "#46039f"
             ],
             [
              0.2222222222222222,
              "#7201a8"
             ],
             [
              0.3333333333333333,
              "#9c179e"
             ],
             [
              0.4444444444444444,
              "#bd3786"
             ],
             [
              0.5555555555555556,
              "#d8576b"
             ],
             [
              0.6666666666666666,
              "#ed7953"
             ],
             [
              0.7777777777777778,
              "#fb9f3a"
             ],
             [
              0.8888888888888888,
              "#fdca26"
             ],
             [
              1,
              "#f0f921"
             ]
            ],
            "type": "surface"
           }
          ],
          "table": [
           {
            "cells": {
             "fill": {
              "color": "#EBF0F8"
             },
             "line": {
              "color": "white"
             }
            },
            "header": {
             "fill": {
              "color": "#C8D4E3"
             },
             "line": {
              "color": "white"
             }
            },
            "type": "table"
           }
          ]
         },
         "layout": {
          "annotationdefaults": {
           "arrowcolor": "#2a3f5f",
           "arrowhead": 0,
           "arrowwidth": 1
          },
          "autotypenumbers": "strict",
          "coloraxis": {
           "colorbar": {
            "outlinewidth": 0,
            "ticks": ""
           }
          },
          "colorscale": {
           "diverging": [
            [
             0,
             "#8e0152"
            ],
            [
             0.1,
             "#c51b7d"
            ],
            [
             0.2,
             "#de77ae"
            ],
            [
             0.3,
             "#f1b6da"
            ],
            [
             0.4,
             "#fde0ef"
            ],
            [
             0.5,
             "#f7f7f7"
            ],
            [
             0.6,
             "#e6f5d0"
            ],
            [
             0.7,
             "#b8e186"
            ],
            [
             0.8,
             "#7fbc41"
            ],
            [
             0.9,
             "#4d9221"
            ],
            [
             1,
             "#276419"
            ]
           ],
           "sequential": [
            [
             0,
             "#0d0887"
            ],
            [
             0.1111111111111111,
             "#46039f"
            ],
            [
             0.2222222222222222,
             "#7201a8"
            ],
            [
             0.3333333333333333,
             "#9c179e"
            ],
            [
             0.4444444444444444,
             "#bd3786"
            ],
            [
             0.5555555555555556,
             "#d8576b"
            ],
            [
             0.6666666666666666,
             "#ed7953"
            ],
            [
             0.7777777777777778,
             "#fb9f3a"
            ],
            [
             0.8888888888888888,
             "#fdca26"
            ],
            [
             1,
             "#f0f921"
            ]
           ],
           "sequentialminus": [
            [
             0,
             "#0d0887"
            ],
            [
             0.1111111111111111,
             "#46039f"
            ],
            [
             0.2222222222222222,
             "#7201a8"
            ],
            [
             0.3333333333333333,
             "#9c179e"
            ],
            [
             0.4444444444444444,
             "#bd3786"
            ],
            [
             0.5555555555555556,
             "#d8576b"
            ],
            [
             0.6666666666666666,
             "#ed7953"
            ],
            [
             0.7777777777777778,
             "#fb9f3a"
            ],
            [
             0.8888888888888888,
             "#fdca26"
            ],
            [
             1,
             "#f0f921"
            ]
           ]
          },
          "colorway": [
           "#636efa",
           "#EF553B",
           "#00cc96",
           "#ab63fa",
           "#FFA15A",
           "#19d3f3",
           "#FF6692",
           "#B6E880",
           "#FF97FF",
           "#FECB52"
          ],
          "font": {
           "color": "#2a3f5f"
          },
          "geo": {
           "bgcolor": "white",
           "lakecolor": "white",
           "landcolor": "#E5ECF6",
           "showlakes": true,
           "showland": true,
           "subunitcolor": "white"
          },
          "hoverlabel": {
           "align": "left"
          },
          "hovermode": "closest",
          "mapbox": {
           "style": "light"
          },
          "paper_bgcolor": "white",
          "plot_bgcolor": "#E5ECF6",
          "polar": {
           "angularaxis": {
            "gridcolor": "white",
            "linecolor": "white",
            "ticks": ""
           },
           "bgcolor": "#E5ECF6",
           "radialaxis": {
            "gridcolor": "white",
            "linecolor": "white",
            "ticks": ""
           }
          },
          "scene": {
           "xaxis": {
            "backgroundcolor": "#E5ECF6",
            "gridcolor": "white",
            "gridwidth": 2,
            "linecolor": "white",
            "showbackground": true,
            "ticks": "",
            "zerolinecolor": "white"
           },
           "yaxis": {
            "backgroundcolor": "#E5ECF6",
            "gridcolor": "white",
            "gridwidth": 2,
            "linecolor": "white",
            "showbackground": true,
            "ticks": "",
            "zerolinecolor": "white"
           },
           "zaxis": {
            "backgroundcolor": "#E5ECF6",
            "gridcolor": "white",
            "gridwidth": 2,
            "linecolor": "white",
            "showbackground": true,
            "ticks": "",
            "zerolinecolor": "white"
           }
          },
          "shapedefaults": {
           "line": {
            "color": "#2a3f5f"
           }
          },
          "ternary": {
           "aaxis": {
            "gridcolor": "white",
            "linecolor": "white",
            "ticks": ""
           },
           "baxis": {
            "gridcolor": "white",
            "linecolor": "white",
            "ticks": ""
           },
           "bgcolor": "#E5ECF6",
           "caxis": {
            "gridcolor": "white",
            "linecolor": "white",
            "ticks": ""
           }
          },
          "title": {
           "x": 0.05
          },
          "xaxis": {
           "automargin": true,
           "gridcolor": "white",
           "linecolor": "white",
           "ticks": "",
           "title": {
            "standoff": 15
           },
           "zerolinecolor": "white",
           "zerolinewidth": 2
          },
          "yaxis": {
           "automargin": true,
           "gridcolor": "white",
           "linecolor": "white",
           "ticks": "",
           "title": {
            "standoff": 15
           },
           "zerolinecolor": "white",
           "zerolinewidth": 2
          }
         }
        },
        "title": {
         "text": "HTI Internet user rate Evolution"
        },
        "xaxis": {
         "anchor": "y",
         "domain": [
          0,
          1
         ],
         "title": {
          "text": "Year"
         }
        },
        "yaxis": {
         "anchor": "x",
         "domain": [
          0,
          1
         ],
         "title": {
          "text": "Internet users (%)"
         }
        }
       }
      }
     },
     "metadata": {},
     "output_type": "display_data"
    }
   ],
   "source": [
    "Code='HTI'# grafica para la evolucion de cualquier pasi\n",
    "PH=df_countries[df_countries['ISO3 Code']==Code]\n",
    "px.line(PH, x='Year', y='Internet users (%)', title=f'{Code} Internet user rate Evolution',color_discrete_sequence=px.colors.sequential.RdBu)"
   ]
  },
  {
   "cell_type": "markdown",
   "metadata": {},
   "source": [
    "### Mapa mundi "
   ]
  },
  {
   "cell_type": "code",
   "execution_count": 20,
   "metadata": {},
   "outputs": [
    {
     "data": {
      "application/vnd.plotly.v1+json": {
       "config": {
        "plotlyServerURL": "https://plot.ly"
       },
       "data": [
        {
         "coloraxis": "coloraxis",
         "geo": "geo",
         "hovertemplate": "Country Name=%{location}<br>Internet users (%)=%{z}<extra></extra>",
         "locationmode": "country names",
         "locations": [
          "Afghanistan",
          "Angola",
          "Albania",
          "United Arab Emirates",
          "Argentina",
          "Armenia",
          "Australia",
          "Austria",
          "Azerbaijan",
          "Burundi",
          "Belgium",
          "Benin",
          "Burkina Faso",
          "Bangladesh",
          "Bulgaria",
          "Bahrain",
          "Bosnia and Herzegovina",
          "Belarus",
          "Brazil",
          "Brunei Darussalam",
          "Bhutan",
          "Botswana",
          "Central African Republic",
          "Canada",
          "Switzerland",
          "Chile",
          "China",
          "Cameroon",
          "Colombia",
          "Cabo Verde",
          "Costa Rica",
          "Cuba",
          "Cyprus",
          "Czechia",
          "Germany",
          "Djibouti",
          "Denmark",
          "Dominican Republic",
          "Algeria",
          "Ecuador",
          "Spain",
          "Estonia",
          "Ethiopia",
          "Finland",
          "France",
          "Gabon",
          "Georgia",
          "Ghana",
          "Guinea",
          "Guinea-Bissau",
          "Greece",
          "Grenada",
          "Guatemala",
          "Honduras",
          "Croatia",
          "Haiti",
          "Hungary",
          "Indonesia",
          "India",
          "Ireland",
          "Iceland",
          "Israel",
          "Italy",
          "Japan",
          "Kazakhstan",
          "Kenya",
          "Kiribati",
          "Kuwait",
          "Lebanon",
          "Liberia",
          "Sri Lanka",
          "Lesotho",
          "Lithuania",
          "Luxembourg",
          "Latvia",
          "Morocco",
          "Maldives",
          "Mexico",
          "North Macedonia",
          "Mali",
          "Malta",
          "Myanmar",
          "Montenegro",
          "Mongolia",
          "Mozambique",
          "Mauritania",
          "Mauritius",
          "Malaysia",
          "Namibia",
          "Nigeria",
          "Nicaragua",
          "Netherlands",
          "Norway",
          "Nepal",
          "New Zealand",
          "Oman",
          "Pakistan",
          "Panama",
          "Peru",
          "Philippines",
          "Poland",
          "Portugal",
          "Paraguay",
          "Qatar",
          "Romania",
          "Russia",
          "Rwanda",
          "Saudi Arabia",
          "Sudan",
          "Senegal",
          "Singapore",
          "Sierra Leone",
          "El Salvador",
          "Serbia",
          "South Sudan",
          "Sao Tome and Principe",
          "Suriname",
          "Slovenia",
          "Sweden",
          "Seychelles",
          "Syrian Arab Republic",
          "Chad",
          "Togo",
          "Thailand",
          "Timor-Leste",
          "Tunisia",
          "Uganda",
          "Ukraine",
          "Uruguay",
          "United States",
          "Uzbekistan",
          "South Africa",
          "Zambia",
          "Zimbabwe"
         ],
         "name": "",
         "type": "choropleth",
         "z": [
          18.4,
          36,
          72.24,
          100,
          85.5,
          76.51,
          89.6,
          87.52942813,
          84.59999573,
          9.4,
          91.52641629,
          25.8,
          22,
          24.8,
          70.16,
          99.67,
          73.21,
          85.09,
          81.34269353,
          95,
          53.5,
          64,
          10.4,
          96.97,
          94.2,
          88.3,
          70.40477542,
          37.8,
          69.79,
          64.5,
          80.53018608000001,
          74,
          90.80194723,
          81.33889705,
          89.81294133,
          59,
          96.54914573,
          76.9,
          62.9,
          64.6,
          93.20564892,
          89.05828666,
          24,
          92.17,
          84.8,
          62,
          72.53158402,
          58,
          26,
          22.9,
          78.11584474,
          56.9,
          49.97,
          42.05,
          78.32093274,
          34.5,
          84.77115202,
          53.72649449,
          43,
          91.99989097,
          99,
          90.12734091,
          70.48342785,
          90.21945812,
          85.94259898,
          29.5,
          38,
          99.10587967,
          84.1,
          25.6,
          35,
          43,
          83.05555096,
          98.82242384,
          88.9,
          84.12036305,
          62.93,
          71.96819405,
          81.40553811,
          27.4,
          86.85876416,
          35.1,
          77.60879306,
          62.50002848,
          16.5,
          40.8,
          64.88490358,
          89.55501192,
          41,
          35.5,
          45.2,
          91.33333333,
          97,
          37.7,
          91.5,
          95.23,
          25,
          64.25,
          65.25,
          49.8,
          83.18488715,
          78.26166044,
          73.95751114,
          99.65284913,
          78.45526741,
          84.99467026,
          26.5,
          97.86,
          28.4,
          42.6,
          92.00434653,
          18,
          54.60137027,
          78.36804077,
          6.5,
          33,
          70.06,
          86.60130109,
          94.53943122,
          79,
          35.78,
          10.4,
          24,
          77.84374066,
          29.1,
          71.9,
          19.9,
          75.03790912,
          86.1,
          90.9,
          71.1,
          70,
          19.8,
          29.3
         ]
        }
       ],
       "layout": {
        "coloraxis": {
         "colorbar": {
          "title": {
           "text": "Internet users (%)"
          }
         },
         "colorscale": [
          [
           0,
           "rgb(176, 242, 188)"
          ],
          [
           0.16666666666666666,
           "rgb(137, 232, 172)"
          ],
          [
           0.3333333333333333,
           "rgb(103, 219, 165)"
          ],
          [
           0.5,
           "rgb(76, 200, 163)"
          ],
          [
           0.6666666666666666,
           "rgb(56, 178, 163)"
          ],
          [
           0.8333333333333334,
           "rgb(44, 152, 160)"
          ],
          [
           1,
           "rgb(37, 125, 152)"
          ]
         ]
        },
        "geo": {
         "center": {},
         "domain": {
          "x": [
           0,
           1
          ],
          "y": [
           0,
           1
          ]
         }
        },
        "legend": {
         "tracegroupgap": 0
        },
        "margin": {
         "t": 60
        },
        "template": {
         "data": {
          "bar": [
           {
            "error_x": {
             "color": "#2a3f5f"
            },
            "error_y": {
             "color": "#2a3f5f"
            },
            "marker": {
             "line": {
              "color": "#E5ECF6",
              "width": 0.5
             },
             "pattern": {
              "fillmode": "overlay",
              "size": 10,
              "solidity": 0.2
             }
            },
            "type": "bar"
           }
          ],
          "barpolar": [
           {
            "marker": {
             "line": {
              "color": "#E5ECF6",
              "width": 0.5
             },
             "pattern": {
              "fillmode": "overlay",
              "size": 10,
              "solidity": 0.2
             }
            },
            "type": "barpolar"
           }
          ],
          "carpet": [
           {
            "aaxis": {
             "endlinecolor": "#2a3f5f",
             "gridcolor": "white",
             "linecolor": "white",
             "minorgridcolor": "white",
             "startlinecolor": "#2a3f5f"
            },
            "baxis": {
             "endlinecolor": "#2a3f5f",
             "gridcolor": "white",
             "linecolor": "white",
             "minorgridcolor": "white",
             "startlinecolor": "#2a3f5f"
            },
            "type": "carpet"
           }
          ],
          "choropleth": [
           {
            "colorbar": {
             "outlinewidth": 0,
             "ticks": ""
            },
            "type": "choropleth"
           }
          ],
          "contour": [
           {
            "colorbar": {
             "outlinewidth": 0,
             "ticks": ""
            },
            "colorscale": [
             [
              0,
              "#0d0887"
             ],
             [
              0.1111111111111111,
              "#46039f"
             ],
             [
              0.2222222222222222,
              "#7201a8"
             ],
             [
              0.3333333333333333,
              "#9c179e"
             ],
             [
              0.4444444444444444,
              "#bd3786"
             ],
             [
              0.5555555555555556,
              "#d8576b"
             ],
             [
              0.6666666666666666,
              "#ed7953"
             ],
             [
              0.7777777777777778,
              "#fb9f3a"
             ],
             [
              0.8888888888888888,
              "#fdca26"
             ],
             [
              1,
              "#f0f921"
             ]
            ],
            "type": "contour"
           }
          ],
          "contourcarpet": [
           {
            "colorbar": {
             "outlinewidth": 0,
             "ticks": ""
            },
            "type": "contourcarpet"
           }
          ],
          "heatmap": [
           {
            "colorbar": {
             "outlinewidth": 0,
             "ticks": ""
            },
            "colorscale": [
             [
              0,
              "#0d0887"
             ],
             [
              0.1111111111111111,
              "#46039f"
             ],
             [
              0.2222222222222222,
              "#7201a8"
             ],
             [
              0.3333333333333333,
              "#9c179e"
             ],
             [
              0.4444444444444444,
              "#bd3786"
             ],
             [
              0.5555555555555556,
              "#d8576b"
             ],
             [
              0.6666666666666666,
              "#ed7953"
             ],
             [
              0.7777777777777778,
              "#fb9f3a"
             ],
             [
              0.8888888888888888,
              "#fdca26"
             ],
             [
              1,
              "#f0f921"
             ]
            ],
            "type": "heatmap"
           }
          ],
          "heatmapgl": [
           {
            "colorbar": {
             "outlinewidth": 0,
             "ticks": ""
            },
            "colorscale": [
             [
              0,
              "#0d0887"
             ],
             [
              0.1111111111111111,
              "#46039f"
             ],
             [
              0.2222222222222222,
              "#7201a8"
             ],
             [
              0.3333333333333333,
              "#9c179e"
             ],
             [
              0.4444444444444444,
              "#bd3786"
             ],
             [
              0.5555555555555556,
              "#d8576b"
             ],
             [
              0.6666666666666666,
              "#ed7953"
             ],
             [
              0.7777777777777778,
              "#fb9f3a"
             ],
             [
              0.8888888888888888,
              "#fdca26"
             ],
             [
              1,
              "#f0f921"
             ]
            ],
            "type": "heatmapgl"
           }
          ],
          "histogram": [
           {
            "marker": {
             "pattern": {
              "fillmode": "overlay",
              "size": 10,
              "solidity": 0.2
             }
            },
            "type": "histogram"
           }
          ],
          "histogram2d": [
           {
            "colorbar": {
             "outlinewidth": 0,
             "ticks": ""
            },
            "colorscale": [
             [
              0,
              "#0d0887"
             ],
             [
              0.1111111111111111,
              "#46039f"
             ],
             [
              0.2222222222222222,
              "#7201a8"
             ],
             [
              0.3333333333333333,
              "#9c179e"
             ],
             [
              0.4444444444444444,
              "#bd3786"
             ],
             [
              0.5555555555555556,
              "#d8576b"
             ],
             [
              0.6666666666666666,
              "#ed7953"
             ],
             [
              0.7777777777777778,
              "#fb9f3a"
             ],
             [
              0.8888888888888888,
              "#fdca26"
             ],
             [
              1,
              "#f0f921"
             ]
            ],
            "type": "histogram2d"
           }
          ],
          "histogram2dcontour": [
           {
            "colorbar": {
             "outlinewidth": 0,
             "ticks": ""
            },
            "colorscale": [
             [
              0,
              "#0d0887"
             ],
             [
              0.1111111111111111,
              "#46039f"
             ],
             [
              0.2222222222222222,
              "#7201a8"
             ],
             [
              0.3333333333333333,
              "#9c179e"
             ],
             [
              0.4444444444444444,
              "#bd3786"
             ],
             [
              0.5555555555555556,
              "#d8576b"
             ],
             [
              0.6666666666666666,
              "#ed7953"
             ],
             [
              0.7777777777777778,
              "#fb9f3a"
             ],
             [
              0.8888888888888888,
              "#fdca26"
             ],
             [
              1,
              "#f0f921"
             ]
            ],
            "type": "histogram2dcontour"
           }
          ],
          "mesh3d": [
           {
            "colorbar": {
             "outlinewidth": 0,
             "ticks": ""
            },
            "type": "mesh3d"
           }
          ],
          "parcoords": [
           {
            "line": {
             "colorbar": {
              "outlinewidth": 0,
              "ticks": ""
             }
            },
            "type": "parcoords"
           }
          ],
          "pie": [
           {
            "automargin": true,
            "type": "pie"
           }
          ],
          "scatter": [
           {
            "fillpattern": {
             "fillmode": "overlay",
             "size": 10,
             "solidity": 0.2
            },
            "type": "scatter"
           }
          ],
          "scatter3d": [
           {
            "line": {
             "colorbar": {
              "outlinewidth": 0,
              "ticks": ""
             }
            },
            "marker": {
             "colorbar": {
              "outlinewidth": 0,
              "ticks": ""
             }
            },
            "type": "scatter3d"
           }
          ],
          "scattercarpet": [
           {
            "marker": {
             "colorbar": {
              "outlinewidth": 0,
              "ticks": ""
             }
            },
            "type": "scattercarpet"
           }
          ],
          "scattergeo": [
           {
            "marker": {
             "colorbar": {
              "outlinewidth": 0,
              "ticks": ""
             }
            },
            "type": "scattergeo"
           }
          ],
          "scattergl": [
           {
            "marker": {
             "colorbar": {
              "outlinewidth": 0,
              "ticks": ""
             }
            },
            "type": "scattergl"
           }
          ],
          "scattermapbox": [
           {
            "marker": {
             "colorbar": {
              "outlinewidth": 0,
              "ticks": ""
             }
            },
            "type": "scattermapbox"
           }
          ],
          "scatterpolar": [
           {
            "marker": {
             "colorbar": {
              "outlinewidth": 0,
              "ticks": ""
             }
            },
            "type": "scatterpolar"
           }
          ],
          "scatterpolargl": [
           {
            "marker": {
             "colorbar": {
              "outlinewidth": 0,
              "ticks": ""
             }
            },
            "type": "scatterpolargl"
           }
          ],
          "scatterternary": [
           {
            "marker": {
             "colorbar": {
              "outlinewidth": 0,
              "ticks": ""
             }
            },
            "type": "scatterternary"
           }
          ],
          "surface": [
           {
            "colorbar": {
             "outlinewidth": 0,
             "ticks": ""
            },
            "colorscale": [
             [
              0,
              "#0d0887"
             ],
             [
              0.1111111111111111,
              "#46039f"
             ],
             [
              0.2222222222222222,
              "#7201a8"
             ],
             [
              0.3333333333333333,
              "#9c179e"
             ],
             [
              0.4444444444444444,
              "#bd3786"
             ],
             [
              0.5555555555555556,
              "#d8576b"
             ],
             [
              0.6666666666666666,
              "#ed7953"
             ],
             [
              0.7777777777777778,
              "#fb9f3a"
             ],
             [
              0.8888888888888888,
              "#fdca26"
             ],
             [
              1,
              "#f0f921"
             ]
            ],
            "type": "surface"
           }
          ],
          "table": [
           {
            "cells": {
             "fill": {
              "color": "#EBF0F8"
             },
             "line": {
              "color": "white"
             }
            },
            "header": {
             "fill": {
              "color": "#C8D4E3"
             },
             "line": {
              "color": "white"
             }
            },
            "type": "table"
           }
          ]
         },
         "layout": {
          "annotationdefaults": {
           "arrowcolor": "#2a3f5f",
           "arrowhead": 0,
           "arrowwidth": 1
          },
          "autotypenumbers": "strict",
          "coloraxis": {
           "colorbar": {
            "outlinewidth": 0,
            "ticks": ""
           }
          },
          "colorscale": {
           "diverging": [
            [
             0,
             "#8e0152"
            ],
            [
             0.1,
             "#c51b7d"
            ],
            [
             0.2,
             "#de77ae"
            ],
            [
             0.3,
             "#f1b6da"
            ],
            [
             0.4,
             "#fde0ef"
            ],
            [
             0.5,
             "#f7f7f7"
            ],
            [
             0.6,
             "#e6f5d0"
            ],
            [
             0.7,
             "#b8e186"
            ],
            [
             0.8,
             "#7fbc41"
            ],
            [
             0.9,
             "#4d9221"
            ],
            [
             1,
             "#276419"
            ]
           ],
           "sequential": [
            [
             0,
             "#0d0887"
            ],
            [
             0.1111111111111111,
             "#46039f"
            ],
            [
             0.2222222222222222,
             "#7201a8"
            ],
            [
             0.3333333333333333,
             "#9c179e"
            ],
            [
             0.4444444444444444,
             "#bd3786"
            ],
            [
             0.5555555555555556,
             "#d8576b"
            ],
            [
             0.6666666666666666,
             "#ed7953"
            ],
            [
             0.7777777777777778,
             "#fb9f3a"
            ],
            [
             0.8888888888888888,
             "#fdca26"
            ],
            [
             1,
             "#f0f921"
            ]
           ],
           "sequentialminus": [
            [
             0,
             "#0d0887"
            ],
            [
             0.1111111111111111,
             "#46039f"
            ],
            [
             0.2222222222222222,
             "#7201a8"
            ],
            [
             0.3333333333333333,
             "#9c179e"
            ],
            [
             0.4444444444444444,
             "#bd3786"
            ],
            [
             0.5555555555555556,
             "#d8576b"
            ],
            [
             0.6666666666666666,
             "#ed7953"
            ],
            [
             0.7777777777777778,
             "#fb9f3a"
            ],
            [
             0.8888888888888888,
             "#fdca26"
            ],
            [
             1,
             "#f0f921"
            ]
           ]
          },
          "colorway": [
           "#636efa",
           "#EF553B",
           "#00cc96",
           "#ab63fa",
           "#FFA15A",
           "#19d3f3",
           "#FF6692",
           "#B6E880",
           "#FF97FF",
           "#FECB52"
          ],
          "font": {
           "color": "#2a3f5f"
          },
          "geo": {
           "bgcolor": "white",
           "lakecolor": "white",
           "landcolor": "#E5ECF6",
           "showlakes": true,
           "showland": true,
           "subunitcolor": "white"
          },
          "hoverlabel": {
           "align": "left"
          },
          "hovermode": "closest",
          "mapbox": {
           "style": "light"
          },
          "paper_bgcolor": "white",
          "plot_bgcolor": "#E5ECF6",
          "polar": {
           "angularaxis": {
            "gridcolor": "white",
            "linecolor": "white",
            "ticks": ""
           },
           "bgcolor": "#E5ECF6",
           "radialaxis": {
            "gridcolor": "white",
            "linecolor": "white",
            "ticks": ""
           }
          },
          "scene": {
           "xaxis": {
            "backgroundcolor": "#E5ECF6",
            "gridcolor": "white",
            "gridwidth": 2,
            "linecolor": "white",
            "showbackground": true,
            "ticks": "",
            "zerolinecolor": "white"
           },
           "yaxis": {
            "backgroundcolor": "#E5ECF6",
            "gridcolor": "white",
            "gridwidth": 2,
            "linecolor": "white",
            "showbackground": true,
            "ticks": "",
            "zerolinecolor": "white"
           },
           "zaxis": {
            "backgroundcolor": "#E5ECF6",
            "gridcolor": "white",
            "gridwidth": 2,
            "linecolor": "white",
            "showbackground": true,
            "ticks": "",
            "zerolinecolor": "white"
           }
          },
          "shapedefaults": {
           "line": {
            "color": "#2a3f5f"
           }
          },
          "ternary": {
           "aaxis": {
            "gridcolor": "white",
            "linecolor": "white",
            "ticks": ""
           },
           "baxis": {
            "gridcolor": "white",
            "linecolor": "white",
            "ticks": ""
           },
           "bgcolor": "#E5ECF6",
           "caxis": {
            "gridcolor": "white",
            "linecolor": "white",
            "ticks": ""
           }
          },
          "title": {
           "x": 0.05
          },
          "xaxis": {
           "automargin": true,
           "gridcolor": "white",
           "linecolor": "white",
           "ticks": "",
           "title": {
            "standoff": 15
           },
           "zerolinecolor": "white",
           "zerolinewidth": 2
          },
          "yaxis": {
           "automargin": true,
           "gridcolor": "white",
           "linecolor": "white",
           "ticks": "",
           "title": {
            "standoff": 15
           },
           "zerolinecolor": "white",
           "zerolinewidth": 2
          }
         }
        }
       }
      }
     },
     "metadata": {},
     "output_type": "display_data"
    }
   ],
   "source": [
    "yr=2020\n",
    "year_dat=df_countries[df_countries['Year']==yr]\n",
    "px.choropleth(year_dat, locations='Country Name', locationmode='country names',color='Internet users (%)', color_continuous_scale= 'Tealgrn')\n"
   ]
  },
  {
   "cell_type": "markdown",
   "metadata": {},
   "source": [
    "## ¿Cúantas personas utilizan internet? Representar su distribución"
   ]
  },
  {
   "cell_type": "code",
   "execution_count": 21,
   "metadata": {},
   "outputs": [
    {
     "data": {
      "application/vnd.plotly.v1+json": {
       "config": {
        "plotlyServerURL": "https://plot.ly"
       },
       "data": [
        {
         "domain": {
          "x": [
           0,
           1
          ],
          "y": [
           0,
           1
          ]
         },
         "hole": 0.5,
         "hovertemplate": "Sub-region Name=%{label}<br>Number of internet users=%{value}<extra></extra>",
         "labels": [
          "Southern Asia",
          "Sub-Saharan Africa",
          "Southern Europe",
          "Western Asia",
          "Latin America and the Caribbean",
          "Western Asia",
          "Australia and New Zealand",
          "Western Europe",
          "Western Asia",
          "Sub-Saharan Africa",
          "Western Europe",
          "Sub-Saharan Africa",
          "Sub-Saharan Africa",
          "Southern Asia",
          "Eastern Europe",
          "Western Asia",
          "Southern Europe",
          "Eastern Europe",
          "Latin America and the Caribbean",
          "South-eastern Asia",
          "Southern Asia",
          "Sub-Saharan Africa",
          "Sub-Saharan Africa",
          "Northern America",
          "Western Europe",
          "Latin America and the Caribbean",
          "Eastern Asia",
          "Sub-Saharan Africa",
          "Latin America and the Caribbean",
          "Sub-Saharan Africa",
          "Latin America and the Caribbean",
          "Latin America and the Caribbean",
          "Western Asia",
          "Eastern Europe",
          "Western Europe",
          "Sub-Saharan Africa",
          "Northern Europe",
          "Latin America and the Caribbean",
          "Northern Africa",
          "Latin America and the Caribbean",
          "Southern Europe",
          "Northern Europe",
          "Sub-Saharan Africa",
          "Northern Europe",
          "Western Europe",
          "Sub-Saharan Africa",
          "Western Asia",
          "Sub-Saharan Africa",
          "Sub-Saharan Africa",
          "Sub-Saharan Africa",
          "Southern Europe",
          "Latin America and the Caribbean",
          "Latin America and the Caribbean",
          "Latin America and the Caribbean",
          "Southern Europe",
          "Latin America and the Caribbean",
          "Eastern Europe",
          "South-eastern Asia",
          "Southern Asia",
          "Northern Europe",
          "Northern Europe",
          "Western Asia",
          "Southern Europe",
          "Eastern Asia",
          "Central Asia",
          "Sub-Saharan Africa",
          "Micronesia",
          "Western Asia",
          "Western Asia",
          "Sub-Saharan Africa",
          "Southern Asia",
          "Sub-Saharan Africa",
          "Northern Europe",
          "Western Europe",
          "Northern Europe",
          "Northern Africa",
          "Southern Asia",
          "Latin America and the Caribbean",
          "Southern Europe",
          "Sub-Saharan Africa",
          "Southern Europe",
          "South-eastern Asia",
          "Southern Europe",
          "Eastern Asia",
          "Sub-Saharan Africa",
          "Sub-Saharan Africa",
          "Sub-Saharan Africa",
          "South-eastern Asia",
          "Sub-Saharan Africa",
          "Sub-Saharan Africa",
          "Latin America and the Caribbean",
          "Western Europe",
          "Northern Europe",
          "Southern Asia",
          "Australia and New Zealand",
          "Western Asia",
          "Southern Asia",
          "Latin America and the Caribbean",
          "Latin America and the Caribbean",
          "South-eastern Asia",
          "Eastern Europe",
          "Southern Europe",
          "Latin America and the Caribbean",
          "Western Asia",
          "Eastern Europe",
          "Eastern Europe",
          "Sub-Saharan Africa",
          "Western Asia",
          "Northern Africa",
          "Sub-Saharan Africa",
          "South-eastern Asia",
          "Sub-Saharan Africa",
          "Latin America and the Caribbean",
          "Southern Europe",
          "Sub-Saharan Africa",
          "Sub-Saharan Africa",
          "Latin America and the Caribbean",
          "Southern Europe",
          "Northern Europe",
          "Sub-Saharan Africa",
          "Western Asia",
          "Sub-Saharan Africa",
          "Sub-Saharan Africa",
          "South-eastern Asia",
          "South-eastern Asia",
          "Northern Africa",
          "Sub-Saharan Africa",
          "Eastern Europe",
          "Latin America and the Caribbean",
          "Northern America",
          "Central Asia",
          "Sub-Saharan Africa",
          "Sub-Saharan Africa",
          "Sub-Saharan Africa"
         ],
         "legendgroup": "",
         "name": "",
         "opacity": 0.9,
         "showlegend": true,
         "type": "pie",
         "values": [
          7162814.744,
          11831856.48,
          2050062.1176,
          9890400,
          38797132.365,
          2267170.3334,
          23021167.232,
          7804880.066329843,
          8538779.935023732,
          1117733.414,
          10566030.075180858,
          3127785.0840000003,
          4598721.16,
          40842966.984,
          4864904.924,
          1695967.7761,
          2401884.6615,
          7981401.1568,
          172901548.63204926,
          415608.85,
          412812.42,
          1505040,
          502295.45600000006,
          36884676.7188,
          8135640.462,
          16879612.547,
          993481785.95162,
          10034336.591999998,
          35511164.7436,
          358612.26,
          4102299.483327332,
          8381695.84,
          1096307.2980956002,
          8701519.70517519,
          74689224.28074698,
          582921.1799999999,
          5630170.746065049,
          8342038.176,
          27582306.047,
          11397416.759999998,
          44145382.02964858,
          1184011.2189045013,
          27591259.92,
          5096579.7831,
          57138161.984,
          1379951.36,
          2700144.883365983,
          18022308.1,
          3414525.92,
          450671.542,
          8358829.711276754,
          64023.311,
          8424109.0001,
          4164887.664,
          3170180.7303304323,
          3933873.885,
          8265313.630966511,
          146954653.16541347,
          593401885.55,
          4586814.644119638,
          362798.37,
          8305324.59219741,
          41902064.47021127,
          113911990.0168932,
          16119106.816408206,
          15862533.5,
          45389.48,
          4232379.028011542,
          5740196.722,
          1294765.312,
          7671649.999999999,
          921168.36,
          2321307.135448396,
          622995.3361478896,
          1689499.161,
          31049295.393380817,
          340163.0806,
          92790573.8730472,
          1687155.013046564,
          5548728.515999999,
          447611.0065210112,
          19097837.694,
          482188.0878093636,
          2048933.4336575617,
          5157146.775,
          1897061.28,
          821274.178573492,
          28985373.36692696,
          1041775.56,
          73179553.38499999,
          2994298.4080000003,
          15929903.33275195,
          5218090.75,
          10984576.616,
          4657533,
          4863036.1306,
          55223082.75,
          2772238.44,
          21514129.515,
          54571380.33,
          31526298.610399503,
          8058666.567451756,
          5275041.6693138415,
          2871058.3751447783,
          15108538.812534234,
          122454489.42628148,
          3432335.385,
          34068850.2462,
          12453192.396,
          7132914.18,
          5231189.575306998,
          1435857.3,
          3541554.6244664425,
          5406709.87645367,
          727592.385,
          72323.13,
          410995.7804,
          1820722.2083633672,
          9788085.17849259,
          77784.98000000001,
          6261735.0746,
          1708289.336,
          1986896.88,
          54334913.85505705,
          383666.622,
          8497586.342,
          9102459,
          33115766.821413863,
          2990878.947,
          301334481.72,
          24338987.55,
          41516083,
          3640023.288,
          4354837.611
         ]
        }
       ],
       "layout": {
        "height": 500,
        "legend": {
         "tracegroupgap": 0
        },
        "piecolorway": [
         "rgb(103,0,31)",
         "rgb(178,24,43)",
         "rgb(214,96,77)",
         "rgb(244,165,130)",
         "rgb(253,219,199)",
         "rgb(247,247,247)",
         "rgb(209,229,240)",
         "rgb(146,197,222)",
         "rgb(67,147,195)",
         "rgb(33,102,172)",
         "rgb(5,48,97)"
        ],
        "template": {
         "data": {
          "bar": [
           {
            "error_x": {
             "color": "#2a3f5f"
            },
            "error_y": {
             "color": "#2a3f5f"
            },
            "marker": {
             "line": {
              "color": "#E5ECF6",
              "width": 0.5
             },
             "pattern": {
              "fillmode": "overlay",
              "size": 10,
              "solidity": 0.2
             }
            },
            "type": "bar"
           }
          ],
          "barpolar": [
           {
            "marker": {
             "line": {
              "color": "#E5ECF6",
              "width": 0.5
             },
             "pattern": {
              "fillmode": "overlay",
              "size": 10,
              "solidity": 0.2
             }
            },
            "type": "barpolar"
           }
          ],
          "carpet": [
           {
            "aaxis": {
             "endlinecolor": "#2a3f5f",
             "gridcolor": "white",
             "linecolor": "white",
             "minorgridcolor": "white",
             "startlinecolor": "#2a3f5f"
            },
            "baxis": {
             "endlinecolor": "#2a3f5f",
             "gridcolor": "white",
             "linecolor": "white",
             "minorgridcolor": "white",
             "startlinecolor": "#2a3f5f"
            },
            "type": "carpet"
           }
          ],
          "choropleth": [
           {
            "colorbar": {
             "outlinewidth": 0,
             "ticks": ""
            },
            "type": "choropleth"
           }
          ],
          "contour": [
           {
            "colorbar": {
             "outlinewidth": 0,
             "ticks": ""
            },
            "colorscale": [
             [
              0,
              "#0d0887"
             ],
             [
              0.1111111111111111,
              "#46039f"
             ],
             [
              0.2222222222222222,
              "#7201a8"
             ],
             [
              0.3333333333333333,
              "#9c179e"
             ],
             [
              0.4444444444444444,
              "#bd3786"
             ],
             [
              0.5555555555555556,
              "#d8576b"
             ],
             [
              0.6666666666666666,
              "#ed7953"
             ],
             [
              0.7777777777777778,
              "#fb9f3a"
             ],
             [
              0.8888888888888888,
              "#fdca26"
             ],
             [
              1,
              "#f0f921"
             ]
            ],
            "type": "contour"
           }
          ],
          "contourcarpet": [
           {
            "colorbar": {
             "outlinewidth": 0,
             "ticks": ""
            },
            "type": "contourcarpet"
           }
          ],
          "heatmap": [
           {
            "colorbar": {
             "outlinewidth": 0,
             "ticks": ""
            },
            "colorscale": [
             [
              0,
              "#0d0887"
             ],
             [
              0.1111111111111111,
              "#46039f"
             ],
             [
              0.2222222222222222,
              "#7201a8"
             ],
             [
              0.3333333333333333,
              "#9c179e"
             ],
             [
              0.4444444444444444,
              "#bd3786"
             ],
             [
              0.5555555555555556,
              "#d8576b"
             ],
             [
              0.6666666666666666,
              "#ed7953"
             ],
             [
              0.7777777777777778,
              "#fb9f3a"
             ],
             [
              0.8888888888888888,
              "#fdca26"
             ],
             [
              1,
              "#f0f921"
             ]
            ],
            "type": "heatmap"
           }
          ],
          "heatmapgl": [
           {
            "colorbar": {
             "outlinewidth": 0,
             "ticks": ""
            },
            "colorscale": [
             [
              0,
              "#0d0887"
             ],
             [
              0.1111111111111111,
              "#46039f"
             ],
             [
              0.2222222222222222,
              "#7201a8"
             ],
             [
              0.3333333333333333,
              "#9c179e"
             ],
             [
              0.4444444444444444,
              "#bd3786"
             ],
             [
              0.5555555555555556,
              "#d8576b"
             ],
             [
              0.6666666666666666,
              "#ed7953"
             ],
             [
              0.7777777777777778,
              "#fb9f3a"
             ],
             [
              0.8888888888888888,
              "#fdca26"
             ],
             [
              1,
              "#f0f921"
             ]
            ],
            "type": "heatmapgl"
           }
          ],
          "histogram": [
           {
            "marker": {
             "pattern": {
              "fillmode": "overlay",
              "size": 10,
              "solidity": 0.2
             }
            },
            "type": "histogram"
           }
          ],
          "histogram2d": [
           {
            "colorbar": {
             "outlinewidth": 0,
             "ticks": ""
            },
            "colorscale": [
             [
              0,
              "#0d0887"
             ],
             [
              0.1111111111111111,
              "#46039f"
             ],
             [
              0.2222222222222222,
              "#7201a8"
             ],
             [
              0.3333333333333333,
              "#9c179e"
             ],
             [
              0.4444444444444444,
              "#bd3786"
             ],
             [
              0.5555555555555556,
              "#d8576b"
             ],
             [
              0.6666666666666666,
              "#ed7953"
             ],
             [
              0.7777777777777778,
              "#fb9f3a"
             ],
             [
              0.8888888888888888,
              "#fdca26"
             ],
             [
              1,
              "#f0f921"
             ]
            ],
            "type": "histogram2d"
           }
          ],
          "histogram2dcontour": [
           {
            "colorbar": {
             "outlinewidth": 0,
             "ticks": ""
            },
            "colorscale": [
             [
              0,
              "#0d0887"
             ],
             [
              0.1111111111111111,
              "#46039f"
             ],
             [
              0.2222222222222222,
              "#7201a8"
             ],
             [
              0.3333333333333333,
              "#9c179e"
             ],
             [
              0.4444444444444444,
              "#bd3786"
             ],
             [
              0.5555555555555556,
              "#d8576b"
             ],
             [
              0.6666666666666666,
              "#ed7953"
             ],
             [
              0.7777777777777778,
              "#fb9f3a"
             ],
             [
              0.8888888888888888,
              "#fdca26"
             ],
             [
              1,
              "#f0f921"
             ]
            ],
            "type": "histogram2dcontour"
           }
          ],
          "mesh3d": [
           {
            "colorbar": {
             "outlinewidth": 0,
             "ticks": ""
            },
            "type": "mesh3d"
           }
          ],
          "parcoords": [
           {
            "line": {
             "colorbar": {
              "outlinewidth": 0,
              "ticks": ""
             }
            },
            "type": "parcoords"
           }
          ],
          "pie": [
           {
            "automargin": true,
            "type": "pie"
           }
          ],
          "scatter": [
           {
            "fillpattern": {
             "fillmode": "overlay",
             "size": 10,
             "solidity": 0.2
            },
            "type": "scatter"
           }
          ],
          "scatter3d": [
           {
            "line": {
             "colorbar": {
              "outlinewidth": 0,
              "ticks": ""
             }
            },
            "marker": {
             "colorbar": {
              "outlinewidth": 0,
              "ticks": ""
             }
            },
            "type": "scatter3d"
           }
          ],
          "scattercarpet": [
           {
            "marker": {
             "colorbar": {
              "outlinewidth": 0,
              "ticks": ""
             }
            },
            "type": "scattercarpet"
           }
          ],
          "scattergeo": [
           {
            "marker": {
             "colorbar": {
              "outlinewidth": 0,
              "ticks": ""
             }
            },
            "type": "scattergeo"
           }
          ],
          "scattergl": [
           {
            "marker": {
             "colorbar": {
              "outlinewidth": 0,
              "ticks": ""
             }
            },
            "type": "scattergl"
           }
          ],
          "scattermapbox": [
           {
            "marker": {
             "colorbar": {
              "outlinewidth": 0,
              "ticks": ""
             }
            },
            "type": "scattermapbox"
           }
          ],
          "scatterpolar": [
           {
            "marker": {
             "colorbar": {
              "outlinewidth": 0,
              "ticks": ""
             }
            },
            "type": "scatterpolar"
           }
          ],
          "scatterpolargl": [
           {
            "marker": {
             "colorbar": {
              "outlinewidth": 0,
              "ticks": ""
             }
            },
            "type": "scatterpolargl"
           }
          ],
          "scatterternary": [
           {
            "marker": {
             "colorbar": {
              "outlinewidth": 0,
              "ticks": ""
             }
            },
            "type": "scatterternary"
           }
          ],
          "surface": [
           {
            "colorbar": {
             "outlinewidth": 0,
             "ticks": ""
            },
            "colorscale": [
             [
              0,
              "#0d0887"
             ],
             [
              0.1111111111111111,
              "#46039f"
             ],
             [
              0.2222222222222222,
              "#7201a8"
             ],
             [
              0.3333333333333333,
              "#9c179e"
             ],
             [
              0.4444444444444444,
              "#bd3786"
             ],
             [
              0.5555555555555556,
              "#d8576b"
             ],
             [
              0.6666666666666666,
              "#ed7953"
             ],
             [
              0.7777777777777778,
              "#fb9f3a"
             ],
             [
              0.8888888888888888,
              "#fdca26"
             ],
             [
              1,
              "#f0f921"
             ]
            ],
            "type": "surface"
           }
          ],
          "table": [
           {
            "cells": {
             "fill": {
              "color": "#EBF0F8"
             },
             "line": {
              "color": "white"
             }
            },
            "header": {
             "fill": {
              "color": "#C8D4E3"
             },
             "line": {
              "color": "white"
             }
            },
            "type": "table"
           }
          ]
         },
         "layout": {
          "annotationdefaults": {
           "arrowcolor": "#2a3f5f",
           "arrowhead": 0,
           "arrowwidth": 1
          },
          "autotypenumbers": "strict",
          "coloraxis": {
           "colorbar": {
            "outlinewidth": 0,
            "ticks": ""
           }
          },
          "colorscale": {
           "diverging": [
            [
             0,
             "#8e0152"
            ],
            [
             0.1,
             "#c51b7d"
            ],
            [
             0.2,
             "#de77ae"
            ],
            [
             0.3,
             "#f1b6da"
            ],
            [
             0.4,
             "#fde0ef"
            ],
            [
             0.5,
             "#f7f7f7"
            ],
            [
             0.6,
             "#e6f5d0"
            ],
            [
             0.7,
             "#b8e186"
            ],
            [
             0.8,
             "#7fbc41"
            ],
            [
             0.9,
             "#4d9221"
            ],
            [
             1,
             "#276419"
            ]
           ],
           "sequential": [
            [
             0,
             "#0d0887"
            ],
            [
             0.1111111111111111,
             "#46039f"
            ],
            [
             0.2222222222222222,
             "#7201a8"
            ],
            [
             0.3333333333333333,
             "#9c179e"
            ],
            [
             0.4444444444444444,
             "#bd3786"
            ],
            [
             0.5555555555555556,
             "#d8576b"
            ],
            [
             0.6666666666666666,
             "#ed7953"
            ],
            [
             0.7777777777777778,
             "#fb9f3a"
            ],
            [
             0.8888888888888888,
             "#fdca26"
            ],
            [
             1,
             "#f0f921"
            ]
           ],
           "sequentialminus": [
            [
             0,
             "#0d0887"
            ],
            [
             0.1111111111111111,
             "#46039f"
            ],
            [
             0.2222222222222222,
             "#7201a8"
            ],
            [
             0.3333333333333333,
             "#9c179e"
            ],
            [
             0.4444444444444444,
             "#bd3786"
            ],
            [
             0.5555555555555556,
             "#d8576b"
            ],
            [
             0.6666666666666666,
             "#ed7953"
            ],
            [
             0.7777777777777778,
             "#fb9f3a"
            ],
            [
             0.8888888888888888,
             "#fdca26"
            ],
            [
             1,
             "#f0f921"
            ]
           ]
          },
          "colorway": [
           "#636efa",
           "#EF553B",
           "#00cc96",
           "#ab63fa",
           "#FFA15A",
           "#19d3f3",
           "#FF6692",
           "#B6E880",
           "#FF97FF",
           "#FECB52"
          ],
          "font": {
           "color": "#2a3f5f"
          },
          "geo": {
           "bgcolor": "white",
           "lakecolor": "white",
           "landcolor": "#E5ECF6",
           "showlakes": true,
           "showland": true,
           "subunitcolor": "white"
          },
          "hoverlabel": {
           "align": "left"
          },
          "hovermode": "closest",
          "mapbox": {
           "style": "light"
          },
          "paper_bgcolor": "white",
          "plot_bgcolor": "#E5ECF6",
          "polar": {
           "angularaxis": {
            "gridcolor": "white",
            "linecolor": "white",
            "ticks": ""
           },
           "bgcolor": "#E5ECF6",
           "radialaxis": {
            "gridcolor": "white",
            "linecolor": "white",
            "ticks": ""
           }
          },
          "scene": {
           "xaxis": {
            "backgroundcolor": "#E5ECF6",
            "gridcolor": "white",
            "gridwidth": 2,
            "linecolor": "white",
            "showbackground": true,
            "ticks": "",
            "zerolinecolor": "white"
           },
           "yaxis": {
            "backgroundcolor": "#E5ECF6",
            "gridcolor": "white",
            "gridwidth": 2,
            "linecolor": "white",
            "showbackground": true,
            "ticks": "",
            "zerolinecolor": "white"
           },
           "zaxis": {
            "backgroundcolor": "#E5ECF6",
            "gridcolor": "white",
            "gridwidth": 2,
            "linecolor": "white",
            "showbackground": true,
            "ticks": "",
            "zerolinecolor": "white"
           }
          },
          "shapedefaults": {
           "line": {
            "color": "#2a3f5f"
           }
          },
          "ternary": {
           "aaxis": {
            "gridcolor": "white",
            "linecolor": "white",
            "ticks": ""
           },
           "baxis": {
            "gridcolor": "white",
            "linecolor": "white",
            "ticks": ""
           },
           "bgcolor": "#E5ECF6",
           "caxis": {
            "gridcolor": "white",
            "linecolor": "white",
            "ticks": ""
           }
          },
          "title": {
           "x": 0.05
          },
          "xaxis": {
           "automargin": true,
           "gridcolor": "white",
           "linecolor": "white",
           "ticks": "",
           "title": {
            "standoff": 15
           },
           "zerolinecolor": "white",
           "zerolinewidth": 2
          },
          "yaxis": {
           "automargin": true,
           "gridcolor": "white",
           "linecolor": "white",
           "ticks": "",
           "title": {
            "standoff": 15
           },
           "zerolinecolor": "white",
           "zerolinewidth": 2
          }
         }
        },
        "title": {
         "text": "Año 2020"
        },
        "width": 800
       }
      }
     },
     "metadata": {},
     "output_type": "display_data"
    }
   ],
   "source": [
    "#graficamos\n",
    "yr=2020\n",
    "year_data=df_countries[df_countries['Year']==yr]\n",
    "px.pie(year_data, values='Number of internet users', names ='Sub-region Name',title=f\"Año {yr}\",color_discrete_sequence=px.colors.sequential.RdBu,  opacity=0.9,\n",
    "     hole=0.5,width=800, height=500)"
   ]
  },
  {
   "cell_type": "code",
   "execution_count": 22,
   "metadata": {},
   "outputs": [
    {
     "data": {
      "application/vnd.plotly.v1+json": {
       "config": {
        "plotlyServerURL": "https://plot.ly"
       },
       "data": [
        {
         "coloraxis": "coloraxis",
         "geo": "geo",
         "hovertemplate": "Country Name=%{location}<br>Number of internet users=%{z}<extra></extra>",
         "locationmode": "country names",
         "locations": [
          "Afghanistan",
          "Angola",
          "Albania",
          "United Arab Emirates",
          "Argentina",
          "Armenia",
          "Australia",
          "Austria",
          "Azerbaijan",
          "Burundi",
          "Belgium",
          "Benin",
          "Burkina Faso",
          "Bangladesh",
          "Bulgaria",
          "Bahrain",
          "Bosnia and Herzegovina",
          "Belarus",
          "Brazil",
          "Brunei Darussalam",
          "Bhutan",
          "Botswana",
          "Central African Republic",
          "Canada",
          "Switzerland",
          "Chile",
          "China",
          "Cameroon",
          "Colombia",
          "Cabo Verde",
          "Costa Rica",
          "Cuba",
          "Cyprus",
          "Czechia",
          "Germany",
          "Djibouti",
          "Denmark",
          "Dominican Republic",
          "Algeria",
          "Ecuador",
          "Spain",
          "Estonia",
          "Ethiopia",
          "Finland",
          "France",
          "Gabon",
          "Georgia",
          "Ghana",
          "Guinea",
          "Guinea-Bissau",
          "Greece",
          "Grenada",
          "Guatemala",
          "Honduras",
          "Croatia",
          "Haiti",
          "Hungary",
          "Indonesia",
          "India",
          "Ireland",
          "Iceland",
          "Israel",
          "Italy",
          "Japan",
          "Kazakhstan",
          "Kenya",
          "Kiribati",
          "Kuwait",
          "Lebanon",
          "Liberia",
          "Sri Lanka",
          "Lesotho",
          "Lithuania",
          "Luxembourg",
          "Latvia",
          "Morocco",
          "Maldives",
          "Mexico",
          "North Macedonia",
          "Mali",
          "Malta",
          "Myanmar",
          "Montenegro",
          "Mongolia",
          "Mozambique",
          "Mauritania",
          "Mauritius",
          "Malaysia",
          "Namibia",
          "Nigeria",
          "Nicaragua",
          "Netherlands",
          "Norway",
          "Nepal",
          "New Zealand",
          "Oman",
          "Pakistan",
          "Panama",
          "Peru",
          "Philippines",
          "Poland",
          "Portugal",
          "Paraguay",
          "Qatar",
          "Romania",
          "Russia",
          "Rwanda",
          "Saudi Arabia",
          "Sudan",
          "Senegal",
          "Singapore",
          "Sierra Leone",
          "El Salvador",
          "Serbia",
          "South Sudan",
          "Sao Tome and Principe",
          "Suriname",
          "Slovenia",
          "Sweden",
          "Seychelles",
          "Syrian Arab Republic",
          "Chad",
          "Togo",
          "Thailand",
          "Timor-Leste",
          "Tunisia",
          "Uganda",
          "Ukraine",
          "Uruguay",
          "United States",
          "Uzbekistan",
          "South Africa",
          "Zambia",
          "Zimbabwe"
         ],
         "name": "",
         "type": "choropleth",
         "z": [
          7162814.744,
          11831856.48,
          2050062.1176,
          9890400,
          38797132.365,
          2267170.3334,
          23021167.232,
          7804880.066329843,
          8538779.935023732,
          1117733.414,
          10566030.075180858,
          3127785.0840000003,
          4598721.16,
          40842966.984,
          4864904.924,
          1695967.7761,
          2401884.6615,
          7981401.1568,
          172901548.63204926,
          415608.85,
          412812.42,
          1505040,
          502295.45600000006,
          36884676.7188,
          8135640.462,
          16879612.547,
          993481785.95162,
          10034336.591999998,
          35511164.7436,
          358612.26,
          4102299.483327332,
          8381695.84,
          1096307.2980956002,
          8701519.70517519,
          74689224.28074698,
          582921.1799999999,
          5630170.746065049,
          8342038.176,
          27582306.047,
          11397416.759999998,
          44145382.02964858,
          1184011.2189045013,
          27591259.92,
          5096579.7831,
          57138161.984,
          1379951.36,
          2700144.883365983,
          18022308.1,
          3414525.92,
          450671.542,
          8358829.711276754,
          64023.311,
          8424109.0001,
          4164887.664,
          3170180.7303304323,
          3933873.885,
          8265313.630966511,
          146954653.16541347,
          593401885.55,
          4586814.644119638,
          362798.37,
          8305324.59219741,
          41902064.47021127,
          113911990.0168932,
          16119106.816408206,
          15862533.5,
          45389.48,
          4232379.028011542,
          5740196.722,
          1294765.312,
          7671649.999999999,
          921168.36,
          2321307.135448396,
          622995.3361478896,
          1689499.161,
          31049295.393380817,
          340163.0806,
          92790573.8730472,
          1687155.013046564,
          5548728.515999999,
          447611.0065210112,
          19097837.694,
          482188.0878093636,
          2048933.4336575617,
          5157146.775,
          1897061.28,
          821274.178573492,
          28985373.36692696,
          1041775.56,
          73179553.38499999,
          2994298.4080000003,
          15929903.33275195,
          5218090.75,
          10984576.616,
          4657533,
          4863036.1306,
          55223082.75,
          2772238.44,
          21514129.515,
          54571380.33,
          31526298.610399503,
          8058666.567451756,
          5275041.6693138415,
          2871058.3751447783,
          15108538.812534234,
          122454489.42628148,
          3432335.385,
          34068850.2462,
          12453192.396,
          7132914.18,
          5231189.575306998,
          1435857.3,
          3541554.6244664425,
          5406709.87645367,
          727592.385,
          72323.13,
          410995.7804,
          1820722.2083633672,
          9788085.17849259,
          77784.98000000001,
          6261735.0746,
          1708289.336,
          1986896.88,
          54334913.85505705,
          383666.622,
          8497586.342,
          9102459,
          33115766.821413863,
          2990878.947,
          301334481.72,
          24338987.55,
          41516083,
          3640023.288,
          4354837.611
         ]
        }
       ],
       "layout": {
        "coloraxis": {
         "colorbar": {
          "title": {
           "text": "Number of internet users"
          }
         },
         "colorscale": [
          [
           0,
           "rgb(176, 242, 188)"
          ],
          [
           0.16666666666666666,
           "rgb(137, 232, 172)"
          ],
          [
           0.3333333333333333,
           "rgb(103, 219, 165)"
          ],
          [
           0.5,
           "rgb(76, 200, 163)"
          ],
          [
           0.6666666666666666,
           "rgb(56, 178, 163)"
          ],
          [
           0.8333333333333334,
           "rgb(44, 152, 160)"
          ],
          [
           1,
           "rgb(37, 125, 152)"
          ]
         ]
        },
        "geo": {
         "center": {},
         "domain": {
          "x": [
           0,
           1
          ],
          "y": [
           0,
           1
          ]
         }
        },
        "legend": {
         "tracegroupgap": 0
        },
        "margin": {
         "t": 60
        },
        "template": {
         "data": {
          "bar": [
           {
            "error_x": {
             "color": "#2a3f5f"
            },
            "error_y": {
             "color": "#2a3f5f"
            },
            "marker": {
             "line": {
              "color": "#E5ECF6",
              "width": 0.5
             },
             "pattern": {
              "fillmode": "overlay",
              "size": 10,
              "solidity": 0.2
             }
            },
            "type": "bar"
           }
          ],
          "barpolar": [
           {
            "marker": {
             "line": {
              "color": "#E5ECF6",
              "width": 0.5
             },
             "pattern": {
              "fillmode": "overlay",
              "size": 10,
              "solidity": 0.2
             }
            },
            "type": "barpolar"
           }
          ],
          "carpet": [
           {
            "aaxis": {
             "endlinecolor": "#2a3f5f",
             "gridcolor": "white",
             "linecolor": "white",
             "minorgridcolor": "white",
             "startlinecolor": "#2a3f5f"
            },
            "baxis": {
             "endlinecolor": "#2a3f5f",
             "gridcolor": "white",
             "linecolor": "white",
             "minorgridcolor": "white",
             "startlinecolor": "#2a3f5f"
            },
            "type": "carpet"
           }
          ],
          "choropleth": [
           {
            "colorbar": {
             "outlinewidth": 0,
             "ticks": ""
            },
            "type": "choropleth"
           }
          ],
          "contour": [
           {
            "colorbar": {
             "outlinewidth": 0,
             "ticks": ""
            },
            "colorscale": [
             [
              0,
              "#0d0887"
             ],
             [
              0.1111111111111111,
              "#46039f"
             ],
             [
              0.2222222222222222,
              "#7201a8"
             ],
             [
              0.3333333333333333,
              "#9c179e"
             ],
             [
              0.4444444444444444,
              "#bd3786"
             ],
             [
              0.5555555555555556,
              "#d8576b"
             ],
             [
              0.6666666666666666,
              "#ed7953"
             ],
             [
              0.7777777777777778,
              "#fb9f3a"
             ],
             [
              0.8888888888888888,
              "#fdca26"
             ],
             [
              1,
              "#f0f921"
             ]
            ],
            "type": "contour"
           }
          ],
          "contourcarpet": [
           {
            "colorbar": {
             "outlinewidth": 0,
             "ticks": ""
            },
            "type": "contourcarpet"
           }
          ],
          "heatmap": [
           {
            "colorbar": {
             "outlinewidth": 0,
             "ticks": ""
            },
            "colorscale": [
             [
              0,
              "#0d0887"
             ],
             [
              0.1111111111111111,
              "#46039f"
             ],
             [
              0.2222222222222222,
              "#7201a8"
             ],
             [
              0.3333333333333333,
              "#9c179e"
             ],
             [
              0.4444444444444444,
              "#bd3786"
             ],
             [
              0.5555555555555556,
              "#d8576b"
             ],
             [
              0.6666666666666666,
              "#ed7953"
             ],
             [
              0.7777777777777778,
              "#fb9f3a"
             ],
             [
              0.8888888888888888,
              "#fdca26"
             ],
             [
              1,
              "#f0f921"
             ]
            ],
            "type": "heatmap"
           }
          ],
          "heatmapgl": [
           {
            "colorbar": {
             "outlinewidth": 0,
             "ticks": ""
            },
            "colorscale": [
             [
              0,
              "#0d0887"
             ],
             [
              0.1111111111111111,
              "#46039f"
             ],
             [
              0.2222222222222222,
              "#7201a8"
             ],
             [
              0.3333333333333333,
              "#9c179e"
             ],
             [
              0.4444444444444444,
              "#bd3786"
             ],
             [
              0.5555555555555556,
              "#d8576b"
             ],
             [
              0.6666666666666666,
              "#ed7953"
             ],
             [
              0.7777777777777778,
              "#fb9f3a"
             ],
             [
              0.8888888888888888,
              "#fdca26"
             ],
             [
              1,
              "#f0f921"
             ]
            ],
            "type": "heatmapgl"
           }
          ],
          "histogram": [
           {
            "marker": {
             "pattern": {
              "fillmode": "overlay",
              "size": 10,
              "solidity": 0.2
             }
            },
            "type": "histogram"
           }
          ],
          "histogram2d": [
           {
            "colorbar": {
             "outlinewidth": 0,
             "ticks": ""
            },
            "colorscale": [
             [
              0,
              "#0d0887"
             ],
             [
              0.1111111111111111,
              "#46039f"
             ],
             [
              0.2222222222222222,
              "#7201a8"
             ],
             [
              0.3333333333333333,
              "#9c179e"
             ],
             [
              0.4444444444444444,
              "#bd3786"
             ],
             [
              0.5555555555555556,
              "#d8576b"
             ],
             [
              0.6666666666666666,
              "#ed7953"
             ],
             [
              0.7777777777777778,
              "#fb9f3a"
             ],
             [
              0.8888888888888888,
              "#fdca26"
             ],
             [
              1,
              "#f0f921"
             ]
            ],
            "type": "histogram2d"
           }
          ],
          "histogram2dcontour": [
           {
            "colorbar": {
             "outlinewidth": 0,
             "ticks": ""
            },
            "colorscale": [
             [
              0,
              "#0d0887"
             ],
             [
              0.1111111111111111,
              "#46039f"
             ],
             [
              0.2222222222222222,
              "#7201a8"
             ],
             [
              0.3333333333333333,
              "#9c179e"
             ],
             [
              0.4444444444444444,
              "#bd3786"
             ],
             [
              0.5555555555555556,
              "#d8576b"
             ],
             [
              0.6666666666666666,
              "#ed7953"
             ],
             [
              0.7777777777777778,
              "#fb9f3a"
             ],
             [
              0.8888888888888888,
              "#fdca26"
             ],
             [
              1,
              "#f0f921"
             ]
            ],
            "type": "histogram2dcontour"
           }
          ],
          "mesh3d": [
           {
            "colorbar": {
             "outlinewidth": 0,
             "ticks": ""
            },
            "type": "mesh3d"
           }
          ],
          "parcoords": [
           {
            "line": {
             "colorbar": {
              "outlinewidth": 0,
              "ticks": ""
             }
            },
            "type": "parcoords"
           }
          ],
          "pie": [
           {
            "automargin": true,
            "type": "pie"
           }
          ],
          "scatter": [
           {
            "fillpattern": {
             "fillmode": "overlay",
             "size": 10,
             "solidity": 0.2
            },
            "type": "scatter"
           }
          ],
          "scatter3d": [
           {
            "line": {
             "colorbar": {
              "outlinewidth": 0,
              "ticks": ""
             }
            },
            "marker": {
             "colorbar": {
              "outlinewidth": 0,
              "ticks": ""
             }
            },
            "type": "scatter3d"
           }
          ],
          "scattercarpet": [
           {
            "marker": {
             "colorbar": {
              "outlinewidth": 0,
              "ticks": ""
             }
            },
            "type": "scattercarpet"
           }
          ],
          "scattergeo": [
           {
            "marker": {
             "colorbar": {
              "outlinewidth": 0,
              "ticks": ""
             }
            },
            "type": "scattergeo"
           }
          ],
          "scattergl": [
           {
            "marker": {
             "colorbar": {
              "outlinewidth": 0,
              "ticks": ""
             }
            },
            "type": "scattergl"
           }
          ],
          "scattermapbox": [
           {
            "marker": {
             "colorbar": {
              "outlinewidth": 0,
              "ticks": ""
             }
            },
            "type": "scattermapbox"
           }
          ],
          "scatterpolar": [
           {
            "marker": {
             "colorbar": {
              "outlinewidth": 0,
              "ticks": ""
             }
            },
            "type": "scatterpolar"
           }
          ],
          "scatterpolargl": [
           {
            "marker": {
             "colorbar": {
              "outlinewidth": 0,
              "ticks": ""
             }
            },
            "type": "scatterpolargl"
           }
          ],
          "scatterternary": [
           {
            "marker": {
             "colorbar": {
              "outlinewidth": 0,
              "ticks": ""
             }
            },
            "type": "scatterternary"
           }
          ],
          "surface": [
           {
            "colorbar": {
             "outlinewidth": 0,
             "ticks": ""
            },
            "colorscale": [
             [
              0,
              "#0d0887"
             ],
             [
              0.1111111111111111,
              "#46039f"
             ],
             [
              0.2222222222222222,
              "#7201a8"
             ],
             [
              0.3333333333333333,
              "#9c179e"
             ],
             [
              0.4444444444444444,
              "#bd3786"
             ],
             [
              0.5555555555555556,
              "#d8576b"
             ],
             [
              0.6666666666666666,
              "#ed7953"
             ],
             [
              0.7777777777777778,
              "#fb9f3a"
             ],
             [
              0.8888888888888888,
              "#fdca26"
             ],
             [
              1,
              "#f0f921"
             ]
            ],
            "type": "surface"
           }
          ],
          "table": [
           {
            "cells": {
             "fill": {
              "color": "#EBF0F8"
             },
             "line": {
              "color": "white"
             }
            },
            "header": {
             "fill": {
              "color": "#C8D4E3"
             },
             "line": {
              "color": "white"
             }
            },
            "type": "table"
           }
          ]
         },
         "layout": {
          "annotationdefaults": {
           "arrowcolor": "#2a3f5f",
           "arrowhead": 0,
           "arrowwidth": 1
          },
          "autotypenumbers": "strict",
          "coloraxis": {
           "colorbar": {
            "outlinewidth": 0,
            "ticks": ""
           }
          },
          "colorscale": {
           "diverging": [
            [
             0,
             "#8e0152"
            ],
            [
             0.1,
             "#c51b7d"
            ],
            [
             0.2,
             "#de77ae"
            ],
            [
             0.3,
             "#f1b6da"
            ],
            [
             0.4,
             "#fde0ef"
            ],
            [
             0.5,
             "#f7f7f7"
            ],
            [
             0.6,
             "#e6f5d0"
            ],
            [
             0.7,
             "#b8e186"
            ],
            [
             0.8,
             "#7fbc41"
            ],
            [
             0.9,
             "#4d9221"
            ],
            [
             1,
             "#276419"
            ]
           ],
           "sequential": [
            [
             0,
             "#0d0887"
            ],
            [
             0.1111111111111111,
             "#46039f"
            ],
            [
             0.2222222222222222,
             "#7201a8"
            ],
            [
             0.3333333333333333,
             "#9c179e"
            ],
            [
             0.4444444444444444,
             "#bd3786"
            ],
            [
             0.5555555555555556,
             "#d8576b"
            ],
            [
             0.6666666666666666,
             "#ed7953"
            ],
            [
             0.7777777777777778,
             "#fb9f3a"
            ],
            [
             0.8888888888888888,
             "#fdca26"
            ],
            [
             1,
             "#f0f921"
            ]
           ],
           "sequentialminus": [
            [
             0,
             "#0d0887"
            ],
            [
             0.1111111111111111,
             "#46039f"
            ],
            [
             0.2222222222222222,
             "#7201a8"
            ],
            [
             0.3333333333333333,
             "#9c179e"
            ],
            [
             0.4444444444444444,
             "#bd3786"
            ],
            [
             0.5555555555555556,
             "#d8576b"
            ],
            [
             0.6666666666666666,
             "#ed7953"
            ],
            [
             0.7777777777777778,
             "#fb9f3a"
            ],
            [
             0.8888888888888888,
             "#fdca26"
            ],
            [
             1,
             "#f0f921"
            ]
           ]
          },
          "colorway": [
           "#636efa",
           "#EF553B",
           "#00cc96",
           "#ab63fa",
           "#FFA15A",
           "#19d3f3",
           "#FF6692",
           "#B6E880",
           "#FF97FF",
           "#FECB52"
          ],
          "font": {
           "color": "#2a3f5f"
          },
          "geo": {
           "bgcolor": "white",
           "lakecolor": "white",
           "landcolor": "#E5ECF6",
           "showlakes": true,
           "showland": true,
           "subunitcolor": "white"
          },
          "hoverlabel": {
           "align": "left"
          },
          "hovermode": "closest",
          "mapbox": {
           "style": "light"
          },
          "paper_bgcolor": "white",
          "plot_bgcolor": "#E5ECF6",
          "polar": {
           "angularaxis": {
            "gridcolor": "white",
            "linecolor": "white",
            "ticks": ""
           },
           "bgcolor": "#E5ECF6",
           "radialaxis": {
            "gridcolor": "white",
            "linecolor": "white",
            "ticks": ""
           }
          },
          "scene": {
           "xaxis": {
            "backgroundcolor": "#E5ECF6",
            "gridcolor": "white",
            "gridwidth": 2,
            "linecolor": "white",
            "showbackground": true,
            "ticks": "",
            "zerolinecolor": "white"
           },
           "yaxis": {
            "backgroundcolor": "#E5ECF6",
            "gridcolor": "white",
            "gridwidth": 2,
            "linecolor": "white",
            "showbackground": true,
            "ticks": "",
            "zerolinecolor": "white"
           },
           "zaxis": {
            "backgroundcolor": "#E5ECF6",
            "gridcolor": "white",
            "gridwidth": 2,
            "linecolor": "white",
            "showbackground": true,
            "ticks": "",
            "zerolinecolor": "white"
           }
          },
          "shapedefaults": {
           "line": {
            "color": "#2a3f5f"
           }
          },
          "ternary": {
           "aaxis": {
            "gridcolor": "white",
            "linecolor": "white",
            "ticks": ""
           },
           "baxis": {
            "gridcolor": "white",
            "linecolor": "white",
            "ticks": ""
           },
           "bgcolor": "#E5ECF6",
           "caxis": {
            "gridcolor": "white",
            "linecolor": "white",
            "ticks": ""
           }
          },
          "title": {
           "x": 0.05
          },
          "xaxis": {
           "automargin": true,
           "gridcolor": "white",
           "linecolor": "white",
           "ticks": "",
           "title": {
            "standoff": 15
           },
           "zerolinecolor": "white",
           "zerolinewidth": 2
          },
          "yaxis": {
           "automargin": true,
           "gridcolor": "white",
           "linecolor": "white",
           "ticks": "",
           "title": {
            "standoff": 15
           },
           "zerolinecolor": "white",
           "zerolinewidth": 2
          }
         }
        }
       }
      }
     },
     "metadata": {},
     "output_type": "display_data"
    }
   ],
   "source": [
    "yr=2020\n",
    "year_dat=df_countries[df_countries['Year']==yr]\n",
    "fig = px.choropleth(year_dat, locations='Country Name', locationmode='country names',color='Number of internet users', color_continuous_scale= 'Tealgrn')\n",
    "fig.show()"
   ]
  },
  {
   "cell_type": "markdown",
   "metadata": {},
   "source": [
    "# Conclusión del análisis Areas y Paises"
   ]
  },
  {
   "cell_type": "markdown",
   "metadata": {},
   "source": [
    "Internet tiene más de 50 años: Datos de su evolución.<br>\n",
    "En 199o, las estadísticas sugieren que solo la mitad del uno por ciento de la población mundial estaba en líneas. En la década de los noventa, al menos en algunas partes del mundo, esto comienza a cambiar.<br>\n",
    "\n",
    "En año 2000, año en el que estalla la burbuja de las empresas “puntocom”, se les denominaba “puntocom” a todas aquellas compañías innovadoras que tenían presencia y por lo tanto un dominio”.com” en internet, casi la mitad de la población norteamericana accedía a la información a través de Internet. En la Euro área, lo hacía el 22%. Pero en la mayor parte del mundo, Internet no había llegado aún, en ese momento menos del 7% del mundo estaba en línea<br>\n",
    "\n",
    "Quince años después, en 2016, en Estados Unidos, el 84% de las personas tenía acceso a internet. Durante estos años, países de muchas partes del mundo se pusieron al día, véase el mapa, y sobrepasaron esta cifra. Islandia, Bermudas y Bahrain encabeza la clasificación con el 98% de la población en línea en 2016 (vease ranking). En el otro extremo del espectro, todavía hay países donde casi nada ha cambiado desde 1990.<br>\n",
    "\n",
    "No obstante, la tendencia general a nivel mundial, es clara: el número de usuarios de internet crece cada año.<br>"
   ]
  },
  {
   "cell_type": "markdown",
   "metadata": {},
   "source": []
  },
  {
   "cell_type": "markdown",
   "metadata": {},
   "source": [
    "# Estudio de la brecha digital"
   ]
  },
  {
   "cell_type": "markdown",
   "metadata": {},
   "source": [
    "Llegados a este punto sabemos que internet nos ofrecen muchas oportunidades que pueden mejorar nuestra vida, sin embargo, no todo el mundo puede acceder a las mismas. La diferencia de accesibilidad y uso de tecnologías digitales para determinadas personas o grupos se conoce como brecha digital y la lucha para combatirla se ha convertido en parte de la agenda de muchos gobiernos e instituciones de todo el mundo.<br>\n",
    "Analizamos las diferencias de acceso digital entre los distintos países del mundo en función del poder adquisitivo de sus ciudadanos. Para evaluar de manera correcta las diferencias entre los países de distinto nivel de ingreso, es necesario tener en cuenta tanto la calidad como el método de acceso a internet, es por ello que utilizaremos la variable “Suscripciones de banda ancha”"
   ]
  },
  {
   "cell_type": "code",
   "execution_count": 23,
   "metadata": {},
   "outputs": [],
   "source": [
    "df_fixed=pd.read_excel('fixed_boradband_suscriptions.xlsx')"
   ]
  },
  {
   "cell_type": "code",
   "execution_count": 24,
   "metadata": {},
   "outputs": [
    {
     "data": {
      "text/html": [
       "<div>\n",
       "<style scoped>\n",
       "    .dataframe tbody tr th:only-of-type {\n",
       "        vertical-align: middle;\n",
       "    }\n",
       "\n",
       "    .dataframe tbody tr th {\n",
       "        vertical-align: top;\n",
       "    }\n",
       "\n",
       "    .dataframe thead th {\n",
       "        text-align: right;\n",
       "    }\n",
       "</style>\n",
       "<table border=\"1\" class=\"dataframe\">\n",
       "  <thead>\n",
       "    <tr style=\"text-align: right;\">\n",
       "      <th></th>\n",
       "      <th>Country Name</th>\n",
       "      <th>Country Code</th>\n",
       "      <th>1999</th>\n",
       "      <th>2000</th>\n",
       "      <th>2001</th>\n",
       "      <th>2002</th>\n",
       "      <th>2003</th>\n",
       "      <th>2004</th>\n",
       "      <th>2005</th>\n",
       "      <th>2006</th>\n",
       "      <th>...</th>\n",
       "      <th>2012</th>\n",
       "      <th>2013</th>\n",
       "      <th>2014</th>\n",
       "      <th>2015</th>\n",
       "      <th>2016</th>\n",
       "      <th>2017</th>\n",
       "      <th>2018</th>\n",
       "      <th>2019</th>\n",
       "      <th>2020</th>\n",
       "      <th>2021</th>\n",
       "    </tr>\n",
       "  </thead>\n",
       "  <tbody>\n",
       "    <tr>\n",
       "      <th>0</th>\n",
       "      <td>Aruba</td>\n",
       "      <td>ABW</td>\n",
       "      <td>NaN</td>\n",
       "      <td>NaN</td>\n",
       "      <td>NaN</td>\n",
       "      <td>NaN</td>\n",
       "      <td>1399.0</td>\n",
       "      <td>6963.0</td>\n",
       "      <td>12274.0</td>\n",
       "      <td>13953.0</td>\n",
       "      <td>...</td>\n",
       "      <td>NaN</td>\n",
       "      <td>19200.0</td>\n",
       "      <td>19200.0</td>\n",
       "      <td>19000.0</td>\n",
       "      <td>NaN</td>\n",
       "      <td>NaN</td>\n",
       "      <td>NaN</td>\n",
       "      <td>19000.0</td>\n",
       "      <td>19000.0</td>\n",
       "      <td>NaN</td>\n",
       "    </tr>\n",
       "    <tr>\n",
       "      <th>1</th>\n",
       "      <td>Afghanistan</td>\n",
       "      <td>AFG</td>\n",
       "      <td>NaN</td>\n",
       "      <td>NaN</td>\n",
       "      <td>NaN</td>\n",
       "      <td>NaN</td>\n",
       "      <td>NaN</td>\n",
       "      <td>200.0</td>\n",
       "      <td>220.0</td>\n",
       "      <td>500.0</td>\n",
       "      <td>...</td>\n",
       "      <td>1500.0</td>\n",
       "      <td>1500.0</td>\n",
       "      <td>1500.0</td>\n",
       "      <td>7067.0</td>\n",
       "      <td>8801.0</td>\n",
       "      <td>9182.0</td>\n",
       "      <td>15999.0</td>\n",
       "      <td>19683.0</td>\n",
       "      <td>26570.0</td>\n",
       "      <td>NaN</td>\n",
       "    </tr>\n",
       "    <tr>\n",
       "      <th>2</th>\n",
       "      <td>Angola</td>\n",
       "      <td>AGO</td>\n",
       "      <td>NaN</td>\n",
       "      <td>NaN</td>\n",
       "      <td>NaN</td>\n",
       "      <td>NaN</td>\n",
       "      <td>NaN</td>\n",
       "      <td>NaN</td>\n",
       "      <td>NaN</td>\n",
       "      <td>7458.0</td>\n",
       "      <td>...</td>\n",
       "      <td>20512.0</td>\n",
       "      <td>22282.0</td>\n",
       "      <td>87750.0</td>\n",
       "      <td>153571.0</td>\n",
       "      <td>84724.0</td>\n",
       "      <td>96919.0</td>\n",
       "      <td>109561.0</td>\n",
       "      <td>119068.0</td>\n",
       "      <td>230610.0</td>\n",
       "      <td>NaN</td>\n",
       "    </tr>\n",
       "    <tr>\n",
       "      <th>3</th>\n",
       "      <td>Albania</td>\n",
       "      <td>ALB</td>\n",
       "      <td>NaN</td>\n",
       "      <td>NaN</td>\n",
       "      <td>NaN</td>\n",
       "      <td>NaN</td>\n",
       "      <td>NaN</td>\n",
       "      <td>NaN</td>\n",
       "      <td>272.0</td>\n",
       "      <td>272.0</td>\n",
       "      <td>...</td>\n",
       "      <td>160088.0</td>\n",
       "      <td>182556.0</td>\n",
       "      <td>207964.0</td>\n",
       "      <td>242870.0</td>\n",
       "      <td>266379.0</td>\n",
       "      <td>303612.0</td>\n",
       "      <td>361947.0</td>\n",
       "      <td>436192.0</td>\n",
       "      <td>508937.0</td>\n",
       "      <td>NaN</td>\n",
       "    </tr>\n",
       "    <tr>\n",
       "      <th>4</th>\n",
       "      <td>Andorra</td>\n",
       "      <td>AND</td>\n",
       "      <td>NaN</td>\n",
       "      <td>NaN</td>\n",
       "      <td>NaN</td>\n",
       "      <td>1148.0</td>\n",
       "      <td>3601.0</td>\n",
       "      <td>6282.0</td>\n",
       "      <td>10341.0</td>\n",
       "      <td>14616.0</td>\n",
       "      <td>...</td>\n",
       "      <td>26905.0</td>\n",
       "      <td>27734.0</td>\n",
       "      <td>28770.0</td>\n",
       "      <td>30694.0</td>\n",
       "      <td>32490.0</td>\n",
       "      <td>34284.0</td>\n",
       "      <td>35663.0</td>\n",
       "      <td>36358.0</td>\n",
       "      <td>37000.0</td>\n",
       "      <td>NaN</td>\n",
       "    </tr>\n",
       "  </tbody>\n",
       "</table>\n",
       "<p>5 rows × 25 columns</p>\n",
       "</div>"
      ],
      "text/plain": [
       "  Country Name Country Code  1999  2000  2001    2002    2003    2004  \\\n",
       "0        Aruba          ABW   NaN   NaN   NaN     NaN  1399.0  6963.0   \n",
       "1  Afghanistan          AFG   NaN   NaN   NaN     NaN     NaN   200.0   \n",
       "2       Angola          AGO   NaN   NaN   NaN     NaN     NaN     NaN   \n",
       "3      Albania          ALB   NaN   NaN   NaN     NaN     NaN     NaN   \n",
       "4      Andorra          AND   NaN   NaN   NaN  1148.0  3601.0  6282.0   \n",
       "\n",
       "      2005     2006  ...      2012      2013      2014      2015      2016  \\\n",
       "0  12274.0  13953.0  ...       NaN   19200.0   19200.0   19000.0       NaN   \n",
       "1    220.0    500.0  ...    1500.0    1500.0    1500.0    7067.0    8801.0   \n",
       "2      NaN   7458.0  ...   20512.0   22282.0   87750.0  153571.0   84724.0   \n",
       "3    272.0    272.0  ...  160088.0  182556.0  207964.0  242870.0  266379.0   \n",
       "4  10341.0  14616.0  ...   26905.0   27734.0   28770.0   30694.0   32490.0   \n",
       "\n",
       "       2017      2018      2019      2020  2021  \n",
       "0       NaN       NaN   19000.0   19000.0   NaN  \n",
       "1    9182.0   15999.0   19683.0   26570.0   NaN  \n",
       "2   96919.0  109561.0  119068.0  230610.0   NaN  \n",
       "3  303612.0  361947.0  436192.0  508937.0   NaN  \n",
       "4   34284.0   35663.0   36358.0   37000.0   NaN  \n",
       "\n",
       "[5 rows x 25 columns]"
      ]
     },
     "execution_count": 24,
     "metadata": {},
     "output_type": "execute_result"
    }
   ],
   "source": [
    "df_fixed.head()"
   ]
  },
  {
   "cell_type": "code",
   "execution_count": 25,
   "metadata": {},
   "outputs": [
    {
     "data": {
      "text/plain": [
       "<AxesSubplot: >"
      ]
     },
     "execution_count": 25,
     "metadata": {},
     "output_type": "execute_result"
    },
    {
     "data": {
      "image/png": "[encoded data removed]",
      "text/plain": [
       "<Figure size 640x480 with 1 Axes>"
      ]
     },
     "metadata": {},
     "output_type": "display_data"
    }
   ],
   "source": [
    "sns.heatmap(df_fixed.isnull(),cbar=False,cmap='rocket', yticklabels=False)"
   ]
  },
  {
   "cell_type": "code",
   "execution_count": 26,
   "metadata": {},
   "outputs": [],
   "source": [
    "sud_fixed=df_fixed[['Country Name','Country Code','2020']]#estudiamos la diferencias de acceso digital en el año 2020 por lo que seleccionamos unicamente esta columna"
   ]
  },
  {
   "cell_type": "code",
   "execution_count": 27,
   "metadata": {},
   "outputs": [
    {
     "data": {
      "text/html": [
       "<div>\n",
       "<style scoped>\n",
       "    .dataframe tbody tr th:only-of-type {\n",
       "        vertical-align: middle;\n",
       "    }\n",
       "\n",
       "    .dataframe tbody tr th {\n",
       "        vertical-align: top;\n",
       "    }\n",
       "\n",
       "    .dataframe thead th {\n",
       "        text-align: right;\n",
       "    }\n",
       "</style>\n",
       "<table border=\"1\" class=\"dataframe\">\n",
       "  <thead>\n",
       "    <tr style=\"text-align: right;\">\n",
       "      <th></th>\n",
       "      <th>Country Name</th>\n",
       "      <th>Country Code</th>\n",
       "      <th>2020</th>\n",
       "    </tr>\n",
       "  </thead>\n",
       "  <tbody>\n",
       "    <tr>\n",
       "      <th>0</th>\n",
       "      <td>Aruba</td>\n",
       "      <td>ABW</td>\n",
       "      <td>19000.0</td>\n",
       "    </tr>\n",
       "    <tr>\n",
       "      <th>1</th>\n",
       "      <td>Afghanistan</td>\n",
       "      <td>AFG</td>\n",
       "      <td>26570.0</td>\n",
       "    </tr>\n",
       "    <tr>\n",
       "      <th>2</th>\n",
       "      <td>Angola</td>\n",
       "      <td>AGO</td>\n",
       "      <td>230610.0</td>\n",
       "    </tr>\n",
       "    <tr>\n",
       "      <th>3</th>\n",
       "      <td>Albania</td>\n",
       "      <td>ALB</td>\n",
       "      <td>508937.0</td>\n",
       "    </tr>\n",
       "    <tr>\n",
       "      <th>4</th>\n",
       "      <td>Andorra</td>\n",
       "      <td>AND</td>\n",
       "      <td>37000.0</td>\n",
       "    </tr>\n",
       "  </tbody>\n",
       "</table>\n",
       "</div>"
      ],
      "text/plain": [
       "  Country Name Country Code      2020\n",
       "0        Aruba          ABW   19000.0\n",
       "1  Afghanistan          AFG   26570.0\n",
       "2       Angola          AGO  230610.0\n",
       "3      Albania          ALB  508937.0\n",
       "4      Andorra          AND   37000.0"
      ]
     },
     "execution_count": 27,
     "metadata": {},
     "output_type": "execute_result"
    }
   ],
   "source": [
    "sud_fixed.head()"
   ]
  },
  {
   "cell_type": "code",
   "execution_count": 28,
   "metadata": {},
   "outputs": [
    {
     "data": {
      "text/plain": [
       "Country Name     0\n",
       "Country Code     0\n",
       "2020            14\n",
       "dtype: int64"
      ]
     },
     "execution_count": 28,
     "metadata": {},
     "output_type": "execute_result"
    }
   ],
   "source": [
    "sud_fixed.isnull().sum()"
   ]
  },
  {
   "cell_type": "code",
   "execution_count": 29,
   "metadata": {},
   "outputs": [
    {
     "name": "stderr",
     "output_type": "stream",
     "text": [
      "C:\\Users\\Jose Antonio\\AppData\\Local\\Temp\\ipykernel_3340\\1550961343.py:1: SettingWithCopyWarning:\n",
      "\n",
      "\n",
      "A value is trying to be set on a copy of a slice from a DataFrame\n",
      "\n",
      "See the caveats in the documentation: https://pandas.pydata.org/pandas-docs/stable/user_guide/indexing.html#returning-a-view-versus-a-copy\n",
      "\n"
     ]
    },
    {
     "data": {
      "text/plain": [
       "Country Name    0\n",
       "Country Code    0\n",
       "2020            0\n",
       "dtype: int64"
      ]
     },
     "execution_count": 29,
     "metadata": {},
     "output_type": "execute_result"
    }
   ],
   "source": [
    "sud_fixed.dropna(inplace=True)#vamos a eliminar los valores nulos\n",
    "sud_fixed.isnull().sum()"
   ]
  },
  {
   "cell_type": "code",
   "execution_count": 30,
   "metadata": {},
   "outputs": [],
   "source": [
    "df_geo=pd.read_csv('geography.csv')#vamos esta clasificacion para hacer grupos de paises por su nivel de ingresos"
   ]
  },
  {
   "cell_type": "code",
   "execution_count": 31,
   "metadata": {},
   "outputs": [],
   "source": [
    "df_geo['Country Name'].replace(to_replace=['United States of America'], value=['United States'],inplace=True)#cambiamos el nombre para que sea coincidiente en los dos dataset"
   ]
  },
  {
   "cell_type": "code",
   "execution_count": 32,
   "metadata": {},
   "outputs": [],
   "source": [
    "fixed_20=pd.merge(df_geo,sud_fixed,how='right')"
   ]
  },
  {
   "cell_type": "code",
   "execution_count": 33,
   "metadata": {},
   "outputs": [
    {
     "data": {
      "text/html": [
       "<div>\n",
       "<style scoped>\n",
       "    .dataframe tbody tr th:only-of-type {\n",
       "        vertical-align: middle;\n",
       "    }\n",
       "\n",
       "    .dataframe tbody tr th {\n",
       "        vertical-align: top;\n",
       "    }\n",
       "\n",
       "    .dataframe thead th {\n",
       "        text-align: right;\n",
       "    }\n",
       "</style>\n",
       "<table border=\"1\" class=\"dataframe\">\n",
       "  <thead>\n",
       "    <tr style=\"text-align: right;\">\n",
       "      <th></th>\n",
       "      <th>Region Name</th>\n",
       "      <th>Sub-region Name</th>\n",
       "      <th>Country Name</th>\n",
       "      <th>ISO3 Code</th>\n",
       "      <th>Grupo de Ingresos del Banco Mundial</th>\n",
       "      <th>Country Code</th>\n",
       "      <th>2020</th>\n",
       "    </tr>\n",
       "  </thead>\n",
       "  <tbody>\n",
       "    <tr>\n",
       "      <th>0</th>\n",
       "      <td>Americas</td>\n",
       "      <td>Latin America and the Caribbean</td>\n",
       "      <td>Aruba</td>\n",
       "      <td>ABW</td>\n",
       "      <td>Ingreso alto</td>\n",
       "      <td>ABW</td>\n",
       "      <td>19000.0</td>\n",
       "    </tr>\n",
       "    <tr>\n",
       "      <th>1</th>\n",
       "      <td>Asia</td>\n",
       "      <td>Southern Asia</td>\n",
       "      <td>Afghanistan</td>\n",
       "      <td>AFG</td>\n",
       "      <td>Ingreso bajo</td>\n",
       "      <td>AFG</td>\n",
       "      <td>26570.0</td>\n",
       "    </tr>\n",
       "    <tr>\n",
       "      <th>2</th>\n",
       "      <td>Africa</td>\n",
       "      <td>Sub-Saharan Africa</td>\n",
       "      <td>Angola</td>\n",
       "      <td>AGO</td>\n",
       "      <td>Ingreso mediano bajo</td>\n",
       "      <td>AGO</td>\n",
       "      <td>230610.0</td>\n",
       "    </tr>\n",
       "    <tr>\n",
       "      <th>3</th>\n",
       "      <td>Europe</td>\n",
       "      <td>Southern Europe</td>\n",
       "      <td>Albania</td>\n",
       "      <td>ALB</td>\n",
       "      <td>Ingreso mediano alto</td>\n",
       "      <td>ALB</td>\n",
       "      <td>508937.0</td>\n",
       "    </tr>\n",
       "    <tr>\n",
       "      <th>4</th>\n",
       "      <td>Europe</td>\n",
       "      <td>Southern Europe</td>\n",
       "      <td>Andorra</td>\n",
       "      <td>AND</td>\n",
       "      <td>Ingreso alto</td>\n",
       "      <td>AND</td>\n",
       "      <td>37000.0</td>\n",
       "    </tr>\n",
       "  </tbody>\n",
       "</table>\n",
       "</div>"
      ],
      "text/plain": [
       "  Region Name                  Sub-region Name Country Name ISO3 Code  \\\n",
       "0    Americas  Latin America and the Caribbean        Aruba       ABW   \n",
       "1        Asia                    Southern Asia  Afghanistan       AFG   \n",
       "2      Africa               Sub-Saharan Africa       Angola       AGO   \n",
       "3      Europe                  Southern Europe      Albania       ALB   \n",
       "4      Europe                  Southern Europe      Andorra       AND   \n",
       "\n",
       "  Grupo de Ingresos del Banco Mundial  Country Code      2020  \n",
       "0                         Ingreso alto          ABW   19000.0  \n",
       "1                         Ingreso bajo          AFG   26570.0  \n",
       "2                 Ingreso mediano bajo          AGO  230610.0  \n",
       "3                 Ingreso mediano alto          ALB  508937.0  \n",
       "4                         Ingreso alto          AND   37000.0  "
      ]
     },
     "execution_count": 33,
     "metadata": {},
     "output_type": "execute_result"
    }
   ],
   "source": [
    "fixed_20.head()"
   ]
  },
  {
   "cell_type": "code",
   "execution_count": 34,
   "metadata": {},
   "outputs": [],
   "source": [
    "fixed_20.drop('Country Code',axis=1, inplace=True)"
   ]
  },
  {
   "cell_type": "code",
   "execution_count": 35,
   "metadata": {},
   "outputs": [
    {
     "data": {
      "text/plain": [
       "(195, 6)"
      ]
     },
     "execution_count": 35,
     "metadata": {},
     "output_type": "execute_result"
    }
   ],
   "source": [
    "fixed_20.shape"
   ]
  },
  {
   "cell_type": "code",
   "execution_count": 36,
   "metadata": {},
   "outputs": [],
   "source": [
    "fixed_20.rename(columns = {'Grupo de Ingresos del Banco Mundial ':'Grupo de Ingresos'}, inplace = True)"
   ]
  },
  {
   "cell_type": "markdown",
   "metadata": {},
   "source": [
    "Guardamos el dataset para tenerlo listo para usarlo en la api de streamlit"
   ]
  },
  {
   "cell_type": "code",
   "execution_count": 37,
   "metadata": {},
   "outputs": [],
   "source": [
    "fixed_20.to_csv('fixed_broadband_20.csv',index=False)"
   ]
  },
  {
   "cell_type": "code",
   "execution_count": 38,
   "metadata": {},
   "outputs": [
    {
     "data": {
      "application/vnd.plotly.v1+json": {
       "config": {
        "plotlyServerURL": "https://plot.ly"
       },
       "data": [
        {
         "coloraxis": "coloraxis",
         "geo": "geo",
         "hovertemplate": "Country Name=%{location}<br>2020=%{z}<extra></extra>",
         "locationmode": "country names",
         "locations": [
          "Aruba",
          "Afghanistan",
          "Angola",
          "Albania",
          "Andorra",
          "United Arab Emirates",
          "Argentina",
          "Armenia",
          "Antigua and Barbuda",
          "Australia",
          "Austria",
          "Azerbaijan",
          "Burundi",
          "Belgium",
          "Benin",
          "Burkina Faso",
          "Bangladesh",
          "Bulgaria",
          "Bahrain",
          "Bahamas, The",
          "Bosnia and Herzegovina",
          "Belarus",
          "Belize",
          "Bermuda",
          "Bolivia",
          "Brazil",
          "Barbados",
          "Brunei Darussalam",
          "Bhutan",
          "Botswana",
          "Canada",
          "Switzerland",
          "Chile",
          "China",
          "Cote d'Ivoire",
          "Cameroon",
          "Congo, Dem. Rep.",
          "Congo, Rep.",
          "Colombia",
          "Comoros",
          "Cabo Verde",
          "Costa Rica",
          "Cuba",
          "Curacao",
          "Cayman Islands",
          "Cyprus",
          "Czechia",
          "Germany",
          "Djibouti",
          "Dominica",
          "Denmark",
          "Dominican Republic",
          "Algeria",
          "Ecuador",
          "Egypt, Arab Rep.",
          "Eritrea",
          "Spain",
          "Estonia",
          "Ethiopia",
          "Finland",
          "Fiji",
          "France",
          "Faroe Islands",
          "Micronesia, Fed. Sts.",
          "Gabon",
          "United Kingdom",
          "Georgia",
          "Ghana",
          "Gibraltar",
          "Guinea",
          "Gambia, The",
          "Guinea-Bissau",
          "Equatorial Guinea",
          "Greece",
          "Grenada",
          "Greenland",
          "Guatemala",
          "Guam",
          "Guyana",
          "Honduras",
          "Croatia",
          "Haiti",
          "Hungary",
          "Indonesia",
          "India",
          "Ireland",
          "Iraq",
          "Iceland",
          "Israel",
          "Italy",
          "Jamaica",
          "Jordan",
          "Japan",
          "Kazakhstan",
          "Kenya",
          "Kyrgyz Republic",
          "Cambodia",
          "Kiribati",
          "St. Kitts and Nevis",
          "Korea, Rep.",
          "Kuwait",
          "Lao PDR",
          "Lebanon",
          "Liberia",
          "Libya",
          "St. Lucia",
          "Liechtenstein",
          "Sri Lanka",
          "Lesotho",
          "Lithuania",
          "Luxembourg",
          "Latvia",
          "Morocco",
          "Monaco",
          "Moldova",
          "Madagascar",
          "Maldives",
          "Mexico",
          "Marshall Islands",
          "Mali",
          "Malta",
          "Myanmar",
          "Montenegro",
          "Mongolia",
          "Mozambique",
          "Mauritania",
          "Mauritius",
          "Malawi",
          "Malaysia",
          "Namibia",
          "New Caledonia",
          "Niger",
          "Nigeria",
          "Nicaragua",
          "Netherlands",
          "Norway",
          "Nepal",
          "New Zealand",
          "Oman",
          "Pakistan",
          "Panama",
          "Peru",
          "Philippines",
          "Papua New Guinea",
          "Poland",
          "Puerto Rico",
          "Portugal",
          "Paraguay",
          "Qatar",
          "Romania",
          "Russian Federation",
          "Rwanda",
          "South Asia",
          "Saudi Arabia",
          "Sudan",
          "Senegal",
          "Singapore",
          "Solomon Islands",
          "El Salvador",
          "San Marino",
          "Somalia",
          "Serbia",
          "Sao Tome and Principe",
          "Suriname",
          "Slovak Republic",
          "Slovenia",
          "Sweden",
          "Eswatini",
          "Seychelles",
          "Syrian Arab Republic",
          "Chad",
          "Togo",
          "Thailand",
          "Tajikistan",
          "Turkmenistan",
          "Timor-Leste",
          "Tonga",
          "Trinidad and Tobago",
          "Tunisia",
          "Turkiye",
          "Tanzania",
          "Uganda",
          "Ukraine",
          "Uruguay",
          "United States",
          "Uzbekistan",
          "St. Vincent and the Grenadines",
          "Venezuela, RB",
          "British Virgin Islands",
          "Vietnam",
          "Vanuatu",
          "Samoa",
          "Yemen, Rep.",
          "Zambia",
          "Zimbabwe"
         ],
         "name": "",
         "type": "choropleth",
         "z": [
          19000,
          26570,
          230610,
          508937,
          37000,
          3245123,
          9571562,
          430407,
          8000,
          9099619,
          2606000,
          1995474,
          4230,
          4734210,
          29981,
          13979,
          10052819,
          2115053,
          148928,
          83000,
          770424,
          3255552,
          36000,
          23000,
          931918,
          36344670,
          128000,
          71078,
          3189,
          259525,
          15825813,
          4028238,
          3763826,
          483549500,
          260097,
          722579,
          31000,
          1000,
          7764772,
          1066,
          24839,
          992725,
          231654,
          55000,
          32000,
          332080,
          3845426,
          36215303,
          25053,
          16000,
          2590282,
          1031858,
          3790459,
          2371297,
          9349469,
          5000,
          16188502,
          415610,
          212000,
          1846000,
          23062,
          30627000,
          18443,
          6000,
          44607,
          27330297,
          972162,
          78371,
          21009,
          1000,
          5000,
          2383,
          1000,
          4257026,
          32000,
          15649,
          612000,
          3000,
          95000,
          396916,
          1030973,
          31000,
          3265308,
          11722218,
          22950000,
          1516473,
          6254099,
          141816,
          2602079,
          18128787,
          385603,
          630545,
          44000791,
          2620400,
          674191,
          289000,
          233772,
          185,
          30000,
          22327182,
          73948,
          128000,
          432070,
          13000,
          332000,
          33000,
          18050,
          1781530,
          5060,
          796814,
          235155,
          490569,
          2102434,
          20877,
          719001,
          32000,
          63685,
          21936131,
          1000,
          243806,
          213419,
          688815,
          184176,
          307166,
          70000,
          18457,
          323200,
          12255,
          3358800,
          71063,
          55000,
          12000,
          65313,
          290351,
          7525016,
          2387661,
          1270000,
          1764984,
          508949,
          2523027,
          562413,
          3044000,
          7936574,
          21000,
          8369218,
          671284,
          4160795,
          562369,
          296126,
          5684782,
          33893305,
          17685,
          38670820,
          7890261,
          28782,
          153813,
          1509700,
          1000,
          586000,
          11000,
          119000,
          1730496,
          2512,
          92270,
          1701561,
          651604,
          4179574,
          12000,
          34966,
          1549346,
          0,
          52706,
          11478265,
          6000,
          10000,
          75,
          5000,
          376771,
          1334059,
          16734853,
          1135608,
          58594,
          7769401,
          1063701,
          121176000,
          4820009,
          24733,
          2561556,
          6738,
          16699249,
          2785,
          1692,
          391000,
          82317,
          203461
         ]
        }
       ],
       "layout": {
        "coloraxis": {
         "colorbar": {
          "len": 0.85,
          "orientation": "h",
          "title": {
           "text": "2020"
          },
          "x": 0.925,
          "xanchor": "right",
          "y": -0.16
         },
         "colorscale": [
          [
           0,
           "rgb(243, 203, 211)"
          ],
          [
           0.16666666666666666,
           "rgb(234, 169, 189)"
          ],
          [
           0.3333333333333333,
           "rgb(221, 136, 172)"
          ],
          [
           0.5,
           "rgb(202, 105, 157)"
          ],
          [
           0.6666666666666666,
           "rgb(177, 77, 142)"
          ],
          [
           0.8333333333333334,
           "rgb(145, 53, 125)"
          ],
          [
           1,
           "rgb(108, 33, 103)"
          ]
         ]
        },
        "geo": {
         "center": {},
         "domain": {
          "x": [
           0,
           1
          ],
          "y": [
           0,
           1
          ]
         }
        },
        "height": 600,
        "legend": {
         "tracegroupgap": 0
        },
        "template": {
         "data": {
          "bar": [
           {
            "error_x": {
             "color": "#2a3f5f"
            },
            "error_y": {
             "color": "#2a3f5f"
            },
            "marker": {
             "line": {
              "color": "#E5ECF6",
              "width": 0.5
             },
             "pattern": {
              "fillmode": "overlay",
              "size": 10,
              "solidity": 0.2
             }
            },
            "type": "bar"
           }
          ],
          "barpolar": [
           {
            "marker": {
             "line": {
              "color": "#E5ECF6",
              "width": 0.5
             },
             "pattern": {
              "fillmode": "overlay",
              "size": 10,
              "solidity": 0.2
             }
            },
            "type": "barpolar"
           }
          ],
          "carpet": [
           {
            "aaxis": {
             "endlinecolor": "#2a3f5f",
             "gridcolor": "white",
             "linecolor": "white",
             "minorgridcolor": "white",
             "startlinecolor": "#2a3f5f"
            },
            "baxis": {
             "endlinecolor": "#2a3f5f",
             "gridcolor": "white",
             "linecolor": "white",
             "minorgridcolor": "white",
             "startlinecolor": "#2a3f5f"
            },
            "type": "carpet"
           }
          ],
          "choropleth": [
           {
            "colorbar": {
             "outlinewidth": 0,
             "ticks": ""
            },
            "type": "choropleth"
           }
          ],
          "contour": [
           {
            "colorbar": {
             "outlinewidth": 0,
             "ticks": ""
            },
            "colorscale": [
             [
              0,
              "#0d0887"
             ],
             [
              0.1111111111111111,
              "#46039f"
             ],
             [
              0.2222222222222222,
              "#7201a8"
             ],
             [
              0.3333333333333333,
              "#9c179e"
             ],
             [
              0.4444444444444444,
              "#bd3786"
             ],
             [
              0.5555555555555556,
              "#d8576b"
             ],
             [
              0.6666666666666666,
              "#ed7953"
             ],
             [
              0.7777777777777778,
              "#fb9f3a"
             ],
             [
              0.8888888888888888,
              "#fdca26"
             ],
             [
              1,
              "#f0f921"
             ]
            ],
            "type": "contour"
           }
          ],
          "contourcarpet": [
           {
            "colorbar": {
             "outlinewidth": 0,
             "ticks": ""
            },
            "type": "contourcarpet"
           }
          ],
          "heatmap": [
           {
            "colorbar": {
             "outlinewidth": 0,
             "ticks": ""
            },
            "colorscale": [
             [
              0,
              "#0d0887"
             ],
             [
              0.1111111111111111,
              "#46039f"
             ],
             [
              0.2222222222222222,
              "#7201a8"
             ],
             [
              0.3333333333333333,
              "#9c179e"
             ],
             [
              0.4444444444444444,
              "#bd3786"
             ],
             [
              0.5555555555555556,
              "#d8576b"
             ],
             [
              0.6666666666666666,
              "#ed7953"
             ],
             [
              0.7777777777777778,
              "#fb9f3a"
             ],
             [
              0.8888888888888888,
              "#fdca26"
             ],
             [
              1,
              "#f0f921"
             ]
            ],
            "type": "heatmap"
           }
          ],
          "heatmapgl": [
           {
            "colorbar": {
             "outlinewidth": 0,
             "ticks": ""
            },
            "colorscale": [
             [
              0,
              "#0d0887"
             ],
             [
              0.1111111111111111,
              "#46039f"
             ],
             [
              0.2222222222222222,
              "#7201a8"
             ],
             [
              0.3333333333333333,
              "#9c179e"
             ],
             [
              0.4444444444444444,
              "#bd3786"
             ],
             [
              0.5555555555555556,
              "#d8576b"
             ],
             [
              0.6666666666666666,
              "#ed7953"
             ],
             [
              0.7777777777777778,
              "#fb9f3a"
             ],
             [
              0.8888888888888888,
              "#fdca26"
             ],
             [
              1,
              "#f0f921"
             ]
            ],
            "type": "heatmapgl"
           }
          ],
          "histogram": [
           {
            "marker": {
             "pattern": {
              "fillmode": "overlay",
              "size": 10,
              "solidity": 0.2
             }
            },
            "type": "histogram"
           }
          ],
          "histogram2d": [
           {
            "colorbar": {
             "outlinewidth": 0,
             "ticks": ""
            },
            "colorscale": [
             [
              0,
              "#0d0887"
             ],
             [
              0.1111111111111111,
              "#46039f"
             ],
             [
              0.2222222222222222,
              "#7201a8"
             ],
             [
              0.3333333333333333,
              "#9c179e"
             ],
             [
              0.4444444444444444,
              "#bd3786"
             ],
             [
              0.5555555555555556,
              "#d8576b"
             ],
             [
              0.6666666666666666,
              "#ed7953"
             ],
             [
              0.7777777777777778,
              "#fb9f3a"
             ],
             [
              0.8888888888888888,
              "#fdca26"
             ],
             [
              1,
              "#f0f921"
             ]
            ],
            "type": "histogram2d"
           }
          ],
          "histogram2dcontour": [
           {
            "colorbar": {
             "outlinewidth": 0,
             "ticks": ""
            },
            "colorscale": [
             [
              0,
              "#0d0887"
             ],
             [
              0.1111111111111111,
              "#46039f"
             ],
             [
              0.2222222222222222,
              "#7201a8"
             ],
             [
              0.3333333333333333,
              "#9c179e"
             ],
             [
              0.4444444444444444,
              "#bd3786"
             ],
             [
              0.5555555555555556,
              "#d8576b"
             ],
             [
              0.6666666666666666,
              "#ed7953"
             ],
             [
              0.7777777777777778,
              "#fb9f3a"
             ],
             [
              0.8888888888888888,
              "#fdca26"
             ],
             [
              1,
              "#f0f921"
             ]
            ],
            "type": "histogram2dcontour"
           }
          ],
          "mesh3d": [
           {
            "colorbar": {
             "outlinewidth": 0,
             "ticks": ""
            },
            "type": "mesh3d"
           }
          ],
          "parcoords": [
           {
            "line": {
             "colorbar": {
              "outlinewidth": 0,
              "ticks": ""
             }
            },
            "type": "parcoords"
           }
          ],
          "pie": [
           {
            "automargin": true,
            "type": "pie"
           }
          ],
          "scatter": [
           {
            "fillpattern": {
             "fillmode": "overlay",
             "size": 10,
             "solidity": 0.2
            },
            "type": "scatter"
           }
          ],
          "scatter3d": [
           {
            "line": {
             "colorbar": {
              "outlinewidth": 0,
              "ticks": ""
             }
            },
            "marker": {
             "colorbar": {
              "outlinewidth": 0,
              "ticks": ""
             }
            },
            "type": "scatter3d"
           }
          ],
          "scattercarpet": [
           {
            "marker": {
             "colorbar": {
              "outlinewidth": 0,
              "ticks": ""
             }
            },
            "type": "scattercarpet"
           }
          ],
          "scattergeo": [
           {
            "marker": {
             "colorbar": {
              "outlinewidth": 0,
              "ticks": ""
             }
            },
            "type": "scattergeo"
           }
          ],
          "scattergl": [
           {
            "marker": {
             "colorbar": {
              "outlinewidth": 0,
              "ticks": ""
             }
            },
            "type": "scattergl"
           }
          ],
          "scattermapbox": [
           {
            "marker": {
             "colorbar": {
              "outlinewidth": 0,
              "ticks": ""
             }
            },
            "type": "scattermapbox"
           }
          ],
          "scatterpolar": [
           {
            "marker": {
             "colorbar": {
              "outlinewidth": 0,
              "ticks": ""
             }
            },
            "type": "scatterpolar"
           }
          ],
          "scatterpolargl": [
           {
            "marker": {
             "colorbar": {
              "outlinewidth": 0,
              "ticks": ""
             }
            },
            "type": "scatterpolargl"
           }
          ],
          "scatterternary": [
           {
            "marker": {
             "colorbar": {
              "outlinewidth": 0,
              "ticks": ""
             }
            },
            "type": "scatterternary"
           }
          ],
          "surface": [
           {
            "colorbar": {
             "outlinewidth": 0,
             "ticks": ""
            },
            "colorscale": [
             [
              0,
              "#0d0887"
             ],
             [
              0.1111111111111111,
              "#46039f"
             ],
             [
              0.2222222222222222,
              "#7201a8"
             ],
             [
              0.3333333333333333,
              "#9c179e"
             ],
             [
              0.4444444444444444,
              "#bd3786"
             ],
             [
              0.5555555555555556,
              "#d8576b"
             ],
             [
              0.6666666666666666,
              "#ed7953"
             ],
             [
              0.7777777777777778,
              "#fb9f3a"
             ],
             [
              0.8888888888888888,
              "#fdca26"
             ],
             [
              1,
              "#f0f921"
             ]
            ],
            "type": "surface"
           }
          ],
          "table": [
           {
            "cells": {
             "fill": {
              "color": "#EBF0F8"
             },
             "line": {
              "color": "white"
             }
            },
            "header": {
             "fill": {
              "color": "#C8D4E3"
             },
             "line": {
              "color": "white"
             }
            },
            "type": "table"
           }
          ]
         },
         "layout": {
          "annotationdefaults": {
           "arrowcolor": "#2a3f5f",
           "arrowhead": 0,
           "arrowwidth": 1
          },
          "autotypenumbers": "strict",
          "coloraxis": {
           "colorbar": {
            "outlinewidth": 0,
            "ticks": ""
           }
          },
          "colorscale": {
           "diverging": [
            [
             0,
             "#8e0152"
            ],
            [
             0.1,
             "#c51b7d"
            ],
            [
             0.2,
             "#de77ae"
            ],
            [
             0.3,
             "#f1b6da"
            ],
            [
             0.4,
             "#fde0ef"
            ],
            [
             0.5,
             "#f7f7f7"
            ],
            [
             0.6,
             "#e6f5d0"
            ],
            [
             0.7,
             "#b8e186"
            ],
            [
             0.8,
             "#7fbc41"
            ],
            [
             0.9,
             "#4d9221"
            ],
            [
             1,
             "#276419"
            ]
           ],
           "sequential": [
            [
             0,
             "#0d0887"
            ],
            [
             0.1111111111111111,
             "#46039f"
            ],
            [
             0.2222222222222222,
             "#7201a8"
            ],
            [
             0.3333333333333333,
             "#9c179e"
            ],
            [
             0.4444444444444444,
             "#bd3786"
            ],
            [
             0.5555555555555556,
             "#d8576b"
            ],
            [
             0.6666666666666666,
             "#ed7953"
            ],
            [
             0.7777777777777778,
             "#fb9f3a"
            ],
            [
             0.8888888888888888,
             "#fdca26"
            ],
            [
             1,
             "#f0f921"
            ]
           ],
           "sequentialminus": [
            [
             0,
             "#0d0887"
            ],
            [
             0.1111111111111111,
             "#46039f"
            ],
            [
             0.2222222222222222,
             "#7201a8"
            ],
            [
             0.3333333333333333,
             "#9c179e"
            ],
            [
             0.4444444444444444,
             "#bd3786"
            ],
            [
             0.5555555555555556,
             "#d8576b"
            ],
            [
             0.6666666666666666,
             "#ed7953"
            ],
            [
             0.7777777777777778,
             "#fb9f3a"
            ],
            [
             0.8888888888888888,
             "#fdca26"
            ],
            [
             1,
             "#f0f921"
            ]
           ]
          },
          "colorway": [
           "#636efa",
           "#EF553B",
           "#00cc96",
           "#ab63fa",
           "#FFA15A",
           "#19d3f3",
           "#FF6692",
           "#B6E880",
           "#FF97FF",
           "#FECB52"
          ],
          "font": {
           "color": "#2a3f5f"
          },
          "geo": {
           "bgcolor": "white",
           "lakecolor": "white",
           "landcolor": "#E5ECF6",
           "showlakes": true,
           "showland": true,
           "subunitcolor": "white"
          },
          "hoverlabel": {
           "align": "left"
          },
          "hovermode": "closest",
          "mapbox": {
           "style": "light"
          },
          "paper_bgcolor": "white",
          "plot_bgcolor": "#E5ECF6",
          "polar": {
           "angularaxis": {
            "gridcolor": "white",
            "linecolor": "white",
            "ticks": ""
           },
           "bgcolor": "#E5ECF6",
           "radialaxis": {
            "gridcolor": "white",
            "linecolor": "white",
            "ticks": ""
           }
          },
          "scene": {
           "xaxis": {
            "backgroundcolor": "#E5ECF6",
            "gridcolor": "white",
            "gridwidth": 2,
            "linecolor": "white",
            "showbackground": true,
            "ticks": "",
            "zerolinecolor": "white"
           },
           "yaxis": {
            "backgroundcolor": "#E5ECF6",
            "gridcolor": "white",
            "gridwidth": 2,
            "linecolor": "white",
            "showbackground": true,
            "ticks": "",
            "zerolinecolor": "white"
           },
           "zaxis": {
            "backgroundcolor": "#E5ECF6",
            "gridcolor": "white",
            "gridwidth": 2,
            "linecolor": "white",
            "showbackground": true,
            "ticks": "",
            "zerolinecolor": "white"
           }
          },
          "shapedefaults": {
           "line": {
            "color": "#2a3f5f"
           }
          },
          "ternary": {
           "aaxis": {
            "gridcolor": "white",
            "linecolor": "white",
            "ticks": ""
           },
           "baxis": {
            "gridcolor": "white",
            "linecolor": "white",
            "ticks": ""
           },
           "bgcolor": "#E5ECF6",
           "caxis": {
            "gridcolor": "white",
            "linecolor": "white",
            "ticks": ""
           }
          },
          "title": {
           "x": 0.05
          },
          "xaxis": {
           "automargin": true,
           "gridcolor": "white",
           "linecolor": "white",
           "ticks": "",
           "title": {
            "standoff": 15
           },
           "zerolinecolor": "white",
           "zerolinewidth": 2
          },
          "yaxis": {
           "automargin": true,
           "gridcolor": "white",
           "linecolor": "white",
           "ticks": "",
           "title": {
            "standoff": 15
           },
           "zerolinecolor": "white",
           "zerolinewidth": 2
          }
         }
        },
        "title": {
         "text": "Conexiones de banda ancha del mundo"
        },
        "width": 1100
       }
      }
     },
     "metadata": {},
     "output_type": "display_data"
    }
   ],
   "source": [
    "fig = px.choropleth(fixed_20, locations='Country Name', locationmode='country names', title='Conexiones de banda ancha del mundo', color='2020', color_continuous_scale= 'Magenta',width=1100,height=600)\n",
    "fig.update_layout(coloraxis = dict(colorbar = dict(len = 0.85,orientation = 'h',y = -0.16,x =0.925,xanchor = 'right')))"
   ]
  },
  {
   "cell_type": "code",
   "execution_count": 39,
   "metadata": {},
   "outputs": [
    {
     "data": {
      "application/vnd.plotly.v1+json": {
       "config": {
        "plotlyServerURL": "https://plot.ly"
       },
       "data": [
        {
         "alignmentgroup": "True",
         "hovertemplate": "2020=%{x}<extra></extra>",
         "legendgroup": "",
         "marker": {
          "color": "#636efa"
         },
         "name": "",
         "notched": false,
         "offsetgroup": "",
         "orientation": "h",
         "showlegend": false,
         "type": "box",
         "x": [
          19000,
          26570,
          230610,
          508937,
          37000,
          3245123,
          9571562,
          430407,
          8000,
          9099619,
          2606000,
          1995474,
          4230,
          4734210,
          29981,
          13979,
          10052819,
          2115053,
          148928,
          83000,
          770424,
          3255552,
          36000,
          23000,
          931918,
          36344670,
          128000,
          71078,
          3189,
          259525,
          15825813,
          4028238,
          3763826,
          483549500,
          260097,
          722579,
          31000,
          1000,
          7764772,
          1066,
          24839,
          992725,
          231654,
          55000,
          32000,
          332080,
          3845426,
          36215303,
          25053,
          16000,
          2590282,
          1031858,
          3790459,
          2371297,
          9349469,
          5000,
          16188502,
          415610,
          212000,
          1846000,
          23062,
          30627000,
          18443,
          6000,
          44607,
          27330297,
          972162,
          78371,
          21009,
          1000,
          5000,
          2383,
          1000,
          4257026,
          32000,
          15649,
          612000,
          3000,
          95000,
          396916,
          1030973,
          31000,
          3265308,
          11722218,
          22950000,
          1516473,
          6254099,
          141816,
          2602079,
          18128787,
          385603,
          630545,
          44000791,
          2620400,
          674191,
          289000,
          233772,
          185,
          30000,
          22327182,
          73948,
          128000,
          432070,
          13000,
          332000,
          33000,
          18050,
          1781530,
          5060,
          796814,
          235155,
          490569,
          2102434,
          20877,
          719001,
          32000,
          63685,
          21936131,
          1000,
          243806,
          213419,
          688815,
          184176,
          307166,
          70000,
          18457,
          323200,
          12255,
          3358800,
          71063,
          55000,
          12000,
          65313,
          290351,
          7525016,
          2387661,
          1270000,
          1764984,
          508949,
          2523027,
          562413,
          3044000,
          7936574,
          21000,
          8369218,
          671284,
          4160795,
          562369,
          296126,
          5684782,
          33893305,
          17685,
          38670820,
          7890261,
          28782,
          153813,
          1509700,
          1000,
          586000,
          11000,
          119000,
          1730496,
          2512,
          92270,
          1701561,
          651604,
          4179574,
          12000,
          34966,
          1549346,
          0,
          52706,
          11478265,
          6000,
          10000,
          75,
          5000,
          376771,
          1334059,
          16734853,
          1135608,
          58594,
          7769401,
          1063701,
          121176000,
          4820009,
          24733,
          2561556,
          6738,
          16699249,
          2785,
          1692,
          391000,
          82317,
          203461
         ],
         "x0": " ",
         "xaxis": "x",
         "y0": " ",
         "yaxis": "y"
        }
       ],
       "layout": {
        "boxmode": "group",
        "legend": {
         "tracegroupgap": 0
        },
        "margin": {
         "t": 60
        },
        "template": {
         "data": {
          "bar": [
           {
            "error_x": {
             "color": "#2a3f5f"
            },
            "error_y": {
             "color": "#2a3f5f"
            },
            "marker": {
             "line": {
              "color": "#E5ECF6",
              "width": 0.5
             },
             "pattern": {
              "fillmode": "overlay",
              "size": 10,
              "solidity": 0.2
             }
            },
            "type": "bar"
           }
          ],
          "barpolar": [
           {
            "marker": {
             "line": {
              "color": "#E5ECF6",
              "width": 0.5
             },
             "pattern": {
              "fillmode": "overlay",
              "size": 10,
              "solidity": 0.2
             }
            },
            "type": "barpolar"
           }
          ],
          "carpet": [
           {
            "aaxis": {
             "endlinecolor": "#2a3f5f",
             "gridcolor": "white",
             "linecolor": "white",
             "minorgridcolor": "white",
             "startlinecolor": "#2a3f5f"
            },
            "baxis": {
             "endlinecolor": "#2a3f5f",
             "gridcolor": "white",
             "linecolor": "white",
             "minorgridcolor": "white",
             "startlinecolor": "#2a3f5f"
            },
            "type": "carpet"
           }
          ],
          "choropleth": [
           {
            "colorbar": {
             "outlinewidth": 0,
             "ticks": ""
            },
            "type": "choropleth"
           }
          ],
          "contour": [
           {
            "colorbar": {
             "outlinewidth": 0,
             "ticks": ""
            },
            "colorscale": [
             [
              0,
              "#0d0887"
             ],
             [
              0.1111111111111111,
              "#46039f"
             ],
             [
              0.2222222222222222,
              "#7201a8"
             ],
             [
              0.3333333333333333,
              "#9c179e"
             ],
             [
              0.4444444444444444,
              "#bd3786"
             ],
             [
              0.5555555555555556,
              "#d8576b"
             ],
             [
              0.6666666666666666,
              "#ed7953"
             ],
             [
              0.7777777777777778,
              "#fb9f3a"
             ],
             [
              0.8888888888888888,
              "#fdca26"
             ],
             [
              1,
              "#f0f921"
             ]
            ],
            "type": "contour"
           }
          ],
          "contourcarpet": [
           {
            "colorbar": {
             "outlinewidth": 0,
             "ticks": ""
            },
            "type": "contourcarpet"
           }
          ],
          "heatmap": [
           {
            "colorbar": {
             "outlinewidth": 0,
             "ticks": ""
            },
            "colorscale": [
             [
              0,
              "#0d0887"
             ],
             [
              0.1111111111111111,
              "#46039f"
             ],
             [
              0.2222222222222222,
              "#7201a8"
             ],
             [
              0.3333333333333333,
              "#9c179e"
             ],
             [
              0.4444444444444444,
              "#bd3786"
             ],
             [
              0.5555555555555556,
              "#d8576b"
             ],
             [
              0.6666666666666666,
              "#ed7953"
             ],
             [
              0.7777777777777778,
              "#fb9f3a"
             ],
             [
              0.8888888888888888,
              "#fdca26"
             ],
             [
              1,
              "#f0f921"
             ]
            ],
            "type": "heatmap"
           }
          ],
          "heatmapgl": [
           {
            "colorbar": {
             "outlinewidth": 0,
             "ticks": ""
            },
            "colorscale": [
             [
              0,
              "#0d0887"
             ],
             [
              0.1111111111111111,
              "#46039f"
             ],
             [
              0.2222222222222222,
              "#7201a8"
             ],
             [
              0.3333333333333333,
              "#9c179e"
             ],
             [
              0.4444444444444444,
              "#bd3786"
             ],
             [
              0.5555555555555556,
              "#d8576b"
             ],
             [
              0.6666666666666666,
              "#ed7953"
             ],
             [
              0.7777777777777778,
              "#fb9f3a"
             ],
             [
              0.8888888888888888,
              "#fdca26"
             ],
             [
              1,
              "#f0f921"
             ]
            ],
            "type": "heatmapgl"
           }
          ],
          "histogram": [
           {
            "marker": {
             "pattern": {
              "fillmode": "overlay",
              "size": 10,
              "solidity": 0.2
             }
            },
            "type": "histogram"
           }
          ],
          "histogram2d": [
           {
            "colorbar": {
             "outlinewidth": 0,
             "ticks": ""
            },
            "colorscale": [
             [
              0,
              "#0d0887"
             ],
             [
              0.1111111111111111,
              "#46039f"
             ],
             [
              0.2222222222222222,
              "#7201a8"
             ],
             [
              0.3333333333333333,
              "#9c179e"
             ],
             [
              0.4444444444444444,
              "#bd3786"
             ],
             [
              0.5555555555555556,
              "#d8576b"
             ],
             [
              0.6666666666666666,
              "#ed7953"
             ],
             [
              0.7777777777777778,
              "#fb9f3a"
             ],
             [
              0.8888888888888888,
              "#fdca26"
             ],
             [
              1,
              "#f0f921"
             ]
            ],
            "type": "histogram2d"
           }
          ],
          "histogram2dcontour": [
           {
            "colorbar": {
             "outlinewidth": 0,
             "ticks": ""
            },
            "colorscale": [
             [
              0,
              "#0d0887"
             ],
             [
              0.1111111111111111,
              "#46039f"
             ],
             [
              0.2222222222222222,
              "#7201a8"
             ],
             [
              0.3333333333333333,
              "#9c179e"
             ],
             [
              0.4444444444444444,
              "#bd3786"
             ],
             [
              0.5555555555555556,
              "#d8576b"
             ],
             [
              0.6666666666666666,
              "#ed7953"
             ],
             [
              0.7777777777777778,
              "#fb9f3a"
             ],
             [
              0.8888888888888888,
              "#fdca26"
             ],
             [
              1,
              "#f0f921"
             ]
            ],
            "type": "histogram2dcontour"
           }
          ],
          "mesh3d": [
           {
            "colorbar": {
             "outlinewidth": 0,
             "ticks": ""
            },
            "type": "mesh3d"
           }
          ],
          "parcoords": [
           {
            "line": {
             "colorbar": {
              "outlinewidth": 0,
              "ticks": ""
             }
            },
            "type": "parcoords"
           }
          ],
          "pie": [
           {
            "automargin": true,
            "type": "pie"
           }
          ],
          "scatter": [
           {
            "fillpattern": {
             "fillmode": "overlay",
             "size": 10,
             "solidity": 0.2
            },
            "type": "scatter"
           }
          ],
          "scatter3d": [
           {
            "line": {
             "colorbar": {
              "outlinewidth": 0,
              "ticks": ""
             }
            },
            "marker": {
             "colorbar": {
              "outlinewidth": 0,
              "ticks": ""
             }
            },
            "type": "scatter3d"
           }
          ],
          "scattercarpet": [
           {
            "marker": {
             "colorbar": {
              "outlinewidth": 0,
              "ticks": ""
             }
            },
            "type": "scattercarpet"
           }
          ],
          "scattergeo": [
           {
            "marker": {
             "colorbar": {
              "outlinewidth": 0,
              "ticks": ""
             }
            },
            "type": "scattergeo"
           }
          ],
          "scattergl": [
           {
            "marker": {
             "colorbar": {
              "outlinewidth": 0,
              "ticks": ""
             }
            },
            "type": "scattergl"
           }
          ],
          "scattermapbox": [
           {
            "marker": {
             "colorbar": {
              "outlinewidth": 0,
              "ticks": ""
             }
            },
            "type": "scattermapbox"
           }
          ],
          "scatterpolar": [
           {
            "marker": {
             "colorbar": {
              "outlinewidth": 0,
              "ticks": ""
             }
            },
            "type": "scatterpolar"
           }
          ],
          "scatterpolargl": [
           {
            "marker": {
             "colorbar": {
              "outlinewidth": 0,
              "ticks": ""
             }
            },
            "type": "scatterpolargl"
           }
          ],
          "scatterternary": [
           {
            "marker": {
             "colorbar": {
              "outlinewidth": 0,
              "ticks": ""
             }
            },
            "type": "scatterternary"
           }
          ],
          "surface": [
           {
            "colorbar": {
             "outlinewidth": 0,
             "ticks": ""
            },
            "colorscale": [
             [
              0,
              "#0d0887"
             ],
             [
              0.1111111111111111,
              "#46039f"
             ],
             [
              0.2222222222222222,
              "#7201a8"
             ],
             [
              0.3333333333333333,
              "#9c179e"
             ],
             [
              0.4444444444444444,
              "#bd3786"
             ],
             [
              0.5555555555555556,
              "#d8576b"
             ],
             [
              0.6666666666666666,
              "#ed7953"
             ],
             [
              0.7777777777777778,
              "#fb9f3a"
             ],
             [
              0.8888888888888888,
              "#fdca26"
             ],
             [
              1,
              "#f0f921"
             ]
            ],
            "type": "surface"
           }
          ],
          "table": [
           {
            "cells": {
             "fill": {
              "color": "#EBF0F8"
             },
             "line": {
              "color": "white"
             }
            },
            "header": {
             "fill": {
              "color": "#C8D4E3"
             },
             "line": {
              "color": "white"
             }
            },
            "type": "table"
           }
          ]
         },
         "layout": {
          "annotationdefaults": {
           "arrowcolor": "#2a3f5f",
           "arrowhead": 0,
           "arrowwidth": 1
          },
          "autotypenumbers": "strict",
          "coloraxis": {
           "colorbar": {
            "outlinewidth": 0,
            "ticks": ""
           }
          },
          "colorscale": {
           "diverging": [
            [
             0,
             "#8e0152"
            ],
            [
             0.1,
             "#c51b7d"
            ],
            [
             0.2,
             "#de77ae"
            ],
            [
             0.3,
             "#f1b6da"
            ],
            [
             0.4,
             "#fde0ef"
            ],
            [
             0.5,
             "#f7f7f7"
            ],
            [
             0.6,
             "#e6f5d0"
            ],
            [
             0.7,
             "#b8e186"
            ],
            [
             0.8,
             "#7fbc41"
            ],
            [
             0.9,
             "#4d9221"
            ],
            [
             1,
             "#276419"
            ]
           ],
           "sequential": [
            [
             0,
             "#0d0887"
            ],
            [
             0.1111111111111111,
             "#46039f"
            ],
            [
             0.2222222222222222,
             "#7201a8"
            ],
            [
             0.3333333333333333,
             "#9c179e"
            ],
            [
             0.4444444444444444,
             "#bd3786"
            ],
            [
             0.5555555555555556,
             "#d8576b"
            ],
            [
             0.6666666666666666,
             "#ed7953"
            ],
            [
             0.7777777777777778,
             "#fb9f3a"
            ],
            [
             0.8888888888888888,
             "#fdca26"
            ],
            [
             1,
             "#f0f921"
            ]
           ],
           "sequentialminus": [
            [
             0,
             "#0d0887"
            ],
            [
             0.1111111111111111,
             "#46039f"
            ],
            [
             0.2222222222222222,
             "#7201a8"
            ],
            [
             0.3333333333333333,
             "#9c179e"
            ],
            [
             0.4444444444444444,
             "#bd3786"
            ],
            [
             0.5555555555555556,
             "#d8576b"
            ],
            [
             0.6666666666666666,
             "#ed7953"
            ],
            [
             0.7777777777777778,
             "#fb9f3a"
            ],
            [
             0.8888888888888888,
             "#fdca26"
            ],
            [
             1,
             "#f0f921"
            ]
           ]
          },
          "colorway": [
           "#636efa",
           "#EF553B",
           "#00cc96",
           "#ab63fa",
           "#FFA15A",
           "#19d3f3",
           "#FF6692",
           "#B6E880",
           "#FF97FF",
           "#FECB52"
          ],
          "font": {
           "color": "#2a3f5f"
          },
          "geo": {
           "bgcolor": "white",
           "lakecolor": "white",
           "landcolor": "#E5ECF6",
           "showlakes": true,
           "showland": true,
           "subunitcolor": "white"
          },
          "hoverlabel": {
           "align": "left"
          },
          "hovermode": "closest",
          "mapbox": {
           "style": "light"
          },
          "paper_bgcolor": "white",
          "plot_bgcolor": "#E5ECF6",
          "polar": {
           "angularaxis": {
            "gridcolor": "white",
            "linecolor": "white",
            "ticks": ""
           },
           "bgcolor": "#E5ECF6",
           "radialaxis": {
            "gridcolor": "white",
            "linecolor": "white",
            "ticks": ""
           }
          },
          "scene": {
           "xaxis": {
            "backgroundcolor": "#E5ECF6",
            "gridcolor": "white",
            "gridwidth": 2,
            "linecolor": "white",
            "showbackground": true,
            "ticks": "",
            "zerolinecolor": "white"
           },
           "yaxis": {
            "backgroundcolor": "#E5ECF6",
            "gridcolor": "white",
            "gridwidth": 2,
            "linecolor": "white",
            "showbackground": true,
            "ticks": "",
            "zerolinecolor": "white"
           },
           "zaxis": {
            "backgroundcolor": "#E5ECF6",
            "gridcolor": "white",
            "gridwidth": 2,
            "linecolor": "white",
            "showbackground": true,
            "ticks": "",
            "zerolinecolor": "white"
           }
          },
          "shapedefaults": {
           "line": {
            "color": "#2a3f5f"
           }
          },
          "ternary": {
           "aaxis": {
            "gridcolor": "white",
            "linecolor": "white",
            "ticks": ""
           },
           "baxis": {
            "gridcolor": "white",
            "linecolor": "white",
            "ticks": ""
           },
           "bgcolor": "#E5ECF6",
           "caxis": {
            "gridcolor": "white",
            "linecolor": "white",
            "ticks": ""
           }
          },
          "title": {
           "x": 0.05
          },
          "xaxis": {
           "automargin": true,
           "gridcolor": "white",
           "linecolor": "white",
           "ticks": "",
           "title": {
            "standoff": 15
           },
           "zerolinecolor": "white",
           "zerolinewidth": 2
          },
          "yaxis": {
           "automargin": true,
           "gridcolor": "white",
           "linecolor": "white",
           "ticks": "",
           "title": {
            "standoff": 15
           },
           "zerolinecolor": "white",
           "zerolinewidth": 2
          }
         }
        },
        "xaxis": {
         "anchor": "y",
         "domain": [
          0,
          1
         ],
         "title": {
          "text": "2020"
         }
        },
        "yaxis": {
         "anchor": "x",
         "domain": [
          0,
          1
         ]
        }
       }
      }
     },
     "metadata": {},
     "output_type": "display_data"
    }
   ],
   "source": [
    "px.box(fixed_20, x='2020')#observamos los outliers"
   ]
  },
  {
   "cell_type": "code",
   "execution_count": 40,
   "metadata": {},
   "outputs": [],
   "source": [
    "def detectar_outliers(data: pd.DataFrame, columnas_limpiar: list) -> pd.DataFrame:\n",
    "    for variable in columnas_limpiar:\n",
    "        # Calcula el Q1 y el Q3\n",
    "        Q1 = data[variable].quantile(0.25)\n",
    "        Q3 = data[variable].quantile(0.75)\n",
    "        # Rango intercuartil\n",
    "        IQR = Q3 - Q1\n",
    "        # Límites para outliers\n",
    "        upper_limit = Q3 + 1.5*IQR\n",
    "        lower_limit = Q1 + 1.5*IQR\n",
    "        # Cambiar outliers por nuevos valores\n",
    "        eliminar_outliers = np.where(data[variable]> upper_limit, upper_limit, np.where(data[variable] < lower_limit, lower_limit, data[variable]))\n",
    "        # Reemplazar los anteriores valores\n",
    "        data[variable] = eliminar_outliers\n",
    "        return data\n"
   ]
  },
  {
   "cell_type": "code",
   "execution_count": 41,
   "metadata": {},
   "outputs": [],
   "source": [
    "Newfixed_20=fixed_20.copy()"
   ]
  },
  {
   "cell_type": "code",
   "execution_count": 42,
   "metadata": {},
   "outputs": [
    {
     "data": {
      "text/html": [
       "<div>\n",
       "<style scoped>\n",
       "    .dataframe tbody tr th:only-of-type {\n",
       "        vertical-align: middle;\n",
       "    }\n",
       "\n",
       "    .dataframe tbody tr th {\n",
       "        vertical-align: top;\n",
       "    }\n",
       "\n",
       "    .dataframe thead th {\n",
       "        text-align: right;\n",
       "    }\n",
       "</style>\n",
       "<table border=\"1\" class=\"dataframe\">\n",
       "  <thead>\n",
       "    <tr style=\"text-align: right;\">\n",
       "      <th></th>\n",
       "      <th>Region Name</th>\n",
       "      <th>Sub-region Name</th>\n",
       "      <th>Country Name</th>\n",
       "      <th>ISO3 Code</th>\n",
       "      <th>Grupo de Ingresos</th>\n",
       "      <th>2020</th>\n",
       "    </tr>\n",
       "  </thead>\n",
       "  <tbody>\n",
       "    <tr>\n",
       "      <th>0</th>\n",
       "      <td>Americas</td>\n",
       "      <td>Latin America and the Caribbean</td>\n",
       "      <td>Aruba</td>\n",
       "      <td>ABW</td>\n",
       "      <td>Ingreso alto</td>\n",
       "      <td>3848883.25</td>\n",
       "    </tr>\n",
       "    <tr>\n",
       "      <th>1</th>\n",
       "      <td>Asia</td>\n",
       "      <td>Southern Asia</td>\n",
       "      <td>Afghanistan</td>\n",
       "      <td>AFG</td>\n",
       "      <td>Ingreso bajo</td>\n",
       "      <td>3848883.25</td>\n",
       "    </tr>\n",
       "    <tr>\n",
       "      <th>2</th>\n",
       "      <td>Africa</td>\n",
       "      <td>Sub-Saharan Africa</td>\n",
       "      <td>Angola</td>\n",
       "      <td>AGO</td>\n",
       "      <td>Ingreso mediano bajo</td>\n",
       "      <td>3848883.25</td>\n",
       "    </tr>\n",
       "    <tr>\n",
       "      <th>3</th>\n",
       "      <td>Europe</td>\n",
       "      <td>Southern Europe</td>\n",
       "      <td>Albania</td>\n",
       "      <td>ALB</td>\n",
       "      <td>Ingreso mediano alto</td>\n",
       "      <td>3848883.25</td>\n",
       "    </tr>\n",
       "    <tr>\n",
       "      <th>4</th>\n",
       "      <td>Europe</td>\n",
       "      <td>Southern Europe</td>\n",
       "      <td>Andorra</td>\n",
       "      <td>AND</td>\n",
       "      <td>Ingreso alto</td>\n",
       "      <td>3848883.25</td>\n",
       "    </tr>\n",
       "    <tr>\n",
       "      <th>...</th>\n",
       "      <td>...</td>\n",
       "      <td>...</td>\n",
       "      <td>...</td>\n",
       "      <td>...</td>\n",
       "      <td>...</td>\n",
       "      <td>...</td>\n",
       "    </tr>\n",
       "    <tr>\n",
       "      <th>190</th>\n",
       "      <td>Oceania</td>\n",
       "      <td>Melanesia</td>\n",
       "      <td>Vanuatu</td>\n",
       "      <td>VUT</td>\n",
       "      <td>Ingreso mediano bajo</td>\n",
       "      <td>3848883.25</td>\n",
       "    </tr>\n",
       "    <tr>\n",
       "      <th>191</th>\n",
       "      <td>Oceania</td>\n",
       "      <td>Polynesia</td>\n",
       "      <td>Samoa</td>\n",
       "      <td>WSM</td>\n",
       "      <td>Ingreso mediano bajo</td>\n",
       "      <td>3848883.25</td>\n",
       "    </tr>\n",
       "    <tr>\n",
       "      <th>192</th>\n",
       "      <td>NaN</td>\n",
       "      <td>NaN</td>\n",
       "      <td>Yemen, Rep.</td>\n",
       "      <td>NaN</td>\n",
       "      <td>NaN</td>\n",
       "      <td>3848883.25</td>\n",
       "    </tr>\n",
       "    <tr>\n",
       "      <th>193</th>\n",
       "      <td>Africa</td>\n",
       "      <td>Sub-Saharan Africa</td>\n",
       "      <td>Zambia</td>\n",
       "      <td>ZMB</td>\n",
       "      <td>Ingreso mediano bajo</td>\n",
       "      <td>3848883.25</td>\n",
       "    </tr>\n",
       "    <tr>\n",
       "      <th>194</th>\n",
       "      <td>Africa</td>\n",
       "      <td>Sub-Saharan Africa</td>\n",
       "      <td>Zimbabwe</td>\n",
       "      <td>ZWE</td>\n",
       "      <td>Ingreso mediano bajo</td>\n",
       "      <td>3848883.25</td>\n",
       "    </tr>\n",
       "  </tbody>\n",
       "</table>\n",
       "<p>195 rows × 6 columns</p>\n",
       "</div>"
      ],
      "text/plain": [
       "    Region Name                  Sub-region Name Country Name ISO3 Code  \\\n",
       "0      Americas  Latin America and the Caribbean        Aruba       ABW   \n",
       "1          Asia                    Southern Asia  Afghanistan       AFG   \n",
       "2        Africa               Sub-Saharan Africa       Angola       AGO   \n",
       "3        Europe                  Southern Europe      Albania       ALB   \n",
       "4        Europe                  Southern Europe      Andorra       AND   \n",
       "..          ...                              ...          ...       ...   \n",
       "190     Oceania                        Melanesia      Vanuatu       VUT   \n",
       "191     Oceania                        Polynesia        Samoa       WSM   \n",
       "192         NaN                              NaN  Yemen, Rep.       NaN   \n",
       "193      Africa               Sub-Saharan Africa       Zambia       ZMB   \n",
       "194      Africa               Sub-Saharan Africa     Zimbabwe       ZWE   \n",
       "\n",
       "        Grupo de Ingresos        2020  \n",
       "0            Ingreso alto  3848883.25  \n",
       "1            Ingreso bajo  3848883.25  \n",
       "2    Ingreso mediano bajo  3848883.25  \n",
       "3    Ingreso mediano alto  3848883.25  \n",
       "4            Ingreso alto  3848883.25  \n",
       "..                    ...         ...  \n",
       "190  Ingreso mediano bajo  3848883.25  \n",
       "191  Ingreso mediano bajo  3848883.25  \n",
       "192                   NaN  3848883.25  \n",
       "193  Ingreso mediano bajo  3848883.25  \n",
       "194  Ingreso mediano bajo  3848883.25  \n",
       "\n",
       "[195 rows x 6 columns]"
      ]
     },
     "execution_count": 42,
     "metadata": {},
     "output_type": "execute_result"
    }
   ],
   "source": [
    "detectar_outliers(Newfixed_20, Newfixed_20[['2020']])"
   ]
  },
  {
   "cell_type": "code",
   "execution_count": 43,
   "metadata": {},
   "outputs": [
    {
     "data": {
      "application/vnd.plotly.v1+json": {
       "config": {
        "plotlyServerURL": "https://plot.ly"
       },
       "data": [
        {
         "alignmentgroup": "True",
         "hovertemplate": "2020=%{x}<extra></extra>",
         "legendgroup": "",
         "marker": {
          "color": "#636efa"
         },
         "name": "",
         "notched": false,
         "offsetgroup": "",
         "orientation": "h",
         "showlegend": false,
         "type": "box",
         "x": [
          3848883.25,
          3848883.25,
          3848883.25,
          3848883.25,
          3848883.25,
          3848883.25,
          6394811.75,
          3848883.25,
          3848883.25,
          6394811.75,
          3848883.25,
          3848883.25,
          3848883.25,
          4734210,
          3848883.25,
          3848883.25,
          6394811.75,
          3848883.25,
          3848883.25,
          3848883.25,
          3848883.25,
          3848883.25,
          3848883.25,
          3848883.25,
          3848883.25,
          6394811.75,
          3848883.25,
          3848883.25,
          3848883.25,
          3848883.25,
          6394811.75,
          4028238,
          3848883.25,
          6394811.75,
          3848883.25,
          3848883.25,
          3848883.25,
          3848883.25,
          6394811.75,
          3848883.25,
          3848883.25,
          3848883.25,
          3848883.25,
          3848883.25,
          3848883.25,
          3848883.25,
          3848883.25,
          6394811.75,
          3848883.25,
          3848883.25,
          3848883.25,
          3848883.25,
          3848883.25,
          3848883.25,
          6394811.75,
          3848883.25,
          6394811.75,
          3848883.25,
          3848883.25,
          3848883.25,
          3848883.25,
          6394811.75,
          3848883.25,
          3848883.25,
          3848883.25,
          6394811.75,
          3848883.25,
          3848883.25,
          3848883.25,
          3848883.25,
          3848883.25,
          3848883.25,
          3848883.25,
          4257026,
          3848883.25,
          3848883.25,
          3848883.25,
          3848883.25,
          3848883.25,
          3848883.25,
          3848883.25,
          3848883.25,
          3848883.25,
          6394811.75,
          6394811.75,
          3848883.25,
          6254099,
          3848883.25,
          3848883.25,
          6394811.75,
          3848883.25,
          3848883.25,
          6394811.75,
          3848883.25,
          3848883.25,
          3848883.25,
          3848883.25,
          3848883.25,
          3848883.25,
          6394811.75,
          3848883.25,
          3848883.25,
          3848883.25,
          3848883.25,
          3848883.25,
          3848883.25,
          3848883.25,
          3848883.25,
          3848883.25,
          3848883.25,
          3848883.25,
          3848883.25,
          3848883.25,
          3848883.25,
          3848883.25,
          3848883.25,
          3848883.25,
          6394811.75,
          3848883.25,
          3848883.25,
          3848883.25,
          3848883.25,
          3848883.25,
          3848883.25,
          3848883.25,
          3848883.25,
          3848883.25,
          3848883.25,
          3848883.25,
          3848883.25,
          3848883.25,
          3848883.25,
          3848883.25,
          3848883.25,
          6394811.75,
          3848883.25,
          3848883.25,
          3848883.25,
          3848883.25,
          3848883.25,
          3848883.25,
          3848883.25,
          6394811.75,
          3848883.25,
          6394811.75,
          3848883.25,
          4160795,
          3848883.25,
          3848883.25,
          5684782,
          6394811.75,
          3848883.25,
          6394811.75,
          6394811.75,
          3848883.25,
          3848883.25,
          3848883.25,
          3848883.25,
          3848883.25,
          3848883.25,
          3848883.25,
          3848883.25,
          3848883.25,
          3848883.25,
          3848883.25,
          3848883.25,
          4179574,
          3848883.25,
          3848883.25,
          3848883.25,
          3848883.25,
          3848883.25,
          6394811.75,
          3848883.25,
          3848883.25,
          3848883.25,
          3848883.25,
          3848883.25,
          3848883.25,
          6394811.75,
          3848883.25,
          3848883.25,
          6394811.75,
          3848883.25,
          6394811.75,
          4820009,
          3848883.25,
          3848883.25,
          3848883.25,
          6394811.75,
          3848883.25,
          3848883.25,
          3848883.25,
          3848883.25,
          3848883.25
         ],
         "x0": " ",
         "xaxis": "x",
         "y0": " ",
         "yaxis": "y"
        }
       ],
       "layout": {
        "boxmode": "group",
        "legend": {
         "tracegroupgap": 0
        },
        "margin": {
         "t": 60
        },
        "template": {
         "data": {
          "bar": [
           {
            "error_x": {
             "color": "#2a3f5f"
            },
            "error_y": {
             "color": "#2a3f5f"
            },
            "marker": {
             "line": {
              "color": "#E5ECF6",
              "width": 0.5
             },
             "pattern": {
              "fillmode": "overlay",
              "size": 10,
              "solidity": 0.2
             }
            },
            "type": "bar"
           }
          ],
          "barpolar": [
           {
            "marker": {
             "line": {
              "color": "#E5ECF6",
              "width": 0.5
             },
             "pattern": {
              "fillmode": "overlay",
              "size": 10,
              "solidity": 0.2
             }
            },
            "type": "barpolar"
           }
          ],
          "carpet": [
           {
            "aaxis": {
             "endlinecolor": "#2a3f5f",
             "gridcolor": "white",
             "linecolor": "white",
             "minorgridcolor": "white",
             "startlinecolor": "#2a3f5f"
            },
            "baxis": {
             "endlinecolor": "#2a3f5f",
             "gridcolor": "white",
             "linecolor": "white",
             "minorgridcolor": "white",
             "startlinecolor": "#2a3f5f"
            },
            "type": "carpet"
           }
          ],
          "choropleth": [
           {
            "colorbar": {
             "outlinewidth": 0,
             "ticks": ""
            },
            "type": "choropleth"
           }
          ],
          "contour": [
           {
            "colorbar": {
             "outlinewidth": 0,
             "ticks": ""
            },
            "colorscale": [
             [
              0,
              "#0d0887"
             ],
             [
              0.1111111111111111,
              "#46039f"
             ],
             [
              0.2222222222222222,
              "#7201a8"
             ],
             [
              0.3333333333333333,
              "#9c179e"
             ],
             [
              0.4444444444444444,
              "#bd3786"
             ],
             [
              0.5555555555555556,
              "#d8576b"
             ],
             [
              0.6666666666666666,
              "#ed7953"
             ],
             [
              0.7777777777777778,
              "#fb9f3a"
             ],
             [
              0.8888888888888888,
              "#fdca26"
             ],
             [
              1,
              "#f0f921"
             ]
            ],
            "type": "contour"
           }
          ],
          "contourcarpet": [
           {
            "colorbar": {
             "outlinewidth": 0,
             "ticks": ""
            },
            "type": "contourcarpet"
           }
          ],
          "heatmap": [
           {
            "colorbar": {
             "outlinewidth": 0,
             "ticks": ""
            },
            "colorscale": [
             [
              0,
              "#0d0887"
             ],
             [
              0.1111111111111111,
              "#46039f"
             ],
             [
              0.2222222222222222,
              "#7201a8"
             ],
             [
              0.3333333333333333,
              "#9c179e"
             ],
             [
              0.4444444444444444,
              "#bd3786"
             ],
             [
              0.5555555555555556,
              "#d8576b"
             ],
             [
              0.6666666666666666,
              "#ed7953"
             ],
             [
              0.7777777777777778,
              "#fb9f3a"
             ],
             [
              0.8888888888888888,
              "#fdca26"
             ],
             [
              1,
              "#f0f921"
             ]
            ],
            "type": "heatmap"
           }
          ],
          "heatmapgl": [
           {
            "colorbar": {
             "outlinewidth": 0,
             "ticks": ""
            },
            "colorscale": [
             [
              0,
              "#0d0887"
             ],
             [
              0.1111111111111111,
              "#46039f"
             ],
             [
              0.2222222222222222,
              "#7201a8"
             ],
             [
              0.3333333333333333,
              "#9c179e"
             ],
             [
              0.4444444444444444,
              "#bd3786"
             ],
             [
              0.5555555555555556,
              "#d8576b"
             ],
             [
              0.6666666666666666,
              "#ed7953"
             ],
             [
              0.7777777777777778,
              "#fb9f3a"
             ],
             [
              0.8888888888888888,
              "#fdca26"
             ],
             [
              1,
              "#f0f921"
             ]
            ],
            "type": "heatmapgl"
           }
          ],
          "histogram": [
           {
            "marker": {
             "pattern": {
              "fillmode": "overlay",
              "size": 10,
              "solidity": 0.2
             }
            },
            "type": "histogram"
           }
          ],
          "histogram2d": [
           {
            "colorbar": {
             "outlinewidth": 0,
             "ticks": ""
            },
            "colorscale": [
             [
              0,
              "#0d0887"
             ],
             [
              0.1111111111111111,
              "#46039f"
             ],
             [
              0.2222222222222222,
              "#7201a8"
             ],
             [
              0.3333333333333333,
              "#9c179e"
             ],
             [
              0.4444444444444444,
              "#bd3786"
             ],
             [
              0.5555555555555556,
              "#d8576b"
             ],
             [
              0.6666666666666666,
              "#ed7953"
             ],
             [
              0.7777777777777778,
              "#fb9f3a"
             ],
             [
              0.8888888888888888,
              "#fdca26"
             ],
             [
              1,
              "#f0f921"
             ]
            ],
            "type": "histogram2d"
           }
          ],
          "histogram2dcontour": [
           {
            "colorbar": {
             "outlinewidth": 0,
             "ticks": ""
            },
            "colorscale": [
             [
              0,
              "#0d0887"
             ],
             [
              0.1111111111111111,
              "#46039f"
             ],
             [
              0.2222222222222222,
              "#7201a8"
             ],
             [
              0.3333333333333333,
              "#9c179e"
             ],
             [
              0.4444444444444444,
              "#bd3786"
             ],
             [
              0.5555555555555556,
              "#d8576b"
             ],
             [
              0.6666666666666666,
              "#ed7953"
             ],
             [
              0.7777777777777778,
              "#fb9f3a"
             ],
             [
              0.8888888888888888,
              "#fdca26"
             ],
             [
              1,
              "#f0f921"
             ]
            ],
            "type": "histogram2dcontour"
           }
          ],
          "mesh3d": [
           {
            "colorbar": {
             "outlinewidth": 0,
             "ticks": ""
            },
            "type": "mesh3d"
           }
          ],
          "parcoords": [
           {
            "line": {
             "colorbar": {
              "outlinewidth": 0,
              "ticks": ""
             }
            },
            "type": "parcoords"
           }
          ],
          "pie": [
           {
            "automargin": true,
            "type": "pie"
           }
          ],
          "scatter": [
           {
            "fillpattern": {
             "fillmode": "overlay",
             "size": 10,
             "solidity": 0.2
            },
            "type": "scatter"
           }
          ],
          "scatter3d": [
           {
            "line": {
             "colorbar": {
              "outlinewidth": 0,
              "ticks": ""
             }
            },
            "marker": {
             "colorbar": {
              "outlinewidth": 0,
              "ticks": ""
             }
            },
            "type": "scatter3d"
           }
          ],
          "scattercarpet": [
           {
            "marker": {
             "colorbar": {
              "outlinewidth": 0,
              "ticks": ""
             }
            },
            "type": "scattercarpet"
           }
          ],
          "scattergeo": [
           {
            "marker": {
             "colorbar": {
              "outlinewidth": 0,
              "ticks": ""
             }
            },
            "type": "scattergeo"
           }
          ],
          "scattergl": [
           {
            "marker": {
             "colorbar": {
              "outlinewidth": 0,
              "ticks": ""
             }
            },
            "type": "scattergl"
           }
          ],
          "scattermapbox": [
           {
            "marker": {
             "colorbar": {
              "outlinewidth": 0,
              "ticks": ""
             }
            },
            "type": "scattermapbox"
           }
          ],
          "scatterpolar": [
           {
            "marker": {
             "colorbar": {
              "outlinewidth": 0,
              "ticks": ""
             }
            },
            "type": "scatterpolar"
           }
          ],
          "scatterpolargl": [
           {
            "marker": {
             "colorbar": {
              "outlinewidth": 0,
              "ticks": ""
             }
            },
            "type": "scatterpolargl"
           }
          ],
          "scatterternary": [
           {
            "marker": {
             "colorbar": {
              "outlinewidth": 0,
              "ticks": ""
             }
            },
            "type": "scatterternary"
           }
          ],
          "surface": [
           {
            "colorbar": {
             "outlinewidth": 0,
             "ticks": ""
            },
            "colorscale": [
             [
              0,
              "#0d0887"
             ],
             [
              0.1111111111111111,
              "#46039f"
             ],
             [
              0.2222222222222222,
              "#7201a8"
             ],
             [
              0.3333333333333333,
              "#9c179e"
             ],
             [
              0.4444444444444444,
              "#bd3786"
             ],
             [
              0.5555555555555556,
              "#d8576b"
             ],
             [
              0.6666666666666666,
              "#ed7953"
             ],
             [
              0.7777777777777778,
              "#fb9f3a"
             ],
             [
              0.8888888888888888,
              "#fdca26"
             ],
             [
              1,
              "#f0f921"
             ]
            ],
            "type": "surface"
           }
          ],
          "table": [
           {
            "cells": {
             "fill": {
              "color": "#EBF0F8"
             },
             "line": {
              "color": "white"
             }
            },
            "header": {
             "fill": {
              "color": "#C8D4E3"
             },
             "line": {
              "color": "white"
             }
            },
            "type": "table"
           }
          ]
         },
         "layout": {
          "annotationdefaults": {
           "arrowcolor": "#2a3f5f",
           "arrowhead": 0,
           "arrowwidth": 1
          },
          "autotypenumbers": "strict",
          "coloraxis": {
           "colorbar": {
            "outlinewidth": 0,
            "ticks": ""
           }
          },
          "colorscale": {
           "diverging": [
            [
             0,
             "#8e0152"
            ],
            [
             0.1,
             "#c51b7d"
            ],
            [
             0.2,
             "#de77ae"
            ],
            [
             0.3,
             "#f1b6da"
            ],
            [
             0.4,
             "#fde0ef"
            ],
            [
             0.5,
             "#f7f7f7"
            ],
            [
             0.6,
             "#e6f5d0"
            ],
            [
             0.7,
             "#b8e186"
            ],
            [
             0.8,
             "#7fbc41"
            ],
            [
             0.9,
             "#4d9221"
            ],
            [
             1,
             "#276419"
            ]
           ],
           "sequential": [
            [
             0,
             "#0d0887"
            ],
            [
             0.1111111111111111,
             "#46039f"
            ],
            [
             0.2222222222222222,
             "#7201a8"
            ],
            [
             0.3333333333333333,
             "#9c179e"
            ],
            [
             0.4444444444444444,
             "#bd3786"
            ],
            [
             0.5555555555555556,
             "#d8576b"
            ],
            [
             0.6666666666666666,
             "#ed7953"
            ],
            [
             0.7777777777777778,
             "#fb9f3a"
            ],
            [
             0.8888888888888888,
             "#fdca26"
            ],
            [
             1,
             "#f0f921"
            ]
           ],
           "sequentialminus": [
            [
             0,
             "#0d0887"
            ],
            [
             0.1111111111111111,
             "#46039f"
            ],
            [
             0.2222222222222222,
             "#7201a8"
            ],
            [
             0.3333333333333333,
             "#9c179e"
            ],
            [
             0.4444444444444444,
             "#bd3786"
            ],
            [
             0.5555555555555556,
             "#d8576b"
            ],
            [
             0.6666666666666666,
             "#ed7953"
            ],
            [
             0.7777777777777778,
             "#fb9f3a"
            ],
            [
             0.8888888888888888,
             "#fdca26"
            ],
            [
             1,
             "#f0f921"
            ]
           ]
          },
          "colorway": [
           "#636efa",
           "#EF553B",
           "#00cc96",
           "#ab63fa",
           "#FFA15A",
           "#19d3f3",
           "#FF6692",
           "#B6E880",
           "#FF97FF",
           "#FECB52"
          ],
          "font": {
           "color": "#2a3f5f"
          },
          "geo": {
           "bgcolor": "white",
           "lakecolor": "white",
           "landcolor": "#E5ECF6",
           "showlakes": true,
           "showland": true,
           "subunitcolor": "white"
          },
          "hoverlabel": {
           "align": "left"
          },
          "hovermode": "closest",
          "mapbox": {
           "style": "light"
          },
          "paper_bgcolor": "white",
          "plot_bgcolor": "#E5ECF6",
          "polar": {
           "angularaxis": {
            "gridcolor": "white",
            "linecolor": "white",
            "ticks": ""
           },
           "bgcolor": "#E5ECF6",
           "radialaxis": {
            "gridcolor": "white",
            "linecolor": "white",
            "ticks": ""
           }
          },
          "scene": {
           "xaxis": {
            "backgroundcolor": "#E5ECF6",
            "gridcolor": "white",
            "gridwidth": 2,
            "linecolor": "white",
            "showbackground": true,
            "ticks": "",
            "zerolinecolor": "white"
           },
           "yaxis": {
            "backgroundcolor": "#E5ECF6",
            "gridcolor": "white",
            "gridwidth": 2,
            "linecolor": "white",
            "showbackground": true,
            "ticks": "",
            "zerolinecolor": "white"
           },
           "zaxis": {
            "backgroundcolor": "#E5ECF6",
            "gridcolor": "white",
            "gridwidth": 2,
            "linecolor": "white",
            "showbackground": true,
            "ticks": "",
            "zerolinecolor": "white"
           }
          },
          "shapedefaults": {
           "line": {
            "color": "#2a3f5f"
           }
          },
          "ternary": {
           "aaxis": {
            "gridcolor": "white",
            "linecolor": "white",
            "ticks": ""
           },
           "baxis": {
            "gridcolor": "white",
            "linecolor": "white",
            "ticks": ""
           },
           "bgcolor": "#E5ECF6",
           "caxis": {
            "gridcolor": "white",
            "linecolor": "white",
            "ticks": ""
           }
          },
          "title": {
           "x": 0.05
          },
          "xaxis": {
           "automargin": true,
           "gridcolor": "white",
           "linecolor": "white",
           "ticks": "",
           "title": {
            "standoff": 15
           },
           "zerolinecolor": "white",
           "zerolinewidth": 2
          },
          "yaxis": {
           "automargin": true,
           "gridcolor": "white",
           "linecolor": "white",
           "ticks": "",
           "title": {
            "standoff": 15
           },
           "zerolinecolor": "white",
           "zerolinewidth": 2
          }
         }
        },
        "xaxis": {
         "anchor": "y",
         "domain": [
          0,
          1
         ],
         "title": {
          "text": "2020"
         }
        },
        "yaxis": {
         "anchor": "x",
         "domain": [
          0,
          1
         ]
        }
       }
      }
     },
     "metadata": {},
     "output_type": "display_data"
    }
   ],
   "source": [
    "px.box(Newfixed_20, x='2020')"
   ]
  },
  {
   "cell_type": "markdown",
   "metadata": {},
   "source": [
    "## Estadística diferencias significativas"
   ]
  },
  {
   "cell_type": "markdown",
   "metadata": {},
   "source": [
    " Hipotesis nula: La variable suscripciones de banda ancha esta distrbuida normalmente o no."
   ]
  },
  {
   "cell_type": "code",
   "execution_count": 44,
   "metadata": {},
   "outputs": [
    {
     "name": "stdout",
     "output_type": "stream",
     "text": [
      "El p-valor obtenido en el test de Shapiro es de 6.3192203739403966e-24\n"
     ]
    }
   ],
   "source": [
    "# Test de normalidad Shapiro Wilk\n",
    "from scipy.stats import shapiro\n",
    "# Aplicamos test Shapiro Wilk para obtener el p valor\n",
    "test_normal = shapiro(Newfixed_20['2020'])\n",
    "print(f\"El p-valor obtenido en el test de Shapiro es de {test_normal.pvalue}\")"
   ]
  },
  {
   "cell_type": "markdown",
   "metadata": {},
   "source": [
    "Hemos concluido que la hipótesis nula de que la distribución de la variable Suscripciones de banda ancha era normal se puede rechazar. Por lo tanto, los ejercicios que hagamos para saber diferencias significativas respecto a esta variable se harán con el test Mann Whitney."
   ]
  },
  {
   "cell_type": "code",
   "execution_count": 45,
   "metadata": {},
   "outputs": [],
   "source": [
    "from scipy.stats import mannwhitneyu"
   ]
  },
  {
   "cell_type": "markdown",
   "metadata": {},
   "source": [
    "### Comparacion por Grupo de Ingresos fixed broadaband suscriptions"
   ]
  },
  {
   "cell_type": "code",
   "execution_count": 46,
   "metadata": {},
   "outputs": [
    {
     "data": {
      "text/plain": [
       "Ingreso alto            61\n",
       "Ingreso mediano alto    46\n",
       "Ingreso mediano bajo    44\n",
       "Ingreso bajo            20\n",
       "Name: Grupo de Ingresos, dtype: int64"
      ]
     },
     "execution_count": 46,
     "metadata": {},
     "output_type": "execute_result"
    }
   ],
   "source": [
    "Newfixed_20['Grupo de Ingresos'].value_counts()"
   ]
  },
  {
   "cell_type": "code",
   "execution_count": 47,
   "metadata": {},
   "outputs": [],
   "source": [
    "Alto =Newfixed_20[Newfixed_20['Grupo de Ingresos']=='Ingreso alto']['2020']\n",
    "Mediano_Alto =Newfixed_20[Newfixed_20['Grupo de Ingresos']=='Ingreso mediano alto']['2020']\n",
    "Mediano_Bajo =Newfixed_20[Newfixed_20['Grupo de Ingresos']=='Ingreso mediano bajo']['2020']\n",
    "Bajo=Newfixed_20[Newfixed_20['Grupo de Ingresos']=='Ingreso bajo']['2020']"
   ]
  },
  {
   "cell_type": "markdown",
   "metadata": {},
   "source": [
    "#### Comparación Países con ingresos alto y mediano alto"
   ]
  },
  {
   "cell_type": "code",
   "execution_count": 48,
   "metadata": {},
   "outputs": [
    {
     "name": "stdout",
     "output_type": "stream",
     "text": [
      "El p valor de la comparación de países con ingresos altos y medio altos es 0.4873265372201496\n"
     ]
    }
   ],
   "source": [
    "test_Alto_MedioAlto_whitney = mannwhitneyu(Alto, Mediano_Alto)\n",
    "print(f\"El p valor de la comparación de países con ingresos altos y medio altos es {test_Alto_MedioAlto_whitney.pvalue}\")"
   ]
  },
  {
   "cell_type": "markdown",
   "metadata": {},
   "source": [
    "Como el p valor es superior a 0.05 podemos concluir que no hay diferencia estadísticamente significativa entre los países con ingresos altos y medio altos."
   ]
  },
  {
   "cell_type": "markdown",
   "metadata": {},
   "source": [
    "#### Comparación Países con ingresos alto y mediano bajo"
   ]
  },
  {
   "cell_type": "code",
   "execution_count": 49,
   "metadata": {},
   "outputs": [
    {
     "name": "stdout",
     "output_type": "stream",
     "text": [
      "El p valor de la comparación de países con ingresos altos y medio altos es 0.14522262672585667\n"
     ]
    }
   ],
   "source": [
    "test_Alto_MedioBajo_whitney = mannwhitneyu(Alto, Mediano_Bajo)\n",
    "print(f\"El p valor de la comparación de países con ingresos altos y medio altos es {test_Alto_MedioBajo_whitney.pvalue}\")"
   ]
  },
  {
   "cell_type": "markdown",
   "metadata": {},
   "source": [
    "Como el p valor es superior a 0.05 podemos concluir que no hay diferencia estadísticamente significativa entre los pasises con ingresos alto y mmediano bajo"
   ]
  },
  {
   "cell_type": "markdown",
   "metadata": {},
   "source": [
    "#### Comparación Países con ingresos alto y bajo"
   ]
  },
  {
   "cell_type": "code",
   "execution_count": 50,
   "metadata": {},
   "outputs": [
    {
     "name": "stdout",
     "output_type": "stream",
     "text": [
      "El p valor de la comparación de países con ingresos altos y bajos es 0.011758734133686766\n"
     ]
    }
   ],
   "source": [
    "test_Alto_Bajo_whitney = mannwhitneyu(Alto, Bajo)\n",
    "print(f\"El p valor de la comparación de países con ingresos altos y bajos es {test_Alto_Bajo_whitney.pvalue}\")"
   ]
  },
  {
   "cell_type": "markdown",
   "metadata": {},
   "source": [
    "Con el resultado obtenido descubrimos que hay una diferencia estadísticamente significativa entre los paises con ingresos altos y bajos"
   ]
  },
  {
   "cell_type": "markdown",
   "metadata": {},
   "source": [
    "#### Comparación Países con ingresos mediano alto y mediano bajo"
   ]
  },
  {
   "cell_type": "code",
   "execution_count": 51,
   "metadata": {},
   "outputs": [
    {
     "name": "stdout",
     "output_type": "stream",
     "text": [
      "El p valor de la comparación de países con ingresos mediano altos y mediano bajos es 0.46188995182738657\n"
     ]
    }
   ],
   "source": [
    "test_MedianoAlto_MedianoBajo_whitney = mannwhitneyu(Mediano_Alto, Mediano_Bajo)\n",
    "print(f\"El p valor de la comparación de países con ingresos mediano altos y mediano bajos es {test_MedianoAlto_MedianoBajo_whitney.pvalue}\")"
   ]
  },
  {
   "cell_type": "markdown",
   "metadata": {},
   "source": [
    "Como el p valor es superior a 0.05 podemos concluir que no hay diferencia estadísticamente significativa entre los países con ingresos mediano alto y mediano bajo"
   ]
  },
  {
   "cell_type": "markdown",
   "metadata": {},
   "source": [
    "#### Comparación Países con ingresos mediano alto y bajo"
   ]
  },
  {
   "cell_type": "code",
   "execution_count": 52,
   "metadata": {},
   "outputs": [
    {
     "name": "stdout",
     "output_type": "stream",
     "text": [
      "El p valor de la comparación de países con ingresos mediano alto y bajos es 0.03601952400391085\n"
     ]
    }
   ],
   "source": [
    "test_MedianoAlto_Bajo_whitney = mannwhitneyu(Mediano_Alto,Bajo)\n",
    "print(f\"El p valor de la comparación de países con ingresos mediano alto y bajos es {test_MedianoAlto_Bajo_whitney.pvalue}\")"
   ]
  },
  {
   "cell_type": "markdown",
   "metadata": {},
   "source": [
    "Con el resultado obtenido descubrimos que hay una diferencia estadísticamente significativa entre los paises con ingresos mediano alto y bajo"
   ]
  },
  {
   "cell_type": "markdown",
   "metadata": {},
   "source": [
    "#### Comparación Países con ingresos mediano bajo y bajo"
   ]
  },
  {
   "cell_type": "code",
   "execution_count": 53,
   "metadata": {},
   "outputs": [
    {
     "name": "stdout",
     "output_type": "stream",
     "text": [
      "El p valor de la comparación de países con ingresos mediano bajo y bajos es 0.0880702916217685\n"
     ]
    }
   ],
   "source": [
    "test_MedianoBajo_Bajo_whitney = mannwhitneyu(Mediano_Bajo,Bajo)\n",
    "print(f\"El p valor de la comparación de países con ingresos mediano bajo y bajos es {test_MedianoBajo_Bajo_whitney.pvalue}\")"
   ]
  },
  {
   "cell_type": "markdown",
   "metadata": {},
   "source": [
    "Como el p valor es superior a 0.05 podemos concluir que no hay diferencia estadísticamente significativa entre las suscripciones de los pasies con ingresis mediano bajo y bajo"
   ]
  },
  {
   "cell_type": "markdown",
   "metadata": {},
   "source": [
    "CONCLUSION DEL CONTRASTE DE HIPOTESIS A/B TESTING<br>\n",
    "\n",
    "Existe una diferencia estadísticamente significativa entre:<br>\n",
    "\n",
    "Entre países con ingresos altos y ingresos bajos<br>\n",
    "\n",
    "Entre países con ingresos mediano alto y ingresos bajos<br>"
   ]
  }
 ],
 "metadata": {
  "kernelspec": {
   "display_name": "Python 3.10.7 ('venv_analytics': venv)",
   "language": "python",
   "name": "python3"
  },
  "language_info": {
   "codemirror_mode": {
    "name": "ipython",
    "version": 3
   },
   "file_extension": ".py",
   "mimetype": "text/x-python",
   "name": "python",
   "nbconvert_exporter": "python",
   "pygments_lexer": "ipython3",
   "version": "3.10.7"
  },
  "orig_nbformat": 4,
  "vscode": {
   "interpreter": {
    "hash": "0685af0f7a43fc1d607f2bcae1df0463f659ad51cbc2e0997f251422422940f2"
   }
  }
 },
 "nbformat": 4,
 "nbformat_minor": 2
}
