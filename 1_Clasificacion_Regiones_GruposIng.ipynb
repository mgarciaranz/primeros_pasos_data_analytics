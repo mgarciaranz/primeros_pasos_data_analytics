{
 "cells": [
  {
   "cell_type": "markdown",
   "metadata": {},
   "source": [
    "# Importar Libreria"
   ]
  },
  {
   "cell_type": "code",
   "execution_count": 1,
   "metadata": {},
   "outputs": [],
   "source": [
    "import os\n",
    "import re\n",
    "import requests\n",
    "import pandas as pd\n",
    "import numpy as np\n",
    "import matplotlib.pyplot as plt\n",
    "import seaborn as sns\n",
    "import plotly.express as px"
   ]
  },
  {
   "cell_type": "markdown",
   "metadata": {},
   "source": [
    "# Cargar dataset"
   ]
  },
  {
   "cell_type": "markdown",
   "metadata": {},
   "source": [
    "El dataset que vamos a utilizar es una clasificación realizada por el Departamento de Asuntos Económicos y Sociales de las Naciones Unidas, obtendio del siguiente enlace:https://unstats.un.org/unsd/methodology/m49/overview\n",
    "\n",
    "En mi proyecto final, uno de los objetivos es analizar la evolución del procentaje de la población con acceso a internet.La idea es estudiar la evolución en las diferentes zonas geográficas. \n",
    "\n",
    "Por lo tanto en este notebook obtengo la clasificación mundial de regiones y sub-regiones, que posteriormente usaré en mi estudio."
   ]
  },
  {
   "cell_type": "code",
   "execution_count": 2,
   "metadata": {},
   "outputs": [],
   "source": [
    "df_geography= pd.read_csv('UNSD — Methodology.csv',sep=';')"
   ]
  },
  {
   "cell_type": "code",
   "execution_count": 3,
   "metadata": {},
   "outputs": [
    {
     "data": {
      "text/plain": [
       "(249, 15)"
      ]
     },
     "execution_count": 3,
     "metadata": {},
     "output_type": "execute_result"
    }
   ],
   "source": [
    "df_geography.shape"
   ]
  },
  {
   "cell_type": "code",
   "execution_count": 4,
   "metadata": {},
   "outputs": [
    {
     "name": "stdout",
     "output_type": "stream",
     "text": [
      "<class 'pandas.core.frame.DataFrame'>\n",
      "RangeIndex: 249 entries, 0 to 248\n",
      "Data columns (total 15 columns):\n",
      " #   Column                                   Non-Null Count  Dtype  \n",
      "---  ------                                   --------------  -----  \n",
      " 0   Global Code                              249 non-null    int64  \n",
      " 1   Global Name                              249 non-null    object \n",
      " 2   Region Code                              248 non-null    float64\n",
      " 3   Region Name                              248 non-null    object \n",
      " 4   Sub-region Code                          248 non-null    float64\n",
      " 5   Sub-region Name                          248 non-null    object \n",
      " 6   Intermediate Region Code                 108 non-null    float64\n",
      " 7   Intermediate Region Name                 108 non-null    object \n",
      " 8   Country or Area                          249 non-null    object \n",
      " 9   M49 Code                                 249 non-null    int64  \n",
      " 10  ISO-alpha2 Code                          247 non-null    object \n",
      " 11  ISO-alpha3 Code                          248 non-null    object \n",
      " 12  Least Developed Countries (LDC)          46 non-null     object \n",
      " 13  Land Locked Developing Countries (LLDC)  32 non-null     object \n",
      " 14  Small Island Developing States (SIDS)    53 non-null     object \n",
      "dtypes: float64(3), int64(2), object(10)\n",
      "memory usage: 29.3+ KB\n"
     ]
    }
   ],
   "source": [
    "df_geography.info()"
   ]
  },
  {
   "cell_type": "code",
   "execution_count": 5,
   "metadata": {},
   "outputs": [
    {
     "data": {
      "text/html": [
       "<div>\n",
       "<style scoped>\n",
       "    .dataframe tbody tr th:only-of-type {\n",
       "        vertical-align: middle;\n",
       "    }\n",
       "\n",
       "    .dataframe tbody tr th {\n",
       "        vertical-align: top;\n",
       "    }\n",
       "\n",
       "    .dataframe thead th {\n",
       "        text-align: right;\n",
       "    }\n",
       "</style>\n",
       "<table border=\"1\" class=\"dataframe\">\n",
       "  <thead>\n",
       "    <tr style=\"text-align: right;\">\n",
       "      <th></th>\n",
       "      <th>Global Code</th>\n",
       "      <th>Global Name</th>\n",
       "      <th>Region Code</th>\n",
       "      <th>Region Name</th>\n",
       "      <th>Sub-region Code</th>\n",
       "      <th>Sub-region Name</th>\n",
       "      <th>Intermediate Region Code</th>\n",
       "      <th>Intermediate Region Name</th>\n",
       "      <th>Country or Area</th>\n",
       "      <th>M49 Code</th>\n",
       "      <th>ISO-alpha2 Code</th>\n",
       "      <th>ISO-alpha3 Code</th>\n",
       "      <th>Least Developed Countries (LDC)</th>\n",
       "      <th>Land Locked Developing Countries (LLDC)</th>\n",
       "      <th>Small Island Developing States (SIDS)</th>\n",
       "    </tr>\n",
       "  </thead>\n",
       "  <tbody>\n",
       "    <tr>\n",
       "      <th>0</th>\n",
       "      <td>1</td>\n",
       "      <td>World</td>\n",
       "      <td>2.0</td>\n",
       "      <td>Africa</td>\n",
       "      <td>15.0</td>\n",
       "      <td>Northern Africa</td>\n",
       "      <td>NaN</td>\n",
       "      <td>NaN</td>\n",
       "      <td>Algeria</td>\n",
       "      <td>12</td>\n",
       "      <td>DZ</td>\n",
       "      <td>DZA</td>\n",
       "      <td>NaN</td>\n",
       "      <td>NaN</td>\n",
       "      <td>NaN</td>\n",
       "    </tr>\n",
       "    <tr>\n",
       "      <th>1</th>\n",
       "      <td>1</td>\n",
       "      <td>World</td>\n",
       "      <td>2.0</td>\n",
       "      <td>Africa</td>\n",
       "      <td>15.0</td>\n",
       "      <td>Northern Africa</td>\n",
       "      <td>NaN</td>\n",
       "      <td>NaN</td>\n",
       "      <td>Egypt</td>\n",
       "      <td>818</td>\n",
       "      <td>EG</td>\n",
       "      <td>EGY</td>\n",
       "      <td>NaN</td>\n",
       "      <td>NaN</td>\n",
       "      <td>NaN</td>\n",
       "    </tr>\n",
       "    <tr>\n",
       "      <th>2</th>\n",
       "      <td>1</td>\n",
       "      <td>World</td>\n",
       "      <td>2.0</td>\n",
       "      <td>Africa</td>\n",
       "      <td>15.0</td>\n",
       "      <td>Northern Africa</td>\n",
       "      <td>NaN</td>\n",
       "      <td>NaN</td>\n",
       "      <td>Libya</td>\n",
       "      <td>434</td>\n",
       "      <td>LY</td>\n",
       "      <td>LBY</td>\n",
       "      <td>NaN</td>\n",
       "      <td>NaN</td>\n",
       "      <td>NaN</td>\n",
       "    </tr>\n",
       "    <tr>\n",
       "      <th>3</th>\n",
       "      <td>1</td>\n",
       "      <td>World</td>\n",
       "      <td>2.0</td>\n",
       "      <td>Africa</td>\n",
       "      <td>15.0</td>\n",
       "      <td>Northern Africa</td>\n",
       "      <td>NaN</td>\n",
       "      <td>NaN</td>\n",
       "      <td>Morocco</td>\n",
       "      <td>504</td>\n",
       "      <td>MA</td>\n",
       "      <td>MAR</td>\n",
       "      <td>NaN</td>\n",
       "      <td>NaN</td>\n",
       "      <td>NaN</td>\n",
       "    </tr>\n",
       "    <tr>\n",
       "      <th>4</th>\n",
       "      <td>1</td>\n",
       "      <td>World</td>\n",
       "      <td>2.0</td>\n",
       "      <td>Africa</td>\n",
       "      <td>15.0</td>\n",
       "      <td>Northern Africa</td>\n",
       "      <td>NaN</td>\n",
       "      <td>NaN</td>\n",
       "      <td>Sudan</td>\n",
       "      <td>729</td>\n",
       "      <td>SD</td>\n",
       "      <td>SDN</td>\n",
       "      <td>x</td>\n",
       "      <td>NaN</td>\n",
       "      <td>NaN</td>\n",
       "    </tr>\n",
       "  </tbody>\n",
       "</table>\n",
       "</div>"
      ],
      "text/plain": [
       "   Global Code Global Name  Region Code Region Name  Sub-region Code  \\\n",
       "0            1       World          2.0      Africa             15.0   \n",
       "1            1       World          2.0      Africa             15.0   \n",
       "2            1       World          2.0      Africa             15.0   \n",
       "3            1       World          2.0      Africa             15.0   \n",
       "4            1       World          2.0      Africa             15.0   \n",
       "\n",
       "   Sub-region Name  Intermediate Region Code Intermediate Region Name  \\\n",
       "0  Northern Africa                       NaN                      NaN   \n",
       "1  Northern Africa                       NaN                      NaN   \n",
       "2  Northern Africa                       NaN                      NaN   \n",
       "3  Northern Africa                       NaN                      NaN   \n",
       "4  Northern Africa                       NaN                      NaN   \n",
       "\n",
       "  Country or Area  M49 Code ISO-alpha2 Code ISO-alpha3 Code  \\\n",
       "0         Algeria        12              DZ             DZA   \n",
       "1           Egypt       818              EG             EGY   \n",
       "2           Libya       434              LY             LBY   \n",
       "3         Morocco       504              MA             MAR   \n",
       "4           Sudan       729              SD             SDN   \n",
       "\n",
       "  Least Developed Countries (LDC) Land Locked Developing Countries (LLDC)  \\\n",
       "0                             NaN                                     NaN   \n",
       "1                             NaN                                     NaN   \n",
       "2                             NaN                                     NaN   \n",
       "3                             NaN                                     NaN   \n",
       "4                               x                                     NaN   \n",
       "\n",
       "  Small Island Developing States (SIDS)  \n",
       "0                                   NaN  \n",
       "1                                   NaN  \n",
       "2                                   NaN  \n",
       "3                                   NaN  \n",
       "4                                   NaN  "
      ]
     },
     "execution_count": 5,
     "metadata": {},
     "output_type": "execute_result"
    }
   ],
   "source": [
    "df_geography.head()"
   ]
  },
  {
   "cell_type": "markdown",
   "metadata": {},
   "source": [
    "# Creación del sub dataset"
   ]
  },
  {
   "cell_type": "code",
   "execution_count": 6,
   "metadata": {},
   "outputs": [],
   "source": [
    "# lista de las columnas que nos interesa mantener\n",
    "col=['Region Name', 'Sub-region Name','Country or Area','ISO-alpha3 Code']"
   ]
  },
  {
   "cell_type": "code",
   "execution_count": 7,
   "metadata": {},
   "outputs": [],
   "source": [
    "df_geography= df_geography[col]"
   ]
  },
  {
   "cell_type": "code",
   "execution_count": 8,
   "metadata": {},
   "outputs": [
    {
     "data": {
      "text/html": [
       "<div>\n",
       "<style scoped>\n",
       "    .dataframe tbody tr th:only-of-type {\n",
       "        vertical-align: middle;\n",
       "    }\n",
       "\n",
       "    .dataframe tbody tr th {\n",
       "        vertical-align: top;\n",
       "    }\n",
       "\n",
       "    .dataframe thead th {\n",
       "        text-align: right;\n",
       "    }\n",
       "</style>\n",
       "<table border=\"1\" class=\"dataframe\">\n",
       "  <thead>\n",
       "    <tr style=\"text-align: right;\">\n",
       "      <th></th>\n",
       "      <th>Region Name</th>\n",
       "      <th>Sub-region Name</th>\n",
       "      <th>Country or Area</th>\n",
       "      <th>ISO-alpha3 Code</th>\n",
       "    </tr>\n",
       "  </thead>\n",
       "  <tbody>\n",
       "    <tr>\n",
       "      <th>0</th>\n",
       "      <td>Africa</td>\n",
       "      <td>Northern Africa</td>\n",
       "      <td>Algeria</td>\n",
       "      <td>DZA</td>\n",
       "    </tr>\n",
       "    <tr>\n",
       "      <th>1</th>\n",
       "      <td>Africa</td>\n",
       "      <td>Northern Africa</td>\n",
       "      <td>Egypt</td>\n",
       "      <td>EGY</td>\n",
       "    </tr>\n",
       "    <tr>\n",
       "      <th>2</th>\n",
       "      <td>Africa</td>\n",
       "      <td>Northern Africa</td>\n",
       "      <td>Libya</td>\n",
       "      <td>LBY</td>\n",
       "    </tr>\n",
       "    <tr>\n",
       "      <th>3</th>\n",
       "      <td>Africa</td>\n",
       "      <td>Northern Africa</td>\n",
       "      <td>Morocco</td>\n",
       "      <td>MAR</td>\n",
       "    </tr>\n",
       "    <tr>\n",
       "      <th>4</th>\n",
       "      <td>Africa</td>\n",
       "      <td>Northern Africa</td>\n",
       "      <td>Sudan</td>\n",
       "      <td>SDN</td>\n",
       "    </tr>\n",
       "  </tbody>\n",
       "</table>\n",
       "</div>"
      ],
      "text/plain": [
       "  Region Name  Sub-region Name Country or Area ISO-alpha3 Code\n",
       "0      Africa  Northern Africa         Algeria             DZA\n",
       "1      Africa  Northern Africa           Egypt             EGY\n",
       "2      Africa  Northern Africa           Libya             LBY\n",
       "3      Africa  Northern Africa         Morocco             MAR\n",
       "4      Africa  Northern Africa           Sudan             SDN"
      ]
     },
     "execution_count": 8,
     "metadata": {},
     "output_type": "execute_result"
    }
   ],
   "source": [
    "df_geography.head()"
   ]
  },
  {
   "cell_type": "code",
   "execution_count": 9,
   "metadata": {},
   "outputs": [
    {
     "data": {
      "text/plain": [
       "0"
      ]
     },
     "execution_count": 9,
     "metadata": {},
     "output_type": "execute_result"
    }
   ],
   "source": [
    "df_geography.duplicated().sum()#comprobamos si hay valores duplicados"
   ]
  },
  {
   "cell_type": "code",
   "execution_count": 10,
   "metadata": {},
   "outputs": [
    {
     "data": {
      "text/plain": [
       "Region Name        1\n",
       "Sub-region Name    1\n",
       "Country or Area    0\n",
       "ISO-alpha3 Code    1\n",
       "dtype: int64"
      ]
     },
     "execution_count": 10,
     "metadata": {},
     "output_type": "execute_result"
    }
   ],
   "source": [
    "df_geography.isnull().sum()#comprobamos los valores nulos"
   ]
  },
  {
   "cell_type": "markdown",
   "metadata": {},
   "source": [
    "# Añadimos al sub df la columna Grupo de Ingreso del Banco Mundial"
   ]
  },
  {
   "cell_type": "markdown",
   "metadata": {},
   "source": [
    "Nos interesa conocer para cada país el grupo de ingreso perteneciente(alto,bajo,medio).Utilizamos otro dataset porque en la primera clasifición no teníamos esta infromación. Por otro lado este segundo dataset nos es muy útil porque aparece la columna País, de esta manera descartaremos del dataset df_geography areas que nos son países y que por tanto no nos interesan. <br>\n",
    "Enlace dataset para grupo de ingresos (clasificación Banco  Mundial): https://ilostat.ilo.org/es/resources/concepts-and-definitions/classification-country-groupings/"
   ]
  },
  {
   "cell_type": "code",
   "execution_count": 11,
   "metadata": {},
   "outputs": [],
   "source": [
    "\n",
    "df_geo_ingresos= pd.read_csv('countries_es.csv')"
   ]
  },
  {
   "cell_type": "code",
   "execution_count": 12,
   "metadata": {},
   "outputs": [
    {
     "data": {
      "text/html": [
       "<div>\n",
       "<style scoped>\n",
       "    .dataframe tbody tr th:only-of-type {\n",
       "        vertical-align: middle;\n",
       "    }\n",
       "\n",
       "    .dataframe tbody tr th {\n",
       "        vertical-align: top;\n",
       "    }\n",
       "\n",
       "    .dataframe thead th {\n",
       "        text-align: right;\n",
       "    }\n",
       "</style>\n",
       "<table border=\"1\" class=\"dataframe\">\n",
       "  <thead>\n",
       "    <tr style=\"text-align: right;\">\n",
       "      <th></th>\n",
       "      <th>ISO3 Code</th>\n",
       "      <th>País</th>\n",
       "      <th>Región</th>\n",
       "      <th>Subregión</th>\n",
       "      <th>Subregión detallada</th>\n",
       "      <th>Grupo de Ingresos del Banco Mundial</th>\n",
       "      <th>¿Es miembro de la OIT?</th>\n",
       "      <th>¿Incluido en las estimaciones de la OIT?</th>\n",
       "    </tr>\n",
       "  </thead>\n",
       "  <tbody>\n",
       "    <tr>\n",
       "      <th>0</th>\n",
       "      <td>AFG</td>\n",
       "      <td>Afganist?n</td>\n",
       "      <td>Asia y el Pac?fico</td>\n",
       "      <td>Asia meridonal</td>\n",
       "      <td>Asia meridonal</td>\n",
       "      <td>Ingreso bajo</td>\n",
       "      <td>Si</td>\n",
       "      <td>Si</td>\n",
       "    </tr>\n",
       "    <tr>\n",
       "      <th>1</th>\n",
       "      <td>ALB</td>\n",
       "      <td>Albania</td>\n",
       "      <td>Europa y Asia Central</td>\n",
       "      <td>Europa del Norte, Sur y Occidental</td>\n",
       "      <td>Sur de Europa</td>\n",
       "      <td>Ingreso mediano alto</td>\n",
       "      <td>Si</td>\n",
       "      <td>Si</td>\n",
       "    </tr>\n",
       "    <tr>\n",
       "      <th>2</th>\n",
       "      <td>DZA</td>\n",
       "      <td>Argelia</td>\n",
       "      <td>?frica</td>\n",
       "      <td>Norte de ?frica</td>\n",
       "      <td>Norte de ?frica</td>\n",
       "      <td>Ingreso mediano bajo</td>\n",
       "      <td>Si</td>\n",
       "      <td>Si</td>\n",
       "    </tr>\n",
       "    <tr>\n",
       "      <th>3</th>\n",
       "      <td>ASM</td>\n",
       "      <td>Samoa Americana</td>\n",
       "      <td>Asia y el Pac?fico</td>\n",
       "      <td>Asia sudoriental y el Pac?fico</td>\n",
       "      <td>Islas del Pac?fico</td>\n",
       "      <td>Ingreso mediano alto</td>\n",
       "      <td>No</td>\n",
       "      <td>No</td>\n",
       "    </tr>\n",
       "    <tr>\n",
       "      <th>4</th>\n",
       "      <td>AND</td>\n",
       "      <td>Andorra</td>\n",
       "      <td>Europa y Asia Central</td>\n",
       "      <td>Europa del Norte, Sur y Occidental</td>\n",
       "      <td>Sur de Europa</td>\n",
       "      <td>Ingreso alto</td>\n",
       "      <td>No</td>\n",
       "      <td>No</td>\n",
       "    </tr>\n",
       "  </tbody>\n",
       "</table>\n",
       "</div>"
      ],
      "text/plain": [
       "  ISO3 Code             País                 Región  \\\n",
       "0       AFG       Afganist?n     Asia y el Pac?fico   \n",
       "1       ALB          Albania  Europa y Asia Central   \n",
       "2       DZA          Argelia                 ?frica   \n",
       "3       ASM  Samoa Americana     Asia y el Pac?fico   \n",
       "4       AND          Andorra  Europa y Asia Central   \n",
       "\n",
       "                           Subregión  Subregión detallada  \\\n",
       "0                      Asia meridonal      Asia meridonal   \n",
       "1  Europa del Norte, Sur y Occidental       Sur de Europa   \n",
       "2                     Norte de ?frica     Norte de ?frica   \n",
       "3      Asia sudoriental y el Pac?fico  Islas del Pac?fico   \n",
       "4  Europa del Norte, Sur y Occidental       Sur de Europa   \n",
       "\n",
       "  Grupo de Ingresos del Banco Mundial  ¿Es miembro de la OIT?   \\\n",
       "0                         Ingreso bajo                      Si   \n",
       "1                 Ingreso mediano alto                      Si   \n",
       "2                 Ingreso mediano bajo                      Si   \n",
       "3                 Ingreso mediano alto                      No   \n",
       "4                         Ingreso alto                      No   \n",
       "\n",
       "  ¿Incluido en las estimaciones de la OIT?   \n",
       "0                                        Si  \n",
       "1                                        Si  \n",
       "2                                        Si  \n",
       "3                                        No  \n",
       "4                                        No  "
      ]
     },
     "execution_count": 12,
     "metadata": {},
     "output_type": "execute_result"
    }
   ],
   "source": [
    "df_geo_ingresos.head()"
   ]
  },
  {
   "cell_type": "code",
   "execution_count": 13,
   "metadata": {},
   "outputs": [
    {
     "data": {
      "text/plain": [
       "Index(['ISO3 Code', 'País', 'Región', 'Subregión ', 'Subregión detallada',\n",
       "       'Grupo de Ingresos del Banco Mundial ', '¿Es miembro de la OIT? ',\n",
       "       '¿Incluido en las estimaciones de la OIT? '],\n",
       "      dtype='object')"
      ]
     },
     "execution_count": 13,
     "metadata": {},
     "output_type": "execute_result"
    }
   ],
   "source": [
    "df_geo_ingresos.columns"
   ]
  },
  {
   "cell_type": "markdown",
   "metadata": {},
   "source": [
    "Para juntarlo al dataset df_geography solo necesitaremos la columna de codigo por pais (para el merge) y Grupo de Ingresos que es la que nos interesa añadir"
   ]
  },
  {
   "cell_type": "code",
   "execution_count": 14,
   "metadata": {},
   "outputs": [],
   "source": [
    "col2=['ISO3 Code','Grupo de Ingresos del Banco Mundial ']"
   ]
  },
  {
   "cell_type": "code",
   "execution_count": 15,
   "metadata": {},
   "outputs": [],
   "source": [
    "df_geo_ingresos=df_geo_ingresos[col2]"
   ]
  },
  {
   "cell_type": "code",
   "execution_count": 16,
   "metadata": {},
   "outputs": [
    {
     "data": {
      "text/plain": [
       "0"
      ]
     },
     "execution_count": 16,
     "metadata": {},
     "output_type": "execute_result"
    }
   ],
   "source": [
    "df_geo_ingresos.duplicated().sum()#comprobamos los valores duplicados"
   ]
  },
  {
   "cell_type": "code",
   "execution_count": 17,
   "metadata": {},
   "outputs": [
    {
     "data": {
      "text/plain": [
       "0"
      ]
     },
     "execution_count": 17,
     "metadata": {},
     "output_type": "execute_result"
    }
   ],
   "source": [
    "df_geo_ingresos.isnull().sum().sum()# no hay valores nulos por lo que cada ISO 3 Code es un país"
   ]
  },
  {
   "cell_type": "code",
   "execution_count": 18,
   "metadata": {},
   "outputs": [
    {
     "data": {
      "text/html": [
       "<div>\n",
       "<style scoped>\n",
       "    .dataframe tbody tr th:only-of-type {\n",
       "        vertical-align: middle;\n",
       "    }\n",
       "\n",
       "    .dataframe tbody tr th {\n",
       "        vertical-align: top;\n",
       "    }\n",
       "\n",
       "    .dataframe thead th {\n",
       "        text-align: right;\n",
       "    }\n",
       "</style>\n",
       "<table border=\"1\" class=\"dataframe\">\n",
       "  <thead>\n",
       "    <tr style=\"text-align: right;\">\n",
       "      <th></th>\n",
       "      <th>ISO3 Code</th>\n",
       "      <th>Grupo de Ingresos del Banco Mundial</th>\n",
       "    </tr>\n",
       "  </thead>\n",
       "  <tbody>\n",
       "    <tr>\n",
       "      <th>0</th>\n",
       "      <td>AFG</td>\n",
       "      <td>Ingreso bajo</td>\n",
       "    </tr>\n",
       "    <tr>\n",
       "      <th>1</th>\n",
       "      <td>ALB</td>\n",
       "      <td>Ingreso mediano alto</td>\n",
       "    </tr>\n",
       "    <tr>\n",
       "      <th>2</th>\n",
       "      <td>DZA</td>\n",
       "      <td>Ingreso mediano bajo</td>\n",
       "    </tr>\n",
       "    <tr>\n",
       "      <th>3</th>\n",
       "      <td>ASM</td>\n",
       "      <td>Ingreso mediano alto</td>\n",
       "    </tr>\n",
       "    <tr>\n",
       "      <th>4</th>\n",
       "      <td>AND</td>\n",
       "      <td>Ingreso alto</td>\n",
       "    </tr>\n",
       "  </tbody>\n",
       "</table>\n",
       "</div>"
      ],
      "text/plain": [
       "  ISO3 Code Grupo de Ingresos del Banco Mundial \n",
       "0       AFG                         Ingreso bajo\n",
       "1       ALB                 Ingreso mediano alto\n",
       "2       DZA                 Ingreso mediano bajo\n",
       "3       ASM                 Ingreso mediano alto\n",
       "4       AND                         Ingreso alto"
      ]
     },
     "execution_count": 18,
     "metadata": {},
     "output_type": "execute_result"
    }
   ],
   "source": [
    "df_geo_ingresos.head()"
   ]
  },
  {
   "cell_type": "markdown",
   "metadata": {},
   "source": [
    "Mergue dataset df_geography df_geo_ingresos"
   ]
  },
  {
   "cell_type": "code",
   "execution_count": 19,
   "metadata": {},
   "outputs": [
    {
     "data": {
      "text/plain": [
       "Index(['Region Name', 'Sub-region Name', 'Country or Area', 'ISO-alpha3 Code'], dtype='object')"
      ]
     },
     "execution_count": 19,
     "metadata": {},
     "output_type": "execute_result"
    }
   ],
   "source": [
    "df_geography.columns"
   ]
  },
  {
   "cell_type": "code",
   "execution_count": 20,
   "metadata": {},
   "outputs": [
    {
     "data": {
      "text/plain": [
       "Index(['ISO3 Code', 'Grupo de Ingresos del Banco Mundial '], dtype='object')"
      ]
     },
     "execution_count": 20,
     "metadata": {},
     "output_type": "execute_result"
    }
   ],
   "source": [
    "df_geo_ingresos.columns"
   ]
  },
  {
   "cell_type": "code",
   "execution_count": 21,
   "metadata": {},
   "outputs": [
    {
     "data": {
      "text/html": [
       "<div>\n",
       "<style scoped>\n",
       "    .dataframe tbody tr th:only-of-type {\n",
       "        vertical-align: middle;\n",
       "    }\n",
       "\n",
       "    .dataframe tbody tr th {\n",
       "        vertical-align: top;\n",
       "    }\n",
       "\n",
       "    .dataframe thead th {\n",
       "        text-align: right;\n",
       "    }\n",
       "</style>\n",
       "<table border=\"1\" class=\"dataframe\">\n",
       "  <thead>\n",
       "    <tr style=\"text-align: right;\">\n",
       "      <th></th>\n",
       "      <th>Region Name</th>\n",
       "      <th>Sub-region Name</th>\n",
       "      <th>Country or Area</th>\n",
       "      <th>ISO-alpha3 Code</th>\n",
       "      <th>ISO3 Code</th>\n",
       "      <th>Grupo de Ingresos del Banco Mundial</th>\n",
       "    </tr>\n",
       "  </thead>\n",
       "  <tbody>\n",
       "    <tr>\n",
       "      <th>0</th>\n",
       "      <td>Africa</td>\n",
       "      <td>Northern Africa</td>\n",
       "      <td>Algeria</td>\n",
       "      <td>DZA</td>\n",
       "      <td>DZA</td>\n",
       "      <td>Ingreso mediano bajo</td>\n",
       "    </tr>\n",
       "    <tr>\n",
       "      <th>1</th>\n",
       "      <td>Africa</td>\n",
       "      <td>Northern Africa</td>\n",
       "      <td>Egypt</td>\n",
       "      <td>EGY</td>\n",
       "      <td>EGY</td>\n",
       "      <td>Ingreso mediano bajo</td>\n",
       "    </tr>\n",
       "    <tr>\n",
       "      <th>2</th>\n",
       "      <td>Africa</td>\n",
       "      <td>Northern Africa</td>\n",
       "      <td>Libya</td>\n",
       "      <td>LBY</td>\n",
       "      <td>LBY</td>\n",
       "      <td>Ingreso mediano alto</td>\n",
       "    </tr>\n",
       "    <tr>\n",
       "      <th>3</th>\n",
       "      <td>Africa</td>\n",
       "      <td>Northern Africa</td>\n",
       "      <td>Morocco</td>\n",
       "      <td>MAR</td>\n",
       "      <td>MAR</td>\n",
       "      <td>Ingreso mediano bajo</td>\n",
       "    </tr>\n",
       "    <tr>\n",
       "      <th>4</th>\n",
       "      <td>Africa</td>\n",
       "      <td>Northern Africa</td>\n",
       "      <td>Sudan</td>\n",
       "      <td>SDN</td>\n",
       "      <td>SDN</td>\n",
       "      <td>Ingreso bajo</td>\n",
       "    </tr>\n",
       "    <tr>\n",
       "      <th>...</th>\n",
       "      <td>...</td>\n",
       "      <td>...</td>\n",
       "      <td>...</td>\n",
       "      <td>...</td>\n",
       "      <td>...</td>\n",
       "      <td>...</td>\n",
       "    </tr>\n",
       "    <tr>\n",
       "      <th>244</th>\n",
       "      <td>Oceania</td>\n",
       "      <td>Polynesia</td>\n",
       "      <td>Samoa</td>\n",
       "      <td>WSM</td>\n",
       "      <td>WSM</td>\n",
       "      <td>Ingreso mediano bajo</td>\n",
       "    </tr>\n",
       "    <tr>\n",
       "      <th>245</th>\n",
       "      <td>Oceania</td>\n",
       "      <td>Polynesia</td>\n",
       "      <td>Tokelau</td>\n",
       "      <td>TKL</td>\n",
       "      <td>TKL</td>\n",
       "      <td>Ingreso mediano bajo</td>\n",
       "    </tr>\n",
       "    <tr>\n",
       "      <th>246</th>\n",
       "      <td>Oceania</td>\n",
       "      <td>Polynesia</td>\n",
       "      <td>Tonga</td>\n",
       "      <td>TON</td>\n",
       "      <td>TON</td>\n",
       "      <td>Ingreso mediano alto</td>\n",
       "    </tr>\n",
       "    <tr>\n",
       "      <th>247</th>\n",
       "      <td>Oceania</td>\n",
       "      <td>Polynesia</td>\n",
       "      <td>Tuvalu</td>\n",
       "      <td>TUV</td>\n",
       "      <td>TUV</td>\n",
       "      <td>Ingreso mediano alto</td>\n",
       "    </tr>\n",
       "    <tr>\n",
       "      <th>248</th>\n",
       "      <td>Oceania</td>\n",
       "      <td>Polynesia</td>\n",
       "      <td>Wallis and Futuna Islands</td>\n",
       "      <td>WLF</td>\n",
       "      <td>WLF</td>\n",
       "      <td>Ingreso alto</td>\n",
       "    </tr>\n",
       "  </tbody>\n",
       "</table>\n",
       "<p>249 rows × 6 columns</p>\n",
       "</div>"
      ],
      "text/plain": [
       "    Region Name  Sub-region Name            Country or Area ISO-alpha3 Code  \\\n",
       "0        Africa  Northern Africa                    Algeria             DZA   \n",
       "1        Africa  Northern Africa                      Egypt             EGY   \n",
       "2        Africa  Northern Africa                      Libya             LBY   \n",
       "3        Africa  Northern Africa                    Morocco             MAR   \n",
       "4        Africa  Northern Africa                      Sudan             SDN   \n",
       "..          ...              ...                        ...             ...   \n",
       "244     Oceania        Polynesia                      Samoa             WSM   \n",
       "245     Oceania        Polynesia                    Tokelau             TKL   \n",
       "246     Oceania        Polynesia                      Tonga             TON   \n",
       "247     Oceania        Polynesia                     Tuvalu             TUV   \n",
       "248     Oceania        Polynesia  Wallis and Futuna Islands             WLF   \n",
       "\n",
       "    ISO3 Code Grupo de Ingresos del Banco Mundial   \n",
       "0         DZA                 Ingreso mediano bajo  \n",
       "1         EGY                 Ingreso mediano bajo  \n",
       "2         LBY                 Ingreso mediano alto  \n",
       "3         MAR                 Ingreso mediano bajo  \n",
       "4         SDN                         Ingreso bajo  \n",
       "..        ...                                  ...  \n",
       "244       WSM                 Ingreso mediano bajo  \n",
       "245       TKL                 Ingreso mediano bajo  \n",
       "246       TON                 Ingreso mediano alto  \n",
       "247       TUV                 Ingreso mediano alto  \n",
       "248       WLF                         Ingreso alto  \n",
       "\n",
       "[249 rows x 6 columns]"
      ]
     },
     "execution_count": 21,
     "metadata": {},
     "output_type": "execute_result"
    }
   ],
   "source": [
    "df_geo=pd.merge(df_geography,df_geo_ingresos,left_on='ISO-alpha3 Code',right_on='ISO3 Code',how='left')\n",
    "df_geo"
   ]
  },
  {
   "cell_type": "code",
   "execution_count": 22,
   "metadata": {},
   "outputs": [
    {
     "data": {
      "text/plain": [
       "Region Name                              1\n",
       "Sub-region Name                          1\n",
       "Country or Area                          0\n",
       "ISO-alpha3 Code                          1\n",
       "ISO3 Code                               16\n",
       "Grupo de Ingresos del Banco Mundial     16\n",
       "dtype: int64"
      ]
     },
     "execution_count": 22,
     "metadata": {},
     "output_type": "execute_result"
    }
   ],
   "source": [
    "df_geo.isnull().sum()"
   ]
  },
  {
   "cell_type": "code",
   "execution_count": 23,
   "metadata": {},
   "outputs": [
    {
     "data": {
      "text/html": [
       "<div>\n",
       "<style scoped>\n",
       "    .dataframe tbody tr th:only-of-type {\n",
       "        vertical-align: middle;\n",
       "    }\n",
       "\n",
       "    .dataframe tbody tr th {\n",
       "        vertical-align: top;\n",
       "    }\n",
       "\n",
       "    .dataframe thead th {\n",
       "        text-align: right;\n",
       "    }\n",
       "</style>\n",
       "<table border=\"1\" class=\"dataframe\">\n",
       "  <thead>\n",
       "    <tr style=\"text-align: right;\">\n",
       "      <th></th>\n",
       "      <th>Region Name</th>\n",
       "      <th>Sub-region Name</th>\n",
       "      <th>Country or Area</th>\n",
       "      <th>ISO3 Code</th>\n",
       "      <th>Grupo de Ingresos del Banco Mundial</th>\n",
       "    </tr>\n",
       "  </thead>\n",
       "  <tbody>\n",
       "    <tr>\n",
       "      <th>0</th>\n",
       "      <td>Africa</td>\n",
       "      <td>Northern Africa</td>\n",
       "      <td>Algeria</td>\n",
       "      <td>DZA</td>\n",
       "      <td>Ingreso mediano bajo</td>\n",
       "    </tr>\n",
       "    <tr>\n",
       "      <th>1</th>\n",
       "      <td>Africa</td>\n",
       "      <td>Northern Africa</td>\n",
       "      <td>Egypt</td>\n",
       "      <td>EGY</td>\n",
       "      <td>Ingreso mediano bajo</td>\n",
       "    </tr>\n",
       "    <tr>\n",
       "      <th>2</th>\n",
       "      <td>Africa</td>\n",
       "      <td>Northern Africa</td>\n",
       "      <td>Libya</td>\n",
       "      <td>LBY</td>\n",
       "      <td>Ingreso mediano alto</td>\n",
       "    </tr>\n",
       "    <tr>\n",
       "      <th>3</th>\n",
       "      <td>Africa</td>\n",
       "      <td>Northern Africa</td>\n",
       "      <td>Morocco</td>\n",
       "      <td>MAR</td>\n",
       "      <td>Ingreso mediano bajo</td>\n",
       "    </tr>\n",
       "    <tr>\n",
       "      <th>4</th>\n",
       "      <td>Africa</td>\n",
       "      <td>Northern Africa</td>\n",
       "      <td>Sudan</td>\n",
       "      <td>SDN</td>\n",
       "      <td>Ingreso bajo</td>\n",
       "    </tr>\n",
       "    <tr>\n",
       "      <th>...</th>\n",
       "      <td>...</td>\n",
       "      <td>...</td>\n",
       "      <td>...</td>\n",
       "      <td>...</td>\n",
       "      <td>...</td>\n",
       "    </tr>\n",
       "    <tr>\n",
       "      <th>244</th>\n",
       "      <td>Oceania</td>\n",
       "      <td>Polynesia</td>\n",
       "      <td>Samoa</td>\n",
       "      <td>WSM</td>\n",
       "      <td>Ingreso mediano bajo</td>\n",
       "    </tr>\n",
       "    <tr>\n",
       "      <th>245</th>\n",
       "      <td>Oceania</td>\n",
       "      <td>Polynesia</td>\n",
       "      <td>Tokelau</td>\n",
       "      <td>TKL</td>\n",
       "      <td>Ingreso mediano bajo</td>\n",
       "    </tr>\n",
       "    <tr>\n",
       "      <th>246</th>\n",
       "      <td>Oceania</td>\n",
       "      <td>Polynesia</td>\n",
       "      <td>Tonga</td>\n",
       "      <td>TON</td>\n",
       "      <td>Ingreso mediano alto</td>\n",
       "    </tr>\n",
       "    <tr>\n",
       "      <th>247</th>\n",
       "      <td>Oceania</td>\n",
       "      <td>Polynesia</td>\n",
       "      <td>Tuvalu</td>\n",
       "      <td>TUV</td>\n",
       "      <td>Ingreso mediano alto</td>\n",
       "    </tr>\n",
       "    <tr>\n",
       "      <th>248</th>\n",
       "      <td>Oceania</td>\n",
       "      <td>Polynesia</td>\n",
       "      <td>Wallis and Futuna Islands</td>\n",
       "      <td>WLF</td>\n",
       "      <td>Ingreso alto</td>\n",
       "    </tr>\n",
       "  </tbody>\n",
       "</table>\n",
       "<p>249 rows × 5 columns</p>\n",
       "</div>"
      ],
      "text/plain": [
       "    Region Name  Sub-region Name            Country or Area ISO3 Code  \\\n",
       "0        Africa  Northern Africa                    Algeria       DZA   \n",
       "1        Africa  Northern Africa                      Egypt       EGY   \n",
       "2        Africa  Northern Africa                      Libya       LBY   \n",
       "3        Africa  Northern Africa                    Morocco       MAR   \n",
       "4        Africa  Northern Africa                      Sudan       SDN   \n",
       "..          ...              ...                        ...       ...   \n",
       "244     Oceania        Polynesia                      Samoa       WSM   \n",
       "245     Oceania        Polynesia                    Tokelau       TKL   \n",
       "246     Oceania        Polynesia                      Tonga       TON   \n",
       "247     Oceania        Polynesia                     Tuvalu       TUV   \n",
       "248     Oceania        Polynesia  Wallis and Futuna Islands       WLF   \n",
       "\n",
       "    Grupo de Ingresos del Banco Mundial   \n",
       "0                   Ingreso mediano bajo  \n",
       "1                   Ingreso mediano bajo  \n",
       "2                   Ingreso mediano alto  \n",
       "3                   Ingreso mediano bajo  \n",
       "4                           Ingreso bajo  \n",
       "..                                   ...  \n",
       "244                 Ingreso mediano bajo  \n",
       "245                 Ingreso mediano bajo  \n",
       "246                 Ingreso mediano alto  \n",
       "247                 Ingreso mediano alto  \n",
       "248                         Ingreso alto  \n",
       "\n",
       "[249 rows x 5 columns]"
      ]
     },
     "execution_count": 23,
     "metadata": {},
     "output_type": "execute_result"
    }
   ],
   "source": [
    "df_geo.drop('ISO-alpha3 Code',axis=1,inplace=True)#nos quedamos con ISO3 Code ya que corresponde a países \n",
    "df_geo"
   ]
  },
  {
   "cell_type": "markdown",
   "metadata": {},
   "source": [
    "Comprobamos que los valores nulos son de areas que vamos a elimininar"
   ]
  },
  {
   "cell_type": "code",
   "execution_count": 24,
   "metadata": {},
   "outputs": [
    {
     "data": {
      "text/html": [
       "<div>\n",
       "<style scoped>\n",
       "    .dataframe tbody tr th:only-of-type {\n",
       "        vertical-align: middle;\n",
       "    }\n",
       "\n",
       "    .dataframe tbody tr th {\n",
       "        vertical-align: top;\n",
       "    }\n",
       "\n",
       "    .dataframe thead th {\n",
       "        text-align: right;\n",
       "    }\n",
       "</style>\n",
       "<table border=\"1\" class=\"dataframe\">\n",
       "  <thead>\n",
       "    <tr style=\"text-align: right;\">\n",
       "      <th></th>\n",
       "      <th>Region Name</th>\n",
       "      <th>Sub-region Name</th>\n",
       "      <th>Country or Area</th>\n",
       "      <th>ISO3 Code</th>\n",
       "      <th>Grupo de Ingresos del Banco Mundial</th>\n",
       "    </tr>\n",
       "  </thead>\n",
       "  <tbody>\n",
       "    <tr>\n",
       "      <th>7</th>\n",
       "      <td>Africa</td>\n",
       "      <td>Sub-Saharan Africa</td>\n",
       "      <td>British Indian Ocean Territory</td>\n",
       "      <td>NaN</td>\n",
       "      <td>NaN</td>\n",
       "    </tr>\n",
       "    <tr>\n",
       "      <th>13</th>\n",
       "      <td>Africa</td>\n",
       "      <td>Sub-Saharan Africa</td>\n",
       "      <td>French Southern Territories</td>\n",
       "      <td>NaN</td>\n",
       "      <td>NaN</td>\n",
       "    </tr>\n",
       "    <tr>\n",
       "      <th>65</th>\n",
       "      <td>Americas</td>\n",
       "      <td>Latin America and the Caribbean</td>\n",
       "      <td>Bonaire, Sint Eustatius and Saba</td>\n",
       "      <td>NaN</td>\n",
       "      <td>NaN</td>\n",
       "    </tr>\n",
       "    <tr>\n",
       "      <th>79</th>\n",
       "      <td>Americas</td>\n",
       "      <td>Latin America and the Caribbean</td>\n",
       "      <td>Saint Barthélemy</td>\n",
       "      <td>NaN</td>\n",
       "      <td>NaN</td>\n",
       "    </tr>\n",
       "    <tr>\n",
       "      <th>98</th>\n",
       "      <td>Americas</td>\n",
       "      <td>Latin America and the Caribbean</td>\n",
       "      <td>Bouvet Island</td>\n",
       "      <td>NaN</td>\n",
       "      <td>NaN</td>\n",
       "    </tr>\n",
       "    <tr>\n",
       "      <th>108</th>\n",
       "      <td>Americas</td>\n",
       "      <td>Latin America and the Caribbean</td>\n",
       "      <td>South Georgia and the South Sandwich Islands</td>\n",
       "      <td>NaN</td>\n",
       "      <td>NaN</td>\n",
       "    </tr>\n",
       "    <tr>\n",
       "      <th>117</th>\n",
       "      <td>NaN</td>\n",
       "      <td>NaN</td>\n",
       "      <td>Antarctica</td>\n",
       "      <td>NaN</td>\n",
       "      <td>NaN</td>\n",
       "    </tr>\n",
       "    <tr>\n",
       "      <th>178</th>\n",
       "      <td>Europe</td>\n",
       "      <td>Northern Europe</td>\n",
       "      <td>Åland Islands</td>\n",
       "      <td>NaN</td>\n",
       "      <td>NaN</td>\n",
       "    </tr>\n",
       "    <tr>\n",
       "      <th>181</th>\n",
       "      <td>Europe</td>\n",
       "      <td>Northern Europe</td>\n",
       "      <td>Sark</td>\n",
       "      <td>NaN</td>\n",
       "      <td>NaN</td>\n",
       "    </tr>\n",
       "    <tr>\n",
       "      <th>192</th>\n",
       "      <td>Europe</td>\n",
       "      <td>Northern Europe</td>\n",
       "      <td>Svalbard and Jan Mayen Islands</td>\n",
       "      <td>NaN</td>\n",
       "      <td>NaN</td>\n",
       "    </tr>\n",
       "    <tr>\n",
       "      <th>201</th>\n",
       "      <td>Europe</td>\n",
       "      <td>Southern Europe</td>\n",
       "      <td>Holy See</td>\n",
       "      <td>NaN</td>\n",
       "      <td>NaN</td>\n",
       "    </tr>\n",
       "    <tr>\n",
       "      <th>221</th>\n",
       "      <td>Oceania</td>\n",
       "      <td>Australia and New Zealand</td>\n",
       "      <td>Christmas Island</td>\n",
       "      <td>NaN</td>\n",
       "      <td>NaN</td>\n",
       "    </tr>\n",
       "    <tr>\n",
       "      <th>222</th>\n",
       "      <td>Oceania</td>\n",
       "      <td>Australia and New Zealand</td>\n",
       "      <td>Cocos (Keeling) Islands</td>\n",
       "      <td>NaN</td>\n",
       "      <td>NaN</td>\n",
       "    </tr>\n",
       "    <tr>\n",
       "      <th>223</th>\n",
       "      <td>Oceania</td>\n",
       "      <td>Australia and New Zealand</td>\n",
       "      <td>Heard Island and McDonald Islands</td>\n",
       "      <td>NaN</td>\n",
       "      <td>NaN</td>\n",
       "    </tr>\n",
       "    <tr>\n",
       "      <th>238</th>\n",
       "      <td>Oceania</td>\n",
       "      <td>Micronesia</td>\n",
       "      <td>United States Minor Outlying Islands</td>\n",
       "      <td>NaN</td>\n",
       "      <td>NaN</td>\n",
       "    </tr>\n",
       "    <tr>\n",
       "      <th>243</th>\n",
       "      <td>Oceania</td>\n",
       "      <td>Polynesia</td>\n",
       "      <td>Pitcairn</td>\n",
       "      <td>NaN</td>\n",
       "      <td>NaN</td>\n",
       "    </tr>\n",
       "  </tbody>\n",
       "</table>\n",
       "</div>"
      ],
      "text/plain": [
       "    Region Name                  Sub-region Name  \\\n",
       "7        Africa               Sub-Saharan Africa   \n",
       "13       Africa               Sub-Saharan Africa   \n",
       "65     Americas  Latin America and the Caribbean   \n",
       "79     Americas  Latin America and the Caribbean   \n",
       "98     Americas  Latin America and the Caribbean   \n",
       "108    Americas  Latin America and the Caribbean   \n",
       "117         NaN                              NaN   \n",
       "178      Europe                  Northern Europe   \n",
       "181      Europe                  Northern Europe   \n",
       "192      Europe                  Northern Europe   \n",
       "201      Europe                  Southern Europe   \n",
       "221     Oceania        Australia and New Zealand   \n",
       "222     Oceania        Australia and New Zealand   \n",
       "223     Oceania        Australia and New Zealand   \n",
       "238     Oceania                       Micronesia   \n",
       "243     Oceania                        Polynesia   \n",
       "\n",
       "                                  Country or Area ISO3 Code  \\\n",
       "7                  British Indian Ocean Territory       NaN   \n",
       "13                    French Southern Territories       NaN   \n",
       "65               Bonaire, Sint Eustatius and Saba       NaN   \n",
       "79                               Saint Barthélemy       NaN   \n",
       "98                                  Bouvet Island       NaN   \n",
       "108  South Georgia and the South Sandwich Islands       NaN   \n",
       "117                                    Antarctica       NaN   \n",
       "178                                 Åland Islands       NaN   \n",
       "181                                          Sark       NaN   \n",
       "192                Svalbard and Jan Mayen Islands       NaN   \n",
       "201                                      Holy See       NaN   \n",
       "221                              Christmas Island       NaN   \n",
       "222                       Cocos (Keeling) Islands       NaN   \n",
       "223             Heard Island and McDonald Islands       NaN   \n",
       "238          United States Minor Outlying Islands       NaN   \n",
       "243                                      Pitcairn       NaN   \n",
       "\n",
       "    Grupo de Ingresos del Banco Mundial   \n",
       "7                                    NaN  \n",
       "13                                   NaN  \n",
       "65                                   NaN  \n",
       "79                                   NaN  \n",
       "98                                   NaN  \n",
       "108                                  NaN  \n",
       "117                                  NaN  \n",
       "178                                  NaN  \n",
       "181                                  NaN  \n",
       "192                                  NaN  \n",
       "201                                  NaN  \n",
       "221                                  NaN  \n",
       "222                                  NaN  \n",
       "223                                  NaN  \n",
       "238                                  NaN  \n",
       "243                                  NaN  "
      ]
     },
     "execution_count": 24,
     "metadata": {},
     "output_type": "execute_result"
    }
   ],
   "source": [
    "df_geo[df_geo['ISO3 Code'].isna()]"
   ]
  },
  {
   "cell_type": "code",
   "execution_count": 25,
   "metadata": {},
   "outputs": [],
   "source": [
    "df_geo2=df_geo.copy()"
   ]
  },
  {
   "cell_type": "code",
   "execution_count": 26,
   "metadata": {},
   "outputs": [],
   "source": [
    "df_geo2.dropna(inplace=True)"
   ]
  },
  {
   "cell_type": "code",
   "execution_count": 27,
   "metadata": {},
   "outputs": [
    {
     "data": {
      "text/plain": [
       "0"
      ]
     },
     "execution_count": 27,
     "metadata": {},
     "output_type": "execute_result"
    }
   ],
   "source": [
    "df_geo2.duplicated().sum()"
   ]
  },
  {
   "cell_type": "code",
   "execution_count": 28,
   "metadata": {},
   "outputs": [
    {
     "data": {
      "text/plain": [
       "Region Name                             0\n",
       "Sub-region Name                         0\n",
       "Country or Area                         0\n",
       "ISO3 Code                               0\n",
       "Grupo de Ingresos del Banco Mundial     0\n",
       "dtype: int64"
      ]
     },
     "execution_count": 28,
     "metadata": {},
     "output_type": "execute_result"
    }
   ],
   "source": [
    "df_geo2.isnull().sum()\n"
   ]
  },
  {
   "cell_type": "code",
   "execution_count": 29,
   "metadata": {},
   "outputs": [],
   "source": [
    "df_geo2.rename(columns = {'Country or Area':'Country Name'}, inplace = True)"
   ]
  },
  {
   "cell_type": "code",
   "execution_count": 30,
   "metadata": {},
   "outputs": [
    {
     "data": {
      "application/vnd.plotly.v1+json": {
       "config": {
        "plotlyServerURL": "https://plot.ly"
       },
       "data": [
        {
         "hovertemplate": "Sub-region Name=Northern Africa<br>ISO3 Code=%{x}<br>Region Name=%{y}<extra></extra>",
         "legendgroup": "Northern Africa",
         "marker": {
          "color": "rgb(103,0,31)",
          "symbol": "circle"
         },
         "mode": "markers",
         "name": "Northern Africa",
         "orientation": "v",
         "showlegend": true,
         "type": "scatter",
         "x": [
          "DZA",
          "EGY",
          "LBY",
          "MAR",
          "SDN",
          "TUN",
          "ESH"
         ],
         "xaxis": "x",
         "y": [
          "Africa",
          "Africa",
          "Africa",
          "Africa",
          "Africa",
          "Africa",
          "Africa"
         ],
         "yaxis": "y"
        },
        {
         "hovertemplate": "Sub-region Name=Sub-Saharan Africa<br>ISO3 Code=%{x}<br>Region Name=%{y}<extra></extra>",
         "legendgroup": "Sub-Saharan Africa",
         "marker": {
          "color": "rgb(178,24,43)",
          "symbol": "circle"
         },
         "mode": "markers",
         "name": "Sub-Saharan Africa",
         "orientation": "v",
         "showlegend": true,
         "type": "scatter",
         "x": [
          "BDI",
          "COM",
          "DJI",
          "ERI",
          "ETH",
          "KEN",
          "MDG",
          "MWI",
          "MUS",
          "MYT",
          "MOZ",
          "REU",
          "RWA",
          "SYC",
          "SOM",
          "SSD",
          "UGA",
          "TZA",
          "ZMB",
          "ZWE",
          "AGO",
          "CMR",
          "CAF",
          "TCD",
          "COG",
          "COD",
          "GNQ",
          "GAB",
          "STP",
          "BWA",
          "SWZ",
          "LSO",
          "NAM",
          "ZAF",
          "BEN",
          "BFA",
          "CPV",
          "CIV",
          "GMB",
          "GHA",
          "GIN",
          "GNB",
          "LBR",
          "MLI",
          "MRT",
          "NER",
          "NGA",
          "SHN",
          "SEN",
          "SLE",
          "TGO"
         ],
         "xaxis": "x",
         "y": [
          "Africa",
          "Africa",
          "Africa",
          "Africa",
          "Africa",
          "Africa",
          "Africa",
          "Africa",
          "Africa",
          "Africa",
          "Africa",
          "Africa",
          "Africa",
          "Africa",
          "Africa",
          "Africa",
          "Africa",
          "Africa",
          "Africa",
          "Africa",
          "Africa",
          "Africa",
          "Africa",
          "Africa",
          "Africa",
          "Africa",
          "Africa",
          "Africa",
          "Africa",
          "Africa",
          "Africa",
          "Africa",
          "Africa",
          "Africa",
          "Africa",
          "Africa",
          "Africa",
          "Africa",
          "Africa",
          "Africa",
          "Africa",
          "Africa",
          "Africa",
          "Africa",
          "Africa",
          "Africa",
          "Africa",
          "Africa",
          "Africa",
          "Africa",
          "Africa"
         ],
         "yaxis": "y"
        },
        {
         "hovertemplate": "Sub-region Name=Latin America and the Caribbean<br>ISO3 Code=%{x}<br>Region Name=%{y}<extra></extra>",
         "legendgroup": "Latin America and the Caribbean",
         "marker": {
          "color": "rgb(214,96,77)",
          "symbol": "circle"
         },
         "mode": "markers",
         "name": "Latin America and the Caribbean",
         "orientation": "v",
         "showlegend": true,
         "type": "scatter",
         "x": [
          "AIA",
          "ATG",
          "ABW",
          "BHS",
          "BRB",
          "VGB",
          "CYM",
          "CUB",
          "CUW",
          "DMA",
          "DOM",
          "GRD",
          "GLP",
          "HTI",
          "JAM",
          "MTQ",
          "MSR",
          "PRI",
          "KNA",
          "LCA",
          "MAF",
          "VCT",
          "SXM",
          "TTO",
          "TCA",
          "VIR",
          "BLZ",
          "CRI",
          "SLV",
          "GTM",
          "HND",
          "MEX",
          "NIC",
          "PAN",
          "ARG",
          "BOL",
          "BRA",
          "CHL",
          "COL",
          "ECU",
          "FLK",
          "GUF",
          "GUY",
          "PRY",
          "PER",
          "SUR",
          "URY",
          "VEN"
         ],
         "xaxis": "x",
         "y": [
          "Americas",
          "Americas",
          "Americas",
          "Americas",
          "Americas",
          "Americas",
          "Americas",
          "Americas",
          "Americas",
          "Americas",
          "Americas",
          "Americas",
          "Americas",
          "Americas",
          "Americas",
          "Americas",
          "Americas",
          "Americas",
          "Americas",
          "Americas",
          "Americas",
          "Americas",
          "Americas",
          "Americas",
          "Americas",
          "Americas",
          "Americas",
          "Americas",
          "Americas",
          "Americas",
          "Americas",
          "Americas",
          "Americas",
          "Americas",
          "Americas",
          "Americas",
          "Americas",
          "Americas",
          "Americas",
          "Americas",
          "Americas",
          "Americas",
          "Americas",
          "Americas",
          "Americas",
          "Americas",
          "Americas",
          "Americas"
         ],
         "yaxis": "y"
        },
        {
         "hovertemplate": "Sub-region Name=Northern America<br>ISO3 Code=%{x}<br>Region Name=%{y}<extra></extra>",
         "legendgroup": "Northern America",
         "marker": {
          "color": "rgb(244,165,130)",
          "symbol": "circle"
         },
         "mode": "markers",
         "name": "Northern America",
         "orientation": "v",
         "showlegend": true,
         "type": "scatter",
         "x": [
          "BMU",
          "CAN",
          "GRL",
          "SPM",
          "USA"
         ],
         "xaxis": "x",
         "y": [
          "Americas",
          "Americas",
          "Americas",
          "Americas",
          "Americas"
         ],
         "yaxis": "y"
        },
        {
         "hovertemplate": "Sub-region Name=Central Asia<br>ISO3 Code=%{x}<br>Region Name=%{y}<extra></extra>",
         "legendgroup": "Central Asia",
         "marker": {
          "color": "rgb(253,219,199)",
          "symbol": "circle"
         },
         "mode": "markers",
         "name": "Central Asia",
         "orientation": "v",
         "showlegend": true,
         "type": "scatter",
         "x": [
          "KAZ",
          "KGZ",
          "TJK",
          "TKM",
          "UZB"
         ],
         "xaxis": "x",
         "y": [
          "Asia",
          "Asia",
          "Asia",
          "Asia",
          "Asia"
         ],
         "yaxis": "y"
        },
        {
         "hovertemplate": "Sub-region Name=Eastern Asia<br>ISO3 Code=%{x}<br>Region Name=%{y}<extra></extra>",
         "legendgroup": "Eastern Asia",
         "marker": {
          "color": "rgb(247,247,247)",
          "symbol": "circle"
         },
         "mode": "markers",
         "name": "Eastern Asia",
         "orientation": "v",
         "showlegend": true,
         "type": "scatter",
         "x": [
          "CHN",
          "HKG",
          "MAC",
          "PRK",
          "JPN",
          "MNG",
          "KOR"
         ],
         "xaxis": "x",
         "y": [
          "Asia",
          "Asia",
          "Asia",
          "Asia",
          "Asia",
          "Asia",
          "Asia"
         ],
         "yaxis": "y"
        },
        {
         "hovertemplate": "Sub-region Name=South-eastern Asia<br>ISO3 Code=%{x}<br>Region Name=%{y}<extra></extra>",
         "legendgroup": "South-eastern Asia",
         "marker": {
          "color": "rgb(209,229,240)",
          "symbol": "circle"
         },
         "mode": "markers",
         "name": "South-eastern Asia",
         "orientation": "v",
         "showlegend": true,
         "type": "scatter",
         "x": [
          "BRN",
          "KHM",
          "IDN",
          "LAO",
          "MYS",
          "MMR",
          "PHL",
          "SGP",
          "THA",
          "TLS",
          "VNM"
         ],
         "xaxis": "x",
         "y": [
          "Asia",
          "Asia",
          "Asia",
          "Asia",
          "Asia",
          "Asia",
          "Asia",
          "Asia",
          "Asia",
          "Asia",
          "Asia"
         ],
         "yaxis": "y"
        },
        {
         "hovertemplate": "Sub-region Name=Southern Asia<br>ISO3 Code=%{x}<br>Region Name=%{y}<extra></extra>",
         "legendgroup": "Southern Asia",
         "marker": {
          "color": "rgb(146,197,222)",
          "symbol": "circle"
         },
         "mode": "markers",
         "name": "Southern Asia",
         "orientation": "v",
         "showlegend": true,
         "type": "scatter",
         "x": [
          "AFG",
          "BGD",
          "BTN",
          "IND",
          "IRN",
          "MDV",
          "NPL",
          "PAK",
          "LKA"
         ],
         "xaxis": "x",
         "y": [
          "Asia",
          "Asia",
          "Asia",
          "Asia",
          "Asia",
          "Asia",
          "Asia",
          "Asia",
          "Asia"
         ],
         "yaxis": "y"
        },
        {
         "hovertemplate": "Sub-region Name=Western Asia<br>ISO3 Code=%{x}<br>Region Name=%{y}<extra></extra>",
         "legendgroup": "Western Asia",
         "marker": {
          "color": "rgb(67,147,195)",
          "symbol": "circle"
         },
         "mode": "markers",
         "name": "Western Asia",
         "orientation": "v",
         "showlegend": true,
         "type": "scatter",
         "x": [
          "ARM",
          "AZE",
          "BHR",
          "CYP",
          "GEO",
          "IRQ",
          "ISR",
          "JOR",
          "KWT",
          "LBN",
          "OMN",
          "QAT",
          "SAU",
          "PSE",
          "SYR",
          "TUR",
          "ARE",
          "YEM"
         ],
         "xaxis": "x",
         "y": [
          "Asia",
          "Asia",
          "Asia",
          "Asia",
          "Asia",
          "Asia",
          "Asia",
          "Asia",
          "Asia",
          "Asia",
          "Asia",
          "Asia",
          "Asia",
          "Asia",
          "Asia",
          "Asia",
          "Asia",
          "Asia"
         ],
         "yaxis": "y"
        },
        {
         "hovertemplate": "Sub-region Name=Eastern Europe<br>ISO3 Code=%{x}<br>Region Name=%{y}<extra></extra>",
         "legendgroup": "Eastern Europe",
         "marker": {
          "color": "rgb(33,102,172)",
          "symbol": "circle"
         },
         "mode": "markers",
         "name": "Eastern Europe",
         "orientation": "v",
         "showlegend": true,
         "type": "scatter",
         "x": [
          "BLR",
          "BGR",
          "CZE",
          "HUN",
          "POL",
          "MDA",
          "ROU",
          "RUS",
          "SVK",
          "UKR"
         ],
         "xaxis": "x",
         "y": [
          "Europe",
          "Europe",
          "Europe",
          "Europe",
          "Europe",
          "Europe",
          "Europe",
          "Europe",
          "Europe",
          "Europe"
         ],
         "yaxis": "y"
        },
        {
         "hovertemplate": "Sub-region Name=Northern Europe<br>ISO3 Code=%{x}<br>Region Name=%{y}<extra></extra>",
         "legendgroup": "Northern Europe",
         "marker": {
          "color": "rgb(5,48,97)",
          "symbol": "circle"
         },
         "mode": "markers",
         "name": "Northern Europe",
         "orientation": "v",
         "showlegend": true,
         "type": "scatter",
         "x": [
          "GGY",
          "JEY",
          "DNK",
          "EST",
          "FRO",
          "FIN",
          "ISL",
          "IRL",
          "IMN",
          "LVA",
          "LTU",
          "NOR",
          "SWE",
          "GBR"
         ],
         "xaxis": "x",
         "y": [
          "Europe",
          "Europe",
          "Europe",
          "Europe",
          "Europe",
          "Europe",
          "Europe",
          "Europe",
          "Europe",
          "Europe",
          "Europe",
          "Europe",
          "Europe",
          "Europe"
         ],
         "yaxis": "y"
        },
        {
         "hovertemplate": "Sub-region Name=Southern Europe<br>ISO3 Code=%{x}<br>Region Name=%{y}<extra></extra>",
         "legendgroup": "Southern Europe",
         "marker": {
          "color": "rgb(103,0,31)",
          "symbol": "circle"
         },
         "mode": "markers",
         "name": "Southern Europe",
         "orientation": "v",
         "showlegend": true,
         "type": "scatter",
         "x": [
          "ALB",
          "AND",
          "BIH",
          "HRV",
          "GIB",
          "GRC",
          "ITA",
          "MLT",
          "MNE",
          "MKD",
          "PRT",
          "SMR",
          "SRB",
          "SVN",
          "ESP"
         ],
         "xaxis": "x",
         "y": [
          "Europe",
          "Europe",
          "Europe",
          "Europe",
          "Europe",
          "Europe",
          "Europe",
          "Europe",
          "Europe",
          "Europe",
          "Europe",
          "Europe",
          "Europe",
          "Europe",
          "Europe"
         ],
         "yaxis": "y"
        },
        {
         "hovertemplate": "Sub-region Name=Western Europe<br>ISO3 Code=%{x}<br>Region Name=%{y}<extra></extra>",
         "legendgroup": "Western Europe",
         "marker": {
          "color": "rgb(178,24,43)",
          "symbol": "circle"
         },
         "mode": "markers",
         "name": "Western Europe",
         "orientation": "v",
         "showlegend": true,
         "type": "scatter",
         "x": [
          "AUT",
          "BEL",
          "FRA",
          "DEU",
          "LIE",
          "LUX",
          "MCO",
          "NLD",
          "CHE"
         ],
         "xaxis": "x",
         "y": [
          "Europe",
          "Europe",
          "Europe",
          "Europe",
          "Europe",
          "Europe",
          "Europe",
          "Europe",
          "Europe"
         ],
         "yaxis": "y"
        },
        {
         "hovertemplate": "Sub-region Name=Australia and New Zealand<br>ISO3 Code=%{x}<br>Region Name=%{y}<extra></extra>",
         "legendgroup": "Australia and New Zealand",
         "marker": {
          "color": "rgb(214,96,77)",
          "symbol": "circle"
         },
         "mode": "markers",
         "name": "Australia and New Zealand",
         "orientation": "v",
         "showlegend": true,
         "type": "scatter",
         "x": [
          "AUS",
          "NZL",
          "NFK"
         ],
         "xaxis": "x",
         "y": [
          "Oceania",
          "Oceania",
          "Oceania"
         ],
         "yaxis": "y"
        },
        {
         "hovertemplate": "Sub-region Name=Melanesia<br>ISO3 Code=%{x}<br>Region Name=%{y}<extra></extra>",
         "legendgroup": "Melanesia",
         "marker": {
          "color": "rgb(244,165,130)",
          "symbol": "circle"
         },
         "mode": "markers",
         "name": "Melanesia",
         "orientation": "v",
         "showlegend": true,
         "type": "scatter",
         "x": [
          "FJI",
          "NCL",
          "PNG",
          "SLB",
          "VUT"
         ],
         "xaxis": "x",
         "y": [
          "Oceania",
          "Oceania",
          "Oceania",
          "Oceania",
          "Oceania"
         ],
         "yaxis": "y"
        },
        {
         "hovertemplate": "Sub-region Name=Micronesia<br>ISO3 Code=%{x}<br>Region Name=%{y}<extra></extra>",
         "legendgroup": "Micronesia",
         "marker": {
          "color": "rgb(253,219,199)",
          "symbol": "circle"
         },
         "mode": "markers",
         "name": "Micronesia",
         "orientation": "v",
         "showlegend": true,
         "type": "scatter",
         "x": [
          "GUM",
          "KIR",
          "MHL",
          "FSM",
          "NRU",
          "MNP",
          "PLW"
         ],
         "xaxis": "x",
         "y": [
          "Oceania",
          "Oceania",
          "Oceania",
          "Oceania",
          "Oceania",
          "Oceania",
          "Oceania"
         ],
         "yaxis": "y"
        },
        {
         "hovertemplate": "Sub-region Name=Polynesia<br>ISO3 Code=%{x}<br>Region Name=%{y}<extra></extra>",
         "legendgroup": "Polynesia",
         "marker": {
          "color": "rgb(247,247,247)",
          "symbol": "circle"
         },
         "mode": "markers",
         "name": "Polynesia",
         "orientation": "v",
         "showlegend": true,
         "type": "scatter",
         "x": [
          "ASM",
          "COK",
          "PYF",
          "NIU",
          "WSM",
          "TKL",
          "TON",
          "TUV",
          "WLF"
         ],
         "xaxis": "x",
         "y": [
          "Oceania",
          "Oceania",
          "Oceania",
          "Oceania",
          "Oceania",
          "Oceania",
          "Oceania",
          "Oceania",
          "Oceania"
         ],
         "yaxis": "y"
        }
       ],
       "layout": {
        "height": 600,
        "legend": {
         "title": {
          "text": "Sub-region Name"
         },
         "tracegroupgap": 0
        },
        "margin": {
         "t": 60
        },
        "template": {
         "data": {
          "bar": [
           {
            "error_x": {
             "color": "#2a3f5f"
            },
            "error_y": {
             "color": "#2a3f5f"
            },
            "marker": {
             "line": {
              "color": "#E5ECF6",
              "width": 0.5
             },
             "pattern": {
              "fillmode": "overlay",
              "size": 10,
              "solidity": 0.2
             }
            },
            "type": "bar"
           }
          ],
          "barpolar": [
           {
            "marker": {
             "line": {
              "color": "#E5ECF6",
              "width": 0.5
             },
             "pattern": {
              "fillmode": "overlay",
              "size": 10,
              "solidity": 0.2
             }
            },
            "type": "barpolar"
           }
          ],
          "carpet": [
           {
            "aaxis": {
             "endlinecolor": "#2a3f5f",
             "gridcolor": "white",
             "linecolor": "white",
             "minorgridcolor": "white",
             "startlinecolor": "#2a3f5f"
            },
            "baxis": {
             "endlinecolor": "#2a3f5f",
             "gridcolor": "white",
             "linecolor": "white",
             "minorgridcolor": "white",
             "startlinecolor": "#2a3f5f"
            },
            "type": "carpet"
           }
          ],
          "choropleth": [
           {
            "colorbar": {
             "outlinewidth": 0,
             "ticks": ""
            },
            "type": "choropleth"
           }
          ],
          "contour": [
           {
            "colorbar": {
             "outlinewidth": 0,
             "ticks": ""
            },
            "colorscale": [
             [
              0,
              "#0d0887"
             ],
             [
              0.1111111111111111,
              "#46039f"
             ],
             [
              0.2222222222222222,
              "#7201a8"
             ],
             [
              0.3333333333333333,
              "#9c179e"
             ],
             [
              0.4444444444444444,
              "#bd3786"
             ],
             [
              0.5555555555555556,
              "#d8576b"
             ],
             [
              0.6666666666666666,
              "#ed7953"
             ],
             [
              0.7777777777777778,
              "#fb9f3a"
             ],
             [
              0.8888888888888888,
              "#fdca26"
             ],
             [
              1,
              "#f0f921"
             ]
            ],
            "type": "contour"
           }
          ],
          "contourcarpet": [
           {
            "colorbar": {
             "outlinewidth": 0,
             "ticks": ""
            },
            "type": "contourcarpet"
           }
          ],
          "heatmap": [
           {
            "colorbar": {
             "outlinewidth": 0,
             "ticks": ""
            },
            "colorscale": [
             [
              0,
              "#0d0887"
             ],
             [
              0.1111111111111111,
              "#46039f"
             ],
             [
              0.2222222222222222,
              "#7201a8"
             ],
             [
              0.3333333333333333,
              "#9c179e"
             ],
             [
              0.4444444444444444,
              "#bd3786"
             ],
             [
              0.5555555555555556,
              "#d8576b"
             ],
             [
              0.6666666666666666,
              "#ed7953"
             ],
             [
              0.7777777777777778,
              "#fb9f3a"
             ],
             [
              0.8888888888888888,
              "#fdca26"
             ],
             [
              1,
              "#f0f921"
             ]
            ],
            "type": "heatmap"
           }
          ],
          "heatmapgl": [
           {
            "colorbar": {
             "outlinewidth": 0,
             "ticks": ""
            },
            "colorscale": [
             [
              0,
              "#0d0887"
             ],
             [
              0.1111111111111111,
              "#46039f"
             ],
             [
              0.2222222222222222,
              "#7201a8"
             ],
             [
              0.3333333333333333,
              "#9c179e"
             ],
             [
              0.4444444444444444,
              "#bd3786"
             ],
             [
              0.5555555555555556,
              "#d8576b"
             ],
             [
              0.6666666666666666,
              "#ed7953"
             ],
             [
              0.7777777777777778,
              "#fb9f3a"
             ],
             [
              0.8888888888888888,
              "#fdca26"
             ],
             [
              1,
              "#f0f921"
             ]
            ],
            "type": "heatmapgl"
           }
          ],
          "histogram": [
           {
            "marker": {
             "pattern": {
              "fillmode": "overlay",
              "size": 10,
              "solidity": 0.2
             }
            },
            "type": "histogram"
           }
          ],
          "histogram2d": [
           {
            "colorbar": {
             "outlinewidth": 0,
             "ticks": ""
            },
            "colorscale": [
             [
              0,
              "#0d0887"
             ],
             [
              0.1111111111111111,
              "#46039f"
             ],
             [
              0.2222222222222222,
              "#7201a8"
             ],
             [
              0.3333333333333333,
              "#9c179e"
             ],
             [
              0.4444444444444444,
              "#bd3786"
             ],
             [
              0.5555555555555556,
              "#d8576b"
             ],
             [
              0.6666666666666666,
              "#ed7953"
             ],
             [
              0.7777777777777778,
              "#fb9f3a"
             ],
             [
              0.8888888888888888,
              "#fdca26"
             ],
             [
              1,
              "#f0f921"
             ]
            ],
            "type": "histogram2d"
           }
          ],
          "histogram2dcontour": [
           {
            "colorbar": {
             "outlinewidth": 0,
             "ticks": ""
            },
            "colorscale": [
             [
              0,
              "#0d0887"
             ],
             [
              0.1111111111111111,
              "#46039f"
             ],
             [
              0.2222222222222222,
              "#7201a8"
             ],
             [
              0.3333333333333333,
              "#9c179e"
             ],
             [
              0.4444444444444444,
              "#bd3786"
             ],
             [
              0.5555555555555556,
              "#d8576b"
             ],
             [
              0.6666666666666666,
              "#ed7953"
             ],
             [
              0.7777777777777778,
              "#fb9f3a"
             ],
             [
              0.8888888888888888,
              "#fdca26"
             ],
             [
              1,
              "#f0f921"
             ]
            ],
            "type": "histogram2dcontour"
           }
          ],
          "mesh3d": [
           {
            "colorbar": {
             "outlinewidth": 0,
             "ticks": ""
            },
            "type": "mesh3d"
           }
          ],
          "parcoords": [
           {
            "line": {
             "colorbar": {
              "outlinewidth": 0,
              "ticks": ""
             }
            },
            "type": "parcoords"
           }
          ],
          "pie": [
           {
            "automargin": true,
            "type": "pie"
           }
          ],
          "scatter": [
           {
            "fillpattern": {
             "fillmode": "overlay",
             "size": 10,
             "solidity": 0.2
            },
            "type": "scatter"
           }
          ],
          "scatter3d": [
           {
            "line": {
             "colorbar": {
              "outlinewidth": 0,
              "ticks": ""
             }
            },
            "marker": {
             "colorbar": {
              "outlinewidth": 0,
              "ticks": ""
             }
            },
            "type": "scatter3d"
           }
          ],
          "scattercarpet": [
           {
            "marker": {
             "colorbar": {
              "outlinewidth": 0,
              "ticks": ""
             }
            },
            "type": "scattercarpet"
           }
          ],
          "scattergeo": [
           {
            "marker": {
             "colorbar": {
              "outlinewidth": 0,
              "ticks": ""
             }
            },
            "type": "scattergeo"
           }
          ],
          "scattergl": [
           {
            "marker": {
             "colorbar": {
              "outlinewidth": 0,
              "ticks": ""
             }
            },
            "type": "scattergl"
           }
          ],
          "scattermapbox": [
           {
            "marker": {
             "colorbar": {
              "outlinewidth": 0,
              "ticks": ""
             }
            },
            "type": "scattermapbox"
           }
          ],
          "scatterpolar": [
           {
            "marker": {
             "colorbar": {
              "outlinewidth": 0,
              "ticks": ""
             }
            },
            "type": "scatterpolar"
           }
          ],
          "scatterpolargl": [
           {
            "marker": {
             "colorbar": {
              "outlinewidth": 0,
              "ticks": ""
             }
            },
            "type": "scatterpolargl"
           }
          ],
          "scatterternary": [
           {
            "marker": {
             "colorbar": {
              "outlinewidth": 0,
              "ticks": ""
             }
            },
            "type": "scatterternary"
           }
          ],
          "surface": [
           {
            "colorbar": {
             "outlinewidth": 0,
             "ticks": ""
            },
            "colorscale": [
             [
              0,
              "#0d0887"
             ],
             [
              0.1111111111111111,
              "#46039f"
             ],
             [
              0.2222222222222222,
              "#7201a8"
             ],
             [
              0.3333333333333333,
              "#9c179e"
             ],
             [
              0.4444444444444444,
              "#bd3786"
             ],
             [
              0.5555555555555556,
              "#d8576b"
             ],
             [
              0.6666666666666666,
              "#ed7953"
             ],
             [
              0.7777777777777778,
              "#fb9f3a"
             ],
             [
              0.8888888888888888,
              "#fdca26"
             ],
             [
              1,
              "#f0f921"
             ]
            ],
            "type": "surface"
           }
          ],
          "table": [
           {
            "cells": {
             "fill": {
              "color": "#EBF0F8"
             },
             "line": {
              "color": "white"
             }
            },
            "header": {
             "fill": {
              "color": "#C8D4E3"
             },
             "line": {
              "color": "white"
             }
            },
            "type": "table"
           }
          ]
         },
         "layout": {
          "annotationdefaults": {
           "arrowcolor": "#2a3f5f",
           "arrowhead": 0,
           "arrowwidth": 1
          },
          "autotypenumbers": "strict",
          "coloraxis": {
           "colorbar": {
            "outlinewidth": 0,
            "ticks": ""
           }
          },
          "colorscale": {
           "diverging": [
            [
             0,
             "#8e0152"
            ],
            [
             0.1,
             "#c51b7d"
            ],
            [
             0.2,
             "#de77ae"
            ],
            [
             0.3,
             "#f1b6da"
            ],
            [
             0.4,
             "#fde0ef"
            ],
            [
             0.5,
             "#f7f7f7"
            ],
            [
             0.6,
             "#e6f5d0"
            ],
            [
             0.7,
             "#b8e186"
            ],
            [
             0.8,
             "#7fbc41"
            ],
            [
             0.9,
             "#4d9221"
            ],
            [
             1,
             "#276419"
            ]
           ],
           "sequential": [
            [
             0,
             "#0d0887"
            ],
            [
             0.1111111111111111,
             "#46039f"
            ],
            [
             0.2222222222222222,
             "#7201a8"
            ],
            [
             0.3333333333333333,
             "#9c179e"
            ],
            [
             0.4444444444444444,
             "#bd3786"
            ],
            [
             0.5555555555555556,
             "#d8576b"
            ],
            [
             0.6666666666666666,
             "#ed7953"
            ],
            [
             0.7777777777777778,
             "#fb9f3a"
            ],
            [
             0.8888888888888888,
             "#fdca26"
            ],
            [
             1,
             "#f0f921"
            ]
           ],
           "sequentialminus": [
            [
             0,
             "#0d0887"
            ],
            [
             0.1111111111111111,
             "#46039f"
            ],
            [
             0.2222222222222222,
             "#7201a8"
            ],
            [
             0.3333333333333333,
             "#9c179e"
            ],
            [
             0.4444444444444444,
             "#bd3786"
            ],
            [
             0.5555555555555556,
             "#d8576b"
            ],
            [
             0.6666666666666666,
             "#ed7953"
            ],
            [
             0.7777777777777778,
             "#fb9f3a"
            ],
            [
             0.8888888888888888,
             "#fdca26"
            ],
            [
             1,
             "#f0f921"
            ]
           ]
          },
          "colorway": [
           "#636efa",
           "#EF553B",
           "#00cc96",
           "#ab63fa",
           "#FFA15A",
           "#19d3f3",
           "#FF6692",
           "#B6E880",
           "#FF97FF",
           "#FECB52"
          ],
          "font": {
           "color": "#2a3f5f"
          },
          "geo": {
           "bgcolor": "white",
           "lakecolor": "white",
           "landcolor": "#E5ECF6",
           "showlakes": true,
           "showland": true,
           "subunitcolor": "white"
          },
          "hoverlabel": {
           "align": "left"
          },
          "hovermode": "closest",
          "mapbox": {
           "style": "light"
          },
          "paper_bgcolor": "white",
          "plot_bgcolor": "#E5ECF6",
          "polar": {
           "angularaxis": {
            "gridcolor": "white",
            "linecolor": "white",
            "ticks": ""
           },
           "bgcolor": "#E5ECF6",
           "radialaxis": {
            "gridcolor": "white",
            "linecolor": "white",
            "ticks": ""
           }
          },
          "scene": {
           "xaxis": {
            "backgroundcolor": "#E5ECF6",
            "gridcolor": "white",
            "gridwidth": 2,
            "linecolor": "white",
            "showbackground": true,
            "ticks": "",
            "zerolinecolor": "white"
           },
           "yaxis": {
            "backgroundcolor": "#E5ECF6",
            "gridcolor": "white",
            "gridwidth": 2,
            "linecolor": "white",
            "showbackground": true,
            "ticks": "",
            "zerolinecolor": "white"
           },
           "zaxis": {
            "backgroundcolor": "#E5ECF6",
            "gridcolor": "white",
            "gridwidth": 2,
            "linecolor": "white",
            "showbackground": true,
            "ticks": "",
            "zerolinecolor": "white"
           }
          },
          "shapedefaults": {
           "line": {
            "color": "#2a3f5f"
           }
          },
          "ternary": {
           "aaxis": {
            "gridcolor": "white",
            "linecolor": "white",
            "ticks": ""
           },
           "baxis": {
            "gridcolor": "white",
            "linecolor": "white",
            "ticks": ""
           },
           "bgcolor": "#E5ECF6",
           "caxis": {
            "gridcolor": "white",
            "linecolor": "white",
            "ticks": ""
           }
          },
          "title": {
           "x": 0.05
          },
          "xaxis": {
           "automargin": true,
           "gridcolor": "white",
           "linecolor": "white",
           "ticks": "",
           "title": {
            "standoff": 15
           },
           "zerolinecolor": "white",
           "zerolinewidth": 2
          },
          "yaxis": {
           "automargin": true,
           "gridcolor": "white",
           "linecolor": "white",
           "ticks": "",
           "title": {
            "standoff": 15
           },
           "zerolinecolor": "white",
           "zerolinewidth": 2
          }
         }
        },
        "width": 1000,
        "xaxis": {
         "anchor": "y",
         "domain": [
          0,
          1
         ],
         "title": {
          "text": "ISO3 Code"
         }
        },
        "yaxis": {
         "anchor": "x",
         "domain": [
          0,
          1
         ],
         "title": {
          "text": "Region Name"
         }
        }
       }
      }
     },
     "metadata": {},
     "output_type": "display_data"
    }
   ],
   "source": [
    "px.scatter(df_geo2, x='ISO3 Code', y='Region Name',color='Sub-region Name',width=1000, height=600,color_discrete_sequence=px.colors.sequential.RdBu)"
   ]
  },
  {
   "cell_type": "code",
   "execution_count": 31,
   "metadata": {},
   "outputs": [
    {
     "data": {
      "text/plain": [
       "233"
      ]
     },
     "execution_count": 31,
     "metadata": {},
     "output_type": "execute_result"
    }
   ],
   "source": [
    "df_geo2['ISO3 Code'].nunique()"
   ]
  },
  {
   "cell_type": "code",
   "execution_count": 32,
   "metadata": {},
   "outputs": [
    {
     "data": {
      "text/plain": [
       "Ingreso alto            88\n",
       "Ingreso mediano bajo    59\n",
       "Ingreso mediano alto    59\n",
       "Ingreso bajo            27\n",
       "Name: Grupo de Ingresos del Banco Mundial , dtype: int64"
      ]
     },
     "execution_count": 32,
     "metadata": {},
     "output_type": "execute_result"
    }
   ],
   "source": [
    "var1=df_geo2['Grupo de Ingresos del Banco Mundial '].value_counts()\n",
    "var1"
   ]
  },
  {
   "cell_type": "code",
   "execution_count": 33,
   "metadata": {},
   "outputs": [
    {
     "data": {
      "application/vnd.plotly.v1+json": {
       "config": {
        "plotlyServerURL": "https://plot.ly"
       },
       "data": [
        {
         "alignmentgroup": "True",
         "hovertemplate": "x=%{x}<br>y=%{y}<extra></extra>",
         "legendgroup": "",
         "marker": {
          "color": "rgb(37, 125, 152)",
          "pattern": {
           "shape": ""
          }
         },
         "name": "",
         "offsetgroup": "",
         "orientation": "h",
         "showlegend": false,
         "textposition": "auto",
         "type": "bar",
         "x": [
          88,
          59,
          59,
          27
         ],
         "xaxis": "x",
         "y": [
          "Ingreso alto",
          "Ingreso mediano bajo",
          "Ingreso mediano alto",
          "Ingreso bajo"
         ],
         "yaxis": "y"
        }
       ],
       "layout": {
        "barmode": "relative",
        "legend": {
         "tracegroupgap": 0
        },
        "template": {
         "data": {
          "bar": [
           {
            "error_x": {
             "color": "#2a3f5f"
            },
            "error_y": {
             "color": "#2a3f5f"
            },
            "marker": {
             "line": {
              "color": "#E5ECF6",
              "width": 0.5
             },
             "pattern": {
              "fillmode": "overlay",
              "size": 10,
              "solidity": 0.2
             }
            },
            "type": "bar"
           }
          ],
          "barpolar": [
           {
            "marker": {
             "line": {
              "color": "#E5ECF6",
              "width": 0.5
             },
             "pattern": {
              "fillmode": "overlay",
              "size": 10,
              "solidity": 0.2
             }
            },
            "type": "barpolar"
           }
          ],
          "carpet": [
           {
            "aaxis": {
             "endlinecolor": "#2a3f5f",
             "gridcolor": "white",
             "linecolor": "white",
             "minorgridcolor": "white",
             "startlinecolor": "#2a3f5f"
            },
            "baxis": {
             "endlinecolor": "#2a3f5f",
             "gridcolor": "white",
             "linecolor": "white",
             "minorgridcolor": "white",
             "startlinecolor": "#2a3f5f"
            },
            "type": "carpet"
           }
          ],
          "choropleth": [
           {
            "colorbar": {
             "outlinewidth": 0,
             "ticks": ""
            },
            "type": "choropleth"
           }
          ],
          "contour": [
           {
            "colorbar": {
             "outlinewidth": 0,
             "ticks": ""
            },
            "colorscale": [
             [
              0,
              "#0d0887"
             ],
             [
              0.1111111111111111,
              "#46039f"
             ],
             [
              0.2222222222222222,
              "#7201a8"
             ],
             [
              0.3333333333333333,
              "#9c179e"
             ],
             [
              0.4444444444444444,
              "#bd3786"
             ],
             [
              0.5555555555555556,
              "#d8576b"
             ],
             [
              0.6666666666666666,
              "#ed7953"
             ],
             [
              0.7777777777777778,
              "#fb9f3a"
             ],
             [
              0.8888888888888888,
              "#fdca26"
             ],
             [
              1,
              "#f0f921"
             ]
            ],
            "type": "contour"
           }
          ],
          "contourcarpet": [
           {
            "colorbar": {
             "outlinewidth": 0,
             "ticks": ""
            },
            "type": "contourcarpet"
           }
          ],
          "heatmap": [
           {
            "colorbar": {
             "outlinewidth": 0,
             "ticks": ""
            },
            "colorscale": [
             [
              0,
              "#0d0887"
             ],
             [
              0.1111111111111111,
              "#46039f"
             ],
             [
              0.2222222222222222,
              "#7201a8"
             ],
             [
              0.3333333333333333,
              "#9c179e"
             ],
             [
              0.4444444444444444,
              "#bd3786"
             ],
             [
              0.5555555555555556,
              "#d8576b"
             ],
             [
              0.6666666666666666,
              "#ed7953"
             ],
             [
              0.7777777777777778,
              "#fb9f3a"
             ],
             [
              0.8888888888888888,
              "#fdca26"
             ],
             [
              1,
              "#f0f921"
             ]
            ],
            "type": "heatmap"
           }
          ],
          "heatmapgl": [
           {
            "colorbar": {
             "outlinewidth": 0,
             "ticks": ""
            },
            "colorscale": [
             [
              0,
              "#0d0887"
             ],
             [
              0.1111111111111111,
              "#46039f"
             ],
             [
              0.2222222222222222,
              "#7201a8"
             ],
             [
              0.3333333333333333,
              "#9c179e"
             ],
             [
              0.4444444444444444,
              "#bd3786"
             ],
             [
              0.5555555555555556,
              "#d8576b"
             ],
             [
              0.6666666666666666,
              "#ed7953"
             ],
             [
              0.7777777777777778,
              "#fb9f3a"
             ],
             [
              0.8888888888888888,
              "#fdca26"
             ],
             [
              1,
              "#f0f921"
             ]
            ],
            "type": "heatmapgl"
           }
          ],
          "histogram": [
           {
            "marker": {
             "pattern": {
              "fillmode": "overlay",
              "size": 10,
              "solidity": 0.2
             }
            },
            "type": "histogram"
           }
          ],
          "histogram2d": [
           {
            "colorbar": {
             "outlinewidth": 0,
             "ticks": ""
            },
            "colorscale": [
             [
              0,
              "#0d0887"
             ],
             [
              0.1111111111111111,
              "#46039f"
             ],
             [
              0.2222222222222222,
              "#7201a8"
             ],
             [
              0.3333333333333333,
              "#9c179e"
             ],
             [
              0.4444444444444444,
              "#bd3786"
             ],
             [
              0.5555555555555556,
              "#d8576b"
             ],
             [
              0.6666666666666666,
              "#ed7953"
             ],
             [
              0.7777777777777778,
              "#fb9f3a"
             ],
             [
              0.8888888888888888,
              "#fdca26"
             ],
             [
              1,
              "#f0f921"
             ]
            ],
            "type": "histogram2d"
           }
          ],
          "histogram2dcontour": [
           {
            "colorbar": {
             "outlinewidth": 0,
             "ticks": ""
            },
            "colorscale": [
             [
              0,
              "#0d0887"
             ],
             [
              0.1111111111111111,
              "#46039f"
             ],
             [
              0.2222222222222222,
              "#7201a8"
             ],
             [
              0.3333333333333333,
              "#9c179e"
             ],
             [
              0.4444444444444444,
              "#bd3786"
             ],
             [
              0.5555555555555556,
              "#d8576b"
             ],
             [
              0.6666666666666666,
              "#ed7953"
             ],
             [
              0.7777777777777778,
              "#fb9f3a"
             ],
             [
              0.8888888888888888,
              "#fdca26"
             ],
             [
              1,
              "#f0f921"
             ]
            ],
            "type": "histogram2dcontour"
           }
          ],
          "mesh3d": [
           {
            "colorbar": {
             "outlinewidth": 0,
             "ticks": ""
            },
            "type": "mesh3d"
           }
          ],
          "parcoords": [
           {
            "line": {
             "colorbar": {
              "outlinewidth": 0,
              "ticks": ""
             }
            },
            "type": "parcoords"
           }
          ],
          "pie": [
           {
            "automargin": true,
            "type": "pie"
           }
          ],
          "scatter": [
           {
            "fillpattern": {
             "fillmode": "overlay",
             "size": 10,
             "solidity": 0.2
            },
            "type": "scatter"
           }
          ],
          "scatter3d": [
           {
            "line": {
             "colorbar": {
              "outlinewidth": 0,
              "ticks": ""
             }
            },
            "marker": {
             "colorbar": {
              "outlinewidth": 0,
              "ticks": ""
             }
            },
            "type": "scatter3d"
           }
          ],
          "scattercarpet": [
           {
            "marker": {
             "colorbar": {
              "outlinewidth": 0,
              "ticks": ""
             }
            },
            "type": "scattercarpet"
           }
          ],
          "scattergeo": [
           {
            "marker": {
             "colorbar": {
              "outlinewidth": 0,
              "ticks": ""
             }
            },
            "type": "scattergeo"
           }
          ],
          "scattergl": [
           {
            "marker": {
             "colorbar": {
              "outlinewidth": 0,
              "ticks": ""
             }
            },
            "type": "scattergl"
           }
          ],
          "scattermapbox": [
           {
            "marker": {
             "colorbar": {
              "outlinewidth": 0,
              "ticks": ""
             }
            },
            "type": "scattermapbox"
           }
          ],
          "scatterpolar": [
           {
            "marker": {
             "colorbar": {
              "outlinewidth": 0,
              "ticks": ""
             }
            },
            "type": "scatterpolar"
           }
          ],
          "scatterpolargl": [
           {
            "marker": {
             "colorbar": {
              "outlinewidth": 0,
              "ticks": ""
             }
            },
            "type": "scatterpolargl"
           }
          ],
          "scatterternary": [
           {
            "marker": {
             "colorbar": {
              "outlinewidth": 0,
              "ticks": ""
             }
            },
            "type": "scatterternary"
           }
          ],
          "surface": [
           {
            "colorbar": {
             "outlinewidth": 0,
             "ticks": ""
            },
            "colorscale": [
             [
              0,
              "#0d0887"
             ],
             [
              0.1111111111111111,
              "#46039f"
             ],
             [
              0.2222222222222222,
              "#7201a8"
             ],
             [
              0.3333333333333333,
              "#9c179e"
             ],
             [
              0.4444444444444444,
              "#bd3786"
             ],
             [
              0.5555555555555556,
              "#d8576b"
             ],
             [
              0.6666666666666666,
              "#ed7953"
             ],
             [
              0.7777777777777778,
              "#fb9f3a"
             ],
             [
              0.8888888888888888,
              "#fdca26"
             ],
             [
              1,
              "#f0f921"
             ]
            ],
            "type": "surface"
           }
          ],
          "table": [
           {
            "cells": {
             "fill": {
              "color": "#EBF0F8"
             },
             "line": {
              "color": "white"
             }
            },
            "header": {
             "fill": {
              "color": "#C8D4E3"
             },
             "line": {
              "color": "white"
             }
            },
            "type": "table"
           }
          ]
         },
         "layout": {
          "annotationdefaults": {
           "arrowcolor": "#2a3f5f",
           "arrowhead": 0,
           "arrowwidth": 1
          },
          "autotypenumbers": "strict",
          "coloraxis": {
           "colorbar": {
            "outlinewidth": 0,
            "ticks": ""
           }
          },
          "colorscale": {
           "diverging": [
            [
             0,
             "#8e0152"
            ],
            [
             0.1,
             "#c51b7d"
            ],
            [
             0.2,
             "#de77ae"
            ],
            [
             0.3,
             "#f1b6da"
            ],
            [
             0.4,
             "#fde0ef"
            ],
            [
             0.5,
             "#f7f7f7"
            ],
            [
             0.6,
             "#e6f5d0"
            ],
            [
             0.7,
             "#b8e186"
            ],
            [
             0.8,
             "#7fbc41"
            ],
            [
             0.9,
             "#4d9221"
            ],
            [
             1,
             "#276419"
            ]
           ],
           "sequential": [
            [
             0,
             "#0d0887"
            ],
            [
             0.1111111111111111,
             "#46039f"
            ],
            [
             0.2222222222222222,
             "#7201a8"
            ],
            [
             0.3333333333333333,
             "#9c179e"
            ],
            [
             0.4444444444444444,
             "#bd3786"
            ],
            [
             0.5555555555555556,
             "#d8576b"
            ],
            [
             0.6666666666666666,
             "#ed7953"
            ],
            [
             0.7777777777777778,
             "#fb9f3a"
            ],
            [
             0.8888888888888888,
             "#fdca26"
            ],
            [
             1,
             "#f0f921"
            ]
           ],
           "sequentialminus": [
            [
             0,
             "#0d0887"
            ],
            [
             0.1111111111111111,
             "#46039f"
            ],
            [
             0.2222222222222222,
             "#7201a8"
            ],
            [
             0.3333333333333333,
             "#9c179e"
            ],
            [
             0.4444444444444444,
             "#bd3786"
            ],
            [
             0.5555555555555556,
             "#d8576b"
            ],
            [
             0.6666666666666666,
             "#ed7953"
            ],
            [
             0.7777777777777778,
             "#fb9f3a"
            ],
            [
             0.8888888888888888,
             "#fdca26"
            ],
            [
             1,
             "#f0f921"
            ]
           ]
          },
          "colorway": [
           "#636efa",
           "#EF553B",
           "#00cc96",
           "#ab63fa",
           "#FFA15A",
           "#19d3f3",
           "#FF6692",
           "#B6E880",
           "#FF97FF",
           "#FECB52"
          ],
          "font": {
           "color": "#2a3f5f"
          },
          "geo": {
           "bgcolor": "white",
           "lakecolor": "white",
           "landcolor": "#E5ECF6",
           "showlakes": true,
           "showland": true,
           "subunitcolor": "white"
          },
          "hoverlabel": {
           "align": "left"
          },
          "hovermode": "closest",
          "mapbox": {
           "style": "light"
          },
          "paper_bgcolor": "white",
          "plot_bgcolor": "#E5ECF6",
          "polar": {
           "angularaxis": {
            "gridcolor": "white",
            "linecolor": "white",
            "ticks": ""
           },
           "bgcolor": "#E5ECF6",
           "radialaxis": {
            "gridcolor": "white",
            "linecolor": "white",
            "ticks": ""
           }
          },
          "scene": {
           "xaxis": {
            "backgroundcolor": "#E5ECF6",
            "gridcolor": "white",
            "gridwidth": 2,
            "linecolor": "white",
            "showbackground": true,
            "ticks": "",
            "zerolinecolor": "white"
           },
           "yaxis": {
            "backgroundcolor": "#E5ECF6",
            "gridcolor": "white",
            "gridwidth": 2,
            "linecolor": "white",
            "showbackground": true,
            "ticks": "",
            "zerolinecolor": "white"
           },
           "zaxis": {
            "backgroundcolor": "#E5ECF6",
            "gridcolor": "white",
            "gridwidth": 2,
            "linecolor": "white",
            "showbackground": true,
            "ticks": "",
            "zerolinecolor": "white"
           }
          },
          "shapedefaults": {
           "line": {
            "color": "#2a3f5f"
           }
          },
          "ternary": {
           "aaxis": {
            "gridcolor": "white",
            "linecolor": "white",
            "ticks": ""
           },
           "baxis": {
            "gridcolor": "white",
            "linecolor": "white",
            "ticks": ""
           },
           "bgcolor": "#E5ECF6",
           "caxis": {
            "gridcolor": "white",
            "linecolor": "white",
            "ticks": ""
           }
          },
          "title": {
           "x": 0.05
          },
          "xaxis": {
           "automargin": true,
           "gridcolor": "white",
           "linecolor": "white",
           "ticks": "",
           "title": {
            "standoff": 15
           },
           "zerolinecolor": "white",
           "zerolinewidth": 2
          },
          "yaxis": {
           "automargin": true,
           "gridcolor": "white",
           "linecolor": "white",
           "ticks": "",
           "title": {
            "standoff": 15
           },
           "zerolinecolor": "white",
           "zerolinewidth": 2
          }
         }
        },
        "title": {
         "text": "Grupo de ingresos"
        },
        "xaxis": {
         "anchor": "y",
         "domain": [
          0,
          1
         ],
         "title": {
          "text": "x"
         }
        },
        "yaxis": {
         "anchor": "x",
         "domain": [
          0,
          1
         ],
         "title": {
          "text": "y"
         }
        }
       }
      }
     },
     "metadata": {},
     "output_type": "display_data"
    }
   ],
   "source": [
    "#de acuerdo con el BM, ¿Cuántos países hay en cada nivel de ingresos?\n",
    "px.bar(x=var1, y= var1.index, title='Grupo de ingresos',color_discrete_sequence=px.colors.sequential.Tealgrn_r)"
   ]
  },
  {
   "cell_type": "code",
   "execution_count": 34,
   "metadata": {},
   "outputs": [],
   "source": [
    "df_geo2.to_csv('geography.csv', index=False)"
   ]
  }
 ],
 "metadata": {
  "kernelspec": {
   "display_name": "Python 3.10.7 ('venv_analytics': venv)",
   "language": "python",
   "name": "python3"
  },
  "language_info": {
   "codemirror_mode": {
    "name": "ipython",
    "version": 3
   },
   "file_extension": ".py",
   "mimetype": "text/x-python",
   "name": "python",
   "nbconvert_exporter": "python",
   "pygments_lexer": "ipython3",
   "version": "3.10.7"
  },
  "orig_nbformat": 4,
  "vscode": {
   "interpreter": {
    "hash": "0685af0f7a43fc1d607f2bcae1df0463f659ad51cbc2e0997f251422422940f2"
   }
  }
 },
 "nbformat": 4,
 "nbformat_minor": 2
}
